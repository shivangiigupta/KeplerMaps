{
 "cells": [
  {
   "cell_type": "markdown",
   "id": "8e92b8d9",
   "metadata": {
    "papermill": {
     "duration": 0.008707,
     "end_time": "2021-09-01T05:51:34.263405",
     "exception": false,
     "start_time": "2021-09-01T05:51:34.254698",
     "status": "completed"
    },
    "tags": []
   },
   "source": [
    "\n",
    "\n",
    "![](https://miro.medium.com/max/700/1*AVmJrendX0zdxgzjYMWFdg.gif)\n",
    "\n",
    "\n",
    "\n",
    "Geospatial data refers to the time-based data that is related to a specific location on the Earth’s surface. It is useful since it can reveal vital patterns and trends in the landscape.  There are many libraries available to analyze such data, but often there is a lot of manual effort involved. Memory management of geospatial data is another issue. This means the magnitude of such data makes it a little difficult to process and analyze it easily.\n",
    "\n",
    "[Kepler.gl](https://kepler.gl/)  is a powerful open source geospatial analysis tool for large-scale data sets. Developed by Uber, Kepler.gl is a data-agnostic and high-performance web-based application for large-scale geolocation data sets. You very easily find patterns in a dataset, combine different datasets, perform aggregations and manipulations in real-time. If a dataset has a timestamp, geopoints, and some meta information, Kepler.gl can automatically extract the information and visualize it. \n",
    "\n",
    "<div class=\"alert alert-block alert-warning\">\n",
    "    \n",
    "🗒️ Incase you want to know more, here is an article that goes deeper into the theory behind the library along with other useful resources: [Visualizing India’s Seismic activity](https://towardsdatascience.com/visualizing-indias-seismic-activity-4ed390de298c?sk=12befb1ffd589de4bb5251892b161a25)\n",
    "    \n",
    "</div>"
   ]
  },
  {
   "cell_type": "code",
   "execution_count": 1,
   "id": "ae007b37",
   "metadata": {
    "_kg_hide-input": true,
    "_kg_hide-output": true,
    "collapsed": true,
    "execution": {
     "iopub.execute_input": "2021-09-01T05:51:34.290825Z",
     "iopub.status.busy": "2021-09-01T05:51:34.290112Z",
     "iopub.status.idle": "2021-09-01T05:51:52.247145Z",
     "shell.execute_reply": "2021-09-01T05:51:52.246415Z",
     "shell.execute_reply.started": "2021-09-01T05:50:47.092968Z"
    },
    "jupyter": {
     "outputs_hidden": true
    },
    "papermill": {
     "duration": 17.975493,
     "end_time": "2021-09-01T05:51:52.247305",
     "exception": false,
     "start_time": "2021-09-01T05:51:34.271812",
     "status": "completed"
    },
    "tags": []
   },
   "outputs": [
    {
     "name": "stdout",
     "output_type": "stream",
     "text": [
      "Collecting keplergl\r\n",
      "  Downloading keplergl-0.3.0.tar.gz (8.1 MB)\r\n",
      "\u001b[K     |████████████████████████████████| 8.1 MB 25.9 MB/s \r\n",
      "\u001b[?25hRequirement already satisfied: ipywidgets<8,>=7.0.0 in /opt/conda/lib/python3.7/site-packages (from keplergl) (7.6.3)\r\n",
      "Requirement already satisfied: traittypes>=0.2.1 in /opt/conda/lib/python3.7/site-packages (from keplergl) (0.2.1)\r\n",
      "Requirement already satisfied: geopandas>=0.5.0 in /opt/conda/lib/python3.7/site-packages (from keplergl) (0.9.0)\r\n",
      "Requirement already satisfied: pandas>=0.23.0 in /opt/conda/lib/python3.7/site-packages (from keplergl) (1.2.4)\r\n",
      "Requirement already satisfied: Shapely>=1.6.4.post2 in /opt/conda/lib/python3.7/site-packages (from keplergl) (1.7.1)\r\n",
      "Requirement already satisfied: fiona>=1.8 in /opt/conda/lib/python3.7/site-packages (from geopandas>=0.5.0->keplergl) (1.8.18)\r\n",
      "Requirement already satisfied: pyproj>=2.2.0 in /opt/conda/lib/python3.7/site-packages (from geopandas>=0.5.0->keplergl) (2.6.1.post1)\r\n",
      "Requirement already satisfied: attrs>=17 in /opt/conda/lib/python3.7/site-packages (from fiona>=1.8->geopandas>=0.5.0->keplergl) (21.2.0)\r\n",
      "Requirement already satisfied: certifi in /opt/conda/lib/python3.7/site-packages (from fiona>=1.8->geopandas>=0.5.0->keplergl) (2021.5.30)\r\n",
      "Requirement already satisfied: click<8,>=4.0 in /opt/conda/lib/python3.7/site-packages (from fiona>=1.8->geopandas>=0.5.0->keplergl) (7.1.2)\r\n",
      "Requirement already satisfied: cligj>=0.5 in /opt/conda/lib/python3.7/site-packages (from fiona>=1.8->geopandas>=0.5.0->keplergl) (0.7.2)\r\n",
      "Requirement already satisfied: click-plugins>=1.0 in /opt/conda/lib/python3.7/site-packages (from fiona>=1.8->geopandas>=0.5.0->keplergl) (1.1.1)\r\n",
      "Requirement already satisfied: six>=1.7 in /opt/conda/lib/python3.7/site-packages (from fiona>=1.8->geopandas>=0.5.0->keplergl) (1.15.0)\r\n",
      "Requirement already satisfied: munch in /opt/conda/lib/python3.7/site-packages (from fiona>=1.8->geopandas>=0.5.0->keplergl) (2.5.0)\r\n",
      "Requirement already satisfied: widgetsnbextension~=3.5.0 in /opt/conda/lib/python3.7/site-packages (from ipywidgets<8,>=7.0.0->keplergl) (3.5.1)\r\n",
      "Requirement already satisfied: ipykernel>=4.5.1 in /opt/conda/lib/python3.7/site-packages (from ipywidgets<8,>=7.0.0->keplergl) (5.5.5)\r\n",
      "Requirement already satisfied: ipython>=4.0.0 in /opt/conda/lib/python3.7/site-packages (from ipywidgets<8,>=7.0.0->keplergl) (7.24.1)\r\n",
      "Requirement already satisfied: traitlets>=4.3.1 in /opt/conda/lib/python3.7/site-packages (from ipywidgets<8,>=7.0.0->keplergl) (5.0.5)\r\n",
      "Requirement already satisfied: nbformat>=4.2.0 in /opt/conda/lib/python3.7/site-packages (from ipywidgets<8,>=7.0.0->keplergl) (5.1.3)\r\n",
      "Requirement already satisfied: jupyterlab-widgets>=1.0.0 in /opt/conda/lib/python3.7/site-packages (from ipywidgets<8,>=7.0.0->keplergl) (1.0.0)\r\n",
      "Requirement already satisfied: tornado>=4.2 in /opt/conda/lib/python3.7/site-packages (from ipykernel>=4.5.1->ipywidgets<8,>=7.0.0->keplergl) (6.1)\r\n",
      "Requirement already satisfied: jupyter-client in /opt/conda/lib/python3.7/site-packages (from ipykernel>=4.5.1->ipywidgets<8,>=7.0.0->keplergl) (6.1.12)\r\n",
      "Requirement already satisfied: prompt-toolkit!=3.0.0,!=3.0.1,<3.1.0,>=2.0.0 in /opt/conda/lib/python3.7/site-packages (from ipython>=4.0.0->ipywidgets<8,>=7.0.0->keplergl) (3.0.19)\r\n",
      "Requirement already satisfied: matplotlib-inline in /opt/conda/lib/python3.7/site-packages (from ipython>=4.0.0->ipywidgets<8,>=7.0.0->keplergl) (0.1.2)\r\n",
      "Requirement already satisfied: pygments in /opt/conda/lib/python3.7/site-packages (from ipython>=4.0.0->ipywidgets<8,>=7.0.0->keplergl) (2.9.0)\r\n",
      "Requirement already satisfied: backcall in /opt/conda/lib/python3.7/site-packages (from ipython>=4.0.0->ipywidgets<8,>=7.0.0->keplergl) (0.2.0)\r\n",
      "Requirement already satisfied: jedi>=0.16 in /opt/conda/lib/python3.7/site-packages (from ipython>=4.0.0->ipywidgets<8,>=7.0.0->keplergl) (0.18.0)\r\n",
      "Requirement already satisfied: decorator in /opt/conda/lib/python3.7/site-packages (from ipython>=4.0.0->ipywidgets<8,>=7.0.0->keplergl) (5.0.9)\r\n",
      "Requirement already satisfied: setuptools>=18.5 in /opt/conda/lib/python3.7/site-packages (from ipython>=4.0.0->ipywidgets<8,>=7.0.0->keplergl) (49.6.0.post20210108)\r\n",
      "Requirement already satisfied: pexpect>4.3 in /opt/conda/lib/python3.7/site-packages (from ipython>=4.0.0->ipywidgets<8,>=7.0.0->keplergl) (4.8.0)\r\n",
      "Requirement already satisfied: pickleshare in /opt/conda/lib/python3.7/site-packages (from ipython>=4.0.0->ipywidgets<8,>=7.0.0->keplergl) (0.7.5)\r\n",
      "Requirement already satisfied: parso<0.9.0,>=0.8.0 in /opt/conda/lib/python3.7/site-packages (from jedi>=0.16->ipython>=4.0.0->ipywidgets<8,>=7.0.0->keplergl) (0.8.2)\r\n",
      "Requirement already satisfied: ipython-genutils in /opt/conda/lib/python3.7/site-packages (from nbformat>=4.2.0->ipywidgets<8,>=7.0.0->keplergl) (0.2.0)\r\n",
      "Requirement already satisfied: jupyter-core in /opt/conda/lib/python3.7/site-packages (from nbformat>=4.2.0->ipywidgets<8,>=7.0.0->keplergl) (4.7.1)\r\n",
      "Requirement already satisfied: jsonschema!=2.5.0,>=2.4 in /opt/conda/lib/python3.7/site-packages (from nbformat>=4.2.0->ipywidgets<8,>=7.0.0->keplergl) (3.2.0)\r\n",
      "Requirement already satisfied: pyrsistent>=0.14.0 in /opt/conda/lib/python3.7/site-packages (from jsonschema!=2.5.0,>=2.4->nbformat>=4.2.0->ipywidgets<8,>=7.0.0->keplergl) (0.17.3)\r\n",
      "Requirement already satisfied: importlib-metadata in /opt/conda/lib/python3.7/site-packages (from jsonschema!=2.5.0,>=2.4->nbformat>=4.2.0->ipywidgets<8,>=7.0.0->keplergl) (3.4.0)\r\n",
      "Requirement already satisfied: python-dateutil>=2.7.3 in /opt/conda/lib/python3.7/site-packages (from pandas>=0.23.0->keplergl) (2.8.1)\r\n",
      "Requirement already satisfied: pytz>=2017.3 in /opt/conda/lib/python3.7/site-packages (from pandas>=0.23.0->keplergl) (2021.1)\r\n",
      "Requirement already satisfied: numpy>=1.16.5 in /opt/conda/lib/python3.7/site-packages (from pandas>=0.23.0->keplergl) (1.19.5)\r\n",
      "Requirement already satisfied: ptyprocess>=0.5 in /opt/conda/lib/python3.7/site-packages (from pexpect>4.3->ipython>=4.0.0->ipywidgets<8,>=7.0.0->keplergl) (0.7.0)\r\n",
      "Requirement already satisfied: wcwidth in /opt/conda/lib/python3.7/site-packages (from prompt-toolkit!=3.0.0,!=3.0.1,<3.1.0,>=2.0.0->ipython>=4.0.0->ipywidgets<8,>=7.0.0->keplergl) (0.2.5)\r\n",
      "Requirement already satisfied: notebook>=4.4.1 in /opt/conda/lib/python3.7/site-packages (from widgetsnbextension~=3.5.0->ipywidgets<8,>=7.0.0->keplergl) (6.4.0)\r\n",
      "Requirement already satisfied: prometheus-client in /opt/conda/lib/python3.7/site-packages (from notebook>=4.4.1->widgetsnbextension~=3.5.0->ipywidgets<8,>=7.0.0->keplergl) (0.11.0)\r\n",
      "Requirement already satisfied: nbconvert in /opt/conda/lib/python3.7/site-packages (from notebook>=4.4.1->widgetsnbextension~=3.5.0->ipywidgets<8,>=7.0.0->keplergl) (6.0.7)\r\n",
      "Requirement already satisfied: terminado>=0.8.3 in /opt/conda/lib/python3.7/site-packages (from notebook>=4.4.1->widgetsnbextension~=3.5.0->ipywidgets<8,>=7.0.0->keplergl) (0.10.1)\r\n",
      "Requirement already satisfied: pyzmq>=17 in /opt/conda/lib/python3.7/site-packages (from notebook>=4.4.1->widgetsnbextension~=3.5.0->ipywidgets<8,>=7.0.0->keplergl) (22.1.0)\r\n",
      "Requirement already satisfied: jinja2 in /opt/conda/lib/python3.7/site-packages (from notebook>=4.4.1->widgetsnbextension~=3.5.0->ipywidgets<8,>=7.0.0->keplergl) (3.0.1)\r\n",
      "Requirement already satisfied: argon2-cffi in /opt/conda/lib/python3.7/site-packages (from notebook>=4.4.1->widgetsnbextension~=3.5.0->ipywidgets<8,>=7.0.0->keplergl) (20.1.0)\r\n",
      "Requirement already satisfied: Send2Trash>=1.5.0 in /opt/conda/lib/python3.7/site-packages (from notebook>=4.4.1->widgetsnbextension~=3.5.0->ipywidgets<8,>=7.0.0->keplergl) (1.5.0)\r\n",
      "Requirement already satisfied: cffi>=1.0.0 in /opt/conda/lib/python3.7/site-packages (from argon2-cffi->notebook>=4.4.1->widgetsnbextension~=3.5.0->ipywidgets<8,>=7.0.0->keplergl) (1.14.5)\r\n",
      "Requirement already satisfied: pycparser in /opt/conda/lib/python3.7/site-packages (from cffi>=1.0.0->argon2-cffi->notebook>=4.4.1->widgetsnbextension~=3.5.0->ipywidgets<8,>=7.0.0->keplergl) (2.20)\r\n",
      "Requirement already satisfied: zipp>=0.5 in /opt/conda/lib/python3.7/site-packages (from importlib-metadata->jsonschema!=2.5.0,>=2.4->nbformat>=4.2.0->ipywidgets<8,>=7.0.0->keplergl) (3.4.1)\r\n",
      "Requirement already satisfied: typing-extensions>=3.6.4 in /opt/conda/lib/python3.7/site-packages (from importlib-metadata->jsonschema!=2.5.0,>=2.4->nbformat>=4.2.0->ipywidgets<8,>=7.0.0->keplergl) (3.7.4.3)\r\n",
      "Requirement already satisfied: MarkupSafe>=2.0 in /opt/conda/lib/python3.7/site-packages (from jinja2->notebook>=4.4.1->widgetsnbextension~=3.5.0->ipywidgets<8,>=7.0.0->keplergl) (2.0.1)\r\n",
      "Requirement already satisfied: mistune<2,>=0.8.1 in /opt/conda/lib/python3.7/site-packages (from nbconvert->notebook>=4.4.1->widgetsnbextension~=3.5.0->ipywidgets<8,>=7.0.0->keplergl) (0.8.4)\r\n",
      "Requirement already satisfied: bleach in /opt/conda/lib/python3.7/site-packages (from nbconvert->notebook>=4.4.1->widgetsnbextension~=3.5.0->ipywidgets<8,>=7.0.0->keplergl) (3.3.0)\r\n",
      "Requirement already satisfied: pandocfilters>=1.4.1 in /opt/conda/lib/python3.7/site-packages (from nbconvert->notebook>=4.4.1->widgetsnbextension~=3.5.0->ipywidgets<8,>=7.0.0->keplergl) (1.4.2)\r\n",
      "Requirement already satisfied: nbclient<0.6.0,>=0.5.0 in /opt/conda/lib/python3.7/site-packages (from nbconvert->notebook>=4.4.1->widgetsnbextension~=3.5.0->ipywidgets<8,>=7.0.0->keplergl) (0.5.3)\r\n",
      "Requirement already satisfied: entrypoints>=0.2.2 in /opt/conda/lib/python3.7/site-packages (from nbconvert->notebook>=4.4.1->widgetsnbextension~=3.5.0->ipywidgets<8,>=7.0.0->keplergl) (0.3)\r\n",
      "Requirement already satisfied: testpath in /opt/conda/lib/python3.7/site-packages (from nbconvert->notebook>=4.4.1->widgetsnbextension~=3.5.0->ipywidgets<8,>=7.0.0->keplergl) (0.5.0)\r\n",
      "Requirement already satisfied: defusedxml in /opt/conda/lib/python3.7/site-packages (from nbconvert->notebook>=4.4.1->widgetsnbextension~=3.5.0->ipywidgets<8,>=7.0.0->keplergl) (0.7.1)\r\n",
      "Requirement already satisfied: jupyterlab-pygments in /opt/conda/lib/python3.7/site-packages (from nbconvert->notebook>=4.4.1->widgetsnbextension~=3.5.0->ipywidgets<8,>=7.0.0->keplergl) (0.1.2)\r\n",
      "Requirement already satisfied: nest-asyncio in /opt/conda/lib/python3.7/site-packages (from nbclient<0.6.0,>=0.5.0->nbconvert->notebook>=4.4.1->widgetsnbextension~=3.5.0->ipywidgets<8,>=7.0.0->keplergl) (1.5.1)\r\n",
      "Requirement already satisfied: async-generator in /opt/conda/lib/python3.7/site-packages (from nbclient<0.6.0,>=0.5.0->nbconvert->notebook>=4.4.1->widgetsnbextension~=3.5.0->ipywidgets<8,>=7.0.0->keplergl) (1.10)\r\n",
      "Requirement already satisfied: webencodings in /opt/conda/lib/python3.7/site-packages (from bleach->nbconvert->notebook>=4.4.1->widgetsnbextension~=3.5.0->ipywidgets<8,>=7.0.0->keplergl) (0.5.1)\r\n",
      "Requirement already satisfied: packaging in /opt/conda/lib/python3.7/site-packages (from bleach->nbconvert->notebook>=4.4.1->widgetsnbextension~=3.5.0->ipywidgets<8,>=7.0.0->keplergl) (20.9)\r\n",
      "Requirement already satisfied: pyparsing>=2.0.2 in /opt/conda/lib/python3.7/site-packages (from packaging->bleach->nbconvert->notebook>=4.4.1->widgetsnbextension~=3.5.0->ipywidgets<8,>=7.0.0->keplergl) (2.4.7)\r\n",
      "Building wheels for collected packages: keplergl\r\n",
      "  Building wheel for keplergl (setup.py) ... \u001b[?25l-\b \b\\\b \b|\b \b/\b \b-\b \b\\\b \b|\b \bdone\r\n",
      "\u001b[?25h  Created wheel for keplergl: filename=keplergl-0.3.0-py2.py3-none-any.whl size=16220711 sha256=d7d27057cc978f4d4542d1618a913a2a2069e529ecab650b72d0f563fd8067a4\r\n",
      "  Stored in directory: /root/.cache/pip/wheels/88/d7/89/526da75bcf92c4e66caf79dcd7e9b708cc0f42a4496e461f99\r\n",
      "Successfully built keplergl\r\n",
      "Installing collected packages: keplergl\r\n",
      "Successfully installed keplergl-0.3.0\r\n",
      "\u001b[33mWARNING: Running pip as root will break packages and permissions. You should install packages reliably by using venv: https://pip.pypa.io/warnings/venv\u001b[0m\r\n"
     ]
    }
   ],
   "source": [
    "##Installation\n",
    "!pip install keplergl"
   ]
  },
  {
   "cell_type": "code",
   "execution_count": 2,
   "id": "979c4734",
   "metadata": {
    "execution": {
     "iopub.execute_input": "2021-09-01T05:51:52.309391Z",
     "iopub.status.busy": "2021-09-01T05:51:52.308635Z",
     "iopub.status.idle": "2021-09-01T05:51:53.170586Z",
     "shell.execute_reply": "2021-09-01T05:51:53.169909Z",
     "shell.execute_reply.started": "2021-09-01T05:51:03.080193Z"
    },
    "papermill": {
     "duration": 0.896245,
     "end_time": "2021-09-01T05:51:53.170737",
     "exception": false,
     "start_time": "2021-09-01T05:51:52.274492",
     "status": "completed"
    },
    "tags": []
   },
   "outputs": [],
   "source": [
    "#Importing necessary libaries\n",
    "\n",
    "import pandas as pd\n",
    "from keplergl import KeplerGl "
   ]
  },
  {
   "cell_type": "code",
   "execution_count": 3,
   "id": "39ce9e74",
   "metadata": {
    "execution": {
     "iopub.execute_input": "2021-09-01T05:51:53.228854Z",
     "iopub.status.busy": "2021-09-01T05:51:53.228182Z",
     "iopub.status.idle": "2021-09-01T05:51:53.286386Z",
     "shell.execute_reply": "2021-09-01T05:51:53.286830Z",
     "shell.execute_reply.started": "2021-09-01T05:51:04.017388Z"
    },
    "papermill": {
     "duration": 0.089806,
     "end_time": "2021-09-01T05:51:53.286994",
     "exception": false,
     "start_time": "2021-09-01T05:51:53.197188",
     "status": "completed"
    },
    "tags": []
   },
   "outputs": [
    {
     "data": {
      "text/html": [
       "<div>\n",
       "<style scoped>\n",
       "    .dataframe tbody tr th:only-of-type {\n",
       "        vertical-align: middle;\n",
       "    }\n",
       "\n",
       "    .dataframe tbody tr th {\n",
       "        vertical-align: top;\n",
       "    }\n",
       "\n",
       "    .dataframe thead th {\n",
       "        text-align: right;\n",
       "    }\n",
       "</style>\n",
       "<table border=\"1\" class=\"dataframe\">\n",
       "  <thead>\n",
       "    <tr style=\"text-align: right;\">\n",
       "      <th></th>\n",
       "      <th>Origin Time</th>\n",
       "      <th>Latitude</th>\n",
       "      <th>Longitude</th>\n",
       "      <th>Depth</th>\n",
       "      <th>Magnitude</th>\n",
       "      <th>Location</th>\n",
       "    </tr>\n",
       "  </thead>\n",
       "  <tbody>\n",
       "    <tr>\n",
       "      <th>0</th>\n",
       "      <td>2021-07-31 09:43:23 IST</td>\n",
       "      <td>29.06</td>\n",
       "      <td>77.42</td>\n",
       "      <td>5.0</td>\n",
       "      <td>2.5</td>\n",
       "      <td>53km NNE of New Delhi, India</td>\n",
       "    </tr>\n",
       "    <tr>\n",
       "      <th>1</th>\n",
       "      <td>2021-07-30 23:04:57 IST</td>\n",
       "      <td>19.93</td>\n",
       "      <td>72.92</td>\n",
       "      <td>5.0</td>\n",
       "      <td>2.4</td>\n",
       "      <td>91km W of Nashik, Maharashtra, India</td>\n",
       "    </tr>\n",
       "    <tr>\n",
       "      <th>2</th>\n",
       "      <td>2021-07-30 21:31:10 IST</td>\n",
       "      <td>31.50</td>\n",
       "      <td>74.37</td>\n",
       "      <td>33.0</td>\n",
       "      <td>3.4</td>\n",
       "      <td>49km WSW of Amritsar, Punjab, India</td>\n",
       "    </tr>\n",
       "    <tr>\n",
       "      <th>3</th>\n",
       "      <td>2021-07-30 13:56:31 IST</td>\n",
       "      <td>28.34</td>\n",
       "      <td>76.23</td>\n",
       "      <td>5.0</td>\n",
       "      <td>3.1</td>\n",
       "      <td>50km SW of Jhajjar, Haryana</td>\n",
       "    </tr>\n",
       "    <tr>\n",
       "      <th>4</th>\n",
       "      <td>2021-07-30 07:19:38 IST</td>\n",
       "      <td>27.09</td>\n",
       "      <td>89.97</td>\n",
       "      <td>10.0</td>\n",
       "      <td>2.1</td>\n",
       "      <td>53km SE of Thimphu, Bhutan</td>\n",
       "    </tr>\n",
       "  </tbody>\n",
       "</table>\n",
       "</div>"
      ],
      "text/plain": [
       "               Origin Time  Latitude  Longitude  Depth  Magnitude  \\\n",
       "0  2021-07-31 09:43:23 IST     29.06      77.42    5.0        2.5   \n",
       "1  2021-07-30 23:04:57 IST     19.93      72.92    5.0        2.4   \n",
       "2  2021-07-30 21:31:10 IST     31.50      74.37   33.0        3.4   \n",
       "3  2021-07-30 13:56:31 IST     28.34      76.23    5.0        3.1   \n",
       "4  2021-07-30 07:19:38 IST     27.09      89.97   10.0        2.1   \n",
       "\n",
       "                               Location  \n",
       "0          53km NNE of New Delhi, India  \n",
       "1  91km W of Nashik, Maharashtra, India  \n",
       "2   49km WSW of Amritsar, Punjab, India  \n",
       "3           50km SW of Jhajjar, Haryana  \n",
       "4            53km SE of Thimphu, Bhutan  "
      ]
     },
     "execution_count": 3,
     "metadata": {},
     "output_type": "execute_result"
    }
   ],
   "source": [
    "#importing the dataset\n",
    "\n",
    "df = pd.read_csv('../input/indian-earthquakes-dataset2018-onwards/Indian_earthquake_data.csv')\n",
    "df.head()"
   ]
  },
  {
   "cell_type": "code",
   "execution_count": 4,
   "id": "0120ee21",
   "metadata": {
    "execution": {
     "iopub.execute_input": "2021-09-01T05:51:53.352084Z",
     "iopub.status.busy": "2021-09-01T05:51:53.351461Z",
     "iopub.status.idle": "2021-09-01T05:51:53.776510Z",
     "shell.execute_reply": "2021-09-01T05:51:53.775878Z",
     "shell.execute_reply.started": "2021-09-01T05:51:04.080567Z"
    },
    "papermill": {
     "duration": 0.462726,
     "end_time": "2021-09-01T05:51:53.776645",
     "exception": false,
     "start_time": "2021-09-01T05:51:53.313919",
     "status": "completed"
    },
    "tags": []
   },
   "outputs": [
    {
     "name": "stderr",
     "output_type": "stream",
     "text": [
      "/opt/conda/lib/python3.7/site-packages/dateutil/parser/_parser.py:1218: UnknownTimezoneWarning: tzname IST identified but not understood.  Pass `tzinfos` argument in order to correctly return a timezone-aware datetime.  In a future version, this will raise an exception.\n",
      "  category=UnknownTimezoneWarning)\n"
     ]
    },
    {
     "data": {
      "text/html": [
       "<div>\n",
       "<style scoped>\n",
       "    .dataframe tbody tr th:only-of-type {\n",
       "        vertical-align: middle;\n",
       "    }\n",
       "\n",
       "    .dataframe tbody tr th {\n",
       "        vertical-align: top;\n",
       "    }\n",
       "\n",
       "    .dataframe thead th {\n",
       "        text-align: right;\n",
       "    }\n",
       "</style>\n",
       "<table border=\"1\" class=\"dataframe\">\n",
       "  <thead>\n",
       "    <tr style=\"text-align: right;\">\n",
       "      <th></th>\n",
       "      <th>Origin Time</th>\n",
       "      <th>Latitude</th>\n",
       "      <th>Longitude</th>\n",
       "      <th>Depth</th>\n",
       "      <th>Magnitude</th>\n",
       "      <th>Location</th>\n",
       "      <th>Place</th>\n",
       "    </tr>\n",
       "  </thead>\n",
       "  <tbody>\n",
       "    <tr>\n",
       "      <th>0</th>\n",
       "      <td>2021-07-31 09:43:23</td>\n",
       "      <td>29.06</td>\n",
       "      <td>77.42</td>\n",
       "      <td>5.0</td>\n",
       "      <td>2.5</td>\n",
       "      <td>53km NNE of New Delhi, India</td>\n",
       "      <td>India</td>\n",
       "    </tr>\n",
       "    <tr>\n",
       "      <th>1</th>\n",
       "      <td>2021-07-30 23:04:57</td>\n",
       "      <td>19.93</td>\n",
       "      <td>72.92</td>\n",
       "      <td>5.0</td>\n",
       "      <td>2.4</td>\n",
       "      <td>91km W of Nashik, Maharashtra, India</td>\n",
       "      <td>Maharashtra</td>\n",
       "    </tr>\n",
       "    <tr>\n",
       "      <th>2</th>\n",
       "      <td>2021-07-30 21:31:10</td>\n",
       "      <td>31.50</td>\n",
       "      <td>74.37</td>\n",
       "      <td>33.0</td>\n",
       "      <td>3.4</td>\n",
       "      <td>49km WSW of Amritsar, Punjab, India</td>\n",
       "      <td>Punjab</td>\n",
       "    </tr>\n",
       "    <tr>\n",
       "      <th>3</th>\n",
       "      <td>2021-07-30 13:56:31</td>\n",
       "      <td>28.34</td>\n",
       "      <td>76.23</td>\n",
       "      <td>5.0</td>\n",
       "      <td>3.1</td>\n",
       "      <td>50km SW of Jhajjar, Haryana</td>\n",
       "      <td>Haryana</td>\n",
       "    </tr>\n",
       "    <tr>\n",
       "      <th>4</th>\n",
       "      <td>2021-07-30 07:19:38</td>\n",
       "      <td>27.09</td>\n",
       "      <td>89.97</td>\n",
       "      <td>10.0</td>\n",
       "      <td>2.1</td>\n",
       "      <td>53km SE of Thimphu, Bhutan</td>\n",
       "      <td>Bhutan</td>\n",
       "    </tr>\n",
       "  </tbody>\n",
       "</table>\n",
       "</div>"
      ],
      "text/plain": [
       "          Origin Time  Latitude  Longitude  Depth  Magnitude  \\\n",
       "0 2021-07-31 09:43:23     29.06      77.42    5.0        2.5   \n",
       "1 2021-07-30 23:04:57     19.93      72.92    5.0        2.4   \n",
       "2 2021-07-30 21:31:10     31.50      74.37   33.0        3.4   \n",
       "3 2021-07-30 13:56:31     28.34      76.23    5.0        3.1   \n",
       "4 2021-07-30 07:19:38     27.09      89.97   10.0        2.1   \n",
       "\n",
       "                               Location         Place  \n",
       "0          53km NNE of New Delhi, India         India  \n",
       "1  91km W of Nashik, Maharashtra, India   Maharashtra  \n",
       "2   49km WSW of Amritsar, Punjab, India        Punjab  \n",
       "3           50km SW of Jhajjar, Haryana       Haryana  \n",
       "4            53km SE of Thimphu, Bhutan        Bhutan  "
      ]
     },
     "execution_count": 4,
     "metadata": {},
     "output_type": "execute_result"
    }
   ],
   "source": [
    "#preprocessing dataset\n",
    "\n",
    "df['Origin Time'] = pd.to_datetime(df['Origin Time'])\n",
    "df['Place'] = df.apply(lambda x: x['Location'].split(',')[1], axis=1)\n",
    "df.head()"
   ]
  },
  {
   "cell_type": "code",
   "execution_count": 5,
   "id": "27f8174b",
   "metadata": {
    "execution": {
     "iopub.execute_input": "2021-09-01T05:51:53.841168Z",
     "iopub.status.busy": "2021-09-01T05:51:53.840427Z",
     "iopub.status.idle": "2021-09-01T05:51:53.845602Z",
     "shell.execute_reply": "2021-09-01T05:51:53.845045Z",
     "shell.execute_reply.started": "2021-09-01T05:51:04.524299Z"
    },
    "papermill": {
     "duration": 0.041835,
     "end_time": "2021-09-01T05:51:53.845736",
     "exception": false,
     "start_time": "2021-09-01T05:51:53.803901",
     "status": "completed"
    },
    "tags": []
   },
   "outputs": [
    {
     "name": "stdout",
     "output_type": "stream",
     "text": [
      "User Guide: https://docs.kepler.gl/docs/keplergl-jupyter\n"
     ]
    }
   ],
   "source": [
    "#Visualizing with Kepler.gl\n",
    "\n",
    "map_1 = KeplerGl(height=600)"
   ]
  },
  {
   "cell_type": "code",
   "execution_count": 6,
   "id": "6d4788e3",
   "metadata": {
    "execution": {
     "iopub.execute_input": "2021-09-01T05:51:53.948897Z",
     "iopub.status.busy": "2021-09-01T05:51:53.944033Z",
     "iopub.status.idle": "2021-09-01T05:51:54.086995Z",
     "shell.execute_reply": "2021-09-01T05:51:54.086463Z",
     "shell.execute_reply.started": "2021-09-01T05:51:04.537737Z"
    },
    "papermill": {
     "duration": 0.213637,
     "end_time": "2021-09-01T05:51:54.087143",
     "exception": false,
     "start_time": "2021-09-01T05:51:53.873506",
     "status": "completed"
    },
    "tags": []
   },
   "outputs": [
    {
     "data": {
      "application/vnd.jupyter.widget-view+json": {
       "model_id": "5ba9f0cdb7374546b5b3472d238fe61d",
       "version_major": 2,
       "version_minor": 0
      },
      "text/plain": [
       "KeplerGl(data={'Indian Earthquake Visualization': {'index': [0, 1, 2, 3, 4, 5, 6, 7, 8, 9, 10, 11, 12, 13, 14,…"
      ]
     },
     "metadata": {},
     "output_type": "display_data"
    }
   ],
   "source": [
    "map_1.add_data(data=df, name='Indian Earthquake Visualization')\n",
    "map_1"
   ]
  },
  {
   "cell_type": "code",
   "execution_count": 7,
   "id": "0a189509",
   "metadata": {
    "execution": {
     "iopub.execute_input": "2021-09-01T05:51:54.147948Z",
     "iopub.status.busy": "2021-09-01T05:51:54.147325Z",
     "iopub.status.idle": "2021-09-01T05:51:54.150271Z",
     "shell.execute_reply": "2021-09-01T05:51:54.149767Z",
     "shell.execute_reply.started": "2021-09-01T05:51:04.723839Z"
    },
    "papermill": {
     "duration": 0.034873,
     "end_time": "2021-09-01T05:51:54.150410",
     "exception": false,
     "start_time": "2021-09-01T05:51:54.115537",
     "status": "completed"
    },
    "tags": []
   },
   "outputs": [],
   "source": [
    "# Saving the map\n",
    "#map_1.save_to_html(file_name='Indian Earthquake Visualization.html')"
   ]
  }
 ],
 "metadata": {
  "kernelspec": {
   "display_name": "Python 3 (ipykernel)",
   "language": "python",
   "name": "python3"
  },
  "language_info": {
   "codemirror_mode": {
    "name": "ipython",
    "version": 3
   },
   "file_extension": ".py",
   "mimetype": "text/x-python",
   "name": "python",
   "nbconvert_exporter": "python",
   "pygments_lexer": "ipython3",
   "version": "3.9.12"
  },
  "papermill": {
   "default_parameters": {},
   "duration": 28.30406,
   "end_time": "2021-09-01T05:51:54.902784",
   "environment_variables": {},
   "exception": null,
   "input_path": "__notebook__.ipynb",
   "output_path": "__notebook__.ipynb",
   "parameters": {},
   "start_time": "2021-09-01T05:51:26.598724",
   "version": "2.3.3"
  },
  "widgets": {
   "application/vnd.jupyter.widget-state+json": {
    "state": {
     "0b823c0cf95a453fb788c59d9edb0075": {
      "model_module": "@jupyter-widgets/base",
      "model_module_version": "1.2.0",
      "model_name": "LayoutModel",
      "state": {
       "_model_module": "@jupyter-widgets/base",
       "_model_module_version": "1.2.0",
       "_model_name": "LayoutModel",
       "_view_count": null,
       "_view_module": "@jupyter-widgets/base",
       "_view_module_version": "1.2.0",
       "_view_name": "LayoutView",
       "align_content": null,
       "align_items": null,
       "align_self": null,
       "border": null,
       "bottom": null,
       "display": null,
       "flex": null,
       "flex_flow": null,
       "grid_area": null,
       "grid_auto_columns": null,
       "grid_auto_flow": null,
       "grid_auto_rows": null,
       "grid_column": null,
       "grid_gap": null,
       "grid_row": null,
       "grid_template_areas": null,
       "grid_template_columns": null,
       "grid_template_rows": null,
       "height": null,
       "justify_content": null,
       "justify_items": null,
       "left": null,
       "margin": null,
       "max_height": null,
       "max_width": null,
       "min_height": null,
       "min_width": null,
       "object_fit": null,
       "object_position": null,
       "order": null,
       "overflow": null,
       "overflow_x": null,
       "overflow_y": null,
       "padding": null,
       "right": null,
       "top": null,
       "visibility": null,
       "width": null
      }
     },
     "5ba9f0cdb7374546b5b3472d238fe61d": {
      "model_module": "keplergl-jupyter",
      "model_module_version": "^0.3.0",
      "model_name": "KeplerGlModal",
      "state": {
       "_dom_classes": [],
       "_model_module": "keplergl-jupyter",
       "_model_module_version": "^0.3.0",
       "_model_name": "KeplerGlModal",
       "_view_count": null,
       "_view_module": "keplergl-jupyter",
       "_view_module_version": "^0.3.0",
       "_view_name": "KeplerGlView",
       "config": {},
       "data": {
        "Indian Earthquake Visualization": {
         "columns": [
          "Origin Time",
          "Latitude",
          "Longitude",
          "Depth",
          "Magnitude",
          "Location",
          "Place"
         ],
         "data": [
          [
           "2021-07-31T09:43:23.000000",
           29.06,
           77.42,
           5,
           2.5,
           "53km NNE of New Delhi, India",
           " India"
          ],
          [
           "2021-07-30T23:04:57.000000",
           19.93,
           72.92,
           5,
           2.4,
           "91km W of Nashik, Maharashtra, India",
           " Maharashtra"
          ],
          [
           "2021-07-30T21:31:10.000000",
           31.5,
           74.37,
           33,
           3.4,
           "49km WSW of Amritsar, Punjab, India",
           " Punjab"
          ],
          [
           "2021-07-30T13:56:31.000000",
           28.34,
           76.23,
           5,
           3.1,
           "50km SW of Jhajjar, Haryana",
           " Haryana"
          ],
          [
           "2021-07-30T07:19:38.000000",
           27.09,
           89.97,
           10,
           2.1,
           "53km SE of Thimphu, Bhutan",
           " Bhutan"
          ],
          [
           "2021-07-30T04:39:14.000000",
           38.52,
           73.27,
           115,
           5.2,
           "286km NE of Fayzabad, Afghanistan",
           " Afghanistan"
          ],
          [
           "2021-07-30T03:33:16.000000",
           27.9,
           94.2,
           10,
           3,
           "48km W of Basar, Arunachal Pradesh, India",
           " Arunachal Pradesh"
          ],
          [
           "2021-07-29T18:47:30.000000",
           26.6,
           92.51,
           28,
           3.1,
           "28km WSW of Tezpur, Assam, India",
           " Assam"
          ],
          [
           "2021-07-29T14:09:29.000000",
           22.88,
           95.95,
           10,
           5.5,
           "107km N of Burma, Myanmar",
           " Myanmar"
          ],
          [
           "2021-07-27T16:11:30.000000",
           37.96,
           72.39,
           160,
           4.3,
           "188km ENE of Fayzabad, Afghanistan",
           " Afghanistan"
          ],
          [
           "2021-07-27T05:54:26.000000",
           32.29,
           76.65,
           10,
           2.6,
           "31km ENE of Dharamshala, Himachal Pradesh, India",
           " Himachal Pradesh"
          ],
          [
           "2021-07-26T16:38:34.000000",
           38.1,
           75.45,
           10,
           4.4,
           "399km N of Kargil, Laddakh, India",
           " Laddakh"
          ],
          [
           "2021-07-26T14:19:17.000000",
           36.78,
           73.49,
           19,
           4.2,
           "263km E of Fayzabad, Afghanistan",
           " Afghanistan"
          ],
          [
           "2021-07-26T10:33:31.000000",
           24.6,
           94.33,
           50,
           4.9,
           "39km SSW of Ukhrul, Manipur, India",
           " Manipur"
          ],
          [
           "2021-07-26T05:00:53.000000",
           16,
           78.22,
           10,
           4,
           "156km S of Hyderabad, Telangana, India",
           " Telangana"
          ],
          [
           "2021-07-25T20:39:22.000000",
           27.29,
           88.5,
           10,
           4,
           "11km WSW of Gangtok, Sikkim",
           " Sikkim"
          ],
          [
           "2021-07-25T04:41:22.000000",
           37.37,
           71.85,
           100,
           4.2,
           "118km ENE of Fayzabad, Afghanistan",
           " Afghanistan"
          ],
          [
           "2021-07-24T09:55:40.000000",
           28.97,
           77.2,
           18,
           2.4,
           "39km N of New Delhi, India",
           " India"
          ],
          [
           "2021-07-24T01:42:50.000000",
           36.57,
           70.78,
           250,
           4.5,
           "62km SSE of Fayzabad, Afghanistan",
           " Afghanistan"
          ],
          [
           "2021-07-24T01:28:41.000000",
           30.74,
           78.68,
           10,
           3.4,
           "23km E of Uttarkashi, Uttarakhand, India",
           " Uttarakhand"
          ],
          [
           "2021-07-23T21:31:58.000000",
           27.56,
           91.13,
           10,
           3.2,
           "73km W of Tawang, Arunachal Pradesh, India",
           " Arunachal Pradesh"
          ],
          [
           "2021-07-23T18:42:01.000000",
           27.35,
           86.86,
           10,
           3.5,
           "134km W of Yuksom, Sikkim, India",
           " Sikkim"
          ],
          [
           "2021-07-23T11:46:58.000000",
           25.94,
           92.56,
           5,
           2.9,
           "73km E of Nongpoh, Meghalaya, India",
           " Meghalaya"
          ],
          [
           "2021-07-22T16:28:47.000000",
           24.84,
           94.15,
           40,
           3.5,
           "21km E of Imphal, Manipur, India",
           " Manipur"
          ],
          [
           "2021-07-22T07:42:15.000000",
           29.65,
           69.5,
           15,
           4.8,
           "413km WNW of Bikaner, Rajasthan, India",
           " Rajasthan"
          ],
          [
           "2021-07-21T12:45:04.000000",
           27.32,
           88.86,
           10,
           2.8,
           "24km E of Gangtok, Sikkim",
           " Sikkim"
          ],
          [
           "2021-07-21T10:12:30.000000",
           36.88,
           71.61,
           23,
           3.6,
           "97km ESE of Fayzabad, Afghanistan",
           " Afghanistan"
          ],
          [
           "2021-07-21T05:24:29.000000",
           29.19,
           70.05,
           110,
           5.3,
           "343km WNW of Bikaner, Rajasthan, India",
           " Rajasthan"
          ],
          [
           "2021-07-21T04:57:46.000000",
           34.2,
           77.78,
           200,
           3.6,
           "19km ENE of Leh, Laddakh, India",
           " Laddakh"
          ],
          [
           "2021-07-21T02:10:49.000000",
           25.88,
           90.34,
           10,
           4.1,
           "42km NNE of Tura, Meghalaya, India",
           " Meghalaya"
          ],
          [
           "2021-07-21T02:06:28.000000",
           29.01,
           76.91,
           5,
           2.1,
           "32km ENE of Rohtak, Haryana, India",
           " Haryana"
          ],
          [
           "2021-07-21T01:18:07.000000",
           29.01,
           76.91,
           5,
           2.3,
           "32km ENE of Rohtak, Haryana, India",
           " Haryana"
          ],
          [
           "2021-07-20T23:19:21.000000",
           29.28,
           69.05,
           250,
           4.5,
           "438km WNW of Bikaner, Rajasthan, India",
           " Rajasthan"
          ],
          [
           "2021-07-19T21:03:34.000000",
           20.02,
           72.92,
           5,
           3.4,
           "90km W of Nashik, Maharashtra, India",
           " Maharashtra"
          ],
          [
           "2021-07-19T18:46:58.000000",
           27.4,
           88.62,
           10,
           3.2,
           "6km N of Gangtok, Sikkim, India",
           " Sikkim"
          ],
          [
           "2021-07-18T20:44:34.000000",
           28.84,
           81.22,
           23,
           3.8,
           "127km SE of Pithoragarh, Uttarakhand, India",
           " Uttarakhand"
          ],
          [
           "2021-07-18T12:43:39.000000",
           23.39,
           70.39,
           10,
           3.9,
           "127km NNW of Rajkot, Gujarat, India",
           " Gujarat"
          ],
          [
           "2021-07-18T10:08:58.000000",
           34.13,
           77.8,
           20,
           3.7,
           "20km E of Leh, Laddakh, India",
           " Laddakh"
          ],
          [
           "2021-07-18T04:48:28.000000",
           32.43,
           76.48,
           10,
           2.6,
           "27km NNE of Dharamshala, Himachal Pradesh, India",
           " Himachal Pradesh"
          ],
          [
           "2021-07-18T02:59:02.000000",
           28.75,
           76.6,
           10,
           2.2,
           "16km S of Rohtak, Haryana, India",
           " Haryana"
          ],
          [
           "2021-07-18T02:55:14.000000",
           28.69,
           76.71,
           10,
           2.8,
           "10km NNE of Jhajjar, Haryana",
           " Haryana"
          ],
          [
           "2021-07-16T23:32:28.000000",
           31.58,
           78.19,
           5,
           3.1,
           "97km NNW of Uttarkashi, Uttarakhand, India",
           " Uttarakhand"
          ],
          [
           "2021-07-16T09:54:15.000000",
           37.23,
           71.25,
           146,
           3.6,
           "63km ENE of Fayzabad, Afghanistan",
           " Afghanistan"
          ],
          [
           "2021-07-16T08:39:11.000000",
           26.48,
           92.44,
           10,
           3.4,
           "40km WSW of Tezpur, Assam, India",
           " Assam"
          ],
          [
           "2021-07-16T00:51:46.000000",
           22.48,
           94.42,
           10,
           3.1,
           "155km SE of Champhai, Mizoram, India",
           " Mizoram"
          ],
          [
           "2021-07-15T19:47:26.000000",
           31.19,
           77.92,
           10,
           3.6,
           "71km NW of Uttarkashi, Uttarakhand, India",
           " Uttarakhand"
          ],
          [
           "2021-07-15T07:23:18.000000",
           17.47,
           73.26,
           5,
           3.5,
           "132km SSW of Pune, Maharashtra, India",
           " Maharashtra"
          ],
          [
           "2021-07-15T05:48:34.000000",
           36.66,
           71.64,
           10,
           4,
           "108km ESE of Fayzabad, Afghanistan",
           " Afghanistan"
          ],
          [
           "2021-07-15T02:04:40.000000",
           23.46,
           94.61,
           19,
           4.4,
           "130km E of Champhai, Mizoram, India",
           " Mizoram"
          ],
          [
           "2021-07-15T01:40:51.000000",
           22.45,
           94.19,
           10,
           3.8,
           "142km SE of Champhai, Mizoram, India",
           " Mizoram"
          ],
          [
           "2021-07-15T00:03:08.000000",
           36.52,
           71.14,
           10,
           3.5,
           "83km SE of Fayzabad, Afghanistan",
           " Afghanistan"
          ],
          [
           "2021-07-14T23:33:26.000000",
           28.89,
           89,
           10,
           3.4,
           "135km N of Lachung, Sikkim, India",
           " Sikkim"
          ],
          [
           "2021-07-14T19:55:09.000000",
           25.99,
           90.4,
           8,
           3.4,
           "56km NNE of Tura, Meghalaya, India",
           " Meghalaya"
          ],
          [
           "2021-07-14T13:47:49.000000",
           36.52,
           71.31,
           70,
           3.9,
           "93km SE of Fayzabad, Afghanistan",
           " Afghanistan"
          ],
          [
           "2021-07-14T11:17:27.000000",
           36.56,
           71.43,
           20,
           3.9,
           "98km SE of Fayzabad, Afghanistan",
           " Afghanistan"
          ],
          [
           "2021-07-14T02:40:33.000000",
           36.47,
           70.72,
           165,
           4.6,
           "71km SSE of Fayzabad, Afghanistan",
           " Afghanistan"
          ],
          [
           "2021-07-13T22:40:28.000000",
           29.12,
           77.4,
           5,
           2.4,
           "59km NNE of New Delhi, India",
           " India"
          ],
          [
           "2021-07-13T01:44:59.000000",
           14.5,
           93.14,
           10,
           4.2,
           "138km N of Diglipur, Andaman and Nicobar island, India",
           " Andaman and Nicobar island"
          ],
          [
           "2021-07-12T04:49:18.000000",
           38.44,
           71.59,
           10,
           3.1,
           "174km NNE of Fayzabad, Afghanistan",
           " Afghanistan"
          ],
          [
           "2021-07-11T12:19:09.000000",
           39.11,
           69.57,
           130,
           3.8,
           "91km NE of Dushanbe, Tajikistan",
           " Tajikistan"
          ],
          [
           "2021-07-11T08:42:04.000000",
           19.7,
           77.28,
           10,
           3,
           "114km SSE of Akola,Maharashtra,India",
           "Maharashtra"
          ],
          [
           "2021-07-11T08:33:17.000000",
           19.73,
           77.77,
           10,
           4.4,
           "122km NNW of Nizamabad, Telangana, India",
           " Telangana"
          ],
          [
           "2021-07-11T07:04:49.000000",
           38.81,
           70.34,
           10,
           4.2,
           "137km ENE of Dushanbe, Tajikistan",
           " Tajikistan"
          ],
          [
           "2021-07-10T11:36:10.000000",
           39.14,
           70.94,
           160,
           4.3,
           "197km ENE of Dushanbe, Tajikistan",
           " Tajikistan"
          ],
          [
           "2021-07-10T11:18:08.000000",
           39.04,
           70.68,
           160,
           4.7,
           "172km ENE of Dushanbe, Tajikistan",
           " Tajikistan"
          ],
          [
           "2021-07-10T08:11:14.000000",
           2.25,
           97.29,
           40,
           5.5,
           "498km WSW of Kuala Lumpur, Malaysia",
           " Malaysia"
          ],
          [
           "2021-07-10T07:44:46.000000",
           38.91,
           70.73,
           37,
           5.9,
           "173km ENE of Dushanbe, Tajikistan",
           " Tajikistan"
          ],
          [
           "2021-07-10T07:31:12.000000",
           26.62,
           92.45,
           17,
           3.1,
           "34km W of Tezpur, Assam, India",
           " Assam"
          ],
          [
           "2021-07-09T13:16:25.000000",
           25.99,
           90.27,
           5,
           4.3,
           "53km N of Tura, Meghalaya, India",
           " Meghalaya"
          ],
          [
           "2021-07-09T07:08:35.000000",
           37.05,
           72,
           90,
           4.6,
           "128km E of Fayzabad, Afghanistan",
           " Afghanistan"
          ],
          [
           "2021-07-09T05:56:27.000000",
           24.7,
           94.99,
           90,
           4.5,
           "57km ESE of Ukhrul, Manipur, India",
           " Manipur"
          ],
          [
           "2021-07-08T18:53:26.000000",
           34.83,
           97.83,
           10,
           4.8,
           "782km NNE of Pangin, Arunachal Pradesh, India",
           " Arunachal Pradesh"
          ],
          [
           "2021-07-08T17:02:43.000000",
           26.34,
           92.79,
           15,
           2.9,
           "34km S of Tezpur, Assam, India",
           " Assam"
          ],
          [
           "2021-07-08T13:50:55.000000",
           36.51,
           71.26,
           167,
           5.1,
           "91km SE of Fayzabad, Afghanistan",
           " Afghanistan"
          ],
          [
           "2021-07-08T04:22:13.000000",
           37.4,
           73.03,
           10,
           4.1,
           "222km E of Fayzabad, Afghanistan",
           " Afghanistan"
          ],
          [
           "2021-07-07T15:32:07.000000",
           31.66,
           96.56,
           10,
           3.9,
           "410km NNE of Pangin, Arunachal Pradesh, India",
           " Arunachal Pradesh"
          ],
          [
           "2021-07-07T13:56:42.000000",
           25.97,
           90.42,
           10,
           3.7,
           "55km NNE of Tura, Meghalaya, India",
           " Meghalaya"
          ],
          [
           "2021-07-07T12:57:13.000000",
           34.68,
           98.42,
           22,
           4.5,
           "785km NNE of Pangin, Arunachal Pradesh, India",
           " Arunachal Pradesh"
          ],
          [
           "2021-07-07T08:45:25.000000",
           26.15,
           90.28,
           14,
           5.2,
           "71km N of Tura, Meghalaya, India",
           " Meghalaya"
          ],
          [
           "2021-07-06T23:46:17.000000",
           37.78,
           74.16,
           10,
           4.3,
           "327km ENE of Fayzabad, Afghanistan",
           " Afghanistan"
          ],
          [
           "2021-07-06T19:47:58.000000",
           37.3,
           72.52,
           10,
           4.1,
           "175km E of Fayzabad, Afghanistan",
           " Afghanistan"
          ],
          [
           "2021-07-06T15:10:49.000000",
           37.5,
           69.18,
           46,
           3.9,
           "122km SSE of Dushanbe, Tajikistan",
           " Tajikistan"
          ],
          [
           "2021-07-05T22:36:54.000000",
           28.7,
           76.65,
           5,
           3.7,
           "10km N of Jhajjar, Haryana",
           " Haryana"
          ],
          [
           "2021-07-05T20:20:59.000000",
           24.67,
           94.14,
           20,
           2.8,
           "26km SE of Imphal, Manipur, India",
           " Manipur"
          ],
          [
           "2021-07-05T16:36:17.000000",
           22.46,
           93.64,
           10,
           3.5,
           "115km SSE of Champhai, Mizoram, India",
           " Mizoram"
          ],
          [
           "2021-07-05T09:04:09.000000",
           27.25,
           89.38,
           14,
           2.9,
           "35km SW of Thimphu, Bhutan",
           " Bhutan"
          ],
          [
           "2021-07-05T03:18:37.000000",
           32.89,
           98.86,
           120,
           4.6,
           "610km NNE of Changlang, Arunachal Pradesh, India",
           " Arunachal Pradesh"
          ],
          [
           "2021-07-04T23:46:23.000000",
           39.17,
           71.78,
           50,
           4.1,
           "254km NNE of Fayzabad, Afghanistan",
           " Afghanistan"
          ],
          [
           "2021-07-04T22:27:15.000000",
           26.22,
           96.31,
           45,
           3.8,
           "172km S of Changlang, Arunachal Pradesh, India",
           " Arunachal Pradesh"
          ],
          [
           "2021-07-04T19:00:52.000000",
           24.81,
           93.9,
           30,
           3.3,
           "3km WSW of Imphal, Manipur, India",
           " Manipur"
          ],
          [
           "2021-07-03T23:02:19.000000",
           36.55,
           70.86,
           168,
           3.9,
           "67km SSE of Fayzabad, Afghanistan",
           " Afghanistan"
          ],
          [
           "2021-07-01T07:07:43.000000",
           20.05,
           72.94,
           5,
           3.6,
           "89km W of Nashik, Maharashtra, India",
           " Maharashtra"
          ],
          [
           "2021-06-30T21:35:36.000000",
           20.01,
           72.83,
           5,
           3.1,
           "100km W of Nashik, Maharashtra, India",
           " Maharashtra"
          ],
          [
           "2021-06-30T21:02:17.000000",
           26.52,
           92.52,
           65,
           2.7,
           "30km WSW of Tezpur, Assam, India",
           " Assam"
          ],
          [
           "2021-06-29T18:37:25.000000",
           27.4,
           89.54,
           50,
           3.1,
           "12km SW of Thimphu, Bhutan",
           " Bhutan"
          ],
          [
           "2021-06-28T12:18:05.000000",
           30.084,
           80.26,
           10,
           3.7,
           "55km N of Pithoragarh, Uttarakhand, India",
           " Uttarakhand"
          ],
          [
           "2021-06-28T06:10:35.000000",
           34.49,
           78.43,
           18,
           4.6,
           "86km ENE of Leh, Laddakh, India",
           " Laddakh"
          ],
          [
           "2021-06-26T01:26:59.000000",
           39.32,
           75.05,
           10,
           3.8,
           "397km S of Bishkek, Kyrgyzstan",
           " Kyrgyzstan"
          ],
          [
           "2021-06-26T00:36:34.000000",
           25.48,
           93.79,
           10,
           2.3,
           "36km S of Chumukedima, Nagaland, India",
           " Nagaland"
          ],
          [
           "2021-06-25T09:26:35.000000",
           37.12,
           72.11,
           30,
           3.9,
           "138km E of Fayzabad, Afghanistan",
           " Afghanistan"
          ],
          [
           "2021-06-25T06:41:19.000000",
           36.6,
           71.27,
           16,
           3.8,
           "84km SE of Fayzabad, Afghanistan",
           " Afghanistan"
          ],
          [
           "2021-06-25T04:34:44.000000",
           34.87,
           69.15,
           10,
           5.3,
           "35km N of Kabul , Afghanistan",
           " Afghanistan"
          ],
          [
           "2021-06-24T11:57:00.000000",
           20.01,
           72.95,
           5,
           3.7,
           "87km W of Nashik, Maharashtra, India",
           " Maharashtra"
          ],
          [
           "2021-06-24T10:28:58.000000",
           35.81,
           70.93,
           131,
           4.5,
           "147km SSE of Fayzabad, Afghanistan",
           " Afghanistan"
          ],
          [
           "2021-06-24T02:19:42.000000",
           39.81,
           77.07,
           10,
           3.9,
           "399km SSE of Bishkek, Kyrgyzstan",
           " Kyrgyzstan"
          ],
          [
           "2021-06-23T06:39:14.000000",
           33.38,
           71.51,
           100,
           4.5,
           "146km WSW of Islamabad, Pakistan",
           " Pakistan"
          ],
          [
           "2021-06-22T22:14:35.000000",
           28.13,
           92.09,
           70,
           4.6,
           "64km NNE of Tawang, Arunachal Pradesh, India",
           " Arunachal Pradesh"
          ],
          [
           "2021-06-21T15:37:03.000000",
           28.28,
           87.82,
           10,
           4,
           "108km NNW of Yuksom, Sikkim, India",
           " Sikkim"
          ],
          [
           "2021-06-21T12:57:41.000000",
           26.53,
           92.67,
           15,
           2.8,
           "18km SW of Tezpur, Assam, India",
           " Assam"
          ],
          [
           "2021-06-21T06:56:04.000000",
           1.6,
           92.23,
           10,
           4.9,
           "629km SSW of Campbell Bay, Andaman and Nicobar island, India",
           " Andaman and Nicobar island"
          ],
          [
           "2021-06-21T06:09:41.000000",
           27,
           93.43,
           10,
           3,
           "19km WSW of Itanagar, Arunachal Pradesh, India",
           " Arunachal Pradesh"
          ],
          [
           "2021-06-20T12:02:01.000000",
           28.67,
           77.14,
           7,
           2.1,
           "8km NW of New Delhi, India",
           " India"
          ],
          [
           "2021-06-20T05:41:49.000000",
           31.29,
           78.46,
           15,
           3.1,
           "62km N of Uttarkashi, Uttarakhand, India",
           " Uttarakhand"
          ],
          [
           "2021-06-20T01:31:43.000000",
           29.55,
           84.31,
           15,
           4.3,
           "226km NNW of Kathmandu, Nepal",
           " Nepal"
          ],
          [
           "2021-06-20T01:22:50.000000",
           25.28,
           94.3,
           30,
           3.6,
           "20km NW of Shirui, Manipur, India",
           " Manipur"
          ],
          [
           "2021-06-20T01:02:07.000000",
           28.89,
           94.79,
           17,
           3.1,
           "95km NNW of Pangin, Arunachal Pradesh, India",
           " Arunachal Pradesh"
          ],
          [
           "2021-06-19T19:29:15.000000",
           31.9,
           69.92,
           10,
           4.8,
           "302km SSE of Kabul , Afghanistan",
           " Afghanistan"
          ],
          [
           "2021-06-19T01:07:32.000000",
           26.72,
           92.4,
           30,
           4.2,
           "39km W of Tezpur, Assam, India",
           " Assam"
          ],
          [
           "2021-06-18T15:45:42.000000",
           23.42,
           70.32,
           20,
           4,
           "133km NNW of Rajkot, Gujarat, India",
           " Gujarat"
          ],
          [
           "2021-06-18T12:42:51.000000",
           26.73,
           92.4,
           10,
           2.8,
           "39km WNW of Tezpur, Assam, India",
           " Assam"
          ],
          [
           "2021-06-18T04:20:21.000000",
           25.67,
           91.29,
           10,
           2.6,
           "58km WSW of Nongpoh, Meghalaya, India",
           " Meghalaya"
          ],
          [
           "2021-06-18T02:04:40.000000",
           26.73,
           92.44,
           22,
           4.1,
           "36km WNW of Tezpur, Assam, India",
           " Assam"
          ],
          [
           "2021-06-18T01:06:08.000000",
           24.3,
           94.1,
           10,
           3,
           "39km ESE of Moirang, Manipur, India",
           " Manipur"
          ],
          [
           "2021-06-17T19:49:40.000000",
           34.73,
           73.26,
           20,
           4.8,
           "118km N of Islamabad, Pakistan",
           " Pakistan"
          ],
          [
           "2021-06-17T16:44:44.000000",
           7.29,
           84.63,
           50,
           4.8,
           "527km E of Colombo, Sri Lanka",
           " Sri Lanka"
          ],
          [
           "2021-06-16T14:18:59.000000",
           38.02,
           93.53,
           10,
           5.4,
           "1110km N of Pangin, Arunachal Pradesh, India",
           " Arunachal Pradesh"
          ],
          [
           "2021-06-16T08:01:58.000000",
           36.07,
           65.46,
           10,
           4.1,
           "379km WNW of Kabul , Afghanistan",
           " Afghanistan"
          ],
          [
           "2021-06-16T03:22:18.000000",
           34.29,
           70.27,
           30,
           4.4,
           "101km ESE of Kabul , Afghanistan",
           " Afghanistan"
          ],
          [
           "2021-06-16T02:24:45.000000",
           23.83,
           94,
           15,
           2.7,
           "77km SSE of Moirang, Manipur, India",
           " Manipur"
          ],
          [
           "2021-06-15T22:53:57.000000",
           26.59,
           92.19,
           10,
           3,
           "60km W of Tezpur, Assam, India",
           " Assam"
          ],
          [
           "2021-06-15T20:16:07.000000",
           26.65,
           97,
           10,
           4.4,
           "126km SSE of Changlang, Arunachal Pradesh, India",
           " Arunachal Pradesh"
          ],
          [
           "2021-06-15T15:43:42.000000",
           31.68,
           75.56,
           36,
           2.9,
           "39km N of Jalandhar, Punjab, India",
           " Punjab"
          ],
          [
           "2021-06-14T18:35:46.000000",
           37.75,
           73.21,
           10,
           4,
           "245km ENE of Fayzabad, Afghanistan",
           " Afghanistan"
          ],
          [
           "2021-06-14T01:15:54.000000",
           37.22,
           72.47,
           50,
           3.9,
           "170km E of Fayzabad, Afghanistan",
           " Afghanistan"
          ],
          [
           "2021-06-13T22:47:35.000000",
           26.52,
           92.28,
           10,
           2.8,
           "53km WSW of Tezpur, Assam, India",
           " Assam"
          ],
          [
           "2021-06-13T12:58:08.000000",
           36.39,
           71.3,
           110,
           4,
           "103km SE of Fayzabad, Afghanistan",
           " Afghanistan"
          ],
          [
           "2021-06-13T03:08:25.000000",
           17.69,
           95.69,
           10,
           3.9,
           "106km NNW of Rangoon, Myanmar",
           " Myanmar"
          ],
          [
           "2021-06-13T00:01:27.000000",
           20.81,
           84.99,
           5,
           3.5,
           "104km WNW of Bhubaneswar, Odisha, India",
           " Odisha"
          ],
          [
           "2021-06-12T15:30:51.000000",
           24.85,
           97.85,
           19,
           4.9,
           "340km E of Ukhrul, Manipur, India",
           " Manipur"
          ],
          [
           "2021-06-12T07:14:43.000000",
           36.48,
           70.78,
           30,
           4.3,
           "71km SSE of Fayzabad, Afghanistan",
           " Afghanistan"
          ],
          [
           "2021-06-11T04:53:12.000000",
           27.07,
           92.52,
           10,
           3.6,
           "53km NNW of Tezpur, Assam, India",
           " Assam"
          ],
          [
           "2021-06-09T17:06:01.000000",
           31.96,
           72.89,
           10,
           4.1,
           "190km W of Amritsar, Punjab, India",
           " Punjab"
          ],
          [
           "2021-06-08T18:58:38.000000",
           36.26,
           71.83,
           120,
           4.3,
           "147km SE of Fayzabad, Afghanistan",
           " Afghanistan"
          ],
          [
           "2021-06-08T18:56:48.000000",
           34.4,
           81.6,
           10,
           3.9,
           "309km NE of Hanley, Jammu & Kashmir, India",
           " Jammu & Kashmir"
          ],
          [
           "2021-06-06T21:26:45.000000",
           37.04,
           72.66,
           20,
           4.1,
           "187km E of Fayzabad, Afghanistan",
           " Afghanistan"
          ],
          [
           "2021-06-06T06:21:52.000000",
           32.99,
           75.82,
           5,
           2.5,
           "82km E of Katra, Jammu and Kashmir, India",
           " Jammu and Kashmir"
          ],
          [
           "2021-06-06T00:07:15.000000",
           24.48,
           94.48,
           47,
           2.6,
           "50km S of Ukhrul, Manipur, India",
           " Manipur"
          ],
          [
           "2021-06-05T14:04:49.000000",
           37.47,
           72.6,
           10,
           3.7,
           "186km ENE of Fayzabad, Afghanistan",
           " Afghanistan"
          ],
          [
           "2021-06-05T00:47:17.000000",
           25.29,
           94.68,
           10,
           3.1,
           "31km NE of Shirui, Manipur, India",
           " Manipur"
          ],
          [
           "2021-06-04T18:58:16.000000",
           31.7,
           68.72,
           10,
           4.1,
           "320km S of Kabul , Afghanistan",
           " Afghanistan"
          ],
          [
           "2021-06-04T15:02:13.000000",
           24.97,
           94.96,
           80,
           3.6,
           "48km E of Ukhrul, Manipur, India",
           " Manipur"
          ],
          [
           "2021-06-03T23:04:00.000000",
           32.41,
           76.51,
           10,
           2.9,
           "27km NE of Dharamshala, Himachal Pradesh, India",
           " Himachal Pradesh"
          ],
          [
           "2021-06-03T11:25:23.000000",
           34.68,
           97.8,
           63,
           4.8,
           "765km NNE of Pangin, Arunachal Pradesh, India",
           " Arunachal Pradesh"
          ],
          [
           "2021-06-03T08:16:27.000000",
           24.27,
           94.28,
           10,
           3.5,
           "56km ESE of Moirang, Manipur, India",
           " Manipur"
          ],
          [
           "2021-06-03T02:17:44.000000",
           36.9,
           67.75,
           150,
           4.1,
           "205km SSW of Dushanbe, Tajikistan",
           " Tajikistan"
          ],
          [
           "2021-06-03T01:20:19.000000",
           37.74,
           68.24,
           120,
           3.8,
           "102km SSW of Dushanbe, Tajikistan",
           " Tajikistan"
          ],
          [
           "2021-06-03T01:15:38.000000",
           10.6,
           91.52,
           10,
           4.2,
           "174km SW of Portblair, Andaman and Nicobar island, India",
           " Andaman and Nicobar island"
          ],
          [
           "2021-06-02T23:26:59.000000",
           36.39,
           68.39,
           10,
           4.3,
           "208km WSW of Fayzabad, Afghanistan",
           " Afghanistan"
          ],
          [
           "2021-06-02T16:33:27.000000",
           26.41,
           90.15,
           5,
           2.8,
           "99km N of Tura, Meghalaya, India",
           " Meghalaya"
          ],
          [
           "2021-06-02T15:10:29.000000",
           36.93,
           68.11,
           10,
           4.4,
           "190km SSW of Dushanbe, Tajikistan",
           " Tajikistan"
          ],
          [
           "2021-06-02T15:01:41.000000",
           36.84,
           68.4,
           10,
           4.3,
           "193km W of Fayzabad, Afghanistan",
           " Afghanistan"
          ],
          [
           "2021-06-02T09:38:25.000000",
           26.55,
           96.05,
           10,
           3.6,
           "144km SSW of Changlang, Arunachal Pradesh, India",
           " Arunachal Pradesh"
          ],
          [
           "2021-06-01T23:48:30.000000",
           26.77,
           92.42,
           10,
           3.5,
           "39km WNW of Tezpur, Assam, India",
           " Assam"
          ],
          [
           "2021-06-01T16:05:30.000000",
           36.67,
           71.5,
           135,
           4.2,
           "97km ESE of Fayzabad, Afghanistan",
           " Afghanistan"
          ],
          [
           "2021-06-01T15:47:03.000000",
           33.12,
           75.87,
           5,
           3.1,
           "88km E of Katra, Jammu and Kashmir, India",
           " Jammu and Kashmir"
          ],
          [
           "2021-06-01T06:56:31.000000",
           37.16,
           71.79,
           46,
           4.3,
           "110km E of Fayzabad, Afghanistan",
           " Afghanistan"
          ],
          [
           "2021-06-01T01:19:34.000000",
           23.21,
           94.64,
           80,
           4.7,
           "136km E of Champhai, Mizoram, India",
           " Mizoram"
          ],
          [
           "2021-05-31T21:54:04.000000",
           28.72,
           77.13,
           8,
           2.4,
           "13km NNW of New Delhi, India",
           " India"
          ],
          [
           "2021-05-31T09:50:50.000000",
           26.69,
           92.35,
           24,
           3.8,
           "44km W of Tezpur, Assam, India",
           " Assam"
          ],
          [
           "2021-05-31T02:00:36.000000",
           24.65,
           94.77,
           24,
           3.4,
           "42km SE of Ukhrul, Manipur, India",
           " Manipur"
          ],
          [
           "2021-05-30T15:26:55.000000",
           36.35,
           70.27,
           59,
           4.1,
           "87km SSW of Fayzabad, Afghanistan",
           " Afghanistan"
          ],
          [
           "2021-05-30T14:23:06.000000",
           26.69,
           92.39,
           16,
           4.1,
           "40km W of Tezpur, Assam, India",
           " Assam"
          ],
          [
           "2021-05-30T12:25:17.000000",
           34.55,
           98.29,
           12,
           4.7,
           "767km NNE of Pangin, Arunachal Pradesh, India",
           " Arunachal Pradesh"
          ],
          [
           "2021-05-30T10:20:15.000000",
           34.61,
           98.07,
           10,
           4.7,
           "766km NNE of Pangin, Arunachal Pradesh, India",
           " Arunachal Pradesh"
          ],
          [
           "2021-05-29T19:08:16.000000",
           24.51,
           94.69,
           16,
           3.9,
           "51km SSE of Ukhrul, Manipur, India",
           " Manipur"
          ],
          [
           "2021-05-29T13:30:11.000000",
           24.79,
           91.61,
           3.4,
           3.4,
           "54km SSW of Cherrapunjee, Meghalaya, India",
           " Meghalaya"
          ],
          [
           "2021-05-29T10:06:50.000000",
           25.09,
           92.17,
           15,
           3,
           "48km ESE of Cherrapunjee, Meghalaya, India",
           " Meghalaya"
          ],
          [
           "2021-05-29T07:11:55.000000",
           38.1,
           74.14,
           150,
           4.5,
           "335km ENE of Fayzabad, Afghanistan",
           " Afghanistan"
          ],
          [
           "2021-05-29T01:29:04.000000",
           25.57,
           91.78,
           10,
           3.5,
           "11km W of Shillong, Meghalaya, India",
           " Meghalaya"
          ],
          [
           "2021-05-28T22:21:22.000000",
           22.53,
           94.62,
           90,
           4.4,
           "153km WNW of Burma, Myanmar",
           " Myanmar"
          ],
          [
           "2021-05-28T12:53:25.000000",
           37.15,
           69.31,
           30,
           5.3,
           "110km W of Fayzabad, Afghanistan",
           " Afghanistan"
          ],
          [
           "2021-05-28T09:28:05.000000",
           27.76,
           66.39,
           10,
           4.6,
           "666km NNW of Dwarka, Gujarat, India",
           " Gujarat"
          ],
          [
           "2021-05-28T04:14:36.000000",
           37.82,
           72.34,
           10,
           3.6,
           "177km ENE of Fayzabad, Afghanistan",
           " Afghanistan"
          ],
          [
           "2021-05-28T03:16:53.000000",
           36.07,
           70.89,
           170,
           3.7,
           "118km SSE of Fayzabad, Afghanistan",
           " Afghanistan"
          ],
          [
           "2021-05-28T01:32:26.000000",
           38.84,
           74.71,
           10,
           2.8,
           "412km ENE of Fayzabad, Afghanistan",
           " Afghanistan"
          ],
          [
           "2021-05-27T23:59:05.000000",
           25.04,
           93.52,
           12,
           2.7,
           "48km WNW of Imphal, Manipur, India",
           " Manipur"
          ],
          [
           "2021-05-27T20:34:07.000000",
           26.54,
           99.5,
           10,
           4,
           "312km ESE of Changlang, Arunachal Pradesh, India",
           " Arunachal Pradesh"
          ],
          [
           "2021-05-27T18:36:09.000000",
           34.55,
           99.06,
           30,
           4.8,
           "791km NNE of Changlang, Arunachal Pradesh, India",
           " Arunachal Pradesh"
          ],
          [
           "2021-05-27T14:24:47.000000",
           30.66,
           67.02,
           100,
           4.4,
           "479km SSW of Kabul , Afghanistan",
           " Afghanistan"
          ],
          [
           "2021-05-27T06:08:38.000000",
           30.76,
           65.94,
           117,
           4.4,
           "521km SW of Kabul , Afghanistan",
           " Afghanistan"
          ],
          [
           "2021-05-26T13:11:23.000000",
           26.85,
           88.72,
           5,
           3.8,
           "35km ENE of Siliguri, West Bengal, India",
           " West Bengal"
          ],
          [
           "2021-05-26T12:24:40.000000",
           29.33,
           87,
           10,
           3.6,
           "242km NE of Kathmandu, Nepal",
           " Nepal"
          ],
          [
           "2021-05-26T12:13:31.000000",
           29.54,
           86.43,
           10,
           3.9,
           "229km NNE of Kathmandu, Nepal",
           " Nepal"
          ],
          [
           "2021-05-26T02:16:12.000000",
           28.99,
           86.46,
           150,
           4.5,
           "180km NE of Kathmandu, Nepal",
           " Nepal"
          ],
          [
           "2021-05-26T00:53:08.000000",
           23.55,
           94.58,
           90,
           4.3,
           "128km E of Champhai, Mizoram, India",
           " Mizoram"
          ],
          [
           "2021-05-26T00:20:35.000000",
           25.36,
           94.11,
           30,
           2.6,
           "35km S of Kohima, Nagaland, India",
           " Nagaland"
          ],
          [
           "2021-05-25T04:30:23.000000",
           34.9,
           97.83,
           10,
           4.5,
           "789km NNE of Pangin, Arunachal Pradesh, India",
           " Arunachal Pradesh"
          ],
          [
           "2021-05-24T20:35:23.000000",
           4.24,
           95.16,
           52,
           4.6,
           "337km SSE of Campbell Bay, Andaman and Nicobar island, India",
           " Andaman and Nicobar island"
          ],
          [
           "2021-05-24T19:45:41.000000",
           33.93,
           97.17,
           81,
           4.3,
           "668km NNE of Pangin, Arunachal Pradesh, India",
           " Arunachal Pradesh"
          ],
          [
           "2021-05-24T00:31:45.000000",
           30.94,
           79.44,
           22,
           4.3,
           "44km NNW of Joshimath, Uttarakhand , India",
           " Uttarakhand "
          ],
          [
           "2021-05-23T13:06:16.000000",
           37.31,
           70.51,
           14,
           3.3,
           "23km N of Fayzabad, Afghanistan",
           " Afghanistan"
          ],
          [
           "2021-05-23T09:16:53.000000",
           17.36,
           73.84,
           5,
           3.3,
           "84km NNW of Kolhapur, Maharashtra, India",
           " Maharashtra"
          ],
          [
           "2021-05-23T07:26:53.000000",
           37.31,
           72.32,
           349,
           4.1,
           "158km E of Fayzabad, Afghanistan",
           " Afghanistan"
          ],
          [
           "2021-05-23T06:56:42.000000",
           24.79,
           94.94,
           109,
           4.3,
           "49km ESE of Ukhrul, Manipur, India",
           " Manipur"
          ],
          [
           "2021-05-23T00:56:15.000000",
           35.27,
           73.57,
           5,
           3.5,
           "154km NNW of Gulmarg, Jammu and Kashmir, India",
           " Jammu and Kashmir"
          ],
          [
           "2021-05-22T21:10:00.000000",
           27.73,
           92.58,
           10,
           2.8,
           "71km ENE of Tawang, Arunachal Pradesh, India",
           " Arunachal Pradesh"
          ],
          [
           "2021-05-22T17:44:52.000000",
           25.59,
           99.08,
           10,
           4.3,
           "340km SE of Changlang, Arunachal Pradesh, India",
           " Arunachal Pradesh"
          ],
          [
           "2021-05-22T15:09:38.000000",
           34.77,
           97.39,
           10,
           4.5,
           "763km NNE of Pangin, Arunachal Pradesh, India",
           " Arunachal Pradesh"
          ],
          [
           "2021-05-22T13:29:03.000000",
           33.15,
           75.92,
           10,
           3.3,
           "93km ENE of Katra, Jammu and Kashmir, India",
           " Jammu and Kashmir"
          ],
          [
           "2021-05-22T12:36:33.000000",
           34.1,
           97.8,
           10,
           4.5,
           "704km NNE of Pangin, Arunachal Pradesh, India",
           " Arunachal Pradesh"
          ],
          [
           "2021-05-22T09:33:40.000000",
           35.47,
           99.56,
           34,
           4.2,
           "902km NNE of Changlang, Arunachal Pradesh, India",
           " Arunachal Pradesh"
          ],
          [
           "2021-05-22T08:51:19.000000",
           34.78,
           97.96,
           12,
           4.6,
           "780km NNE of Pangin, Arunachal Pradesh, India",
           " Arunachal Pradesh"
          ],
          [
           "2021-05-22T08:37:47.000000",
           34.57,
           76.64,
           40,
           3.6,
           "46km E of Kargil, Laddakh, India",
           " Laddakh"
          ],
          [
           "2021-05-22T08:08:49.000000",
           34.53,
           98.43,
           10,
           5,
           "770km NNE of Pangin, Arunachal Pradesh, India",
           " Arunachal Pradesh"
          ],
          [
           "2021-05-22T07:59:33.000000",
           35.02,
           97.6,
           10,
           4.7,
           "795km NNE of Pangin, Arunachal Pradesh, India",
           " Arunachal Pradesh"
          ],
          [
           "2021-05-22T07:18:16.000000",
           25.78,
           99.01,
           10,
           4.1,
           "320km SE of Changlang, Arunachal Pradesh, India",
           " Arunachal Pradesh"
          ],
          [
           "2021-05-22T06:08:33.000000",
           19.72,
           95.56,
           16,
           4.1,
           "184km SSW of Ywangan, Myanmar",
           " Myanmar"
          ],
          [
           "2021-05-22T03:29:37.000000",
           34.56,
           98.28,
           10,
           4.7,
           "768km NNE of Pangin, Arunachal Pradesh, India",
           " Arunachal Pradesh"
          ],
          [
           "2021-05-22T01:34:33.000000",
           34.66,
           98.19,
           10,
           4.5,
           "775km NNE of Pangin, Arunachal Pradesh, India",
           " Arunachal Pradesh"
          ],
          [
           "2021-05-22T01:19:15.000000",
           34.64,
           97.94,
           10,
           4.5,
           "765km NNE of Pangin, Arunachal Pradesh, India",
           " Arunachal Pradesh"
          ],
          [
           "2021-05-22T00:33:09.000000",
           34.49,
           98.94,
           10,
           4.8,
           "781km NNE of Changlang, Arunachal Pradesh, India",
           " Arunachal Pradesh"
          ],
          [
           "2021-05-21T23:34:14.000000",
           34.65,
           98.06,
           10,
           7,
           "770km NNE of Pangin, Arunachal Pradesh, India",
           " Arunachal Pradesh"
          ],
          [
           "2021-05-21T23:21:00.000000",
           26.26,
           96.94,
           10,
           2.9,
           "167km S of Changlang, Arunachal Pradesh, India",
           " Arunachal Pradesh"
          ],
          [
           "2021-05-21T23:06:20.000000",
           25.77,
           99.16,
           10,
           4,
           "332km SE of Changlang, Arunachal Pradesh, India",
           " Arunachal Pradesh"
          ],
          [
           "2021-05-21T20:54:00.000000",
           26.06,
           98.46,
           30,
           4.3,
           "259km SE of Changlang, Arunachal Pradesh, India",
           " Arunachal Pradesh"
          ],
          [
           "2021-05-21T20:01:22.000000",
           25.88,
           99.35,
           10,
           5,
           "339km SE of Changlang, Arunachal Pradesh, India",
           " Arunachal Pradesh"
          ],
          [
           "2021-05-21T19:18:41.000000",
           25.67,
           99.96,
           100,
           5.8,
           "402km SE of Changlang, Arunachal Pradesh, India",
           " Arunachal Pradesh"
          ],
          [
           "2021-05-21T11:02:32.000000",
           35.29,
           77.98,
           90,
           4.2,
           "131km NNE of Leh, Laddakh, India",
           " Laddakh"
          ],
          [
           "2021-05-20T15:05:20.000000",
           32.83,
           76.13,
           10,
           3.2,
           "70km NNW of Dharamshala, Himachal Pradesh, India",
           " Himachal Pradesh"
          ],
          [
           "2021-05-20T13:39:21.000000",
           37.06,
           71.61,
           84,
           4,
           "94km E of Fayzabad, Afghanistan",
           " Afghanistan"
          ],
          [
           "2021-05-19T22:24:30.000000",
           28.26,
           84.59,
           10,
           4.4,
           "94km NW of Kathmandu, Nepal",
           " Nepal"
          ],
          [
           "2021-05-19T21:08:56.000000",
           28.3,
           84.61,
           10,
           3.9,
           "95km NW of Kathmandu, Nepal",
           " Nepal"
          ],
          [
           "2021-05-19T17:55:49.000000",
           26.22,
           91.47,
           30,
           3.2,
           "27km WNW of Guwahati, Assam, India",
           " Assam"
          ],
          [
           "2021-05-19T14:49:30.000000",
           34.05,
           70.5,
           180,
           4.5,
           "131km ESE of Kabul , Afghanistan",
           " Afghanistan"
          ],
          [
           "2021-05-19T14:34:18.000000",
           33.04,
           75.92,
           5,
           3.2,
           "92km E of Katra, Jammu and Kashmir, India",
           " Jammu and Kashmir"
          ],
          [
           "2021-05-19T12:06:53.000000",
           28.72,
           77.03,
           5,
           1.9,
           "20km NW of New Delhi, India",
           " India"
          ],
          [
           "2021-05-19T08:11:39.000000",
           28.2,
           84.42,
           10,
           4.9,
           "103km WNW of Kathmandu, Nepal",
           " Nepal"
          ],
          [
           "2021-05-19T05:28:56.000000",
           28.24,
           84.36,
           10,
           5.3,
           "111km WNW of Kathmandu, Nepal",
           " Nepal"
          ],
          [
           "2021-05-18T17:33:00.000000",
           26.72,
           92.45,
           19,
           3.8,
           "34km WNW of Tezpur, Assam, India",
           " Assam"
          ],
          [
           "2021-05-18T16:23:28.000000",
           37.34,
           76.88,
           10,
           4.2,
           "317km N of Kargil, Laddakh, India",
           " Laddakh"
          ],
          [
           "2021-05-18T04:24:46.000000",
           15.46,
           93.37,
           34,
           4.1,
           "247km N of Diglipur, Andaman and Nicobar island, India",
           " Andaman and Nicobar island"
          ],
          [
           "2021-05-17T10:07:39.000000",
           30.92,
           91.88,
           165,
           4.2,
           "371km N of Tawang, Arunachal Pradesh, India",
           " Arunachal Pradesh"
          ],
          [
           "2021-05-17T09:41:55.000000",
           36.02,
           71.67,
           175,
           4.3,
           "156km SE of Fayzabad, Afghanistan",
           " Afghanistan"
          ],
          [
           "2021-05-17T07:07:03.000000",
           37.22,
           72.18,
           115,
           4,
           "145km E of Fayzabad, Afghanistan",
           " Afghanistan"
          ],
          [
           "2021-05-17T03:37:18.000000",
           20.68,
           71.02,
           10,
           3.8,
           "182km S of Rajkot, Gujarat, India",
           " Gujarat"
          ],
          [
           "2021-05-16T20:12:19.000000",
           26.06,
           92.6,
           5,
           2.5,
           "68km SSW of Tezpur, Assam, India",
           " Assam"
          ],
          [
           "2021-05-16T01:25:29.000000",
           27.21,
           92.34,
           22,
           2.6,
           "61km SE of Tawang, Arunachal Pradesh, India",
           " Arunachal Pradesh"
          ],
          [
           "2021-05-15T08:33:55.000000",
           26.74,
           92.39,
           16,
           3.9,
           "41km WNW of Tezpur, Assam, India",
           " Assam"
          ],
          [
           "2021-05-15T05:09:53.000000",
           26.28,
           95.26,
           81,
           4.2,
           "74km E of Mokokchung, Nagaland, India",
           " Nagaland"
          ],
          [
           "2021-05-15T01:02:35.000000",
           22.85,
           93.75,
           30,
           3.1,
           "80km SSE of Champhai, Mizoram, India",
           " Mizoram"
          ],
          [
           "2021-05-14T22:12:03.000000",
           24.99,
           95.03,
           101,
           4.3,
           "55km E of Ukhrul, Manipur, India",
           " Manipur"
          ],
          [
           "2021-05-14T15:24:05.000000",
           39.57,
           73.03,
           10,
           4.7,
           "349km NE of Fayzabad, Afghanistan",
           " Afghanistan"
          ],
          [
           "2021-05-14T12:03:09.000000",
           0.14,
           96.75,
           10,
           6.6,
           "642km WSW of Kuala Lumpur, Malaysia",
           " Malaysia"
          ],
          [
           "2021-05-14T06:32:21.000000",
           36.49,
           69.45,
           147,
           4.7,
           "119km SW of Fayzabad, Afghanistan",
           " Afghanistan"
          ],
          [
           "2021-05-13T14:05:31.000000",
           36.77,
           86.62,
           10,
           4.8,
           "833km NE of Hanley, Jammu & Kashmir, India",
           " Jammu & Kashmir"
          ],
          [
           "2021-05-13T09:15:00.000000",
           23.519,
           92.614,
           10,
           3.3,
           "25km SSW of Aizawal,Mizoram,India",
           "Mizoram"
          ],
          [
           "2021-05-13T02:05:16.000000",
           25.93,
           92.84,
           10,
           2.6,
           "80km S of Tezpur, Assam, India",
           " Assam"
          ],
          [
           "2021-05-12T20:57:45.000000",
           25.59,
           92.43,
           20,
           2.3,
           "53km E of Shillong, Meghalaya, India",
           " Meghalaya"
          ],
          [
           "2021-05-12T19:10:44.000000",
           36.79,
           71.58,
           82,
           3.9,
           "97km ESE of Fayzabad, Afghanistan",
           " Afghanistan"
          ],
          [
           "2021-05-12T00:27:38.000000",
           26.73,
           92.36,
           16,
           3.1,
           "43km W of Tezpur, Assam, India",
           " Assam"
          ],
          [
           "2021-05-10T21:37:09.000000",
           34.51,
           74.16,
           10,
           3.1,
           "55km NNW of Gulmarg, Jammu and Kashmir, India",
           " Jammu and Kashmir"
          ],
          [
           "2021-05-10T13:34:23.000000",
           36.45,
           71.06,
           174,
           4.3,
           "85km SSE of Fayzabad, Afghanistan",
           " Afghanistan"
          ],
          [
           "2021-05-10T07:05:52.000000",
           26.49,
           92.46,
           23,
           3,
           "37km WSW of Tezpur, Assam, India",
           " Assam"
          ],
          [
           "2021-05-10T03:49:00.000000",
           32.32,
           76.86,
           5,
           2.4,
           "32km WNW of Manali, Himachal Pradesh, India",
           " Himachal Pradesh"
          ],
          [
           "2021-05-10T02:01:56.000000",
           27.76,
           92.86,
           10,
           2.4,
           "99km ENE of Tawang, Arunachal Pradesh, India",
           " Arunachal Pradesh"
          ],
          [
           "2021-05-10T00:11:26.000000",
           26.69,
           92.42,
           23,
           3.7,
           "37km W of Tezpur, Assam, India",
           " Assam"
          ],
          [
           "2021-05-09T23:58:06.000000",
           26.68,
           92.39,
           18,
           2.9,
           "40km W of Tezpur, Assam, India",
           " Assam"
          ],
          [
           "2021-05-09T09:03:26.000000",
           22.46,
           92.8,
           28,
           3.7,
           "91km S of Thenzawl, Mizoram, India",
           " Mizoram"
          ],
          [
           "2021-05-09T07:23:37.000000",
           37.25,
           71.94,
           108,
           4.4,
           "124km E of Fayzabad, Afghanistan",
           " Afghanistan"
          ],
          [
           "2021-05-09T05:19:57.000000",
           36.32,
           71.22,
           25,
           3.6,
           "105km SE of Fayzabad, Afghanistan",
           " Afghanistan"
          ],
          [
           "2021-05-09T02:54:43.000000",
           33.05,
           75.99,
           5,
           2.7,
           "97km NNW of Dharamshala, Himachal Pradesh, India",
           " Himachal Pradesh"
          ],
          [
           "2021-05-08T18:50:14.000000",
           25.63,
           91.95,
           13,
           3.1,
           "8km NE of Shillong, Meghalaya, India",
           " Meghalaya"
          ],
          [
           "2021-05-08T13:57:44.000000",
           17.46,
           74.51,
           10,
           2.7,
           "88km NNE of Kolhapur, Maharashtra, India",
           " Maharashtra"
          ],
          [
           "2021-05-08T13:54:56.000000",
           17.36,
           73.84,
           10,
           2.5,
           "84km NNW of Kolhapur, Maharashtra, India",
           " Maharashtra"
          ],
          [
           "2021-05-08T10:26:41.000000",
           29.77,
           80.58,
           9,
           3.2,
           "40km ENE of Pithoragarh, Uttarakhand, India",
           " Uttarakhand"
          ],
          [
           "2021-05-08T10:26:18.000000",
           31.52,
           68.67,
           113,
           4.5,
           "341km S of Kabul , Afghanistan",
           " Afghanistan"
          ],
          [
           "2021-05-08T10:24:18.000000",
           25.18,
           93.6,
           154,
           3.8,
           "52km NW of Imphal, Manipur, India",
           " Manipur"
          ],
          [
           "2021-05-08T08:09:50.000000",
           32.98,
           76.08,
           10,
           3,
           "87km NNW of Dharamshala, Himachal Pradesh, India",
           " Himachal Pradesh"
          ],
          [
           "2021-05-08T01:09:55.000000",
           26.32,
           91.44,
           28,
           2.9,
           "35km WNW of Guwahati, Assam, India",
           " Assam"
          ],
          [
           "2021-05-07T22:46:41.000000",
           27.25,
           88.68,
           10,
           3.1,
           "11km SE of Gangtok, Sikkim",
           " Sikkim"
          ],
          [
           "2021-05-07T19:33:18.000000",
           26.75,
           92.42,
           10,
           2.8,
           "38km WNW of Tezpur, Assam, India",
           " Assam"
          ],
          [
           "2021-05-07T16:51:17.000000",
           36.45,
           70.99,
           180,
           4.2,
           "82km SSE of Fayzabad, Afghanistan",
           " Afghanistan"
          ],
          [
           "2021-05-07T14:55:27.000000",
           37.22,
           70.02,
           238,
           4.3,
           "48km WNW of Fayzabad, Afghanistan",
           " Afghanistan"
          ],
          [
           "2021-05-07T13:46:46.000000",
           36.26,
           71.31,
           210,
           4.2,
           "115km SE of Fayzabad, Afghanistan",
           " Afghanistan"
          ],
          [
           "2021-05-07T13:41:06.000000",
           38.48,
           75.04,
           50,
           4.3,
           "423km ENE of Fayzabad, Afghanistan",
           " Afghanistan"
          ],
          [
           "2021-05-07T10:05:41.000000",
           34.89,
           73.62,
           50,
           3.7,
           "116km NW of Gulmarg, Jammu and Kashmir, India",
           " Jammu and Kashmir"
          ],
          [
           "2021-05-07T06:58:23.000000",
           22.96,
           95.07,
           74,
           3.6,
           "147km NW of Burma, Myanmar",
           " Myanmar"
          ],
          [
           "2021-05-07T06:13:10.000000",
           26.33,
           92.34,
           68,
           2.8,
           "57km SW of Tezpur, Assam, India",
           " Assam"
          ],
          [
           "2021-05-07T00:41:36.000000",
           22.41,
           78.95,
           30,
           3,
           "53km E of Pachmarhi, Madhya Pradesh, India",
           " Madhya Pradesh"
          ],
          [
           "2021-05-07T00:19:36.000000",
           27.01,
           92.46,
           17,
           2.9,
           "51km NW of Tezpur, Assam, India",
           " Assam"
          ],
          [
           "2021-05-06T18:30:19.000000",
           36.41,
           71.11,
           156,
           4.2,
           "91km SE of Fayzabad, Afghanistan",
           " Afghanistan"
          ],
          [
           "2021-05-06T10:30:16.000000",
           26.55,
           92.39,
           10,
           3.6,
           "41km WSW of Tezpur, Assam, India",
           " Assam"
          ],
          [
           "2021-05-06T08:31:58.000000",
           25.88,
           92.24,
           10,
           2.9,
           "40km E of Nongpoh, Meghalaya, India",
           " Meghalaya"
          ],
          [
           "2021-05-05T19:22:12.000000",
           26.68,
           92.39,
           27,
           3.5,
           "40km W of Tezpur, Assam, India",
           " Assam"
          ],
          [
           "2021-05-05T12:49:51.000000",
           25.13,
           94.87,
           50,
           3.9,
           "45km ENE of Ukhrul, Manipur, India",
           " Manipur"
          ],
          [
           "2021-05-05T05:48:50.000000",
           27.39,
           92.38,
           10,
           3.2,
           "54km ESE of Tawang, Arunachal Pradesh, India",
           " Arunachal Pradesh"
          ],
          [
           "2021-05-05T04:01:23.000000",
           8.69,
           94.41,
           85,
           4.3,
           "195km NNE of Campbell Bay, Andaman and Nicobar island, India",
           " Andaman and Nicobar island"
          ],
          [
           "2021-05-05T02:19:48.000000",
           23.79,
           93.92,
           10,
           3.2,
           "70km ENE of Champhai, Mizoram, India",
           " Mizoram"
          ],
          [
           "2021-05-04T16:58:37.000000",
           36.47,
           71.41,
           120,
           3.9,
           "103km SE of Fayzabad, Afghanistan",
           " Afghanistan"
          ],
          [
           "2021-05-04T12:38:35.000000",
           28.52,
           86.5,
           165,
           4.1,
           "145km NE of Kathmandu, Nepal",
           " Nepal"
          ],
          [
           "2021-05-04T04:14:48.000000",
           23.43,
           94.11,
           93,
           3.9,
           "79km E of Champhai, Mizoram, India",
           " Mizoram"
          ],
          [
           "2021-05-04T03:27:15.000000",
           38.36,
           75.52,
           136,
           4.3,
           "426km N of Kargil, Laddakh, India",
           " Laddakh"
          ],
          [
           "2021-05-04T00:43:56.000000",
           37.11,
           74.41,
           10,
           4.8,
           "324km NNW of Kargil, Laddakh, India",
           " Laddakh"
          ],
          [
           "2021-05-04T00:09:03.000000",
           26.65,
           92.41,
           25,
           2.8,
           "38km W of Tezpur, Assam, India",
           " Assam"
          ],
          [
           "2021-05-03T23:16:23.000000",
           31.71,
           91.84,
           10,
           3.7,
           "459km N of Tawang, Arunachal Pradesh, India",
           " Arunachal Pradesh"
          ],
          [
           "2021-05-03T22:05:12.000000",
           26.09,
           90.41,
           33,
           2.5,
           "67km NNE of Tura, Meghalaya, India",
           " Meghalaya"
          ],
          [
           "2021-05-03T21:55:01.000000",
           26.71,
           92.39,
           17,
           2.8,
           "40km W of Tezpur, Assam, India",
           " Assam"
          ],
          [
           "2021-05-03T18:13:08.000000",
           26.74,
           92.45,
           10,
           3.7,
           "35km WNW of Tezpur, Assam, India",
           " Assam"
          ],
          [
           "2021-05-03T16:11:29.000000",
           25.9,
           95.21,
           53.9,
           3.5,
           "83km ESE of Mokokchung, Nagaland, India",
           " Nagaland"
          ],
          [
           "2021-05-03T02:19:40.000000",
           5.804,
           94.887,
           10,
           4.5,
           "172km SE of Campbell Bay, Andaman and Nicobar island, India",
           " Andaman and Nicobar island"
          ],
          [
           "2021-05-03T01:23:39.000000",
           26.43,
           92.24,
           40,
           2.7,
           "59km ENE of Guwahati, Assam, India",
           " Assam"
          ],
          [
           "2021-05-03T00:26:32.000000",
           26.87,
           91.94,
           10,
           2.8,
           "79km S of Tawang, Arunachal Pradesh, India",
           " Arunachal Pradesh"
          ],
          [
           "2021-05-02T23:02:37.000000",
           26.82,
           92.43,
           13,
           2.6,
           "40km WNW of Tezpur, Assam, India",
           " Assam"
          ],
          [
           "2021-05-02T16:49:19.000000",
           25.06,
           65.36,
           25,
           4.2,
           "482km NW of Dwarka, Gujarat, India",
           " Gujarat"
          ],
          [
           "2021-05-02T03:48:51.000000",
           26.71,
           92.4,
           16,
           2.7,
           "39km W of Tezpur, Assam, India",
           " Assam"
          ],
          [
           "2021-05-01T20:26:58.000000",
           26.73,
           92.37,
           14,
           2.7,
           "42km W of Tezpur, Assam, India",
           " Assam"
          ],
          [
           "2021-05-01T20:09:46.000000",
           26.72,
           92.39,
           15,
           3.3,
           "40km W of Tezpur, Assam, India",
           " Assam"
          ],
          [
           "2021-05-01T12:57:58.000000",
           26.09,
           92.31,
           27,
           2.6,
           "53km ENE of Nongpoh, Meghalaya, India",
           " Meghalaya"
          ],
          [
           "2021-05-01T02:17:33.000000",
           18.86,
           96.95,
           75,
           4.4,
           "235km NNE of Rangoon, Myanmar",
           " Myanmar"
          ],
          [
           "2021-05-01T01:04:27.000000",
           37.03,
           72.34,
           50,
           3.4,
           "159km E of Fayzabad, Afghanistan",
           " Afghanistan"
          ],
          [
           "2021-04-30T22:13:27.000000",
           5.64,
           94.44,
           30,
           4.6,
           "163km SSE of Campbell Bay, Andaman and Nicobar island, India",
           " Andaman and Nicobar island"
          ],
          [
           "2021-04-30T19:51:07.000000",
           38,
           69.25,
           50,
           3.9,
           "74km SE of Dushanbe, Tajikistan",
           " Tajikistan"
          ],
          [
           "2021-04-30T19:44:08.000000",
           30.64,
           76.01,
           10,
           2.9,
           "74km W of Chandigarh, Chandigarh, India",
           " Chandigarh"
          ],
          [
           "2021-04-30T19:10:06.000000",
           24.38,
           94.65,
           34,
           3.6,
           "63km SSE of Ukhrul, Manipur, India",
           " Manipur"
          ],
          [
           "2021-04-30T18:27:31.000000",
           26.59,
           92.39,
           27,
           3.2,
           "40km W of Tezpur, Assam, India",
           " Assam"
          ],
          [
           "2021-04-30T16:49:28.000000",
           26.58,
           92.51,
           40,
           3.5,
           "29km WSW of Tezpur, Assam, India",
           " Assam"
          ],
          [
           "2021-04-30T03:29:12.000000",
           24.87,
           93.59,
           10,
           2.6,
           "31km NNW of Bishnupur, Manipur, India",
           " Manipur"
          ],
          [
           "2021-04-30T02:34:04.000000",
           23.54,
           94.8,
           10,
           3.6,
           "148km SE of Moirang, Manipur, India",
           " Manipur"
          ],
          [
           "2021-04-30T02:30:33.000000",
           27.31,
           89.12,
           5,
           2.1,
           "50km E of Gangtok, Sikkim",
           " Sikkim"
          ],
          [
           "2021-04-30T02:18:05.000000",
           34.65,
           73.14,
           10,
           3.6,
           "107km N of Islamabad, Pakistan",
           " Pakistan"
          ],
          [
           "2021-04-30T01:59:13.000000",
           37.22,
           71.68,
           27,
           3.5,
           "101km E of Fayzabad, Afghanistan",
           " Afghanistan"
          ],
          [
           "2021-04-30T01:36:07.000000",
           36.38,
           71.31,
           150,
           4.4,
           "104km SE of Fayzabad, Afghanistan",
           " Afghanistan"
          ],
          [
           "2021-04-30T01:08:23.000000",
           26.9,
           92.43,
           10,
           2.8,
           "45km NW of Tezpur, Assam, India",
           " Assam"
          ],
          [
           "2021-04-29T21:02:08.000000",
           28.16,
           71.56,
           51,
           3.6,
           "172km W of Bikaner, Rajasthan, India",
           " Rajasthan"
          ],
          [
           "2021-04-29T19:14:48.000000",
           26.74,
           92.36,
           10,
           2.8,
           "44km WNW of Tezpur, Assam, India",
           " Assam"
          ],
          [
           "2021-04-29T16:17:33.000000",
           26.59,
           92.47,
           26,
           3.3,
           "32km WSW of Tezpur, Assam, India",
           " Assam"
          ],
          [
           "2021-04-29T15:37:47.000000",
           8.47,
           77.51,
           5,
           2.3,
           "63km E of Thiruvananthapuram, Kerala, India",
           " Kerala"
          ],
          [
           "2021-04-29T13:04:20.000000",
           26.61,
           92.33,
           27,
           3.6,
           "46km W of Tezpur, Assam, India",
           " Assam"
          ],
          [
           "2021-04-29T11:27:44.000000",
           36.14,
           71.17,
           75,
           4.1,
           "120km SSE of Fayzabad, Afghanistan",
           " Afghanistan"
          ],
          [
           "2021-04-29T07:13:36.000000",
           26.86,
           93.01,
           30,
           2.8,
           "31km NE of Tezpur, Assam, India",
           " Assam"
          ],
          [
           "2021-04-29T02:38:33.000000",
           26.73,
           92.42,
           11,
           2.7,
           "38km WNW of Tezpur, Assam, India",
           " Assam"
          ],
          [
           "2021-04-29T01:52:26.000000",
           26.73,
           92.43,
           16,
           2.7,
           "37km WNW of Tezpur, Assam, India",
           " Assam"
          ],
          [
           "2021-04-29T01:41:49.000000",
           26.78,
           92.4,
           11,
           2.3,
           "41km WNW of Tezpur, Assam, India",
           " Assam"
          ],
          [
           "2021-04-29T01:20:53.000000",
           26.72,
           92.43,
           19,
           4.6,
           "36km W of Tezpur, Assam, India",
           " Assam"
          ],
          [
           "2021-04-29T01:10:24.000000",
           26.71,
           92.4,
           19,
           2.9,
           "39km W of Tezpur, Assam, India",
           " Assam"
          ],
          [
           "2021-04-29T00:24:02.000000",
           26.76,
           92.93,
           18,
           2.6,
           "18km NE of Tezpur, Assam, India",
           " Assam"
          ],
          [
           "2021-04-28T23:07:54.000000",
           16.86,
           75.72,
           5,
           2.6,
           "158km E of Kolhapur, Maharashtra, India",
           " Maharashtra"
          ],
          [
           "2021-04-28T21:38:11.000000",
           26.73,
           92.38,
           15,
           2.8,
           "41km W of Tezpur, Assam, India",
           " Assam"
          ],
          [
           "2021-04-28T20:13:12.000000",
           29.97,
           67.88,
           10,
           3.9,
           "524km SSW of Kabul , Afghanistan",
           " Afghanistan"
          ],
          [
           "2021-04-28T17:39:57.000000",
           26.62,
           92.4,
           19,
           3,
           "39km W of Tezpur, Assam, India",
           " Assam"
          ],
          [
           "2021-04-28T17:04:04.000000",
           32.14,
           76.61,
           5,
           2.7,
           "28km ESE of Dharamshala, Himachal Pradesh, India",
           " Himachal Pradesh"
          ],
          [
           "2021-04-28T15:55:48.000000",
           26.77,
           92.36,
           10,
           2.9,
           "44km WNW of Tezpur, Assam, India",
           " Assam"
          ],
          [
           "2021-04-28T14:34:52.000000",
           26.83,
           92.5,
           10,
           3.4,
           "35km NW of Tezpur, Assam, India",
           " Assam"
          ],
          [
           "2021-04-28T12:32:06.000000",
           26.36,
           92.38,
           23,
           2.9,
           "52km SW of Tezpur, Assam, India",
           " Assam"
          ],
          [
           "2021-04-28T10:39:12.000000",
           26.62,
           92.46,
           10,
           3.4,
           "33km W of Tezpur, Assam, India",
           " Assam"
          ],
          [
           "2021-04-28T10:05:54.000000",
           26.39,
           92.52,
           27,
           3.2,
           "39km SW of Tezpur, Assam, India",
           " Assam"
          ],
          [
           "2021-04-28T08:44:34.000000",
           26.59,
           92.46,
           25,
           3.6,
           "33km WSW of Tezpur, Assam, India",
           " Assam"
          ],
          [
           "2021-04-28T08:25:40.000000",
           26.54,
           92.45,
           26,
           3.6,
           "36km WSW of Tezpur, Assam, India",
           " Assam"
          ],
          [
           "2021-04-28T08:13:21.000000",
           26.69,
           92.41,
           20,
           4,
           "38km W of Tezpur, Assam, India",
           " Assam"
          ],
          [
           "2021-04-28T08:03:01.000000",
           26.74,
           92.42,
           15,
           4.7,
           "38km WNW of Tezpur, Assam, India",
           " Assam"
          ],
          [
           "2021-04-28T07:51:25.000000",
           26.69,
           92.36,
           17,
           6.4,
           "43km W of Tezpur, Assam, India",
           " Assam"
          ],
          [
           "2021-04-27T22:32:17.000000",
           36.69,
           71.62,
           165,
           4.1,
           "105km ESE of Fayzabad, Afghanistan",
           " Afghanistan"
          ],
          [
           "2021-04-27T19:10:43.000000",
           28.98,
           76.72,
           10,
           3,
           "14km NE of Rohtak, Haryana, India",
           " Haryana"
          ],
          [
           "2021-04-27T12:42:04.000000",
           26.81,
           92.73,
           28,
           2.6,
           "18km NNW of Tezpur, Assam, India",
           " Assam"
          ],
          [
           "2021-04-27T10:47:13.000000",
           36.31,
           75.67,
           158,
           4.5,
           "199km NNW of Kargil, Laddakh, India",
           " Laddakh"
          ],
          [
           "2021-04-27T10:39:11.000000",
           25.43,
           91.9,
           5,
           3,
           "16km S of Shillong, Meghalaya, India",
           " Meghalaya"
          ],
          [
           "2021-04-26T01:35:25.000000",
           37.84,
           73.23,
           150,
           4.8,
           "250km ENE of Fayzabad, Afghanistan",
           " Afghanistan"
          ],
          [
           "2021-04-25T10:18:44.000000",
           36.68,
           70.99,
           200,
           3.9,
           "60km SE of Fayzabad, Afghanistan",
           " Afghanistan"
          ],
          [
           "2021-04-25T09:11:35.000000",
           38.33,
           74.21,
           125,
           4,
           "349km ENE of Fayzabad, Afghanistan",
           " Afghanistan"
          ],
          [
           "2021-04-25T05:23:39.000000",
           32.76,
           76.2,
           5,
           2.2,
           "61km N of Dharamshala, Himachal Pradesh, India",
           " Himachal Pradesh"
          ],
          [
           "2021-04-24T22:27:06.000000",
           36.48,
           69.41,
           56,
           4.4,
           "122km SW of Fayzabad, Afghanistan",
           " Afghanistan"
          ],
          [
           "2021-04-24T20:15:06.000000",
           36.51,
           71.62,
           120,
           3.9,
           "115km SE of Fayzabad, Afghanistan",
           " Afghanistan"
          ],
          [
           "2021-04-24T00:53:23.000000",
           28.53,
           94.56,
           10,
           2.8,
           "62km NNW of Basar, Arunachal Pradesh, India",
           " Arunachal Pradesh"
          ],
          [
           "2021-04-23T13:20:34.000000",
           36.46,
           70.98,
           190,
           4.7,
           "80km SSE of Fayzabad, Afghanistan",
           " Afghanistan"
          ],
          [
           "2021-04-23T02:38:55.000000",
           37.71,
           69.52,
           90,
           4.4,
           "113km NW of Fayzabad, Afghanistan",
           " Afghanistan"
          ],
          [
           "2021-04-22T08:38:57.000000",
           30.63,
           87.32,
           10,
           3.8,
           "355km NNW of Lachung, Sikkim, India",
           " Sikkim"
          ],
          [
           "2021-04-22T05:55:45.000000",
           31.36,
           76.82,
           10,
           2.7,
           "27km SSW of Mandi, Himachal Pradesh, India",
           " Himachal Pradesh"
          ],
          [
           "2021-04-22T05:54:21.000000",
           31.37,
           76.58,
           8,
           2.9,
           "40km SW of Mandi, Himachal Pradesh, India",
           " Himachal Pradesh"
          ],
          [
           "2021-04-22T04:56:36.000000",
           36.73,
           68.38,
           10,
           3.7,
           "197km WSW of Fayzabad, Afghanistan",
           " Afghanistan"
          ],
          [
           "2021-04-22T04:06:01.000000",
           37.7,
           76.11,
           10,
           3.6,
           "349km N of Kargil, Laddakh, India",
           " Laddakh"
          ],
          [
           "2021-04-22T01:04:56.000000",
           11.55,
           93.62,
           35,
           4.3,
           "97km E of Portblair, Andaman and Nicobar island, India",
           " Andaman and Nicobar island"
          ],
          [
           "2021-04-21T18:58:31.000000",
           29.78,
           89.61,
           170,
           4.3,
           "247km NNE of Lachung, Sikkim, India",
           " Sikkim"
          ],
          [
           "2021-04-20T15:33:43.000000",
           17.42,
           73.79,
           5,
           2.8,
           "93km NNW of Kolhapur, Maharashtra, India",
           " Maharashtra"
          ],
          [
           "2021-04-20T15:21:57.000000",
           17.4,
           73.78,
           5,
           2.9,
           "91km NNW of Kolhapur, Maharashtra, India",
           " Maharashtra"
          ],
          [
           "2021-04-20T05:28:27.000000",
           0.2,
           96.62,
           47,
           6,
           "651km WSW of Kuala Lumpur, Malaysia",
           " Malaysia"
          ],
          [
           "2021-04-19T18:26:02.000000",
           36.53,
           71.26,
           225,
           4.3,
           "89km SE of Fayzabad, Afghanistan",
           " Afghanistan"
          ],
          [
           "2021-04-19T17:42:39.000000",
           28.78,
           89.34,
           75,
           4.3,
           "134km NNE of Lachung, Sikkim, India",
           " Sikkim"
          ],
          [
           "2021-04-19T11:17:58.000000",
           25.9,
           90.29,
           10,
           2.9,
           "43km N of Tura, Meghalaya, India",
           " Meghalaya"
          ],
          [
           "2021-04-19T10:37:51.000000",
           36.32,
           69.21,
           10,
           4.1,
           "147km SW of Fayzabad, Afghanistan",
           " Afghanistan"
          ],
          [
           "2021-04-19T01:53:51.000000",
           25.74,
           95.28,
           89,
           4.3,
           "100km SE of Mokokchung, Nagaland, India",
           " Nagaland"
          ],
          [
           "2021-04-18T18:54:33.000000",
           22.48,
           94.08,
           10,
           4.8,
           "133km SE of Champhai, Mizoram, India",
           " Mizoram"
          ],
          [
           "2021-04-17T20:38:01.000000",
           28.08,
           93.04,
           10,
           2.6,
           "123km NNW of Itanagar, Arunachal Pradesh, India",
           " Arunachal Pradesh"
          ],
          [
           "2021-04-17T17:39:01.000000",
           37.21,
           72.27,
           10,
           3.9,
           "152km E of Fayzabad, Afghanistan",
           " Afghanistan"
          ],
          [
           "2021-04-17T16:08:18.000000",
           37.96,
           72.68,
           70,
           4.2,
           "210km ENE of Fayzabad, Afghanistan",
           " Afghanistan"
          ],
          [
           "2021-04-17T15:45:06.000000",
           20.73,
           76.83,
           16,
           3,
           "19km W of Akola,Maharashtra,India",
           "Maharashtra"
          ],
          [
           "2021-04-17T08:54:40.000000",
           32.3,
           98.83,
           10,
           4.6,
           "548km NNE of Changlang, Arunachal Pradesh, India",
           " Arunachal Pradesh"
          ],
          [
           "2021-04-17T00:20:51.000000",
           32.35,
           78.7,
           10,
           3.6,
           "44km SW of Hanley, Jammu & Kashmir, India",
           " Jammu & Kashmir"
          ],
          [
           "2021-04-16T19:23:18.000000",
           37.32,
           72.44,
           10,
           3.6,
           "169km E of Fayzabad, Afghanistan",
           " Afghanistan"
          ],
          [
           "2021-04-16T06:05:56.000000",
           30.01,
           79.6,
           10,
           2.5,
           "60km S of Joshimath, Uttarakhand , India",
           " Uttarakhand "
          ],
          [
           "2021-04-16T03:56:28.000000",
           32.43,
           78.82,
           100,
           4.4,
           "31km SSW of Hanley, Jammu & Kashmir, India",
           " Jammu & Kashmir"
          ],
          [
           "2021-04-16T03:17:09.000000",
           32.31,
           76.39,
           10,
           2.9,
           "11km NNE of Dharamshala, Himachal Pradesh, India",
           " Himachal Pradesh"
          ],
          [
           "2021-04-16T03:03:30.000000",
           32.28,
           76.29,
           10,
           3.5,
           "7km NNW of Dharamshala, Himachal Pradesh, India",
           " Himachal Pradesh"
          ],
          [
           "2021-04-15T16:19:22.000000",
           28.81,
           76.79,
           10,
           2.4,
           "20km ESE of Rohtak, Haryana, India",
           " Haryana"
          ],
          [
           "2021-04-15T04:00:01.000000",
           19.28,
           83.38,
           10,
           3.2,
           "145km E of Jagdalpur, Chhattisgarh, India",
           " Chhattisgarh"
          ],
          [
           "2021-04-15T02:00:21.000000",
           36.5,
           70.42,
           10,
           3.4,
           "67km S of Fayzabad, Afghanistan",
           " Afghanistan"
          ],
          [
           "2021-04-15T01:19:01.000000",
           36.23,
           71.19,
           19,
           4.1,
           "112km SSE of Fayzabad, Afghanistan",
           " Afghanistan"
          ],
          [
           "2021-04-15T00:09:24.000000",
           23.32,
           94.1,
           30,
           3.1,
           "80km E of Champhai, Mizoram, India",
           " Mizoram"
          ],
          [
           "2021-04-14T21:00:48.000000",
           34.19,
           76.63,
           5,
           3.6,
           "51km W of Alchi(Leh),Jammu & Kashmir,India",
           "Jammu & Kashmir"
          ],
          [
           "2021-04-14T16:25:18.000000",
           0.12,
           96.68,
           30,
           5.3,
           "649km WSW of Kuala Lumpur, Malaysia",
           " Malaysia"
          ],
          [
           "2021-04-14T15:14:37.000000",
           36.27,
           70.55,
           170,
           4.4,
           "92km S of Fayzabad, Afghanistan",
           " Afghanistan"
          ],
          [
           "2021-04-14T12:54:51.000000",
           36.57,
           71.52,
           176,
           4.3,
           "104km SE of Fayzabad, Afghanistan",
           " Afghanistan"
          ],
          [
           "2021-04-14T04:34:57.000000",
           26.24,
           92.82,
           10,
           2.8,
           "46km S of Tezpur, Assam, India",
           " Assam"
          ],
          [
           "2021-04-14T02:09:37.000000",
           32.63,
           75.98,
           14,
           2.8,
           "55km NW of Dharamshala, Himachal Pradesh, India",
           " Himachal Pradesh"
          ],
          [
           "2021-04-13T23:03:10.000000",
           22.75,
           94.56,
           10,
           3.6,
           "148km ESE of Champhai, Mizoram, India",
           " Mizoram"
          ],
          [
           "2021-04-13T16:14:25.000000",
           30.3,
           70.49,
           10,
           3.9,
           "373km NW of Bikaner, Rajasthan, India",
           " Rajasthan"
          ],
          [
           "2021-04-13T15:37:42.000000",
           36.65,
           71.56,
           10,
           3.4,
           "102km ESE of Fayzabad, Afghanistan",
           " Afghanistan"
          ],
          [
           "2021-04-13T15:02:48.000000",
           39.91,
           72.49,
           30,
           3.6,
           "314km ESE of Tashkent, Uzbekistan",
           " Uzbekistan"
          ],
          [
           "2021-04-13T14:58:52.000000",
           36.52,
           70.04,
           225,
           4,
           "78km SW of Fayzabad, Afghanistan",
           " Afghanistan"
          ],
          [
           "2021-04-13T11:12:47.000000",
           36.5,
           70.76,
           200,
           4.9,
           "69km SSE of Fayzabad, Afghanistan",
           " Afghanistan"
          ],
          [
           "2021-04-13T09:58:07.000000",
           36.1,
           68.05,
           80,
           4.2,
           "201km NNW of Kabul , Afghanistan",
           " Afghanistan"
          ],
          [
           "2021-04-13T02:40:29.000000",
           29.46,
           89.53,
           187,
           3.6,
           "211km NNE of Lachung, Sikkim, India",
           " Sikkim"
          ],
          [
           "2021-04-12T21:01:30.000000",
           27.61,
           92.71,
           10,
           3.6,
           "82km E of Tawang, Arunachal Pradesh, India",
           " Arunachal Pradesh"
          ],
          [
           "2021-04-12T03:17:29.000000",
           29.6,
           89.6,
           150,
           3.8,
           "228km NNE of Lachung, Sikkim, India",
           " Sikkim"
          ],
          [
           "2021-04-11T20:41:27.000000",
           12.33,
           78.72,
           30,
           3,
           "79km SW of Vellore, Tamil Nadu, India",
           " Tamil Nadu"
          ],
          [
           "2021-04-11T12:53:59.000000",
           23.28,
           81.73,
           10,
           3.9,
           "139km NNW of Bilaspur, Chhattisgarh, India",
           " Chhattisgarh"
          ],
          [
           "2021-04-11T04:05:20.000000",
           36.72,
           71.65,
           10,
           3.8,
           "106km ESE of Fayzabad, Afghanistan",
           " Afghanistan"
          ],
          [
           "2021-04-11T03:19:41.000000",
           28.28,
           67.01,
           10,
           4.2,
           "618km W of Bikaner, Rajasthan, India",
           " Rajasthan"
          ],
          [
           "2021-04-10T23:51:51.000000",
           31.53,
           90.42,
           10,
           4.3,
           "456km NNE of Lachung, Sikkim, India",
           " Sikkim"
          ],
          [
           "2021-04-10T23:10:04.000000",
           39.31,
           77,
           12,
           3.1,
           "445km SSE of Bishkek, Kyrgyzstan",
           " Kyrgyzstan"
          ],
          [
           "2021-04-10T20:48:21.000000",
           28.1,
           66.47,
           10,
           4.3,
           "671km W of Bikaner, Rajasthan, India",
           " Rajasthan"
          ],
          [
           "2021-04-09T01:34:19.000000",
           36.16,
           70.49,
           27,
           3.8,
           "104km S of Fayzabad, Afghanistan",
           " Afghanistan"
          ],
          [
           "2021-04-08T18:23:41.000000",
           30.82,
           71.24,
           23,
           4,
           "357km WSW of Amritsar, Punjab, India",
           " Punjab"
          ],
          [
           "2021-04-08T00:56:39.000000",
           37.62,
           72.91,
           100,
           3.8,
           "216km ENE of Fayzabad, Afghanistan",
           " Afghanistan"
          ],
          [
           "2021-04-07T17:59:35.000000",
           35.36,
           72.54,
           10,
           4.2,
           "192km NNW of Islamabad, Pakistan",
           " Pakistan"
          ],
          [
           "2021-04-07T03:25:44.000000",
           32.28,
           93.26,
           10,
           4.3,
           "497km NNW of Basar, Arunachal Pradesh, India",
           " Arunachal Pradesh"
          ],
          [
           "2021-04-07T03:18:36.000000",
           31.99,
           92.84,
           10,
           4.8,
           "480km NNW of Basar, Arunachal Pradesh, India",
           " Arunachal Pradesh"
          ],
          [
           "2021-04-07T02:03:27.000000",
           31.28,
           93.02,
           10,
           3.8,
           "400km NNW of Basar, Arunachal Pradesh, India",
           " Arunachal Pradesh"
          ],
          [
           "2021-04-06T23:16:03.000000",
           37.56,
           66.59,
           10,
           4.3,
           "222km WSW of Dushanbe, Tajikistan",
           " Tajikistan"
          ],
          [
           "2021-04-06T14:31:19.000000",
           26.95,
           89.33,
           10,
           3.9,
           "65km SSW of Thimphu, Bhutan",
           " Bhutan"
          ],
          [
           "2021-04-06T10:44:35.000000",
           26.28,
           88.68,
           5,
           3.7,
           "57km SSE of Siliguri, West Bengal, India",
           " West Bengal"
          ],
          [
           "2021-04-06T07:33:55.000000",
           21.61,
           94.52,
           10,
           3.6,
           "151km WSW of Burma, Myanmar",
           " Myanmar"
          ],
          [
           "2021-04-06T07:07:02.000000",
           26.72,
           89.04,
           10,
           4.1,
           "64km E of Siliguri, West Bengal, India",
           " West Bengal"
          ],
          [
           "2021-04-06T03:42:16.000000",
           27.55,
           95.54,
           39,
           2.7,
           "62km E of Dibrugarh, Assam, India",
           " Assam"
          ],
          [
           "2021-04-05T20:49:58.000000",
           27.23,
           88.84,
           10,
           5.1,
           "25km ESE of Gangtok, Sikkim",
           " Sikkim"
          ],
          [
           "2021-04-05T03:39:13.000000",
           32.69,
           76.59,
           5,
           2.8,
           "58km NNE of Dharamshala, Himachal Pradesh, India",
           " Himachal Pradesh"
          ],
          [
           "2021-04-05T02:01:55.000000",
           32.63,
           76.32,
           14,
           2.4,
           "45km N of Dharamshala, Himachal Pradesh, India",
           " Himachal Pradesh"
          ],
          [
           "2021-04-05T01:39:51.000000",
           36.66,
           76.17,
           10,
           4.4,
           "234km N of Kargil, Laddakh, India",
           " Laddakh"
          ],
          [
           "2021-04-04T22:38:31.000000",
           26.57,
           93.89,
           24,
           2.9,
           "36km WSW of Jorhat, Assam, India",
           " Assam"
          ],
          [
           "2021-04-04T11:46:28.000000",
           35.97,
           69.73,
           60,
           4.2,
           "145km SSW of Fayzabad, Afghanistan",
           " Afghanistan"
          ],
          [
           "2021-04-04T10:25:41.000000",
           37.45,
           73.28,
           90,
           4.7,
           "244km E of Fayzabad, Afghanistan",
           " Afghanistan"
          ],
          [
           "2021-04-03T10:37:47.000000",
           35.93,
           66.16,
           10,
           4.1,
           "316km WNW of Kabul , Afghanistan",
           " Afghanistan"
          ],
          [
           "2021-04-03T02:40:00.000000",
           27.62,
           92.65,
           5,
           2.2,
           "76km E of Tawang, Arunachal Pradesh, India",
           " Arunachal Pradesh"
          ],
          [
           "2021-04-03T00:10:20.000000",
           32.68,
           76.48,
           10,
           3,
           "53km NNE of Dharamshala, Himachal Pradesh, India",
           " Himachal Pradesh"
          ],
          [
           "2021-04-02T14:28:42.000000",
           34.12,
           87.81,
           100,
           4.3,
           "720km N of Lachung, Sikkim, India",
           " Sikkim"
          ],
          [
           "2021-04-02T00:21:47.000000",
           23.87,
           92.92,
           28,
           3.8,
           "25km NE of Aizawl, Mizoram, India",
           " Mizoram"
          ],
          [
           "2021-04-01T22:21:10.000000",
           36.66,
           71.48,
           11,
           4.1,
           "96km ESE of Fayzabad, Afghanistan",
           " Afghanistan"
          ],
          [
           "2021-04-01T17:35:02.000000",
           37.36,
           71.17,
           90,
           4.5,
           "62km ENE of Fayzabad, Afghanistan",
           " Afghanistan"
          ],
          [
           "2021-04-01T00:02:54.000000",
           39.21,
           72.65,
           135,
           4.3,
           "297km NE of Fayzabad, Afghanistan",
           " Afghanistan"
          ],
          [
           "2021-03-31T22:41:22.000000",
           28.82,
           76.72,
           10,
           2.4,
           "13km SE of Rohtak, Haryana, India",
           " Haryana"
          ],
          [
           "2021-03-30T21:40:24.000000",
           37.36,
           72.21,
           150,
           4.2,
           "149km ENE of Fayzabad, Afghanistan",
           " Afghanistan"
          ],
          [
           "2021-03-30T10:03:40.000000",
           25.7,
           91.39,
           5,
           2.8,
           "48km WSW of Nongpoh, Meghalaya, India",
           " Meghalaya"
          ],
          [
           "2021-03-30T04:19:58.000000",
           34.93,
           73.63,
           10,
           3.4,
           "119km NW of Gulmarg, Jammu and Kashmir, India",
           " Jammu and Kashmir"
          ],
          [
           "2021-03-30T04:03:50.000000",
           34.86,
           73.42,
           10,
           3.5,
           "126km NW of Gulmarg, Jammu and Kashmir, India",
           " Jammu and Kashmir"
          ],
          [
           "2021-03-30T01:06:26.000000",
           34.41,
           76.08,
           10,
           3.1,
           "16km SSW of Kargil, Laddakh, India",
           " Laddakh"
          ],
          [
           "2021-03-30T00:19:02.000000",
           27.99,
           87.55,
           10,
           3.6,
           "95km NW of Yuksom, Sikkim, India",
           " Sikkim"
          ],
          [
           "2021-03-29T22:57:24.000000",
           34.47,
           87.69,
           10,
           5.6,
           "760km N of Lachung, Sikkim, India",
           " Sikkim"
          ],
          [
           "2021-03-29T18:52:33.000000",
           25.56,
           91.91,
           10,
           3.2,
           "2km SE of Shillong, Meghalaya, India",
           " Meghalaya"
          ],
          [
           "2021-03-29T16:15:16.000000",
           26.24,
           95.48,
           100,
           3.9,
           "96km E of Mokokchung, Nagaland, India",
           " Nagaland"
          ],
          [
           "2021-03-29T13:54:21.000000",
           7.71,
           91.3,
           10,
           4.1,
           "297km WNW of Campbell Bay, Andaman and Nicobar island, India",
           " Andaman and Nicobar island"
          ],
          [
           "2021-03-29T05:41:40.000000",
           36.18,
           77.38,
           10,
           4.1,
           "213km NNE of Kargil, Laddakh, India",
           " Laddakh"
          ],
          [
           "2021-03-28T23:23:23.000000",
           27.57,
           92.69,
           10,
           2.6,
           "80km E of Tawang, Arunachal Pradesh, India",
           " Arunachal Pradesh"
          ],
          [
           "2021-03-28T18:17:14.000000",
           27.78,
           64.67,
           30,
           4.4,
           "752km NW of Dwarka, Gujarat, India",
           " Gujarat"
          ],
          [
           "2021-03-28T12:43:29.000000",
           31.96,
           92.97,
           40,
           3.8,
           "472km NNW of Basar, Arunachal Pradesh, India",
           " Arunachal Pradesh"
          ],
          [
           "2021-03-28T03:27:52.000000",
           27.36,
           92.63,
           6,
           2.8,
           "78km ESE of Tawang, Arunachal Pradesh, India",
           " Arunachal Pradesh"
          ],
          [
           "2021-03-27T22:54:17.000000",
           35.56,
           89.32,
           63,
           4.1,
           "876km N of Lachung, Sikkim, India",
           " Sikkim"
          ],
          [
           "2021-03-27T00:32:08.000000",
           27.55,
           92.66,
           10,
           5,
           "77km E of Tawang, Arunachal Pradesh, India",
           " Arunachal Pradesh"
          ],
          [
           "2021-03-27T00:30:42.000000",
           36.27,
           70.58,
           180,
           3.7,
           "92km S of Fayzabad, Afghanistan",
           " Afghanistan"
          ],
          [
           "2021-03-26T21:55:12.000000",
           32.47,
           93.54,
           200,
           4,
           "509km NNW of Pangin, Arunachal Pradesh, India",
           " Arunachal Pradesh"
          ],
          [
           "2021-03-26T16:07:17.000000",
           36.51,
           71.04,
           150,
           4.5,
           "78km SE of Fayzabad, Afghanistan",
           " Afghanistan"
          ],
          [
           "2021-03-26T05:48:37.000000",
           35.37,
           91.17,
           50,
           4.3,
           "869km N of Tawang, Arunachal Pradesh, India",
           " Arunachal Pradesh"
          ],
          [
           "2021-03-25T18:27:21.000000",
           31.2,
           84.09,
           150,
           4.2,
           "405km NNW of Kathmandu, Nepal",
           " Nepal"
          ],
          [
           "2021-03-25T17:07:22.000000",
           34.58,
           76.84,
           30,
           3.5,
           "51km NW of Alchi(Leh),Jammu & Kashmir,India",
           "Jammu & Kashmir"
          ],
          [
           "2021-03-25T16:36:15.000000",
           19.18,
           73.95,
           8,
           2.4,
           "74km N of Pune, Maharashtra, India",
           " Maharashtra"
          ],
          [
           "2021-03-25T03:53:00.000000",
           36.86,
           75.99,
           10,
           3.7,
           "256km N of Kargil, Laddakh, India",
           " Laddakh"
          ],
          [
           "2021-03-25T01:40:56.000000",
           36.58,
           71.44,
           10,
           3.8,
           "98km SE of Fayzabad, Afghanistan",
           " Afghanistan"
          ],
          [
           "2021-03-25T01:29:27.000000",
           37.46,
           72.95,
           30,
           3.6,
           "216km ENE of Fayzabad, Afghanistan",
           " Afghanistan"
          ],
          [
           "2021-03-24T01:06:14.000000",
           36.77,
           71.71,
           13,
           4.4,
           "109km ESE of Fayzabad, Afghanistan",
           " Afghanistan"
          ],
          [
           "2021-03-24T00:27:36.000000",
           24.14,
           93.88,
           40,
           2.8,
           "41km SSE of Moirang, Manipur, India",
           " Manipur"
          ],
          [
           "2021-03-24T00:26:44.000000",
           36.41,
           68.01,
           10,
           4.1,
           "233km NNW of Kabul , Afghanistan",
           " Afghanistan"
          ],
          [
           "2021-03-23T23:42:44.000000",
           34.81,
           70.68,
           10,
           3.8,
           "137km ENE of Kabul , Afghanistan",
           " Afghanistan"
          ],
          [
           "2021-03-23T11:27:04.000000",
           33.64,
           76.28,
           10,
           3,
           "98km ESE of Pahalgam, Jammu and Kashmir, India",
           " Jammu and Kashmir"
          ],
          [
           "2021-03-23T04:25:30.000000",
           20.17,
           94.26,
           10,
           3.8,
           "252km WSW of Ywangan, Myanmar",
           " Myanmar"
          ],
          [
           "2021-03-22T23:28:09.000000",
           25.24,
           95.02,
           10,
           3.3,
           "61km ENE of Shirui, Manipur, India",
           " Manipur"
          ],
          [
           "2021-03-22T22:53:40.000000",
           31.9,
           92.79,
           40,
           4.4,
           "472km NNW of Basar, Arunachal Pradesh, India",
           " Arunachal Pradesh"
          ],
          [
           "2021-03-22T21:59:18.000000",
           26,
           90.48,
           10,
           2.7,
           "60km NNE of Tura, Meghalaya, India",
           " Meghalaya"
          ],
          [
           "2021-03-22T20:21:56.000000",
           31.52,
           84.9,
           200,
           3.9,
           "424km N of Kathmandu, Nepal",
           " Nepal"
          ],
          [
           "2021-03-22T18:14:53.000000",
           32.739,
           70.177,
           10,
           4.2,
           "221km SSE of Kabul , Afghanistan",
           " Afghanistan"
          ],
          [
           "2021-03-21T19:50:23.000000",
           31.81,
           90.49,
           150,
           3.9,
           "488km NNE of Lachung, Sikkim, India",
           " Sikkim"
          ],
          [
           "2021-03-21T18:12:55.000000",
           26.64,
           92.45,
           10,
           3.1,
           "34km W of Tezpur, Assam, India",
           " Assam"
          ],
          [
           "2021-03-21T17:52:41.000000",
           26.53,
           92.58,
           25,
           4.1,
           "25km WSW of Tezpur, Assam, India",
           " Assam"
          ],
          [
           "2021-03-21T10:06:32.000000",
           25.85,
           95.08,
           10,
           4.2,
           "77km SE of Mokokchung, Nagaland, India",
           " Nagaland"
          ],
          [
           "2021-03-21T06:10:10.000000",
           36.42,
           71.37,
           10,
           3.8,
           "105km SE of Fayzabad, Afghanistan",
           " Afghanistan"
          ],
          [
           "2021-03-21T03:29:18.000000",
           32.15,
           93.47,
           10,
           3.8,
           "478km NNW of Basar, Arunachal Pradesh, India",
           " Arunachal Pradesh"
          ],
          [
           "2021-03-20T23:22:17.000000",
           22.66,
           91.79,
           10,
           3.5,
           "73km SSE of Belonia, Tripura, India",
           " Tripura"
          ],
          [
           "2021-03-20T21:06:07.000000",
           23.01,
           93.12,
           17,
           3.3,
           "46km SE of Serchhip, Mizoram, India",
           " Mizoram"
          ],
          [
           "2021-03-20T21:00:27.000000",
           34.63,
           83.49,
           42,
           4.7,
           "471km ENE of Hanley, Jammu & Kashmir, India",
           " Jammu & Kashmir"
          ],
          [
           "2021-03-20T13:13:05.000000",
           36.95,
           71.33,
           160,
           4.6,
           "71km ESE of Fayzabad, Afghanistan",
           " Afghanistan"
          ],
          [
           "2021-03-20T09:54:23.000000",
           38.34,
           74.11,
           10,
           3.6,
           "342km ENE of Fayzabad, Afghanistan",
           " Afghanistan"
          ],
          [
           "2021-03-20T07:30:37.000000",
           28,
           88.92,
           75,
           3.5,
           "38km NNE of Lachung, Sikkim, India",
           " Sikkim"
          ],
          [
           "2021-03-20T02:33:12.000000",
           32.42,
           93.94,
           80,
           3.8,
           "492km NNW of Pangin, Arunachal Pradesh, India",
           " Arunachal Pradesh"
          ],
          [
           "2021-03-20T01:30:44.000000",
           32.83,
           73.65,
           10,
           3.6,
           "86km SW of Rajouri, Jammu and Kashmir",
           " Jammu and Kashmir"
          ],
          [
           "2021-03-19T23:34:19.000000",
           31.79,
           93.05,
           79,
           4.2,
           "452km NNW of Basar, Arunachal Pradesh, India",
           " Arunachal Pradesh"
          ],
          [
           "2021-03-19T11:41:32.000000",
           31.78,
           92.81,
           100,
           5.8,
           "459km NNW of Basar, Arunachal Pradesh, India",
           " Arunachal Pradesh"
          ],
          [
           "2021-03-18T17:23:49.000000",
           37.91,
           71.5,
           140,
           4.7,
           "123km NE of Fayzabad, Afghanistan",
           " Afghanistan"
          ],
          [
           "2021-03-18T09:50:05.000000",
           27.75,
           85.71,
           10,
           3.6,
           "38km E of Kathmandu, Nepal",
           " Nepal"
          ],
          [
           "2021-03-16T18:46:12.000000",
           30.08,
           86.39,
           10,
           4.1,
           "282km NNE of Kathmandu, Nepal",
           " Nepal"
          ],
          [
           "2021-03-16T11:15:21.000000",
           26.08,
           94.4,
           18,
           3.5,
           "14km E of Wokha, Nagaland, India",
           " Nagaland"
          ],
          [
           "2021-03-15T17:34:41.000000",
           36.37,
           71.12,
           10,
           3.8,
           "95km SSE of Fayzabad, Afghanistan",
           " Afghanistan"
          ],
          [
           "2021-03-15T15:23:03.000000",
           26.91,
           89.21,
           5,
           3.8,
           "75km SSW of Thimphu, Bhutan",
           " Bhutan"
          ],
          [
           "2021-03-15T06:04:02.000000",
           34.99,
           73.48,
           10,
           3.4,
           "133km NW of Gulmarg, Jammu and Kashmir, India",
           " Jammu and Kashmir"
          ],
          [
           "2021-03-15T05:41:51.000000",
           38.13,
           73.52,
           10,
           3.8,
           "285km ENE of Fayzabad, Afghanistan",
           " Afghanistan"
          ],
          [
           "2021-03-14T05:48:40.000000",
           16.45,
           94.46,
           50,
           3.8,
           "187km WSW of Yangon, Myanmar",
           " Myanmar"
          ],
          [
           "2021-03-13T18:00:32.000000",
           37.57,
           69.78,
           30,
           4.5,
           "85km NW of Fayzabad, Afghanistan",
           " Afghanistan"
          ],
          [
           "2021-03-13T02:21:37.000000",
           26.36,
           90.13,
           10,
           2.8,
           "94km N of Tura, Meghalaya, India",
           " Meghalaya"
          ],
          [
           "2021-03-12T22:42:03.000000",
           28.62,
           66.59,
           10,
           4,
           "661km W of Bikaner, Rajasthan, India",
           " Rajasthan"
          ],
          [
           "2021-03-12T16:14:16.000000",
           26.13,
           92.71,
           5,
           3.1,
           "58km S of Tezpur, Assam, India",
           " Assam"
          ],
          [
           "2021-03-12T04:32:15.000000",
           27.4,
           87.98,
           10,
           3.7,
           "24km W of Yuksom, Sikkim, India",
           " Sikkim"
          ],
          [
           "2021-03-11T19:58:36.000000",
           35.08,
           72.13,
           10,
           3.9,
           "176km NNW of Islamabad, Pakistan",
           " Pakistan"
          ],
          [
           "2021-03-11T12:05:37.000000",
           23.91,
           94.29,
           20,
           3.1,
           "83km SE of Moirang, Manipur, India",
           " Manipur"
          ],
          [
           "2021-03-11T08:04:17.000000",
           22.75,
           94.51,
           50,
           3.3,
           "144km ESE of Champhai, Mizoram, India",
           " Mizoram"
          ],
          [
           "2021-03-11T04:49:29.000000",
           36.35,
           70.85,
           41,
           4.3,
           "87km SSE of Fayzabad, Afghanistan",
           " Afghanistan"
          ],
          [
           "2021-03-11T03:48:10.000000",
           27.38,
           88.76,
           15,
           2.1,
           "15km ENE of Gangtok, Sikkim",
           " Sikkim"
          ],
          [
           "2021-03-10T23:59:47.000000",
           24.1,
           93.38,
           50,
           2.8,
           "29km NE of Ngopa, Mizoram, India",
           " Mizoram"
          ],
          [
           "2021-03-10T21:58:42.000000",
           26.25,
           95.23,
           80,
           3.2,
           "71km E of Mokokchung, Nagaland, India",
           " Nagaland"
          ],
          [
           "2021-03-10T20:33:33.000000",
           26.38,
           95.98,
           110,
           3.6,
           "146km E of Mokokchung, Nagaland, India",
           " Nagaland"
          ],
          [
           "2021-03-10T18:53:52.000000",
           27.1,
           90.48,
           6,
           2.7,
           "93km ESE of Thimphu, Bhutan",
           " Bhutan"
          ],
          [
           "2021-03-10T13:01:38.000000",
           22.48,
           95.81,
           10,
           3.8,
           "65km NNW of Burma, Myanmar",
           " Myanmar"
          ],
          [
           "2021-03-10T09:47:06.000000",
           36.49,
           71.56,
           41,
           3.8,
           "112km SE of Fayzabad, Afghanistan",
           " Afghanistan"
          ],
          [
           "2021-03-10T08:29:10.000000",
           22.14,
           78.64,
           20,
           2.8,
           "42km SSE of Pachmarhi, Madhya Pradesh, India",
           " Madhya Pradesh"
          ],
          [
           "2021-03-10T07:50:34.000000",
           32.7,
           76.62,
           5,
           3.4,
           "60km NNE of Dharamshala, Himachal Pradesh, India",
           " Himachal Pradesh"
          ],
          [
           "2021-03-10T02:36:47.000000",
           36.34,
           70.8,
           180,
           4.5,
           "87km SSE of Fayzabad, Afghanistan",
           " Afghanistan"
          ],
          [
           "2021-03-09T23:34:58.000000",
           32.72,
           76.6,
           5,
           2.8,
           "61km NNE of Dharamshala, Himachal Pradesh, India",
           " Himachal Pradesh"
          ],
          [
           "2021-03-09T23:26:38.000000",
           36.49,
           72.4,
           230,
           3.9,
           "178km ESE of Fayzabad, Afghanistan",
           " Afghanistan"
          ],
          [
           "2021-03-09T19:29:28.000000",
           27.2,
           92.37,
           10,
           2.8,
           "64km SE of Tawang, Arunachal Pradesh, India",
           " Arunachal Pradesh"
          ],
          [
           "2021-03-09T16:45:02.000000",
           25.36,
           94.74,
           60,
           4.7,
           "41km NE of Shirui, Manipur, India",
           " Manipur"
          ],
          [
           "2021-03-09T12:34:34.000000",
           32.64,
           76.5,
           10,
           3.5,
           "49km NNE of Dharamshala, Himachal Pradesh, India",
           " Himachal Pradesh"
          ],
          [
           "2021-03-09T07:22:08.000000",
           36.12,
           72.16,
           10,
           4.3,
           "180km SE of Fayzabad, Afghanistan",
           " Afghanistan"
          ],
          [
           "2021-03-08T15:35:00.000000",
           25.29,
           94.97,
           97,
           4,
           "58km ENE of Shirui, Manipur, India",
           " Manipur"
          ],
          [
           "2021-03-08T10:38:38.000000",
           32.95,
           75.83,
           5,
           3.5,
           "83km E of Katra, Jammu and Kashmir, India",
           " Jammu and Kashmir"
          ],
          [
           "2021-03-08T10:20:43.000000",
           32.92,
           75.88,
           5,
           3.6,
           "88km NNW of Dharamshala, Himachal Pradesh, India",
           " Himachal Pradesh"
          ],
          [
           "2021-03-07T22:41:30.000000",
           38.68,
           73.67,
           10,
           4,
           "325km NE of Fayzabad, Afghanistan",
           " Afghanistan"
          ],
          [
           "2021-03-07T17:59:51.000000",
           36.52,
           71.65,
           10,
           4,
           "117km ESE of Fayzabad, Afghanistan",
           " Afghanistan"
          ],
          [
           "2021-03-07T16:29:11.000000",
           33.03,
           73.6,
           10,
           3.8,
           "76km WSW of Rajouri, Jammu and Kashmir",
           " Jammu and Kashmir"
          ],
          [
           "2021-03-07T15:50:08.000000",
           38.98,
           70.17,
           10,
           3.3,
           "128km ENE of Dushanbe, Tajikistan",
           " Tajikistan"
          ],
          [
           "2021-03-07T14:46:58.000000",
           35.01,
           78.18,
           10,
           3.5,
           "110km NNE of Leh, Laddakh, India",
           " Laddakh"
          ],
          [
           "2021-03-07T09:57:00.000000",
           34.04,
           79.37,
           10,
           3.7,
           "155km NNE of Hanley, Jammu & Kashmir, India",
           " Jammu & Kashmir"
          ],
          [
           "2021-03-07T04:40:34.000000",
           33,
           75.86,
           5,
           2.9,
           "86km E of Katra, Jammu and Kashmir, India",
           " Jammu and Kashmir"
          ],
          [
           "2021-03-07T01:56:42.000000",
           36.5,
           71.17,
           200,
           4.4,
           "86km SE of Fayzabad, Afghanistan",
           " Afghanistan"
          ],
          [
           "2021-03-07T00:56:49.000000",
           37.5,
           72.44,
           150,
           4.3,
           "173km ENE of Fayzabad, Afghanistan",
           " Afghanistan"
          ],
          [
           "2021-03-06T18:31:04.000000",
           36.63,
           69.31,
           38,
           4.4,
           "122km WSW of Fayzabad, Afghanistan",
           " Afghanistan"
          ],
          [
           "2021-03-06T13:44:30.000000",
           39,
           72.84,
           10,
           3.4,
           "291km NE of Fayzabad, Afghanistan",
           " Afghanistan"
          ],
          [
           "2021-03-06T05:11:33.000000",
           34.53,
           79.04,
           10,
           3.6,
           "140km ENE of Leh, Laddakh, India",
           " Laddakh"
          ],
          [
           "2021-03-06T03:22:36.000000",
           39.82,
           70.95,
           10,
           4.2,
           "218km SE of Tashkent, Uzbekistan",
           " Uzbekistan"
          ],
          [
           "2021-03-05T19:40:55.000000",
           36.2,
           69.6,
           150,
           4.3,
           "131km SW of Fayzabad, Afghanistan",
           " Afghanistan"
          ],
          [
           "2021-03-04T02:12:38.000000",
           36.55,
           70.95,
           217,
           3.8,
           "70km SSE of Fayzabad, Afghanistan",
           " Afghanistan"
          ],
          [
           "2021-03-03T21:18:06.000000",
           37.56,
           68.55,
           90,
           3.8,
           "113km S of Dushanbe, Tajikistan",
           " Tajikistan"
          ],
          [
           "2021-03-03T04:04:56.000000",
           37.01,
           71.47,
           82,
           4.2,
           "82km E of Fayzabad, Afghanistan",
           " Afghanistan"
          ],
          [
           "2021-03-03T01:08:28.000000",
           31.38,
           86.83,
           10,
           3.6,
           "432km NNE of Kathmandu, Nepal",
           " Nepal"
          ],
          [
           "2021-03-02T22:28:13.000000",
           25.17,
           95.31,
           10,
           2.6,
           "87km ENE of Ukhrul, Manipur, India",
           " Manipur"
          ],
          [
           "2021-03-02T21:30:09.000000",
           27.69,
           91.8,
           10,
           2.8,
           "14km NNW of Tawang, Arunachal Pradesh, India",
           " Arunachal Pradesh"
          ],
          [
           "2021-03-02T16:33:33.000000",
           36.25,
           71.51,
           110,
           4.3,
           "127km SE of Fayzabad, Afghanistan",
           " Afghanistan"
          ],
          [
           "2021-03-02T14:13:04.000000",
           37.47,
           72.43,
           17,
           3.7,
           "171km ENE of Fayzabad, Afghanistan",
           " Afghanistan"
          ],
          [
           "2021-03-02T07:15:38.000000",
           39,
           75.16,
           10,
           3.5,
           "433km S of Bishkek, Kyrgyzstan",
           " Kyrgyzstan"
          ],
          [
           "2021-03-02T01:47:58.000000",
           26.78,
           93.05,
           15,
           2.7,
           "29km ENE of Tezpur, Assam, India",
           " Assam"
          ],
          [
           "2021-03-02T01:32:22.000000",
           26.41,
           92.29,
           15,
           2.9,
           "56km WSW of Tezpur, Assam, India",
           " Assam"
          ],
          [
           "2021-03-01T23:51:56.000000",
           6.91,
           94.62,
           90,
           4.2,
           "79km E of Campbell Bay, Andaman and Nicobar island, India",
           " Andaman and Nicobar island"
          ],
          [
           "2021-03-01T20:09:51.000000",
           24.69,
           93.11,
           25,
           3.7,
           "66km W of Bishnupur, Manipur, India",
           " Manipur"
          ],
          [
           "2021-03-01T09:06:08.000000",
           21.51,
           94.9,
           10,
           3.6,
           "117km WSW of Burma, Myanmar",
           " Myanmar"
          ],
          [
           "2021-02-28T18:03:18.000000",
           28.69,
           87.98,
           20,
           3.9,
           "134km NW of Lachung, Sikkim, India",
           " Sikkim"
          ],
          [
           "2021-02-28T01:33:51.000000",
           28.91,
           86.65,
           100,
           4.1,
           "185km NE of Kathmandu, Nepal",
           " Nepal"
          ],
          [
           "2021-02-27T08:05:14.000000",
           36.16,
           70.96,
           90,
           3.8,
           "110km SSE of Fayzabad, Afghanistan",
           " Afghanistan"
          ],
          [
           "2021-02-27T03:26:13.000000",
           38.63,
           71.99,
           10,
           3.6,
           "211km NE of Fayzabad, Afghanistan",
           " Afghanistan"
          ],
          [
           "2021-02-27T03:05:18.000000",
           36.38,
           71.55,
           125,
           4.3,
           "119km SE of Fayzabad, Afghanistan",
           " Afghanistan"
          ],
          [
           "2021-02-26T15:03:19.000000",
           23.03,
           94.12,
           10,
           3,
           "93km ESE of Champhai, Mizoram, India",
           " Mizoram"
          ],
          [
           "2021-02-26T14:58:23.000000",
           37.16,
           72.66,
           10,
           4.5,
           "187km E of Fayzabad, Afghanistan",
           " Afghanistan"
          ],
          [
           "2021-02-26T02:08:56.000000",
           36.42,
           71.98,
           10,
           3.8,
           "148km ESE of Fayzabad, Afghanistan",
           " Afghanistan"
          ],
          [
           "2021-02-25T22:33:21.000000",
           26.19,
           92.05,
           30,
           3.6,
           "31km E of Guwahati, Assam, India",
           " Assam"
          ],
          [
           "2021-02-25T14:56:19.000000",
           22.79,
           96.05,
           30,
           3.9,
           "98km N of Burma, Myanmar",
           " Myanmar"
          ],
          [
           "2021-02-25T14:06:46.000000",
           35.875,
           71.393,
           100,
           4.3,
           "155km SSE of Fayzabad, Afghanistan",
           " Afghanistan"
          ],
          [
           "2021-02-25T13:20:29.000000",
           22.99,
           95.47,
           19,
           4.1,
           "129km NNW of Burma, Myanmar",
           " Myanmar"
          ],
          [
           "2021-02-25T09:50:05.000000",
           23.02,
           95.64,
           17,
           3.6,
           "127km NNW of Burma, Myanmar",
           " Myanmar"
          ],
          [
           "2021-02-25T09:19:01.000000",
           25.21,
           94.37,
           48,
           3.3,
           "10km NNW of Shirui, Manipur, India",
           " Manipur"
          ],
          [
           "2021-02-25T09:15:57.000000",
           22.53,
           96.48,
           10,
           4.2,
           "87km NE of Burma, Myanmar",
           " Myanmar"
          ],
          [
           "2021-02-25T08:04:29.000000",
           22.91,
           95.81,
           10,
           4.5,
           "112km N of Burma, Myanmar",
           " Myanmar"
          ],
          [
           "2021-02-25T06:12:42.000000",
           36.45,
           71.85,
           24,
           3.6,
           "136km ESE of Fayzabad, Afghanistan",
           " Afghanistan"
          ],
          [
           "2021-02-25T03:55:26.000000",
           32.85,
           76.22,
           5,
           2.4,
           "70km N of Dharamshala, Himachal Pradesh, India",
           " Himachal Pradesh"
          ],
          [
           "2021-02-25T02:33:02.000000",
           32.32,
           76.29,
           5,
           2.2,
           "11km NNW of Dharamshala, Himachal Pradesh, India",
           " Himachal Pradesh"
          ],
          [
           "2021-02-25T01:37:51.000000",
           25.89,
           64.78,
           37,
           4.3,
           "587km NW of Dwarka, Gujarat, India",
           " Gujarat"
          ],
          [
           "2021-02-24T23:46:47.000000",
           19.95,
           91.03,
           24,
           4.8,
           "369km S of Belonia, Tripura, India",
           " Tripura"
          ],
          [
           "2021-02-24T20:49:19.000000",
           26.02,
           95.45,
           83,
           4.2,
           "99km ESE of Mokokchung, Nagaland, India",
           " Nagaland"
          ],
          [
           "2021-02-24T03:15:23.000000",
           37.4,
           75.89,
           10,
           4,
           "317km N of Kargil, Laddakh, India",
           " Laddakh"
          ],
          [
           "2021-02-23T20:36:00.000000",
           28.72,
           77,
           10,
           1.9,
           "23km WNW of New Delhi, India",
           " India"
          ],
          [
           "2021-02-23T17:45:20.000000",
           23.98,
           94.1,
           94,
           3.4,
           "66km SSE of Moirang, Manipur, India",
           " Manipur"
          ],
          [
           "2021-02-22T21:14:22.000000",
           27.42,
           92.65,
           10,
           2.6,
           "78km ESE of Tawang, Arunachal Pradesh, India",
           " Arunachal Pradesh"
          ],
          [
           "2021-02-22T14:01:53.000000",
           26.298,
           92.896,
           10,
           2.8,
           "40km SSE of Tezpur, Assam, India",
           " Assam"
          ],
          [
           "2021-02-22T04:51:36.000000",
           36.484,
           70.684,
           155,
           3.9,
           "69km S of Fayzabad, Afghanistan",
           " Afghanistan"
          ],
          [
           "2021-02-21T01:46:11.000000",
           37.63,
           69.18,
           10,
           3.9,
           "109km SSE of Dushanbe, Tajikistan",
           " Tajikistan"
          ],
          [
           "2021-02-21T01:29:08.000000",
           24.87,
           94.89,
           5,
           2.8,
           "41km E of Ukhrul, Manipur, India",
           " Manipur"
          ],
          [
           "2021-02-21T01:15:49.000000",
           37.37,
           70.09,
           74,
           3.8,
           "50km NW of Fayzabad, Afghanistan",
           " Afghanistan"
          ],
          [
           "2021-02-20T22:03:55.000000",
           28.2,
           88.16,
           10,
           3.7,
           "80km NW of Lachung, Sikkim, India",
           " Sikkim"
          ],
          [
           "2021-02-20T16:32:46.000000",
           37.86,
           72.59,
           10,
           3.6,
           "198km ENE of Fayzabad, Afghanistan",
           " Afghanistan"
          ],
          [
           "2021-02-20T13:39:32.000000",
           28.6,
           68.91,
           140,
           5,
           "435km W of Bikaner, Rajasthan, India",
           " Rajasthan"
          ],
          [
           "2021-02-20T07:17:48.000000",
           37.25,
           71.5,
           10,
           3.7,
           "85km ENE of Fayzabad, Afghanistan",
           " Afghanistan"
          ],
          [
           "2021-02-20T05:31:26.000000",
           23.44,
           94.38,
           105,
           4.3,
           "107km E of Champhai, Mizoram, India",
           " Mizoram"
          ],
          [
           "2021-02-20T03:55:31.000000",
           32.64,
           76.2,
           5,
           2.8,
           "48km NNW of Dharamshala, Himachal Pradesh, India",
           " Himachal Pradesh"
          ],
          [
           "2021-02-20T03:21:11.000000",
           27.9,
           87.3,
           10,
           3.4,
           "108km WNW of Yuksom, Sikkim, India",
           " Sikkim"
          ],
          [
           "2021-02-19T23:08:53.000000",
           24.1,
           93.58,
           5,
           2.4,
           "44km ENE of Ngopa, Mizoram, India",
           " Mizoram"
          ],
          [
           "2021-02-19T16:38:32.000000",
           29.88,
           80.29,
           8,
           4,
           "33km NNE of Pithoragarh, Uttarakhand, India",
           " Uttarakhand"
          ],
          [
           "2021-02-19T07:59:23.000000",
           28.21,
           87.25,
           55,
           3.4,
           "133km NW of Yuksom, Sikkim, India",
           " Sikkim"
          ],
          [
           "2021-02-19T07:54:50.000000",
           25.55,
           91.96,
           50,
           2.8,
           "7km ESE of Shillong, Meghalaya, India",
           " Meghalaya"
          ],
          [
           "2021-02-19T07:42:49.000000",
           36.73,
           71.69,
           10,
           3.8,
           "109km ESE of Fayzabad, Afghanistan",
           " Afghanistan"
          ],
          [
           "2021-02-19T04:11:24.000000",
           23.59,
           94.56,
           50,
           3.7,
           "126km E of Champhai, Mizoram, India",
           " Mizoram"
          ],
          [
           "2021-02-19T03:54:18.000000",
           27.15,
           88.97,
           5,
           2.6,
           "40km ESE of Gangtok, Sikkim",
           " Sikkim"
          ],
          [
           "2021-02-18T23:48:56.000000",
           34.54,
           69.19,
           110,
           4.3,
           "2km SW of Kabul , Afghanistan",
           " Afghanistan"
          ],
          [
           "2021-02-18T22:58:23.000000",
           36.61,
           71.58,
           110,
           3.6,
           "106km ESE of Fayzabad, Afghanistan",
           " Afghanistan"
          ],
          [
           "2021-02-18T07:39:05.000000",
           36.62,
           74.56,
           10,
           3.7,
           "270km NNW of Kargil, Laddakh, India",
           " Laddakh"
          ],
          [
           "2021-02-18T05:29:49.000000",
           17.75,
           73.55,
           6,
           3.3,
           "91km SSW of Pune, Maharashtra, India",
           " Maharashtra"
          ],
          [
           "2021-02-18T03:50:48.000000",
           31.07,
           78.06,
           5,
           2.2,
           "52km NW of Uttarkashi, Uttarakhand, India",
           " Uttarakhand"
          ],
          [
           "2021-02-17T23:02:36.000000",
           36.71,
           71.01,
           220,
           4.4,
           "59km SE of Fayzabad, Afghanistan",
           " Afghanistan"
          ],
          [
           "2021-02-17T20:31:21.000000",
           36.73,
           71.31,
           20,
           3.6,
           "79km ESE of Fayzabad, Afghanistan",
           " Afghanistan"
          ],
          [
           "2021-02-17T17:54:46.000000",
           26.71,
           92.63,
           10,
           4.7,
           "17km WNW of Tezpur, Assam, India",
           " Assam"
          ],
          [
           "2021-02-17T16:28:55.000000",
           34.44,
           69.55,
           180,
           4.6,
           "33km ESE of Kabul , Afghanistan",
           " Afghanistan"
          ],
          [
           "2021-02-17T02:06:51.000000",
           12.04,
           94.78,
           10,
           4.2,
           "228km ENE of Portblair, Andaman and Nicobar island, India",
           " Andaman and Nicobar island"
          ],
          [
           "2021-02-16T21:55:17.000000",
           34.43,
           77.68,
           5,
           3.5,
           "32km NNE of Leh, Laddakh, India",
           " Laddakh"
          ],
          [
           "2021-02-16T19:00:56.000000",
           35.53,
           68.94,
           10,
           3.9,
           "111km NNW of Kabul , Afghanistan",
           " Afghanistan"
          ],
          [
           "2021-02-15T21:23:47.000000",
           25.41,
           85.35,
           5,
           3.5,
           "20km NW of Nalanda, Bihar, India",
           " Bihar"
          ],
          [
           "2021-02-15T19:23:24.000000",
           9.42,
           93.48,
           10,
           4.1,
           "258km SSE of Portblair, Andaman and Nicobar island, India",
           " Andaman and Nicobar island"
          ],
          [
           "2021-02-15T17:41:19.000000",
           37.62,
           73.12,
           50,
           4.3,
           "234km ENE of Fayzabad, Afghanistan",
           " Afghanistan"
          ],
          [
           "2021-02-15T17:07:09.000000",
           25.32,
           93.83,
           30,
           3.4,
           "48km SW of Kohima, Nagaland, India",
           " Nagaland"
          ],
          [
           "2021-02-15T15:59:06.000000",
           36.443,
           70.309,
           266,
           4.2,
           "76km SSW of Fayzabad, Afghanistan",
           " Afghanistan"
          ],
          [
           "2021-02-15T10:27:08.000000",
           1.03,
           98.59,
           10,
           4.7,
           "416km SW of Kuala Lumpur, Malaysia",
           " Malaysia"
          ],
          [
           "2021-02-15T05:25:26.000000",
           22.02,
           93.79,
           10,
           3.5,
           "166km SSE of Champhai, Mizoram, India",
           " Mizoram"
          ],
          [
           "2021-02-15T02:46:00.000000",
           28.57,
           87.39,
           67,
           3.6,
           "156km NNW of Yuksom, Sikkim, India",
           " Sikkim"
          ],
          [
           "2021-02-15T01:25:59.000000",
           28.91,
           76.99,
           5,
           2.7,
           "37km E of Rohtak, Haryana, India",
           " Haryana"
          ],
          [
           "2021-02-14T15:49:53.000000",
           31.32,
           76.87,
           10,
           3.2,
           "30km S of Mandi, Himachal Pradesh, India",
           " Himachal Pradesh"
          ],
          [
           "2021-02-14T10:35:05.000000",
           36.34,
           71.2,
           100,
           3.9,
           "102km SE of Fayzabad, Afghanistan",
           " Afghanistan"
          ],
          [
           "2021-02-14T05:43:51.000000",
           28.27,
           93.39,
           10,
           2.9,
           "131km WNW of Basar, Arunachal Pradesh, India",
           " Arunachal Pradesh"
          ],
          [
           "2021-02-14T03:30:22.000000",
           37.98,
           72.58,
           110,
           3.9,
           "204km ENE of Fayzabad, Afghanistan",
           " Afghanistan"
          ],
          [
           "2021-02-12T22:31:33.000000",
           38,
           73.58,
           74,
           6.3,
           "285km ENE of Fayzabad, Afghanistan",
           " Afghanistan"
          ],
          [
           "2021-02-12T15:45:19.000000",
           38.32,
           73.66,
           100,
           4.5,
           "305km ENE of Fayzabad, Afghanistan",
           " Afghanistan"
          ],
          [
           "2021-02-12T08:01:47.000000",
           30.1,
           69.7,
           290,
           4.3,
           "420km NW of Bikaner, Rajasthan, India",
           " Rajasthan"
          ],
          [
           "2021-02-12T01:04:03.000000",
           37,
           72.32,
           234,
           4.7,
           "157km E of Fayzabad, Afghanistan",
           " Afghanistan"
          ],
          [
           "2021-02-11T13:34:51.000000",
           22.814,
           94.524,
           50,
           3.7,
           "141km ESE of Champhai, Mizoram, India",
           " Mizoram"
          ],
          [
           "2021-02-11T04:01:30.000000",
           36.78,
           70.61,
           97,
           4.9,
           "36km S of Fayzabad, Afghanistan",
           " Afghanistan"
          ],
          [
           "2021-02-11T02:55:01.000000",
           39.55,
           73.74,
           10,
           3.6,
           "376km S of Bishkek, Kyrgyzstan",
           " Kyrgyzstan"
          ],
          [
           "2021-02-11T00:45:51.000000",
           23.7,
           93.1,
           30,
           3.1,
           "23km SSW of Ngopa, Mizoram, India",
           " Mizoram"
          ],
          [
           "2021-02-11T00:33:26.000000",
           36.13,
           71.39,
           160,
           4.4,
           "131km SE of Fayzabad, Afghanistan",
           " Afghanistan"
          ],
          [
           "2021-02-10T20:02:33.000000",
           36.05,
           71.87,
           200,
           4.3,
           "165km SE of Fayzabad, Afghanistan",
           " Afghanistan"
          ],
          [
           "2021-02-09T19:26:22.000000",
           36.41,
           71.19,
           50,
           3.5,
           "95km SE of Fayzabad, Afghanistan",
           " Afghanistan"
          ],
          [
           "2021-02-09T07:20:07.000000",
           27.95,
           87.91,
           90,
           4.5,
           "71km NNW of Yuksom, Sikkim, India",
           " Sikkim"
          ],
          [
           "2021-02-09T04:09:11.000000",
           26.99,
           92.54,
           5,
           2.3,
           "45km NW of Tezpur, Assam, India",
           " Assam"
          ],
          [
           "2021-02-09T00:40:55.000000",
           36.87,
           71.97,
           10,
           3.9,
           "128km E of Fayzabad, Afghanistan",
           " Afghanistan"
          ],
          [
           "2021-02-08T19:05:28.000000",
           36.57,
           71.39,
           139,
           3.9,
           "95km SE of Fayzabad, Afghanistan",
           " Afghanistan"
          ],
          [
           "2021-02-08T13:49:15.000000",
           26.57,
           93.14,
           30,
           3.7,
           "35km ESE of Tezpur, Assam, India",
           " Assam"
          ],
          [
           "2021-02-08T09:03:47.000000",
           39.51,
           71.55,
           10,
           3.6,
           "261km ENE of Dushanbe, Tajikistan",
           " Tajikistan"
          ],
          [
           "2021-02-08T06:48:31.000000",
           29.44,
           74.4,
           24,
           3.5,
           "100km SSW of Bathinda, Punjab, India",
           " Punjab"
          ],
          [
           "2021-02-08T04:56:02.000000",
           34.22,
           73.61,
           30,
           3.5,
           "73km WNW of Gulmarg, Jammu and Kashmir, India",
           " Jammu and Kashmir"
          ],
          [
           "2021-02-07T21:08:08.000000",
           39.27,
           74.29,
           10,
           4,
           "401km S of Bishkek, Kyrgyzstan",
           " Kyrgyzstan"
          ],
          [
           "2021-02-06T20:24:39.000000",
           37.9,
           93.3,
           10,
           4.2,
           "1100km N of Pangin, Arunachal Pradesh, India",
           " Arunachal Pradesh"
          ],
          [
           "2021-02-06T08:27:34.000000",
           28.95,
           73.52,
           5,
           3.5,
           "105km N of Bikaner, Rajasthan, India",
           " Rajasthan"
          ],
          [
           "2021-02-05T17:17:52.000000",
           20.98,
           97.66,
           10,
           4.5,
           "10km NW of Namsang, Myanmar",
           " Myanmar"
          ],
          [
           "2021-02-05T12:06:00.000000",
           36.55,
           70.5,
           10,
           3.7,
           "61km S of Fayzabad, Afghanistan",
           " Afghanistan"
          ],
          [
           "2021-02-05T06:53:11.000000",
           29.01,
           77.28,
           5,
           1.8,
           "44km N of New Delhi, India",
           " India"
          ],
          [
           "2021-02-05T04:33:07.000000",
           29.03,
           86.55,
           10,
           3.9,
           "189km NE of Kathmandu, Nepal",
           " Nepal"
          ],
          [
           "2021-02-05T03:43:10.000000",
           27.86,
           88.14,
           10,
           4,
           "54km N of Yuksom, Sikkim, India",
           " Sikkim"
          ],
          [
           "2021-02-04T22:32:05.000000",
           36.4,
           77.09,
           10,
           4.6,
           "222km NNE of Kargil, Laddakh, India",
           " Laddakh"
          ],
          [
           "2021-02-04T10:36:29.000000",
           28.62,
           87.38,
           124,
           4.8,
           "161km NNW of Yuksom, Sikkim, India",
           " Sikkim"
          ],
          [
           "2021-02-04T01:00:28.000000",
           36.53,
           70.66,
           10,
           4.2,
           "64km S of Fayzabad, Afghanistan",
           " Afghanistan"
          ],
          [
           "2021-02-04T00:27:27.000000",
           23.45,
           94.21,
           5,
           3.4,
           "90km E of Champhai, Mizoram, India",
           " Mizoram"
          ],
          [
           "2021-02-04T00:04:20.000000",
           4.94,
           95.76,
           10,
           4,
           "308km SE of Campbell Bay, Andaman and Nicobar island, India",
           " Andaman and Nicobar island"
          ],
          [
           "2021-02-03T21:10:20.000000",
           39.34,
           71.91,
           63,
           3.6,
           "276km NNE of Fayzabad, Afghanistan",
           " Afghanistan"
          ],
          [
           "2021-02-03T19:59:52.000000",
           34.33,
           78.3,
           10,
           4.5,
           "69km ENE of Leh, Laddakh, India",
           " Laddakh"
          ],
          [
           "2021-02-03T18:48:56.000000",
           36.35,
           70.87,
           138,
           4.2,
           "88km SSE of Fayzabad, Afghanistan",
           " Afghanistan"
          ],
          [
           "2021-02-02T23:04:07.000000",
           36.06,
           76.25,
           10,
           4.2,
           "167km N of Kargil, Laddakh, India",
           " Laddakh"
          ],
          [
           "2021-02-02T21:44:15.000000",
           28.66,
           84.09,
           40,
           4.2,
           "160km NW of Kathmandu, Nepal",
           " Nepal"
          ],
          [
           "2021-02-02T12:14:01.000000",
           36.08,
           69.45,
           10,
           4.3,
           "150km SW of Fayzabad, Afghanistan",
           " Afghanistan"
          ],
          [
           "2021-02-02T09:15:50.000000",
           36.73,
           71.07,
           10,
           4.2,
           "61km SE of Fayzabad, Afghanistan",
           " Afghanistan"
          ],
          [
           "2021-02-02T08:22:42.000000",
           37.17,
           71.5,
           169,
           4.6,
           "84km E of Fayzabad, Afghanistan",
           " Afghanistan"
          ],
          [
           "2021-02-02T08:01:18.000000",
           28.75,
           87.45,
           151,
           4.9,
           "170km NNW of Yuksom, Sikkim, India",
           " Sikkim"
          ],
          [
           "2021-02-02T06:46:41.000000",
           36.35,
           71.37,
           10,
           4.1,
           "110km SE of Fayzabad, Afghanistan",
           " Afghanistan"
          ],
          [
           "2021-02-01T01:34:26.000000",
           24.84,
           94.35,
           35,
           4,
           "16km SW of Ukhrul, Manipur, India",
           " Manipur"
          ],
          [
           "2021-02-01T01:12:25.000000",
           36.62,
           71.58,
           16,
           3.9,
           "106km ESE of Fayzabad, Afghanistan",
           " Afghanistan"
          ],
          [
           "2021-01-31T19:16:05.000000",
           26.28,
           95.73,
           110,
           3.6,
           "121km E of Mokokchung, Nagaland, India",
           " Nagaland"
          ],
          [
           "2021-01-31T04:35:59.000000",
           39.53,
           72.43,
           10,
           3.5,
           "316km NNE of Fayzabad, Afghanistan",
           " Afghanistan"
          ],
          [
           "2021-01-31T00:41:12.000000",
           19.53,
           77.13,
           5,
           3.2,
           "131km S of Akola,Maharashtra,India",
           "Maharashtra"
          ],
          [
           "2021-01-30T20:40:35.000000",
           26.85,
           93.31,
           30,
           2.7,
           "39km SW of Itanagar, Arunachal Pradesh, India",
           " Arunachal Pradesh"
          ],
          [
           "2021-01-30T16:09:40.000000",
           19.56,
           77.67,
           10,
           3.4,
           "108km NNW of Nizamabad, Telangana, India",
           " Telangana"
          ],
          [
           "2021-01-30T11:15:49.000000",
           28.36,
           89.76,
           10,
           4,
           "99km N of Thimphu, Bhutan",
           " Bhutan"
          ],
          [
           "2021-01-29T18:57:48.000000",
           39.68,
           74.78,
           10,
           3.4,
           "355km S of Bishkek, Kyrgyzstan",
           " Kyrgyzstan"
          ],
          [
           "2021-01-28T16:46:02.000000",
           32.222,
           76.418,
           10,
           2.8,
           "8km E of Dharamshala, Himachal Pradesh, India",
           " Himachal Pradesh"
          ],
          [
           "2021-01-28T09:17:54.000000",
           28.66,
           77.13,
           15,
           2.8,
           "8km NW of New Delhi, India",
           " India"
          ],
          [
           "2021-01-28T00:26:25.000000",
           25.96,
           95.66,
           16,
           3.5,
           "121km ESE of Mokokchung, Nagaland, India",
           " Nagaland"
          ],
          [
           "2021-01-27T14:47:03.000000",
           38.38,
           71.84,
           150,
           3.7,
           "182km NE of Fayzabad, Afghanistan",
           " Afghanistan"
          ],
          [
           "2021-01-27T00:48:15.000000",
           35.36,
           73.71,
           16,
           3.6,
           "158km NNW of Gulmarg, Jammu and Kashmir, India",
           " Jammu and Kashmir"
          ],
          [
           "2021-01-27T00:08:40.000000",
           26.27,
           95.69,
           10,
           3.8,
           "117km E of Mokokchung, Nagaland, India",
           " Nagaland"
          ],
          [
           "2021-01-26T23:51:36.000000",
           28.73,
           76.92,
           10,
           2.7,
           "29km ENE of Jhajjar, Haryana",
           " Haryana"
          ],
          [
           "2021-01-26T19:28:36.000000",
           18.33,
           73.91,
           12,
           2.6,
           "21km SSE of Pune, Maharashtra, India",
           " Maharashtra"
          ],
          [
           "2021-01-26T12:35:18.000000",
           25.14,
           93.87,
           15,
           3.3,
           "36km N of Imphal, Manipur, India",
           " Manipur"
          ],
          [
           "2021-01-26T01:21:05.000000",
           28.59,
           77.01,
           5,
           1.9,
           "14km N of Gurugram, Haryana, India",
           " Haryana"
          ],
          [
           "2021-01-25T02:15:31.000000",
           27.51,
           93.21,
           11,
           3.5,
           "61km NW of Itanagar, Arunachal Pradesh, India",
           " Arunachal Pradesh"
          ],
          [
           "2021-01-25T00:31:20.000000",
           37.08,
           71.57,
           90,
           5.3,
           "90km E of Fayzabad, Afghanistan",
           " Afghanistan"
          ],
          [
           "2021-01-24T14:01:02.000000",
           27.79,
           95.04,
           10,
           3,
           "37km NNE of Dibrugarh, Assam, India",
           " Assam"
          ],
          [
           "2021-01-23T12:56:04.000000",
           39.65,
           73.238,
           10,
           3.2,
           "367km NE of Fayzabad, Afghanistan",
           " Afghanistan"
          ],
          [
           "2021-01-23T10:09:03.000000",
           36.77,
           68.12,
           230,
           4.5,
           "207km SSW of Dushanbe, Tajikistan",
           " Tajikistan"
          ],
          [
           "2021-01-23T05:32:01.000000",
           26.42,
           93.41,
           5,
           2.3,
           "65km NNW of Dimapur, Nagaland, India",
           " Nagaland"
          ],
          [
           "2021-01-23T02:44:44.000000",
           24.34,
           94.95,
           21,
           3.9,
           "81km SE of Ukhrul, Manipur, India",
           " Manipur"
          ],
          [
           "2021-01-22T02:04:47.000000",
           28.6,
           77,
           5,
           1.9,
           "15km N of Gurugram, Haryana, India",
           " Haryana"
          ],
          [
           "2021-01-22T00:18:47.000000",
           36.36,
           71.25,
           188,
           3.8,
           "103km SE of Fayzabad, Afghanistan",
           " Afghanistan"
          ],
          [
           "2021-01-21T22:20:15.000000",
           24.84,
           94.72,
           10,
           2.8,
           "26km ESE of Ukhrul, Manipur, India",
           " Manipur"
          ],
          [
           "2021-01-21T21:02:09.000000",
           36.48,
           70.82,
           203,
           4.4,
           "73km SSE of Fayzabad, Afghanistan",
           " Afghanistan"
          ],
          [
           "2021-01-21T19:12:40.000000",
           36.53,
           77,
           156,
           4.2,
           "233km NNE of Kargil, Laddakh, India",
           " Laddakh"
          ],
          [
           "2021-01-21T16:26:05.000000",
           36.31,
           70.22,
           10,
           3.7,
           "92km SSW of Fayzabad, Afghanistan",
           " Afghanistan"
          ],
          [
           "2021-01-21T04:03:15.000000",
           22.02,
           94.5,
           10,
           3.5,
           "150km W of Burma, Myanmar",
           " Myanmar"
          ],
          [
           "2021-01-21T00:33:40.000000",
           36.63,
           72.42,
           67,
           3.8,
           "174km ESE of Fayzabad, Afghanistan",
           " Afghanistan"
          ],
          [
           "2021-01-20T12:58:04.000000",
           36.55,
           72.74,
           110,
           4.3,
           "204km ESE of Fayzabad, Afghanistan",
           " Afghanistan"
          ],
          [
           "2021-01-20T02:06:50.000000",
           37.84,
           72.26,
           195,
           3.9,
           "171km ENE of Fayzabad, Afghanistan",
           " Afghanistan"
          ],
          [
           "2021-01-19T21:13:21.000000",
           34.3,
           74.53,
           5,
           3.6,
           "31km NNE of Gulmarg, Jammu and Kashmir, India",
           " Jammu and Kashmir"
          ],
          [
           "2021-01-19T18:02:57.000000",
           39.96,
           77.11,
           10,
           3.6,
           "387km SE of Bishkek, Kyrgyzstan",
           " Kyrgyzstan"
          ],
          [
           "2021-01-19T16:32:39.000000",
           36.39,
           71.02,
           10,
           4,
           "89km SSE of Fayzabad, Afghanistan",
           " Afghanistan"
          ],
          [
           "2021-01-18T17:13:59.000000",
           7.62,
           94.72,
           120,
           4.5,
           "112km NE of Campbell Bay, Andaman and Nicobar island, India",
           " Andaman and Nicobar island"
          ],
          [
           "2021-01-18T12:40:13.000000",
           36.12,
           69.51,
           10,
           3.7,
           "143km SW of Fayzabad, Afghanistan",
           " Afghanistan"
          ],
          [
           "2021-01-18T12:21:12.000000",
           35.3,
           73.59,
           34,
           3.8,
           "156km NNW of Gulmarg, Jammu and Kashmir, India",
           " Jammu and Kashmir"
          ],
          [
           "2021-01-18T02:06:54.000000",
           24.31,
           93.75,
           28,
           2.7,
           "21km S of Moirang, Manipur, India",
           " Manipur"
          ],
          [
           "2021-01-18T01:21:44.000000",
           34.61,
           80.896,
           221,
           3.6,
           "279km NE of Hanley, Jammu & Kashmir, India",
           " Jammu & Kashmir"
          ],
          [
           "2021-01-17T22:00:45.000000",
           20.03,
           72.82,
           5,
           3.5,
           "101km W of Nashik, Maharashtra, India",
           " Maharashtra"
          ],
          [
           "2021-01-17T19:12:57.000000",
           24.29,
           96.77,
           10,
           3.7,
           "242km ESE of Ukhrul, Manipur, India",
           " Manipur"
          ],
          [
           "2021-01-17T13:53:20.000000",
           37.48,
           75.11,
           10,
           3.5,
           "338km NNW of Kargil, Laddakh, India",
           " Laddakh"
          ],
          [
           "2021-01-17T12:29:51.000000",
           26,
           96.53,
           10,
           3.9,
           "194km S of Changlang, Arunachal Pradesh, India",
           " Arunachal Pradesh"
          ],
          [
           "2021-01-17T02:58:15.000000",
           23.62,
           93.5,
           25,
           3.2,
           "25km NE of Champhai, Mizoram, India",
           " Mizoram"
          ],
          [
           "2021-01-17T02:18:11.000000",
           23.65,
           93.46,
           55,
           4.4,
           "25km NNE of Champhai, Mizoram, India",
           " Mizoram"
          ],
          [
           "2021-01-17T01:32:53.000000",
           35.94,
           71.12,
           200,
           5.3,
           "138km SSE of Fayzabad, Afghanistan",
           " Afghanistan"
          ],
          [
           "2021-01-16T22:01:04.000000",
           33.03,
           75.93,
           10,
           4.1,
           "93km E of Katra, Jammu and Kashmir, India",
           " Jammu and Kashmir"
          ],
          [
           "2021-01-16T16:05:49.000000",
           36.42,
           72.22,
           100,
           3.8,
           "166km ESE of Fayzabad, Afghanistan",
           " Afghanistan"
          ],
          [
           "2021-01-15T16:58:21.000000",
           1.26,
           96.42,
           10,
           4.3,
           "621km WSW of Kuala Lumpur, Malaysia",
           " Malaysia"
          ],
          [
           "2021-01-14T00:45:35.000000",
           24.96,
           93.24,
           15,
           4.2,
           "64km NW of Bishnupur, Manipur, India",
           " Manipur"
          ],
          [
           "2021-01-13T19:03:31.000000",
           28.86,
           77.49,
           5,
           2.9,
           "37km NNE of Noida, Uttar Pradesh, India",
           " Uttar Pradesh"
          ],
          [
           "2021-01-13T06:37:22.000000",
           22.64,
           94.58,
           98,
           3.8,
           "157km SE of Champhai, Mizoram, India",
           " Mizoram"
          ],
          [
           "2021-01-13T03:26:05.000000",
           36.38,
           70.25,
           163,
           3.8,
           "84km SSW of Fayzabad, Afghanistan",
           " Afghanistan"
          ],
          [
           "2021-01-12T20:00:07.000000",
           37.3,
           72.34,
           135,
           4.3,
           "160km E of Fayzabad, Afghanistan",
           " Afghanistan"
          ],
          [
           "2021-01-12T15:16:43.000000",
           19.68,
           90.75,
           118,
           4.3,
           "383km SE of Haldia, West Bengal, India",
           " West Bengal"
          ],
          [
           "2021-01-12T10:17:20.000000",
           36.37,
           71.14,
           250,
           4.5,
           "96km SE of Fayzabad, Afghanistan",
           " Afghanistan"
          ],
          [
           "2021-01-11T19:32:04.000000",
           33.34,
           75.47,
           5,
           5.1,
           "63km NE of Katra, Jammu and Kashmir, India",
           " Jammu and Kashmir"
          ],
          [
           "2021-01-11T19:29:15.000000",
           33.22,
           75.58,
           5,
           3.8,
           "65km ENE of Katra, Jammu and Kashmir, India",
           " Jammu and Kashmir"
          ],
          [
           "2021-01-11T02:31:38.000000",
           36.47,
           70.6,
           150,
           4.2,
           "70km S of Fayzabad, Afghanistan",
           " Afghanistan"
          ],
          [
           "2021-01-10T20:44:40.000000",
           36.49,
           70.75,
           147,
           4.5,
           "70km SSE of Fayzabad, Afghanistan",
           " Afghanistan"
          ],
          [
           "2021-01-10T06:38:05.000000",
           27.21,
           89.92,
           10,
           3.1,
           "40km SE of Thimphu, Bhutan",
           " Bhutan"
          ],
          [
           "2021-01-10T04:30:38.000000",
           37.35,
           72.23,
           220,
           4.2,
           "151km ENE of Fayzabad, Afghanistan",
           " Afghanistan"
          ],
          [
           "2021-01-10T04:17:29.000000",
           36.75,
           71.39,
           230,
           3.9,
           "84km ESE of Fayzabad, Afghanistan",
           " Afghanistan"
          ],
          [
           "2021-01-09T23:02:48.000000",
           22.93,
           94.22,
           50,
           3.5,
           "108km ESE of Champhai, Mizoram, India",
           " Mizoram"
          ],
          [
           "2021-01-09T22:27:03.000000",
           37.39,
           72.04,
           85,
           3.7,
           "135km ENE of Fayzabad, Afghanistan",
           " Afghanistan"
          ],
          [
           "2021-01-09T20:21:50.000000",
           32.31,
           76.3,
           10,
           4.2,
           "10km NNW of Dharamshala, Himachal Pradesh, India",
           " Himachal Pradesh"
          ],
          [
           "2021-01-09T11:27:30.000000",
           30.79,
           78.58,
           10,
           3.3,
           "15km ENE of Uttarkashi, Uttarakhand, India",
           " Uttarakhand"
          ],
          [
           "2021-01-08T21:45:55.000000",
           20.13,
           84.25,
           5,
           3.2,
           "107km NNW of Berhampur, Odisha, India",
           " Odisha"
          ],
          [
           "2021-01-08T18:16:25.000000",
           36.47,
           71.46,
           10,
           3.6,
           "107km SE of Fayzabad, Afghanistan",
           " Afghanistan"
          ],
          [
           "2021-01-08T15:41:55.000000",
           37.16,
           71.34,
           130,
           4.1,
           "70km E of Fayzabad, Afghanistan",
           " Afghanistan"
          ],
          [
           "2021-01-08T10:05:19.000000",
           29.85,
           79.77,
           10,
           3.3,
           "52km NW of Pithoragarh, Uttarakhand, India",
           " Uttarakhand"
          ],
          [
           "2021-01-07T19:22:29.000000",
           22.56,
           69.65,
           20,
           2.7,
           "78km ENE of Dwarka, Gujarat, India",
           " Gujarat"
          ],
          [
           "2021-01-07T06:57:38.000000",
           6.99,
           93.91,
           72,
           4.4,
           "2km SSE of Campbell Bay, Andaman and Nicobar island, India",
           " Andaman and Nicobar island"
          ],
          [
           "2021-01-07T01:53:34.000000",
           37.17,
           72.09,
           99,
           3.9,
           "136km E of Fayzabad, Afghanistan",
           " Afghanistan"
          ],
          [
           "2021-01-06T20:38:42.000000",
           23.06,
           94.26,
           32,
           3.7,
           "104km ESE of Champhai, Mizoram, India",
           " Mizoram"
          ],
          [
           "2021-01-06T04:32:07.000000",
           26.95,
           92.93,
           8,
           2.5,
           "35km NNE of Tezpur, Assam, India",
           " Assam"
          ],
          [
           "2021-01-05T13:09:22.000000",
           32.35,
           76.61,
           5,
           3.2,
           "30km ENE of Dharamshala, Himachal Pradesh, India",
           " Himachal Pradesh"
          ],
          [
           "2021-01-04T10:58:43.000000",
           34.28,
           74.52,
           5,
           3.5,
           "28km NNE of Gulmarg, Jammu and Kashmir, India",
           " Jammu and Kashmir"
          ],
          [
           "2021-01-04T00:13:07.000000",
           26.21,
           90.94,
           5,
           2.5,
           "79km W of Guwahati, Assam, India",
           " Assam"
          ],
          [
           "2021-01-03T22:15:28.000000",
           26.52,
           93.03,
           10,
           2.8,
           "27km ESE of Tezpur, Assam, India",
           " Assam"
          ],
          [
           "2021-01-03T00:18:14.000000",
           35.89,
           70.17,
           250,
           4.1,
           "138km SSW of Fayzabad, Afghanistan",
           " Afghanistan"
          ],
          [
           "2021-01-02T22:20:32.000000",
           20.095,
           72.928,
           5,
           2.4,
           "90km W of Nashik, Maharashtra, India",
           " Maharashtra"
          ],
          [
           "2021-01-02T21:45:56.000000",
           32.51,
           76.4,
           30,
           2.6,
           "33km NNE of Dharamshala, Himachal Pradesh, India",
           " Himachal Pradesh"
          ],
          [
           "2021-01-02T18:32:55.000000",
           36.94,
           72.11,
           121,
           4.5,
           "139km E of Fayzabad, Afghanistan",
           " Afghanistan"
          ],
          [
           "2021-01-02T13:24:40.000000",
           21.79,
           74.7,
           5,
           3.3,
           "157km SW of Indore, Madhya Pradesh, India",
           " Madhya Pradesh"
          ],
          [
           "2021-01-02T04:11:58.000000",
           30.59,
           79.28,
           5,
           2.4,
           "26km W of Joshimath, Uttarakhand , India",
           " Uttarakhand "
          ],
          [
           "2021-01-02T03:31:48.000000",
           23.03,
           94.04,
           10,
           3.2,
           "86km ESE of Champhai, Mizoram, India",
           " Mizoram"
          ],
          [
           "2021-01-01T00:27:05.000000",
           24.45,
           94.86,
           98,
           3.1,
           "65km SE of Ukhrul, Manipur, India",
           " Manipur"
          ],
          [
           "2020-12-31T23:05:21.000000",
           27.32,
           88.62,
           5,
           2.6,
           "1km SE of Gangtok, Sikkim",
           " Sikkim"
          ],
          [
           "2020-12-31T17:21:00.000000",
           24.19,
           93.85,
           40,
           3.1,
           "35km SSE of Moirang, Manipur, India",
           " Manipur"
          ],
          [
           "2020-12-31T13:30:28.000000",
           27.07,
           89.16,
           5,
           2.8,
           "61km ESE of Gangtok, Sikkim",
           " Sikkim"
          ],
          [
           "2020-12-30T11:03:46.000000",
           34.7,
           72.92,
           10,
           4.7,
           "113km N of Islamabad, Pakistan",
           " Pakistan"
          ],
          [
           "2020-12-30T01:34:04.000000",
           27.69,
           86.33,
           100,
           3.9,
           "99km E of Kathmandu, Nepal",
           " Nepal"
          ],
          [
           "2020-12-29T21:44:00.000000",
           35.78,
           71.51,
           150,
           4.2,
           "170km SSE of Fayzabad, Afghanistan",
           " Afghanistan"
          ],
          [
           "2020-12-29T03:58:16.000000",
           28.49,
           91.96,
           112,
           3.1,
           "101km N of Tawang, Arunachal Pradesh, India",
           " Arunachal Pradesh"
          ],
          [
           "2020-12-29T01:20:28.000000",
           18.88,
           95.26,
           64,
           3.8,
           "244km NNW of Rangoon, Myanmar",
           " Myanmar"
          ],
          [
           "2020-12-28T20:15:19.000000",
           37.31,
           71.84,
           45,
           4.2,
           "116km ENE of Fayzabad, Afghanistan",
           " Afghanistan"
          ],
          [
           "2020-12-28T05:48:12.000000",
           36.66,
           71.31,
           221,
           3.9,
           "83km SE of Fayzabad, Afghanistan",
           " Afghanistan"
          ],
          [
           "2020-12-28T03:09:12.000000",
           24.65,
           94.53,
           40,
           3.1,
           "31km S of Ukhrul, Manipur, India",
           " Manipur"
          ],
          [
           "2020-12-27T03:18:20.000000",
           27.41,
           96.55,
           10,
           3.5,
           "38km SSW of Changlang, Arunachal Pradesh, India",
           " Arunachal Pradesh"
          ],
          [
           "2020-12-26T19:49:15.000000",
           16.15,
           93.07,
           50,
           4.1,
           "320km N of Diglipur, Andaman and Nicobar island, India",
           " Andaman and Nicobar island"
          ],
          [
           "2020-12-26T04:59:02.000000",
           37.39,
           71.82,
           186,
           3.9,
           "116km ENE of Fayzabad, Afghanistan",
           " Afghanistan"
          ],
          [
           "2020-12-26T03:23:50.000000",
           25.7,
           94.7,
           30,
           2.8,
           "59km E of Kohima, Nagaland, India",
           " Nagaland"
          ],
          [
           "2020-12-26T02:01:49.000000",
           26.06,
           95.38,
           120,
           3.6,
           "91km ESE of Mokokchung, Nagaland, India",
           " Nagaland"
          ],
          [
           "2020-12-26T01:21:28.000000",
           37.96,
           73.54,
           50,
           3.8,
           "280km ENE of Fayzabad, Afghanistan",
           " Afghanistan"
          ],
          [
           "2020-12-25T05:02:19.000000",
           28.7,
           77.04,
           5,
           2.3,
           "18km WNW of New Delhi, India",
           " India"
          ],
          [
           "2020-12-24T20:44:01.000000",
           25.47,
           96.25,
           100,
           3.9,
           "187km ENE of Ukhrul, Manipur, India",
           " Manipur"
          ],
          [
           "2020-12-24T19:51:07.000000",
           27.11,
           88.34,
           5,
           2.5,
           "11km NE of Drajeelind,West Bengal,India",
           "West Bengal"
          ],
          [
           "2020-12-24T19:06:56.000000",
           36.28,
           69.35,
           50,
           4,
           "140km SW of Fayzabad, Afghanistan",
           " Afghanistan"
          ],
          [
           "2020-12-24T18:17:15.000000",
           25.69,
           96.55,
           198,
           3.9,
           "215km ESE of Mokokchung, Nagaland, India",
           " Nagaland"
          ],
          [
           "2020-12-24T16:51:29.000000",
           25.79,
           96.46,
           150,
           3.6,
           "203km ESE of Mokokchung, Nagaland, India",
           " Nagaland"
          ],
          [
           "2020-12-24T13:39:52.000000",
           25.58,
           96.53,
           100,
           4.6,
           "217km ESE of Mokokchung, Nagaland, India",
           " Nagaland"
          ],
          [
           "2020-12-24T08:29:46.000000",
           38.24,
           71.72,
           10,
           4.2,
           "163km NE of Fayzabad, Afghanistan",
           " Afghanistan"
          ],
          [
           "2020-12-24T06:56:06.000000",
           26.1,
           93.01,
           5,
           3,
           "65km SSE of Tezpur, Assam, India",
           " Assam"
          ],
          [
           "2020-12-24T05:21:51.000000",
           34.21,
           97.99,
           10,
           4.6,
           "722km NNE of Pangin, Arunachal Pradesh, India",
           " Arunachal Pradesh"
          ],
          [
           "2020-12-24T03:19:35.000000",
           24.51,
           94.94,
           123,
           2.8,
           "66km SE of Ukhrul, Manipur, India",
           " Manipur"
          ],
          [
           "2020-12-23T22:41:26.000000",
           37.13,
           71.71,
           10,
           3.9,
           "102km E of Fayzabad, Afghanistan",
           " Afghanistan"
          ],
          [
           "2020-12-23T16:37:02.000000",
           27.17,
           96.05,
           150,
           3.7,
           "86km SW of Changlang, Arunachal Pradesh, India",
           " Arunachal Pradesh"
          ],
          [
           "2020-12-23T11:44:19.000000",
           16.36,
           94.45,
           219,
           3.9,
           "190km WSW of Yangon, Myanmar",
           " Myanmar"
          ],
          [
           "2020-12-23T01:25:52.000000",
           36.81,
           71.93,
           16,
           3.7,
           "126km ESE of Fayzabad, Afghanistan",
           " Afghanistan"
          ],
          [
           "2020-12-22T06:31:34.000000",
           36.15,
           69.08,
           25,
           4.7,
           "168km SW of Fayzabad, Afghanistan",
           " Afghanistan"
          ],
          [
           "2020-12-22T01:03:12.000000",
           37,
           71.6,
           150,
           3.9,
           "93km E of Fayzabad, Afghanistan",
           " Afghanistan"
          ],
          [
           "2020-12-21T08:33:46.000000",
           33.66,
           76.64,
           5,
           3.7,
           "79km SW of Alchi(Leh),Jammu & Kashmir,India",
           "Jammu & Kashmir"
          ],
          [
           "2020-12-21T00:27:36.000000",
           32.69,
           76.42,
           5,
           2.4,
           "53km N of Dharamshala, Himachal Pradesh, India",
           " Himachal Pradesh"
          ],
          [
           "2020-12-20T23:43:51.000000",
           22.98,
           93.77,
           10,
           3.4,
           "69km SE of Champhai, Mizoram, India",
           " Mizoram"
          ],
          [
           "2020-12-20T20:40:51.000000",
           36.32,
           71.67,
           10,
           4.2,
           "132km SE of Fayzabad, Afghanistan",
           " Afghanistan"
          ],
          [
           "2020-12-20T06:09:51.000000",
           36.7,
           70.89,
           239,
           4.4,
           "53km SE of Fayzabad, Afghanistan",
           " Afghanistan"
          ],
          [
           "2020-12-20T05:55:02.000000",
           29.66,
           80.53,
           5,
           2.9,
           "31km ENE of Pithoragarh, Uttarakhand, India",
           " Uttarakhand"
          ],
          [
           "2020-12-19T11:52:44.000000",
           21.73,
           94.35,
           10,
           4.1,
           "166km W of Burma, Myanmar",
           " Myanmar"
          ],
          [
           "2020-12-18T21:32:40.000000",
           36.79,
           72.03,
           10,
           4,
           "136km ESE of Fayzabad, Afghanistan",
           " Afghanistan"
          ],
          [
           "2020-12-18T10:15:54.000000",
           36.96,
           72.07,
           10,
           3.7,
           "135km E of Fayzabad, Afghanistan",
           " Afghanistan"
          ],
          [
           "2020-12-18T09:23:43.000000",
           36.61,
           71.31,
           173,
           4.4,
           "86km SE of Fayzabad, Afghanistan",
           " Afghanistan"
          ],
          [
           "2020-12-17T23:46:46.000000",
           28.19,
           76.67,
           25,
           4.2,
           "46km SW of Gurugram, Haryana, India",
           " Haryana"
          ],
          [
           "2020-12-17T22:03:20.000000",
           24.15,
           93.74,
           36,
           3.2,
           "38km S of Moirang, Manipur, India",
           " Manipur"
          ],
          [
           "2020-12-17T11:26:01.000000",
           27.4,
           75.43,
           5,
           3,
           "64km NW of Jaipur, Rajasthan, India",
           " Rajasthan"
          ],
          [
           "2020-12-17T02:32:39.000000",
           35.14,
           70.27,
           10,
           4.2,
           "116km NE of Kabul , Afghanistan",
           " Afghanistan"
          ],
          [
           "2020-12-16T22:53:40.000000",
           36.82,
           72.53,
           101,
           3.7,
           "178km E of Fayzabad, Afghanistan",
           " Afghanistan"
          ],
          [
           "2020-12-16T20:10:16.000000",
           27.7,
           94.2,
           10,
           3.1,
           "57km WSW of Basar, Arunachal Pradesh, India",
           " Arunachal Pradesh"
          ],
          [
           "2020-12-16T19:26:35.000000",
           37.12,
           73.53,
           10,
           4,
           "264km E of Fayzabad, Afghanistan",
           " Afghanistan"
          ],
          [
           "2020-12-16T18:27:13.000000",
           37.22,
           73.49,
           10,
           4.3,
           "260km E of Fayzabad, Afghanistan",
           " Afghanistan"
          ],
          [
           "2020-12-16T02:07:30.000000",
           31.49,
           76.84,
           5,
           3.2,
           "13km SSW of Mandi, Himachal Pradesh, India",
           " Himachal Pradesh"
          ],
          [
           "2020-12-15T23:47:50.000000",
           23.82,
           93.11,
           57,
           3.4,
           "12km SW of Ngopa, Mizoram, India",
           " Mizoram"
          ],
          [
           "2020-12-15T14:47:06.000000",
           39.34,
           75.8,
           100,
           3.7,
           "406km SSE of Bishkek, Kyrgyzstan",
           " Kyrgyzstan"
          ],
          [
           "2020-12-14T16:46:15.000000",
           38.66,
           73.35,
           50,
           4.2,
           "300km NE of Fayzabad, Afghanistan",
           " Afghanistan"
          ],
          [
           "2020-12-14T14:20:38.000000",
           36.66,
           68.94,
           50,
           4.3,
           "151km WSW of Fayzabad, Afghanistan",
           " Afghanistan"
          ],
          [
           "2020-12-14T10:10:13.000000",
           21.22,
           95.49,
           13,
           3.7,
           "90km SSW of Burma, Myanmar",
           " Myanmar"
          ],
          [
           "2020-12-14T05:25:31.000000",
           35.92,
           68.92,
           50,
           4,
           "154km N of Kabul , Afghanistan",
           " Afghanistan"
          ],
          [
           "2020-12-13T23:33:08.000000",
           31.98,
           77.35,
           10,
           2.4,
           "22km E of Kullu, Himachal Pradesh, India",
           " Himachal Pradesh"
          ],
          [
           "2020-12-13T20:54:58.000000",
           24.45,
           73.26,
           5,
           2.3,
           "151km NNE of Gandhinagar, Gujarat, India",
           " Gujarat"
          ],
          [
           "2020-12-13T11:38:55.000000",
           36.62,
           71.23,
           10,
           4.1,
           "80km SE of Fayzabad, Afghanistan",
           " Afghanistan"
          ],
          [
           "2020-12-13T01:43:55.000000",
           36.27,
           72.18,
           33,
           3.8,
           "172km ESE of Fayzabad, Afghanistan",
           " Afghanistan"
          ],
          [
           "2020-12-13T00:14:59.000000",
           26.85,
           94.42,
           10,
           2.6,
           "24km ENE of Jorhat, Assam, India",
           " Assam"
          ],
          [
           "2020-12-12T20:41:37.000000",
           26.88,
           96.18,
           10,
           3.3,
           "106km SSW of Changlang, Arunachal Pradesh, India",
           " Arunachal Pradesh"
          ],
          [
           "2020-12-12T20:39:27.000000",
           26.46,
           94.58,
           5,
           2.6,
           "16km NNE of Mokokchung, Nagaland, India",
           " Nagaland"
          ],
          [
           "2020-12-12T16:42:16.000000",
           36.54,
           71.24,
           10,
           3.9,
           "87km SE of Fayzabad, Afghanistan",
           " Afghanistan"
          ],
          [
           "2020-12-11T21:28:52.000000",
           23.89,
           92.88,
           40.1,
           3.2,
           "24km NE of Aizawl, Mizoram, India",
           " Mizoram"
          ],
          [
           "2020-12-11T19:59:53.000000",
           10.97,
           76.1,
           10,
           2.5,
           "50km NNW of Thrissur, Kerala, India",
           " Kerala"
          ],
          [
           "2020-12-11T18:33:51.000000",
           21.59,
           90.31,
           10,
           4.1,
           "219km SSW of Belonia, Tripura, India",
           " Tripura"
          ],
          [
           "2020-12-11T18:30:15.000000",
           15.49,
           94.06,
           10,
           4.2,
           "270km SW of Yangon, Myanmar",
           " Myanmar"
          ],
          [
           "2020-12-10T22:26:47.000000",
           25.87,
           90.52,
           10,
           3.9,
           "50km NE of Tura, Meghalaya, India",
           " Meghalaya"
          ],
          [
           "2020-12-10T22:03:05.000000",
           37.04,
           71,
           10,
           4.4,
           "40km E of Fayzabad, Afghanistan",
           " Afghanistan"
          ],
          [
           "2020-12-10T00:24:19.000000",
           26.54,
           96.66,
           145,
           4.1,
           "133km S of Changlang, Arunachal Pradesh, India",
           " Arunachal Pradesh"
          ],
          [
           "2020-12-10T00:06:45.000000",
           26.703,
           95.313,
           10,
           2.5,
           "90km ENE of Mokokchung, Nagaland, India",
           " Nagaland"
          ],
          [
           "2020-12-09T21:35:35.000000",
           24.98,
           95,
           27.7,
           3.1,
           "52km E of Ukhrul, Manipur, India",
           " Manipur"
          ],
          [
           "2020-12-08T10:44:34.000000",
           22.11,
           94.2,
           87,
           5.2,
           "174km SSE of Champhai, Mizoram, India",
           " Mizoram"
          ],
          [
           "2020-12-08T00:27:44.000000",
           28.96,
           76.99,
           14,
           3.3,
           "38km E of Rohtak, Haryana, India",
           " Haryana"
          ],
          [
           "2020-12-07T02:09:22.000000",
           32.72,
           76.62,
           5,
           2.6,
           "62km NNE of Dharamshala, Himachal Pradesh, India",
           " Himachal Pradesh"
          ],
          [
           "2020-12-07T01:14:59.000000",
           36.25,
           73.74,
           10,
           3.6,
           "251km NNW of Gulmarg, Jammu and Kashmir, India",
           " Jammu and Kashmir"
          ],
          [
           "2020-12-07T00:19:02.000000",
           36.81,
           71.84,
           10,
           4,
           "119km ESE of Fayzabad, Afghanistan",
           " Afghanistan"
          ],
          [
           "2020-12-06T19:05:39.000000",
           12.79,
           93.14,
           10,
           4.3,
           "55km SSE of Diglipur, Andaman and Nicobar island, India",
           " Andaman and Nicobar island"
          ],
          [
           "2020-12-06T10:10:40.000000",
           32.71,
           76.65,
           5,
           2.8,
           "62km NNE of Dharamshala, Himachal Pradesh, India",
           " Himachal Pradesh"
          ],
          [
           "2020-12-06T06:44:38.000000",
           39.07,
           75.73,
           65,
           3.6,
           "434km SSE of Bishkek, Kyrgyzstan",
           " Kyrgyzstan"
          ],
          [
           "2020-12-06T05:57:29.000000",
           37.856,
           66.942,
           15.8,
           4.3,
           "179km WSW of Dushanbe, Tajikistan",
           " Tajikistan"
          ],
          [
           "2020-12-06T02:00:05.000000",
           35.972,
           70.623,
           167,
           4.3,
           "125km S of Fayzabad, Afghanistan",
           " Afghanistan"
          ],
          [
           "2020-12-05T16:59:22.000000",
           36.46,
           71.44,
           150,
           4,
           "106km SE of Fayzabad, Afghanistan",
           " Afghanistan"
          ],
          [
           "2020-12-05T14:03:42.000000",
           39.49,
           75.7,
           10,
           4.1,
           "388km SSE of Bishkek, Kyrgyzstan",
           " Kyrgyzstan"
          ],
          [
           "2020-12-05T10:46:37.000000",
           26.92,
           92.67,
           10,
           3.4,
           "32km NNW of Tezpur, Assam, India",
           " Assam"
          ],
          [
           "2020-12-04T04:38:15.000000",
           36.42,
           71.26,
           119,
           4.3,
           "98km SE of Fayzabad, Afghanistan",
           " Afghanistan"
          ],
          [
           "2020-12-04T03:10:59.000000",
           30.11,
           80.56,
           5,
           2.6,
           "67km NNE of Pithoragarh, Uttarakhand, India",
           " Uttarakhand"
          ],
          [
           "2020-12-04T02:13:24.000000",
           22.14,
           86.05,
           63,
           3.9,
           "75km SSW of Jamshedpur, Jharkhand, India",
           " Jharkhand"
          ],
          [
           "2020-12-04T01:18:38.000000",
           3.09,
           97.92,
           144,
           5.2,
           "418km W of Kuala Lumpur, Malaysia",
           " Malaysia"
          ],
          [
           "2020-12-03T13:40:06.000000",
           34.49,
           75.95,
           10,
           3.5,
           "18km WSW of Kargil, Laddakh, India",
           " Laddakh"
          ],
          [
           "2020-12-03T04:26:45.000000",
           33.1,
           72.67,
           10,
           3.9,
           "73km SSW of Islamabad, Pakistan",
           " Pakistan"
          ],
          [
           "2020-12-02T12:44:24.000000",
           27.49,
           94.34,
           60,
           3.1,
           "56km W of Dibrugarh, Assam, India",
           " Assam"
          ],
          [
           "2020-12-02T06:24:40.000000",
           38.296,
           75.376,
           169,
           4.3,
           "421km N of Kargil, Laddakh, India",
           " Laddakh"
          ],
          [
           "2020-12-02T04:05:01.000000",
           28.79,
           77.46,
           5,
           2.7,
           "29km NNE of Noida, Uttar Pradesh, India",
           " Uttar Pradesh"
          ],
          [
           "2020-12-01T09:41:50.000000",
           30.03,
           77.95,
           10,
           3.9,
           "22km WNW of Haridwar, Uttarakhand, India",
           " Uttarakhand"
          ],
          [
           "2020-11-30T18:02:36.000000",
           36.36,
           70.59,
           232,
           4.2,
           "82km S of Fayzabad, Afghanistan",
           " Afghanistan"
          ],
          [
           "2020-11-29T21:12:35.000000",
           31.56,
           72.84,
           10,
           3.6,
           "192km W of Amritsar, Punjab, India",
           " Punjab"
          ],
          [
           "2020-11-28T05:39:30.000000",
           36.7,
           71.58,
           20,
           3.9,
           "101km ESE of Fayzabad, Afghanistan",
           " Afghanistan"
          ],
          [
           "2020-11-28T05:07:54.000000",
           33.72,
           88.6,
           200,
           4.1,
           "670km N of Lachung, Sikkim, India",
           " Sikkim"
          ],
          [
           "2020-11-28T04:33:11.000000",
           36.14,
           71.06,
           200,
           3.6,
           "116km SSE of Fayzabad, Afghanistan",
           " Afghanistan"
          ],
          [
           "2020-11-26T22:57:33.000000",
           36.54,
           71.2,
           263,
           5.2,
           "85km SE of Fayzabad, Afghanistan",
           " Afghanistan"
          ],
          [
           "2020-11-26T15:31:46.000000",
           36.35,
           71.39,
           115,
           4.4,
           "112km SE of Fayzabad, Afghanistan",
           " Afghanistan"
          ],
          [
           "2020-11-25T15:40:58.000000",
           0.12,
           97.66,
           10,
           4.5,
           "559km SW of Kuala Lumpur, Malaysia",
           " Malaysia"
          ],
          [
           "2020-11-25T01:21:12.000000",
           37.17,
           71.75,
           23,
           3.9,
           "106km E of Fayzabad, Afghanistan",
           " Afghanistan"
          ],
          [
           "2020-11-23T19:11:51.000000",
           28.53,
           87.32,
           50,
           4,
           "156km NW of Yuksom, Sikkim, India",
           " Sikkim"
          ],
          [
           "2020-11-23T02:13:47.000000",
           27.96,
           93.88,
           10,
           2.6,
           "79km W of Basar, Arunachal Pradesh, India",
           " Arunachal Pradesh"
          ],
          [
           "2020-11-22T23:58:24.000000",
           22.37,
           94.13,
           25,
           3.8,
           "146km SE of Champhai, Mizoram, India",
           " Mizoram"
          ],
          [
           "2020-11-22T08:59:20.000000",
           26.31,
           94.63,
           23.2,
           4.4,
           "11km E of Mokokchung, Nagaland, India",
           " Nagaland"
          ],
          [
           "2020-11-22T06:23:59.000000",
           21.89,
           79.45,
           10,
           2.7,
           "90km NNE of Nagpur, Maharashtra, India",
           " Maharashtra"
          ],
          [
           "2020-11-22T03:40:53.000000",
           21.89,
           79.8,
           10,
           1.8,
           "110km NE of Nagpur, Maharashtra, India",
           " Maharashtra"
          ],
          [
           "2020-11-22T03:12:11.000000",
           21.78,
           79.84,
           10,
           2.4,
           "105km NE of Nagpur, Maharashtra, India",
           " Maharashtra"
          ],
          [
           "2020-11-22T01:45:02.000000",
           22.1,
           79.55,
           10,
           4.3,
           "116km NNE of Nagpur, Maharashtra, India",
           " Maharashtra"
          ],
          [
           "2020-11-21T21:04:51.000000",
           36.29,
           70.88,
           100,
           4.6,
           "94km SSE of Fayzabad, Afghanistan",
           " Afghanistan"
          ],
          [
           "2020-11-21T19:34:51.000000",
           24.14,
           98.37,
           125,
           3.9,
           "339km N of Hkolam ,Myanmar",
           "Myanmar"
          ],
          [
           "2020-11-21T16:09:38.000000",
           25.45,
           94.35,
           5,
           2.8,
           "34km SE of Kohima, Nagaland, India",
           " Nagaland"
          ],
          [
           "2020-11-21T14:03:58.000000",
           25.49,
           94.33,
           16,
           2.7,
           "30km SE of Kohima, Nagaland, India",
           " Nagaland"
          ],
          [
           "2020-11-21T12:48:42.000000",
           35.07,
           70.14,
           214,
           4.3,
           "102km NE of Kabul , Afghanistan",
           " Afghanistan"
          ],
          [
           "2020-11-21T10:19:36.000000",
           24.92,
           94.88,
           30,
           4,
           "40km E of Ukhrul, Manipur, India",
           " Manipur"
          ],
          [
           "2020-11-21T07:46:10.000000",
           36.15,
           70.82,
           10,
           4.3,
           "108km SSE of Fayzabad, Afghanistan",
           " Afghanistan"
          ],
          [
           "2020-11-21T06:54:40.000000",
           25.45,
           94.29,
           11.8,
           2.8,
           "31km SE of Kohima, Nagaland, India",
           " Nagaland"
          ],
          [
           "2020-11-20T23:03:15.000000",
           38.12,
           74.44,
           10,
           4.1,
           "360km ENE of Fayzabad, Afghanistan",
           " Afghanistan"
          ],
          [
           "2020-11-20T21:04:14.000000",
           36.56,
           68.75,
           19.4,
           3.9,
           "171km WSW of Fayzabad, Afghanistan",
           " Afghanistan"
          ],
          [
           "2020-11-19T14:01:15.000000",
           36.4,
           68.93,
           10,
           4.9,
           "164km WSW of Fayzabad, Afghanistan",
           " Afghanistan"
          ],
          [
           "2020-11-19T02:47:34.000000",
           36.63,
           71.15,
           164,
           3.8,
           "74km SE of Fayzabad, Afghanistan",
           " Afghanistan"
          ],
          [
           "2020-11-19T02:31:03.000000",
           36.33,
           71.25,
           185,
           3.9,
           "105km SE of Fayzabad, Afghanistan",
           " Afghanistan"
          ],
          [
           "2020-11-19T01:20:31.000000",
           25.33,
           94.19,
           10,
           2.7,
           "32km NW of Shirui, Manipur, India",
           " Manipur"
          ],
          [
           "2020-11-18T16:03:44.000000",
           36.08,
           69.64,
           25,
           4.7,
           "139km SW of Fayzabad, Afghanistan",
           " Afghanistan"
          ],
          [
           "2020-11-17T14:30:09.000000",
           36.35,
           70.15,
           100,
           4.4,
           "90km SSW of Fayzabad, Afghanistan",
           " Afghanistan"
          ],
          [
           "2020-11-17T13:05:23.000000",
           38.25,
           70.21,
           150,
           4.8,
           "128km ESE of Dushanbe, Tajikistan",
           " Tajikistan"
          ],
          [
           "2020-11-17T06:57:24.000000",
           25.3,
           72.73,
           10,
           3,
           "108km SSW of Jodhpur, Rajasthan, India",
           " Rajasthan"
          ],
          [
           "2020-11-16T21:00:47.000000",
           31.16,
           78.13,
           5,
           2.5,
           "56km NNW of Uttarkashi, Uttarakhand, India",
           " Uttarakhand"
          ],
          [
           "2020-11-15T23:31:20.000000",
           30.92,
           78.01,
           5,
           3.3,
           "46km WNW of Uttarkashi, Uttarakhand, India",
           " Uttarakhand"
          ],
          [
           "2020-11-15T12:19:34.000000",
           31.04,
           75.95,
           10,
           2.9,
           "47km SE of Jalandhar, Punjab, India",
           " Punjab"
          ],
          [
           "2020-11-15T08:00:03.000000",
           37.03,
           72.35,
           44,
           4.2,
           "159km E of Fayzabad, Afghanistan",
           " Afghanistan"
          ],
          [
           "2020-11-15T04:34:24.000000",
           25.51,
           90.67,
           10,
           2.7,
           "46km E of Tura, Meghalaya, India",
           " Meghalaya"
          ],
          [
           "2020-11-15T04:09:18.000000",
           19.92,
           72.88,
           5,
           2.4,
           "93km N of Mumbai, Maharashtra, India",
           " Maharashtra"
          ],
          [
           "2020-11-14T14:20:26.000000",
           23.53,
           94.5,
           30,
           5.2,
           "119km E of Champhai, Mizoram, India",
           " Mizoram"
          ],
          [
           "2020-11-14T08:26:59.000000",
           30.29,
           67.65,
           70,
           5.4,
           "496km SSW of Kabul , Afghanistan",
           " Afghanistan"
          ],
          [
           "2020-11-14T00:03:10.000000",
           5.7,
           95.8,
           10,
           4.9,
           "255km SE of Campbell Bay, Andaman and Nicobar island, India",
           " Andaman and Nicobar island"
          ],
          [
           "2020-11-13T23:40:30.000000",
           36.6,
           72.04,
           90,
           4.3,
           "143km ESE of Fayzabad, Afghanistan",
           " Afghanistan"
          ],
          [
           "2020-11-13T21:04:04.000000",
           26.59,
           93.24,
           11,
           2.8,
           "45km E of Tezpur, Assam, India",
           " Assam"
          ],
          [
           "2020-11-13T15:42:16.000000",
           39.52,
           74.04,
           10,
           4.1,
           "375km S of Bishkek, Kyrgyzstan",
           " Kyrgyzstan"
          ],
          [
           "2020-11-13T15:39:47.000000",
           28.67,
           91.83,
           30,
           3.1,
           "121km N of Tawang, Arunachal Pradesh, India",
           " Arunachal Pradesh"
          ],
          [
           "2020-11-13T14:46:46.000000",
           39.6,
           74.35,
           10,
           4.4,
           "364km S of Bishkek, Kyrgyzstan",
           " Kyrgyzstan"
          ],
          [
           "2020-11-13T08:45:37.000000",
           12.13,
           93.46,
           10,
           4.3,
           "97km NE of Portblair, Andaman and Nicobar island, India",
           " Andaman and Nicobar island"
          ],
          [
           "2020-11-13T03:23:49.000000",
           26.45,
           93.61,
           11,
           3.7,
           "61km N of Dimapur, Nagaland, India",
           " Nagaland"
          ],
          [
           "2020-11-13T02:51:28.000000",
           28.02,
           87.74,
           10,
           4.1,
           "86km NW of Yuksom, Sikkim, India",
           " Sikkim"
          ],
          [
           "2020-11-13T01:49:08.000000",
           37.01,
           71.3,
           85,
           4.7,
           "67km E of Fayzabad, Afghanistan",
           " Afghanistan"
          ],
          [
           "2020-11-12T23:22:30.000000",
           37.26,
           72.05,
           10,
           4.3,
           "134km E of Fayzabad, Afghanistan",
           " Afghanistan"
          ],
          [
           "2020-11-12T19:35:22.000000",
           28.35,
           84.28,
           10,
           3.6,
           "124km NW of Kathmandu, Nepal",
           " Nepal"
          ],
          [
           "2020-11-12T15:35:28.000000",
           23.88,
           94.54,
           25,
           3.7,
           "103km SE of Moirang, Manipur, India",
           " Manipur"
          ],
          [
           "2020-11-12T08:50:00.000000",
           36.47,
           70.81,
           200,
           4.1,
           "73km SSE of Fayzabad, Afghanistan",
           " Afghanistan"
          ],
          [
           "2020-11-12T08:36:22.000000",
           20,
           72.9,
           5,
           2.5,
           "93km W of Nashik, Maharashtra, India",
           " Maharashtra"
          ],
          [
           "2020-11-12T07:36:11.000000",
           35.34,
           71.05,
           100,
           4.2,
           "189km ENE of Kabul , Afghanistan",
           " Afghanistan"
          ],
          [
           "2020-11-12T02:29:33.000000",
           32.7,
           75.84,
           5,
           4,
           "70km NW of Dharamshala, Himachal Pradesh, India",
           " Himachal Pradesh"
          ],
          [
           "2020-11-12T01:35:28.000000",
           31.21,
           78.26,
           15,
           2.8,
           "56km NNW of Uttarkashi, Uttarakhand, India",
           " Uttarakhand"
          ],
          [
           "2020-11-11T20:19:25.000000",
           36.03,
           71.62,
           240,
           4.4,
           "152km SE of Fayzabad, Afghanistan",
           " Afghanistan"
          ],
          [
           "2020-11-11T13:10:40.000000",
           20.16,
           72.88,
           5,
           2.8,
           "96km W of Nashik, Maharashtra, India",
           " Maharashtra"
          ],
          [
           "2020-11-11T09:22:15.000000",
           24.6,
           93.56,
           29,
           3.4,
           "20km W of Bishnupur, Manipur, India",
           " Manipur"
          ],
          [
           "2020-11-11T05:55:51.000000",
           20.19,
           73.07,
           5,
           2.8,
           "78km WNW of Nashik, Maharashtra, India",
           " Maharashtra"
          ],
          [
           "2020-11-11T04:11:50.000000",
           26.28,
           93.09,
           10,
           2.9,
           "50km SE of Tezpur, Assam, India",
           " Assam"
          ],
          [
           "2020-11-10T23:54:00.000000",
           31.61,
           78.54,
           5,
           2.4,
           "98km N of Uttarkashi, Uttarakhand, India",
           " Uttarakhand"
          ],
          [
           "2020-11-10T23:34:31.000000",
           36.83,
           72.26,
           95,
           4,
           "154km E of Fayzabad, Afghanistan",
           " Afghanistan"
          ],
          [
           "2020-11-10T20:07:39.000000",
           38.67,
           70.48,
           10,
           5.5,
           "147km E of Dushanbe, Tajikistan",
           " Tajikistan"
          ],
          [
           "2020-11-10T18:19:17.000000",
           36.35,
           72.57,
           49,
           3.6,
           "198km ESE of Fayzabad, Afghanistan",
           " Afghanistan"
          ],
          [
           "2020-11-10T16:58:31.000000",
           20.11,
           73.04,
           5,
           2.9,
           "79km W of Nashik, Maharashtra, India",
           " Maharashtra"
          ],
          [
           "2020-11-10T15:38:45.000000",
           20.12,
           72.978,
           5,
           2.3,
           "85km W of Nashik, Maharashtra, India",
           " Maharashtra"
          ],
          [
           "2020-11-10T10:15:40.000000",
           22.86,
           94.41,
           80,
           4.3,
           "129km ESE of Champhai, Mizoram, India",
           " Mizoram"
          ],
          [
           "2020-11-10T09:48:42.000000",
           20.31,
           73.05,
           5,
           2.8,
           "84km WNW of Nashik, Maharashtra, India",
           " Maharashtra"
          ],
          [
           "2020-11-10T06:29:52.000000",
           26.49,
           94.98,
           5,
           2.7,
           "50km ENE of Mokokchung, Nagaland, India",
           " Nagaland"
          ],
          [
           "2020-11-09T21:19:38.000000",
           20.17,
           72.91,
           8,
           3.1,
           "93km W of Nashik, Maharashtra, India",
           " Maharashtra"
          ],
          [
           "2020-11-09T16:17:46.000000",
           20.13,
           72.82,
           5,
           3.4,
           "102km W of Nashik, Maharashtra, India",
           " Maharashtra"
          ],
          [
           "2020-11-09T15:40:28.000000",
           20.2,
           72.89,
           10,
           2.8,
           "96km WNW of Nashik, Maharashtra, India",
           " Maharashtra"
          ],
          [
           "2020-11-09T13:43:21.000000",
           20.23,
           72.95,
           5,
           2.4,
           "91km WNW of Nashik, Maharashtra, India",
           " Maharashtra"
          ],
          [
           "2020-11-09T08:49:22.000000",
           39.25,
           71.84,
           10,
           3.1,
           "264km NNE of Fayzabad, Afghanistan",
           " Afghanistan"
          ],
          [
           "2020-11-09T06:46:41.000000",
           21.89,
           79.57,
           12,
           3.4,
           "96km NNE of Nagpur, Maharashtra, India",
           " Maharashtra"
          ],
          [
           "2020-11-09T05:31:24.000000",
           20.14,
           72.88,
           5,
           3.4,
           "96km W of Nashik, Maharashtra, India",
           " Maharashtra"
          ],
          [
           "2020-11-09T03:14:20.000000",
           27.85,
           84.97,
           10,
           4.3,
           "37km WNW of Kathmandu, Nepal",
           " Nepal"
          ],
          [
           "2020-11-08T23:16:24.000000",
           33.44,
           75.67,
           10,
           3.4,
           "72km SSE of Pahalgam, Jammu and Kashmir, India",
           " Jammu and Kashmir"
          ],
          [
           "2020-11-08T18:56:27.000000",
           33.48,
           75.62,
           10,
           4,
           "65km SSE of Pahalgam, Jammu and Kashmir, India",
           " Jammu and Kashmir"
          ],
          [
           "2020-11-08T17:49:00.000000",
           37.29,
           71.91,
           164,
           4.6,
           "122km E of Fayzabad, Afghanistan",
           " Afghanistan"
          ],
          [
           "2020-11-08T15:02:43.000000",
           24.09,
           94.11,
           46,
           3.4,
           "56km SE of Moirang, Manipur, India",
           " Manipur"
          ],
          [
           "2020-11-08T14:42:25.000000",
           28.65,
           96.26,
           10,
           4.2,
           "107km NNW of Changlang, Arunachal Pradesh, India",
           " Arunachal Pradesh"
          ],
          [
           "2020-11-07T15:39:24.000000",
           21.55,
           73.15,
           10,
           4.2,
           "53km NE of Surat, Gujarat, India",
           " Gujarat"
          ],
          [
           "2020-11-07T12:30:57.000000",
           10.44,
           93.26,
           71,
           3.6,
           "143km SSE of Portblair, Andaman and Nicobar island, India",
           " Andaman and Nicobar island"
          ],
          [
           "2020-11-07T11:49:25.000000",
           14.45,
           92.34,
           53,
           4.2,
           "148km NNW of Diglipur, Andaman and Nicobar island, India",
           " Andaman and Nicobar island"
          ],
          [
           "2020-11-07T07:38:39.000000",
           33.6,
           72.44,
           10,
           3.7,
           "57km W of Islamabad, Pakistan",
           " Pakistan"
          ],
          [
           "2020-11-07T05:46:56.000000",
           35.58,
           71.18,
           10,
           4.3,
           "178km SSE of Fayzabad, Afghanistan",
           " Afghanistan"
          ],
          [
           "2020-11-07T04:29:19.000000",
           33.5,
           75.64,
           10,
           4.1,
           "64km SSE of Pahalgam, Jammu and Kashmir, India",
           " Jammu and Kashmir"
          ],
          [
           "2020-11-07T04:18:41.000000",
           33.28,
           75.85,
           10,
           2.8,
           "91km ENE of Katra, Jammu and Kashmir, India",
           " Jammu and Kashmir"
          ],
          [
           "2020-11-06T21:03:11.000000",
           35.37,
           75.54,
           37,
           3.8,
           "105km NNW of Kargil, Laddakh, India",
           " Laddakh"
          ],
          [
           "2020-11-06T16:39:18.000000",
           28.78,
           76.78,
           5,
           2.1,
           "21km SE of Rohtak, Haryana, India",
           " Haryana"
          ],
          [
           "2020-11-06T08:36:49.000000",
           25.12,
           96.34,
           106,
           4.1,
           "188km E of Ukhrul, Manipur, India",
           " Manipur"
          ],
          [
           "2020-11-06T06:25:55.000000",
           32.87,
           76.2,
           11,
           2.9,
           "73km N of Dharamshala, Himachal Pradesh, India",
           " Himachal Pradesh"
          ],
          [
           "2020-11-05T06:14:32.000000",
           34.77,
           76.82,
           30,
           3.1,
           "67km ENE of Kargil, Laddakh, India",
           " Laddakh"
          ],
          [
           "2020-11-05T00:24:53.000000",
           28.29,
           91.74,
           10,
           3.3,
           "80km N of Tawang, Arunachal Pradesh, India",
           " Arunachal Pradesh"
          ],
          [
           "2020-11-04T22:57:40.000000",
           36.61,
           71.75,
           10,
           4.1,
           "119km ESE of Fayzabad, Afghanistan",
           " Afghanistan"
          ],
          [
           "2020-11-04T08:09:47.000000",
           38.54,
           69.69,
           147,
           4.2,
           "78km E of Dushanbe, Tajikistan",
           " Tajikistan"
          ],
          [
           "2020-11-04T03:56:18.000000",
           20.06,
           72.92,
           10,
           2.2,
           "91km W of Nashik, Maharashtra, India",
           " Maharashtra"
          ],
          [
           "2020-11-04T03:54:53.000000",
           20,
           73.15,
           10,
           2.5,
           "66km W of Nashik, Maharashtra, India",
           " Maharashtra"
          ],
          [
           "2020-11-04T01:56:11.000000",
           23.85,
           94.58,
           170,
           3.4,
           "108km SE of Moirang, Manipur, India",
           " Manipur"
          ],
          [
           "2020-11-03T19:01:52.000000",
           20.03,
           72.92,
           10,
           1.8,
           "90km W of Nashik, Maharashtra, India",
           " Maharashtra"
          ],
          [
           "2020-11-03T17:28:17.000000",
           24.39,
           92.53,
           20,
           3.5,
           "38km E of Dharmanagar, Tripura, India",
           " Tripura"
          ],
          [
           "2020-11-03T13:14:40.000000",
           29.91,
           68.75,
           10,
           4.2,
           "490km WNW of Bikaner, Rajasthan, India",
           " Rajasthan"
          ],
          [
           "2020-11-03T07:21:15.000000",
           0.35,
           98.51,
           135,
           4.6,
           "469km SW of Kuala Lumpur, Malaysia",
           " Malaysia"
          ],
          [
           "2020-11-03T06:55:19.000000",
           35.49,
           73.28,
           10,
           3.7,
           "189km NNW of Gulmarg, Jammu and Kashmir, India",
           " Jammu and Kashmir"
          ],
          [
           "2020-11-03T01:13:17.000000",
           25.69,
           91.15,
           10,
           4.4,
           "71km WSW of Nongpoh, Meghalaya, India",
           " Meghalaya"
          ],
          [
           "2020-11-03T00:21:16.000000",
           36.48,
           70.8,
           235,
           4,
           "72km SSE of Fayzabad, Afghanistan",
           " Afghanistan"
          ],
          [
           "2020-11-02T23:31:34.000000",
           23.54,
           95.08,
           18,
           3.3,
           "166km SSE of Ukhrul, Manipur, India",
           " Manipur"
          ],
          [
           "2020-11-02T22:39:46.000000",
           22.92,
           93.01,
           10,
           3.6,
           "46km SSE of Thenzawl, Mizoram, India",
           " Mizoram"
          ],
          [
           "2020-11-02T18:57:44.000000",
           20.07,
           72.91,
           5,
           1.5,
           "92km W of Nashik, Maharashtra, India",
           " Maharashtra"
          ],
          [
           "2020-11-02T14:14:33.000000",
           38.94,
           70.85,
           10,
           3.5,
           "183km ENE of Dushanbe, Tajikistan",
           " Tajikistan"
          ],
          [
           "2020-11-02T13:17:42.000000",
           26.36,
           64.06,
           10,
           4.3,
           "649km ENE of Muscat, Oman",
           " Oman"
          ],
          [
           "2020-11-02T06:54:43.000000",
           32.97,
           78.55,
           10,
           3.5,
           "51km NW of Hanley, Jammu & Kashmir, India",
           " Jammu & Kashmir"
          ],
          [
           "2020-11-02T06:47:12.000000",
           25.49,
           66.58,
           10,
           4.3,
           "435km NW of Dwarka, Gujarat, India",
           " Gujarat"
          ],
          [
           "2020-11-01T10:38:23.000000",
           26.043,
           71.498,
           10,
           2.4,
           "153km W of Jodhpur, Rajasthan, India",
           " Rajasthan"
          ],
          [
           "2020-11-01T08:01:37.000000",
           27.44,
           96.3,
           10,
           3.4,
           "47km SW of Changlang, Arunachal Pradesh, India",
           " Arunachal Pradesh"
          ],
          [
           "2020-11-01T04:46:13.000000",
           30.48,
           91,
           56,
           3.5,
           "333km NNW of Tawang, Arunachal Pradesh, India",
           " Arunachal Pradesh"
          ],
          [
           "2020-11-01T02:59:18.000000",
           38.39,
           77.1,
           10,
           4.2,
           "435km N of Kargil, Laddakh, India",
           " Laddakh"
          ],
          [
           "2020-11-01T00:13:55.000000",
           28.21,
           92.43,
           67,
           3.4,
           "88km NE of Tawang, Arunachal Pradesh, India",
           " Arunachal Pradesh"
          ],
          [
           "2020-10-31T23:36:00.000000",
           34.56,
           78.17,
           10,
           3.8,
           "70km NE of Leh, Laddakh, India",
           " Laddakh"
          ],
          [
           "2020-10-31T19:54:26.000000",
           25.2,
           94.76,
           10,
           3.1,
           "35km ENE of Shirui, Manipur, India",
           " Manipur"
          ],
          [
           "2020-10-31T18:16:37.000000",
           22,
           79.7,
           10,
           3.5,
           "114km NNE of Nagpur, Maharashtra, India",
           " Maharashtra"
          ],
          [
           "2020-10-31T17:20:41.000000",
           22.13,
           78.37,
           10,
           3.2,
           "38km S of Pachmarhi, Madhya Pradesh, India",
           " Madhya Pradesh"
          ],
          [
           "2020-10-31T12:49:17.000000",
           22.01,
           79.55,
           10,
           3.1,
           "107km NNE of Nagpur, Maharashtra, India",
           " Maharashtra"
          ],
          [
           "2020-10-31T02:19:42.000000",
           20.39,
           97,
           5,
           3.6,
           "94km SW of Namsang, Myanmar",
           " Myanmar"
          ],
          [
           "2020-10-31T01:42:43.000000",
           39.03,
           75.8,
           150,
           4.3,
           "439km SSE of Bishkek, Kyrgyzstan",
           " Kyrgyzstan"
          ],
          [
           "2020-10-30T21:21:38.000000",
           36.53,
           71.5,
           35,
           4.2,
           "105km SE of Fayzabad, Afghanistan",
           " Afghanistan"
          ],
          [
           "2020-10-30T03:47:24.000000",
           35.59,
           74.95,
           16,
           3.3,
           "157km NW of Kargil, Laddakh, India",
           " Laddakh"
          ],
          [
           "2020-10-29T19:27:58.000000",
           23.27,
           94.6,
           10,
           3.5,
           "131km E of Champhai, Mizoram, India",
           " Mizoram"
          ],
          [
           "2020-10-29T18:27:24.000000",
           22.93,
           95.99,
           10,
           3.6,
           "113km N of Burma, Myanmar",
           " Myanmar"
          ],
          [
           "2020-10-29T15:53:04.000000",
           20,
           72.89,
           5,
           2.4,
           "94km W of Nashik, Maharashtra, India",
           " Maharashtra"
          ],
          [
           "2020-10-29T15:36:20.000000",
           32.02,
           76.22,
           6,
           2.3,
           "24km SSW of Dharamshala, Himachal Pradesh, India",
           " Himachal Pradesh"
          ],
          [
           "2020-10-29T15:02:40.000000",
           37.72,
           71.65,
           150,
           5.1,
           "119km NE of Fayzabad, Afghanistan",
           " Afghanistan"
          ],
          [
           "2020-10-29T10:50:48.000000",
           31.93,
           76.25,
           5,
           2.5,
           "32km SSW of Dharamshala, Himachal Pradesh, India",
           " Himachal Pradesh"
          ],
          [
           "2020-10-29T01:19:56.000000",
           37.19,
           70.52,
           10,
           4.1,
           "10km NNW of Fayzabad, Afghanistan",
           " Afghanistan"
          ],
          [
           "2020-10-29T00:04:30.000000",
           29.31,
           80.94,
           10,
           3.8,
           "76km ESE of Pithoragarh, Uttarakhand, India",
           " Uttarakhand"
          ],
          [
           "2020-10-28T16:18:28.000000",
           36.26,
           71.33,
           90,
           4.2,
           "116km SE of Fayzabad, Afghanistan",
           " Afghanistan"
          ],
          [
           "2020-10-28T11:41:36.000000",
           36.36,
           70.83,
           129,
           4.6,
           "86km SSE of Fayzabad, Afghanistan",
           " Afghanistan"
          ],
          [
           "2020-10-28T09:28:24.000000",
           38.8,
           68.49,
           10,
           4.2,
           "37km NW of Dushanbe, Tajikistan",
           " Tajikistan"
          ],
          [
           "2020-10-28T03:45:19.000000",
           34.95,
           76.15,
           10,
           2.1,
           "44km N of Kargil, Laddakh, India",
           " Laddakh"
          ],
          [
           "2020-10-27T22:57:25.000000",
           25.86,
           71.4,
           10,
           2.9,
           "167km WSW of Jodhpur, Rajasthan, India",
           " Rajasthan"
          ],
          [
           "2020-10-27T04:10:50.000000",
           21.92,
           79.5,
           15,
           3.3,
           "96km NNE of Nagpur, Maharashtra, India",
           " Maharashtra"
          ],
          [
           "2020-10-26T19:46:58.000000",
           30.35,
           69.4,
           10,
           4.3,
           "459km NW of Bikaner, Rajasthan, India",
           " Rajasthan"
          ],
          [
           "2020-10-26T13:20:02.000000",
           31.21,
           77.74,
           10,
           3.5,
           "55km ENE of Shimla, Himachal Pradesh, India",
           " Himachal Pradesh"
          ],
          [
           "2020-10-26T08:40:44.000000",
           39.93,
           71.07,
           74,
           4.4,
           "216km SE of Tashkent, Uzbekistan",
           " Uzbekistan"
          ],
          [
           "2020-10-26T04:14:43.000000",
           36.13,
           71.97,
           10,
           4.8,
           "166km SE of Fayzabad, Afghanistan",
           " Afghanistan"
          ],
          [
           "2020-10-26T03:18:56.000000",
           29.96,
           78.95,
           10,
           2.7,
           "67km E of Rishikesh, Uttarakhand, India",
           " Uttarakhand"
          ],
          [
           "2020-10-26T01:09:57.000000",
           36.49,
           71.43,
           50,
           4.1,
           "103km SE of Fayzabad, Afghanistan",
           " Afghanistan"
          ],
          [
           "2020-10-26T00:18:40.000000",
           36.81,
           72.4,
           50,
           4,
           "167km E of Fayzabad, Afghanistan",
           " Afghanistan"
          ],
          [
           "2020-10-25T23:42:52.000000",
           31.26,
           83.67,
           10,
           3.9,
           "380km ENE of Pithoragarh, Uttarakhand, India",
           " Uttarakhand"
          ],
          [
           "2020-10-25T23:03:53.000000",
           39.63,
           73.89,
           10,
           3.8,
           "365km S of Bishkek, Kyrgyzstan",
           " Kyrgyzstan"
          ],
          [
           "2020-10-25T20:44:07.000000",
           24.57,
           93.58,
           27,
           3.2,
           "19km WSW of Bishnupur, Manipur, India",
           " Manipur"
          ],
          [
           "2020-10-25T18:49:52.000000",
           19.95,
           72.88,
           5,
           3.2,
           "95km W of Nashik, Maharashtra, India",
           " Maharashtra"
          ],
          [
           "2020-10-25T17:44:52.000000",
           19.96,
           72.87,
           5,
           2.4,
           "96km W of Nashik, Maharashtra, India",
           " Maharashtra"
          ],
          [
           "2020-10-25T12:06:45.000000",
           27.22,
           88.68,
           5,
           3.6,
           "14km SSE of Gangtok, Sikkim",
           " Sikkim"
          ],
          [
           "2020-10-24T17:49:56.000000",
           26.48,
           95.2,
           70,
           3.2,
           "70km ENE of Mokokchung, Nagaland, India",
           " Nagaland"
          ],
          [
           "2020-10-24T17:40:54.000000",
           35.28,
           72.09,
           20,
           4.3,
           "198km NNW of Islamabad, Pakistan",
           " Pakistan"
          ],
          [
           "2020-10-24T16:02:10.000000",
           27.4,
           86.54,
           150,
           3.6,
           "124km ESE of Kathmandu, Nepal",
           " Nepal"
          ],
          [
           "2020-10-24T11:11:56.000000",
           36.57,
           71.61,
           50,
           3.9,
           "111km ESE of Fayzabad, Afghanistan",
           " Afghanistan"
          ],
          [
           "2020-10-24T10:34:29.000000",
           31.35,
           76.84,
           7,
           3.2,
           "27km SSW of Mandi, Himachal Pradesh, India",
           " Himachal Pradesh"
          ],
          [
           "2020-10-24T08:51:07.000000",
           23.44,
           92.08,
           50,
           4.1,
           "44km E of Amarpur, Tripura, India",
           " Tripura"
          ],
          [
           "2020-10-24T05:14:51.000000",
           36.18,
           71.26,
           10,
           3.7,
           "120km SSE of Fayzabad, Afghanistan",
           " Afghanistan"
          ],
          [
           "2020-10-24T04:06:32.000000",
           28.36,
           97.47,
           10,
           3.6,
           "106km NE of Changlang, Arunachal Pradesh, India",
           " Arunachal Pradesh"
          ],
          [
           "2020-10-24T01:23:06.000000",
           25.83,
           91.54,
           10,
           2.9,
           "29km W of Nongpoh, Meghalaya, India",
           " Meghalaya"
          ],
          [
           "2020-10-23T15:46:17.000000",
           39.29,
           64.48,
           10,
           4.4,
           "381km WNW of Dushanbe, Tajikistan",
           " Tajikistan"
          ],
          [
           "2020-10-23T12:15:25.000000",
           32.86,
           75.88,
           5,
           2.7,
           "82km NNW of Dharamshala, Himachal Pradesh, India",
           " Himachal Pradesh"
          ],
          [
           "2020-10-23T11:54:34.000000",
           36.14,
           72.16,
           121,
           4.5,
           "179km SE of Fayzabad, Afghanistan",
           " Afghanistan"
          ],
          [
           "2020-10-23T04:32:27.000000",
           20.02,
           72.89,
           5,
           2.2,
           "94km W of Nashik, Maharashtra, India",
           " Maharashtra"
          ],
          [
           "2020-10-23T01:44:10.000000",
           34.89,
           66.96,
           39,
           4.1,
           "208km W of Kabul , Afghanistan",
           " Afghanistan"
          ],
          [
           "2020-10-22T20:42:26.000000",
           37.53,
           67.95,
           57,
           4.3,
           "136km SSW of Dushanbe, Tajikistan",
           " Tajikistan"
          ],
          [
           "2020-10-22T19:52:11.000000",
           37.82,
           69.09,
           87,
           3.9,
           "86km SSE of Dushanbe, Tajikistan",
           " Tajikistan"
          ],
          [
           "2020-10-22T10:26:58.000000",
           20.01,
           72.9,
           5,
           2.3,
           "93km W of Nashik, Maharashtra, India",
           " Maharashtra"
          ],
          [
           "2020-10-22T09:39:32.000000",
           20.01,
           72.9,
           5,
           2.7,
           "93km W of Nashik, Maharashtra, India",
           " Maharashtra"
          ],
          [
           "2020-10-22T01:59:41.000000",
           29.64,
           88.3,
           10,
           4,
           "221km NNW of Lachung, Sikkim, India",
           " Sikkim"
          ],
          [
           "2020-10-21T19:26:03.000000",
           20.02,
           72.91,
           5,
           2.1,
           "92km W of Nashik, Maharashtra, India",
           " Maharashtra"
          ],
          [
           "2020-10-21T17:32:12.000000",
           36.12,
           70.63,
           84,
           5,
           "109km S of Fayzabad, Afghanistan",
           " Afghanistan"
          ],
          [
           "2020-10-21T15:45:02.000000",
           23.31,
           93.6,
           20,
           3.6,
           "32km ESE of Champhai, Mizoram, India",
           " Mizoram"
          ],
          [
           "2020-10-21T09:51:31.000000",
           3.85,
           96.43,
           50,
           4.3,
           "448km SE of Campbell Bay, Andaman and Nicobar island, India",
           " Andaman and Nicobar island"
          ],
          [
           "2020-10-21T04:28:47.000000",
           36.4,
           70.18,
           130,
           4.3,
           "84km SSW of Fayzabad, Afghanistan",
           " Afghanistan"
          ],
          [
           "2020-10-21T04:00:30.000000",
           38.29,
           75.21,
           136,
           4.5,
           "423km N of Kargil, Laddakh, India",
           " Laddakh"
          ],
          [
           "2020-10-21T01:25:42.000000",
           27.43,
           96.56,
           15,
           4.2,
           "35km SSW of Changlang, Arunachal Pradesh, India",
           " Arunachal Pradesh"
          ],
          [
           "2020-10-20T22:14:25.000000",
           25.61,
           93.98,
           20,
           2.3,
           "14km WSW of Kohima, Nagaland, India",
           " Nagaland"
          ],
          [
           "2020-10-20T13:03:07.000000",
           37.55,
           72.71,
           105,
           4.4,
           "197km ENE of Fayzabad, Afghanistan",
           " Afghanistan"
          ],
          [
           "2020-10-20T10:05:19.000000",
           37.16,
           70.51,
           237,
           4.3,
           "7km NNW of Fayzabad, Afghanistan",
           " Afghanistan"
          ],
          [
           "2020-10-20T08:46:36.000000",
           20.02,
           72.92,
           5,
           2.5,
           "90km W of Nashik, Maharashtra, India",
           " Maharashtra"
          ],
          [
           "2020-10-20T05:22:18.000000",
           38.14,
           70.6,
           10,
           4.2,
           "115km N of Fayzabad, Afghanistan",
           " Afghanistan"
          ],
          [
           "2020-10-19T15:47:41.000000",
           39.46,
           72.91,
           10,
           4.4,
           "333km NE of Fayzabad, Afghanistan",
           " Afghanistan"
          ],
          [
           "2020-10-19T15:08:50.000000",
           3.1,
           96.33,
           10,
           5.1,
           "510km SSE of Campbell Bay, Andaman and Nicobar island, India",
           " Andaman and Nicobar island"
          ],
          [
           "2020-10-19T12:36:50.000000",
           37.23,
           72.14,
           117,
           4.2,
           "141km E of Fayzabad, Afghanistan",
           " Afghanistan"
          ],
          [
           "2020-10-19T05:01:49.000000",
           37.45,
           71.75,
           10,
           3.6,
           "113km ENE of Fayzabad, Afghanistan",
           " Afghanistan"
          ],
          [
           "2020-10-19T04:44:02.000000",
           35.5,
           75.78,
           10,
           3.6,
           "110km NNW of Kargil, Laddakh, India",
           " Laddakh"
          ],
          [
           "2020-10-19T02:22:56.000000",
           38.45,
           76.27,
           10,
           3.7,
           "433km N of Kargil, Laddakh, India",
           " Laddakh"
          ],
          [
           "2020-10-19T01:35:17.000000",
           32.95,
           72.53,
           10,
           3.9,
           "94km SSW of Islamabad, Pakistan",
           " Pakistan"
          ],
          [
           "2020-10-18T11:44:37.000000",
           37.22,
           72.16,
           10,
           4.5,
           "143km E of Fayzabad, Afghanistan",
           " Afghanistan"
          ],
          [
           "2020-10-18T05:47:45.000000",
           37.68,
           72.18,
           160,
           4.1,
           "157km ENE of Fayzabad, Afghanistan",
           " Afghanistan"
          ],
          [
           "2020-10-18T04:15:29.000000",
           38.21,
           77.08,
           10,
           4.3,
           "415km N of Kargil, Laddakh, India",
           " Laddakh"
          ],
          [
           "2020-10-17T21:49:45.000000",
           31.79,
           68.73,
           40,
           4.3,
           "310km S of Kabul , Afghanistan",
           " Afghanistan"
          ],
          [
           "2020-10-17T21:41:48.000000",
           26.46,
           93.52,
           12,
           2.7,
           "64km NNW of Dimapur, Nagaland, India",
           " Nagaland"
          ],
          [
           "2020-10-17T06:46:35.000000",
           36.57,
           70.52,
           19,
           4.8,
           "59km S of Fayzabad, Afghanistan",
           " Afghanistan"
          ],
          [
           "2020-10-16T23:51:10.000000",
           32.61,
           94.24,
           25,
           4.1,
           "506km NNW of Pangin, Arunachal Pradesh, India",
           " Arunachal Pradesh"
          ],
          [
           "2020-10-16T15:40:52.000000",
           36.62,
           71.26,
           10,
           5.2,
           "82km SE of Fayzabad, Afghanistan",
           " Afghanistan"
          ],
          [
           "2020-10-16T13:43:38.000000",
           29.32,
           68.19,
           100,
           4.5,
           "520km WNW of Bikaner, Rajasthan, India",
           " Rajasthan"
          ],
          [
           "2020-10-15T21:05:24.000000",
           24.65,
           93.59,
           36,
           3.5,
           "17km W of Bishnupur, Manipur, India",
           " Manipur"
          ],
          [
           "2020-10-15T19:05:00.000000",
           36.77,
           72.57,
           10,
           4.6,
           "183km E of Fayzabad, Afghanistan",
           " Afghanistan"
          ],
          [
           "2020-10-15T10:57:24.000000",
           36.26,
           71.82,
           104,
           4.1,
           "146km SE of Fayzabad, Afghanistan",
           " Afghanistan"
          ],
          [
           "2020-10-15T10:29:49.000000",
           3.78,
           95.9,
           10,
           4.9,
           "421km SSE of Campbell Bay, Andaman and Nicobar island, India",
           " Andaman and Nicobar island"
          ],
          [
           "2020-10-14T23:06:39.000000",
           32.7,
           76.47,
           5,
           2.4,
           "55km NNE of Dharamshala, Himachal Pradesh, India",
           " Himachal Pradesh"
          ],
          [
           "2020-10-14T15:43:52.000000",
           19.57,
           73.14,
           5,
           2.8,
           "61km NNE of Mumbai, Maharashtra, India",
           " Maharashtra"
          ],
          [
           "2020-10-14T09:52:40.000000",
           36.55,
           70.64,
           143,
           4.1,
           "61km S of Fayzabad, Afghanistan",
           " Afghanistan"
          ],
          [
           "2020-10-14T02:06:10.000000",
           35.21,
           68.79,
           10,
           4.1,
           "82km NNW of Kabul , Afghanistan",
           " Afghanistan"
          ],
          [
           "2020-10-14T00:16:37.000000",
           36.9,
           72.17,
           10,
           3.7,
           "145km E of Fayzabad, Afghanistan",
           " Afghanistan"
          ],
          [
           "2020-10-13T16:38:54.000000",
           31.21,
           77.93,
           5,
           3.1,
           "72km NW of Uttarkashi, Uttarakhand, India",
           " Uttarakhand"
          ],
          [
           "2020-10-13T07:55:27.000000",
           36.97,
           71.49,
           90,
           4.5,
           "84km E of Fayzabad, Afghanistan",
           " Afghanistan"
          ],
          [
           "2020-10-13T07:06:21.000000",
           23.24,
           93.89,
           82,
           4.1,
           "62km ESE of Champhai, Mizoram, India",
           " Mizoram"
          ],
          [
           "2020-10-12T19:00:48.000000",
           36.72,
           72.81,
           10,
           3.8,
           "205km E of Fayzabad, Afghanistan",
           " Afghanistan"
          ],
          [
           "2020-10-12T01:54:50.000000",
           25.13,
           94.96,
           10,
           3.4,
           "53km ENE of Ukhrul, Manipur, India",
           " Manipur"
          ],
          [
           "2020-10-11T23:32:57.000000",
           19.93,
           72.82,
           5,
           2.3,
           "95km N of Mumbai, Maharashtra, India",
           " Maharashtra"
          ],
          [
           "2020-10-11T20:57:30.000000",
           27.82,
           97.39,
           121,
           3.8,
           "74km E of Changlang, Arunachal Pradesh, India",
           " Arunachal Pradesh"
          ],
          [
           "2020-10-11T19:06:35.000000",
           36.24,
           71.4,
           148,
           4.8,
           "122km SE of Fayzabad, Afghanistan",
           " Afghanistan"
          ],
          [
           "2020-10-11T17:14:52.000000",
           25.32,
           97.45,
           10,
           3.7,
           "281km SSE of Changlang, Arunachal Pradesh, India",
           " Arunachal Pradesh"
          ],
          [
           "2020-10-11T16:39:24.000000",
           4.5,
           96.63,
           149,
           4.7,
           "410km SE of Campbell Bay, Andaman and Nicobar island, India",
           " Andaman and Nicobar island"
          ],
          [
           "2020-10-11T16:00:18.000000",
           27.31,
           75.48,
           5,
           2.2,
           "53km NW of Jaipur, Rajasthan, India",
           " Rajasthan"
          ],
          [
           "2020-10-11T15:55:40.000000",
           24.57,
           93.49,
           52,
           3.8,
           "28km WSW of Bishnupur, Manipur, India",
           " Manipur"
          ],
          [
           "2020-10-11T11:32:55.000000",
           30.155,
           70.245,
           30,
           4.5,
           "380km NW of Bikaner, Rajasthan, India",
           " Rajasthan"
          ],
          [
           "2020-10-11T01:52:09.000000",
           3.4,
           95.96,
           10,
           4.5,
           "461km SSE of Campbell Bay, Andaman and Nicobar island, India",
           " Andaman and Nicobar island"
          ],
          [
           "2020-10-11T00:41:28.000000",
           27.2,
           92.07,
           10,
           2.5,
           "46km SSE of Tawang, Arunachal Pradesh, India",
           " Arunachal Pradesh"
          ],
          [
           "2020-10-10T23:39:06.000000",
           24.65,
           93.51,
           30,
           2.8,
           "25km W of Bishnupur, Manipur, India",
           " Manipur"
          ],
          [
           "2020-10-10T23:08:00.000000",
           24.69,
           93.47,
           28,
           5.3,
           "30km WNW of Bishnupur, Manipur, India",
           " Manipur"
          ],
          [
           "2020-10-10T23:00:25.000000",
           28.78,
           76.71,
           8,
           3,
           "16km SE of Rohtak, Haryana, India",
           " Haryana"
          ],
          [
           "2020-10-10T08:27:19.000000",
           19.99,
           72.84,
           5,
           2.6,
           "99km W of Nashik, Maharashtra, India",
           " Maharashtra"
          ],
          [
           "2020-10-10T06:09:26.000000",
           23.17,
           93.16,
           5,
           3.6,
           "36km SSW of Champhai, Mizoram, India",
           " Mizoram"
          ],
          [
           "2020-10-09T11:27:35.000000",
           1.23,
           98.57,
           10,
           4.4,
           "406km WSW of Kuala Lumpur, Malaysia",
           " Malaysia"
          ],
          [
           "2020-10-09T08:21:16.000000",
           27.66,
           91.88,
           10,
           3,
           "9km N of Tawang, Arunachal Pradesh, India",
           " Arunachal Pradesh"
          ],
          [
           "2020-10-09T03:12:50.000000",
           24.62,
           94.52,
           10,
           3.4,
           "34km S of Ukhrul, Manipur, India",
           " Manipur"
          ],
          [
           "2020-10-09T02:43:33.000000",
           32.8,
           76.53,
           5,
           3.3,
           "67km NNE of Dharamshala, Himachal Pradesh, India",
           " Himachal Pradesh"
          ],
          [
           "2020-10-09T02:32:45.000000",
           32.85,
           76.76,
           5,
           2.5,
           "78km NNW of Manali, Himachal Pradesh, India",
           " Himachal Pradesh"
          ],
          [
           "2020-10-09T02:31:29.000000",
           32.81,
           76.59,
           5,
           2.4,
           "70km NNE of Dharamshala, Himachal Pradesh, India",
           " Himachal Pradesh"
          ],
          [
           "2020-10-09T02:28:59.000000",
           32.82,
           76.56,
           5,
           2.1,
           "70km NNE of Dharamshala, Himachal Pradesh, India",
           " Himachal Pradesh"
          ],
          [
           "2020-10-08T09:22:06.000000",
           35.36,
           75.81,
           10,
           4.2,
           "94km NNW of Kargil, Laddakh, India",
           " Laddakh"
          ],
          [
           "2020-10-08T07:44:51.000000",
           36.21,
           68.92,
           10,
           4.1,
           "175km SW of Fayzabad, Afghanistan",
           " Afghanistan"
          ],
          [
           "2020-10-08T00:49:26.000000",
           19.94,
           72.91,
           5,
           2.8,
           "92km W of Nashik, Maharashtra, India",
           " Maharashtra"
          ],
          [
           "2020-10-07T21:48:15.000000",
           32.3,
           80.29,
           10,
           3.9,
           "130km ESE of Hanley, Jammu & Kashmir, India",
           " Jammu & Kashmir"
          ],
          [
           "2020-10-07T18:33:23.000000",
           29.74,
           95.78,
           10,
           4.1,
           "184km NNE of Pangin, Arunachal Pradesh, India",
           " Arunachal Pradesh"
          ],
          [
           "2020-10-07T16:24:18.000000",
           20.2,
           72.94,
           5,
           2.4,
           "91km WNW of Nashik, Maharashtra, India",
           " Maharashtra"
          ],
          [
           "2020-10-07T15:25:55.000000",
           33.81,
           78.72,
           10,
           3.3,
           "112km ESE of Leh, Laddakh, India",
           " Laddakh"
          ],
          [
           "2020-10-07T09:40:48.000000",
           39.76,
           73.88,
           10,
           3.8,
           "351km S of Bishkek, Kyrgyzstan",
           " Kyrgyzstan"
          ],
          [
           "2020-10-07T03:32:56.000000",
           25.33,
           94.44,
           10,
           4.3,
           "22km N of Shirui, Manipur, India",
           " Manipur"
          ],
          [
           "2020-10-07T02:55:27.000000",
           36.78,
           71.75,
           94.3,
           4.2,
           "112km ESE of Fayzabad, Afghanistan",
           " Afghanistan"
          ],
          [
           "2020-10-06T21:33:31.000000",
           19.98,
           72.88,
           8,
           3.5,
           "95km W of Nashik, Maharashtra, India",
           " Maharashtra"
          ],
          [
           "2020-10-06T13:42:01.000000",
           39.53,
           73.46,
           10,
           4.4,
           "370km NE of Fayzabad, Afghanistan",
           " Afghanistan"
          ],
          [
           "2020-10-06T11:43:45.000000",
           34.03,
           78.89,
           10,
           4.4,
           "121km E of Leh, Laddakh, India",
           " Laddakh"
          ],
          [
           "2020-10-06T05:13:20.000000",
           34.46,
           79.46,
           10,
           5.1,
           "176km ENE of Leh, Laddakh, India",
           " Laddakh"
          ],
          [
           "2020-10-05T15:17:40.000000",
           28.86,
           76.73,
           10,
           2.5,
           "12km ESE of Rohtak, Haryana, India",
           " Haryana"
          ],
          [
           "2020-10-04T21:34:55.000000",
           39.09,
           71.49,
           10,
           3,
           "236km NNE of Fayzabad, Afghanistan",
           " Afghanistan"
          ],
          [
           "2020-10-04T17:28:01.000000",
           27.56,
           67.66,
           10,
           4.2,
           "551km WNW of Jodhpur, Rajasthan, India",
           " Rajasthan"
          ],
          [
           "2020-10-03T22:45:17.000000",
           36.5,
           71.19,
           10,
           3.8,
           "87km SE of Fayzabad, Afghanistan",
           " Afghanistan"
          ],
          [
           "2020-10-03T21:06:16.000000",
           26.13,
           91.22,
           10,
           3.9,
           "51km W of Guwahati, Assam, India",
           " Assam"
          ],
          [
           "2020-10-03T19:53:08.000000",
           36.9,
           77.09,
           10,
           3.4,
           "274km NNE of Kargil, Laddakh, India",
           " Laddakh"
          ],
          [
           "2020-10-03T02:45:18.000000",
           36.41,
           71.27,
           20,
           4,
           "100km SE of Fayzabad, Afghanistan",
           " Afghanistan"
          ],
          [
           "2020-10-02T23:23:00.000000",
           36.31,
           70.82,
           80,
           3.9,
           "91km SSE of Fayzabad, Afghanistan",
           " Afghanistan"
          ],
          [
           "2020-10-02T21:24:32.000000",
           26.78,
           89.33,
           10,
           3.7,
           "82km SSW of Thimphu, Bhutan",
           " Bhutan"
          ],
          [
           "2020-10-02T12:46:34.000000",
           36.66,
           71.37,
           10,
           4,
           "87km ESE of Fayzabad, Afghanistan",
           " Afghanistan"
          ],
          [
           "2020-10-02T04:00:36.000000",
           32.93,
           75.87,
           10,
           2.7,
           "87km E of Katra, Jammu and Kashmir, India",
           " Jammu and Kashmir"
          ],
          [
           "2020-09-29T16:47:30.000000",
           35.17,
           68.81,
           81,
           4.3,
           "77km NNW of Kabul , Afghanistan",
           " Afghanistan"
          ],
          [
           "2020-09-29T15:40:12.000000",
           31.21,
           78.54,
           5,
           2.9,
           "54km N of Uttarkashi, Uttarakhand, India",
           " Uttarakhand"
          ],
          [
           "2020-09-29T14:38:02.000000",
           34.5,
           77.14,
           22,
           3.2,
           "32km N of Alchi(Leh),Jammu & Kashmir,India",
           "Jammu & Kashmir"
          ],
          [
           "2020-09-29T09:10:41.000000",
           27.27,
           91.93,
           10,
           3.6,
           "34km S of Tawang, Arunachal Pradesh, India",
           " Arunachal Pradesh"
          ],
          [
           "2020-09-29T09:06:59.000000",
           27.35,
           92.11,
           5,
           3.5,
           "34km SE of Tawang, Arunachal Pradesh, India",
           " Arunachal Pradesh"
          ],
          [
           "2020-09-29T04:25:54.000000",
           20.06,
           72.9,
           5,
           2.4,
           "93km W of Nashik, Maharashtra, India",
           " Maharashtra"
          ],
          [
           "2020-09-29T01:38:15.000000",
           33.17,
           75.91,
           10,
           2.4,
           "93km ENE of Katra, Jammu and Kashmir, India",
           " Jammu and Kashmir"
          ],
          [
           "2020-09-28T10:42:37.000000",
           33.22,
           75.82,
           5,
           4.2,
           "86km ENE of Katra, Jammu and Kashmir, India",
           " Jammu and Kashmir"
          ],
          [
           "2020-09-28T03:46:27.000000",
           30.81,
           85.72,
           137,
           4.5,
           "346km N of Kathmandu, Nepal",
           " Nepal"
          ],
          [
           "2020-09-28T01:24:49.000000",
           36.32,
           71.07,
           177,
           4.9,
           "98km SSE of Fayzabad, Afghanistan",
           " Afghanistan"
          ],
          [
           "2020-09-28T00:21:15.000000",
           36.49,
           70.62,
           235,
           4.3,
           "68km S of Fayzabad, Afghanistan",
           " Afghanistan"
          ],
          [
           "2020-09-27T23:47:59.000000",
           26.37,
           66.22,
           50,
           4.3,
           "536km NNW of Dwarka, Gujarat, India",
           " Gujarat"
          ],
          [
           "2020-09-27T22:57:42.000000",
           34.34,
           78.36,
           10,
           5.1,
           "74km ENE of Leh, Laddakh, India",
           " Laddakh"
          ],
          [
           "2020-09-27T15:56:01.000000",
           32.41,
           76.14,
           10,
           2.8,
           "27km NW of Dharamshala, Himachal Pradesh, India",
           " Himachal Pradesh"
          ],
          [
           "2020-09-26T21:22:49.000000",
           36.57,
           71.24,
           143,
           4.3,
           "85km SE of Fayzabad, Afghanistan",
           " Afghanistan"
          ],
          [
           "2020-09-26T12:02:03.000000",
           34.7,
           74.22,
           10,
           4.5,
           "73km NNW of Gulmarg, Jammu and Kashmir, India",
           " Jammu and Kashmir"
          ],
          [
           "2020-09-26T09:34:48.000000",
           35.41,
           69.51,
           37.6,
           4.5,
           "99km NNE of Kabul , Afghanistan",
           " Afghanistan"
          ],
          [
           "2020-09-26T08:41:37.000000",
           33.28,
           68.12,
           130,
           4.3,
           "173km SW of Kabul , Afghanistan",
           " Afghanistan"
          ],
          [
           "2020-09-26T02:14:39.000000",
           34.8,
           78.05,
           10,
           3.7,
           "84km NNE of Leh, Laddakh, India",
           " Laddakh"
          ],
          [
           "2020-09-25T17:29:05.000000",
           34.86,
           78.05,
           10,
           3.6,
           "89km NNE of Leh, Laddakh, India",
           " Laddakh"
          ],
          [
           "2020-09-25T16:45:42.000000",
           34.28,
           78.2,
           5,
           2.6,
           "59km ENE of Leh, Laddakh, India",
           " Laddakh"
          ],
          [
           "2020-09-25T16:27:06.000000",
           34.96,
           78.59,
           21,
           5.4,
           "129km NE of Leh, Laddakh, India",
           " Laddakh"
          ],
          [
           "2020-09-24T19:40:20.000000",
           36.35,
           70.4,
           214,
           4.1,
           "84km S of Fayzabad, Afghanistan",
           " Afghanistan"
          ],
          [
           "2020-09-24T08:19:46.000000",
           36.55,
           73.94,
           10,
           3.7,
           "281km N of Gulmarg, Jammu and Kashmir, India",
           " Jammu and Kashmir"
          ],
          [
           "2020-09-24T05:46:57.000000",
           33.72,
           72.61,
           85,
           4.3,
           "40km W of Islamabad, Pakistan",
           " Pakistan"
          ],
          [
           "2020-09-24T05:33:10.000000",
           36.48,
           70.34,
           213,
           4.2,
           "71km SSW of Fayzabad, Afghanistan",
           " Afghanistan"
          ],
          [
           "2020-09-24T00:26:42.000000",
           24.66,
           94.26,
           65,
           2.9,
           "37km ESE of Imphal, Manipur, India",
           " Manipur"
          ],
          [
           "2020-09-23T14:30:55.000000",
           20.06,
           72.91,
           3.5,
           2.6,
           "92km W of Nashik, Maharashtra, India",
           " Maharashtra"
          ],
          [
           "2020-09-22T21:40:29.000000",
           34.15,
           74.7,
           5,
           3.6,
           "11km NW of Srinagar, Jammu and Kashmir, India",
           " Jammu and Kashmir"
          ],
          [
           "2020-09-22T05:49:44.000000",
           20.06,
           72.9,
           8,
           2,
           "93km W of Nashik, Maharashtra, India",
           " Maharashtra"
          ],
          [
           "2020-09-22T04:12:21.000000",
           20.07,
           72.9,
           10,
           2.1,
           "93km W of Nashik, Maharashtra, India",
           " Maharashtra"
          ],
          [
           "2020-09-22T02:50:43.000000",
           20.01,
           72.79,
           5,
           3.5,
           "104km N of Mumbai, Maharashtra, India",
           " Maharashtra"
          ],
          [
           "2020-09-22T01:28:33.000000",
           26.27,
           91.2,
           71,
           4.2,
           "55km WNW of Guwahati, Assam, India",
           " Assam"
          ],
          [
           "2020-09-21T21:00:14.000000",
           31.18,
           78.51,
           10,
           3.5,
           "50km N of Uttarkashi, Uttarakhand, India",
           " Uttarakhand"
          ],
          [
           "2020-09-21T19:45:06.000000",
           27.22,
           92.67,
           10,
           3.2,
           "64km N of Tezpur, Assam, India",
           " Assam"
          ],
          [
           "2020-09-21T00:02:08.000000",
           20.12,
           72.98,
           5,
           2.4,
           "85km W of Nashik, Maharashtra, India",
           " Maharashtra"
          ],
          [
           "2020-09-20T21:57:15.000000",
           20.05,
           72.93,
           10,
           2.4,
           "90km W of Nashik, Maharashtra, India",
           " Maharashtra"
          ],
          [
           "2020-09-20T12:41:18.000000",
           20.17,
           72.95,
           5,
           2.8,
           "89km WNW of Nashik, Maharashtra, India",
           " Maharashtra"
          ],
          [
           "2020-09-20T07:29:06.000000",
           23,
           93.65,
           45,
           4.6,
           "60km SSE of Champhai, Mizoram, India",
           " Mizoram"
          ],
          [
           "2020-09-20T04:30:23.000000",
           27.15,
           90.04,
           10,
           2.9,
           "53km SE of Thimphu, Bhutan",
           " Bhutan"
          ],
          [
           "2020-09-19T23:26:54.000000",
           25.23,
           93.94,
           19,
           2.9,
           "45km N of Imphal, Manipur, India",
           " Manipur"
          ],
          [
           "2020-09-19T20:18:38.000000",
           26.24,
           90.15,
           10,
           3.8,
           "80km N of Tura, Meghalaya, India",
           " Meghalaya"
          ],
          [
           "2020-09-19T08:15:43.000000",
           32.74,
           76.36,
           5,
           2.8,
           "58km N of Dharamshala, Himachal Pradesh, India",
           " Himachal Pradesh"
          ],
          [
           "2020-09-19T00:17:05.000000",
           37.64,
           72.45,
           12,
           3.8,
           "178km ENE of Fayzabad, Afghanistan",
           " Afghanistan"
          ],
          [
           "2020-09-19T00:07:47.000000",
           37.93,
           74.19,
           10,
           3.6,
           "334km ENE of Fayzabad, Afghanistan",
           " Afghanistan"
          ],
          [
           "2020-09-18T23:23:39.000000",
           23.41,
           94.51,
           20,
           4.3,
           "120km E of Champhai, Mizoram, India",
           " Mizoram"
          ],
          [
           "2020-09-18T23:17:48.000000",
           37.92,
           73.82,
           10,
           5.1,
           "302km ENE of Fayzabad, Afghanistan",
           " Afghanistan"
          ],
          [
           "2020-09-18T14:07:41.000000",
           36.14,
           69.7,
           10,
           4.1,
           "131km SW of Fayzabad, Afghanistan",
           " Afghanistan"
          ],
          [
           "2020-09-17T22:12:42.000000",
           29.65,
           68.69,
           116,
           4.6,
           "485km WNW of Bikaner, Rajasthan, India",
           " Rajasthan"
          ],
          [
           "2020-09-17T11:41:35.000000",
           35.53,
           94.67,
           10,
           4.8,
           "823km N of Pangin, Arunachal Pradesh, India",
           " Arunachal Pradesh"
          ],
          [
           "2020-09-17T03:01:18.000000",
           36.35,
           72.28,
           200,
           4.4,
           "175km ESE of Fayzabad, Afghanistan",
           " Afghanistan"
          ],
          [
           "2020-09-16T23:32:50.000000",
           16.67,
           75.96,
           10,
           3,
           "157km NNW of Hampi, Karnataka, India",
           " Karnataka"
          ],
          [
           "2020-09-16T15:53:25.000000",
           25.44,
           93.59,
           31,
           2.7,
           "43km SSW of Chumukedima, Nagaland, India",
           " Nagaland"
          ],
          [
           "2020-09-16T05:04:04.000000",
           27.74,
           85.82,
           10,
           5.3,
           "48km E of Kathmandu, Nepal",
           " Nepal"
          ],
          [
           "2020-09-15T23:30:58.000000",
           25.38,
           95.06,
           155,
           3.7,
           "70km ENE of Shirui, Manipur, India",
           " Manipur"
          ],
          [
           "2020-09-15T11:39:57.000000",
           20.05,
           72.9,
           5,
           2.7,
           "93km W of Nashik, Maharashtra, India",
           " Maharashtra"
          ],
          [
           "2020-09-15T10:08:14.000000",
           31.68,
           93.73,
           120,
           4.2,
           "420km NNW of Pangin, Arunachal Pradesh, India",
           " Arunachal Pradesh"
          ],
          [
           "2020-09-15T04:08:16.000000",
           39.58,
           74.69,
           10,
           3.9,
           "366km S of Bishkek, Kyrgyzstan",
           " Kyrgyzstan"
          ],
          [
           "2020-09-14T23:56:57.000000",
           39.62,
           73.88,
           10,
           4,
           "366km S of Bishkek, Kyrgyzstan",
           " Kyrgyzstan"
          ],
          [
           "2020-09-14T22:25:01.000000",
           36.55,
           71.75,
           145,
           3.9,
           "123km ESE of Fayzabad, Afghanistan",
           " Afghanistan"
          ],
          [
           "2020-09-14T16:16:28.000000",
           19.96,
           72.86,
           5,
           2.9,
           "97km W of Nashik, Maharashtra, India",
           " Maharashtra"
          ],
          [
           "2020-09-14T10:29:00.000000",
           34.02,
           64.92,
           130,
           4.8,
           "398km W of Kabul , Afghanistan",
           " Afghanistan"
          ],
          [
           "2020-09-14T06:38:58.000000",
           32.39,
           76.39,
           10,
           2.5,
           "20km NNE of Dharamshala, Himachal Pradesh, India",
           " Himachal Pradesh"
          ],
          [
           "2020-09-13T23:58:55.000000",
           4.41,
           96.8,
           140,
           4.8,
           "431km SE of Campbell Bay, Andaman and Nicobar island, India",
           " Andaman and Nicobar island"
          ],
          [
           "2020-09-13T20:40:47.000000",
           15.8,
           96.39,
           80,
           4.3,
           "118km SSE of Yangon, Myanmar",
           " Myanmar"
          ],
          [
           "2020-09-12T21:38:02.000000",
           17.28,
           73.71,
           5,
           2.5,
           "85km NW of Kolhapur, Maharashtra, India",
           " Maharashtra"
          ],
          [
           "2020-09-12T21:12:36.000000",
           27,
           92.14,
           10,
           2.9,
           "69km SSE of Tawang, Arunachal Pradesh, India",
           " Arunachal Pradesh"
          ],
          [
           "2020-09-11T23:39:10.000000",
           24.65,
           96.06,
           5,
           3.6,
           "162km E of Ukhrul, Manipur, India",
           " Manipur"
          ],
          [
           "2020-09-11T22:42:38.000000",
           35.77,
           69.5,
           329,
           3.9,
           "137km N of Kabul , Afghanistan",
           " Afghanistan"
          ],
          [
           "2020-09-11T22:19:41.000000",
           19.89,
           62.95,
           276,
           3.5,
           "625km SE of Muscat, Oman",
           " Oman"
          ],
          [
           "2020-09-11T12:42:55.000000",
           39,
           92.18,
           10,
           5.3,
           "1240km NNW of Pangin, Arunachal Pradesh, India",
           " Arunachal Pradesh"
          ],
          [
           "2020-09-11T09:15:55.000000",
           27.21,
           87.92,
           10,
           4.2,
           "33km WSW of Pelling, Sikkim, India",
           " Sikkim"
          ],
          [
           "2020-09-11T07:35:39.000000",
           37.4,
           72.29,
           171,
           3.9,
           "157km ENE of Fayzabad, Afghanistan",
           " Afghanistan"
          ],
          [
           "2020-09-11T07:06:01.000000",
           19.99,
           72.83,
           5,
           3.6,
           "100km W of Nashik, Maharashtra, India",
           " Maharashtra"
          ],
          [
           "2020-09-11T06:20:30.000000",
           33.33,
           75.62,
           5,
           2.9,
           "74km ENE of Katra, Jammu and Kashmir, India",
           " Jammu and Kashmir"
          ],
          [
           "2020-09-11T05:45:48.000000",
           20.02,
           72.67,
           10,
           2.5,
           "107km NNW of Mumbai, Maharashtra, India",
           " Maharashtra"
          ],
          [
           "2020-09-11T05:04:36.000000",
           19.94,
           72.7,
           10,
           2.2,
           "97km N of Mumbai, Maharashtra, India",
           " Maharashtra"
          ],
          [
           "2020-09-11T03:57:50.000000",
           19.95,
           72.76,
           10,
           3.5,
           "98km N of Mumbai, Maharashtra, India",
           " Maharashtra"
          ],
          [
           "2020-09-11T03:53:24.000000",
           19.98,
           72.77,
           10,
           2.6,
           "101km N of Mumbai, Maharashtra, India",
           " Maharashtra"
          ],
          [
           "2020-09-11T03:45:12.000000",
           19.94,
           72.79,
           10,
           2.6,
           "96km N of Mumbai, Maharashtra, India",
           " Maharashtra"
          ],
          [
           "2020-09-11T03:43:34.000000",
           19.99,
           72.7,
           10,
           2.8,
           "103km N of Mumbai, Maharashtra, India",
           " Maharashtra"
          ],
          [
           "2020-09-11T03:29:20.000000",
           19.84,
           72.41,
           10,
           3.5,
           "98km NNW of Mumbai, India",
           " India"
          ],
          [
           "2020-09-11T02:08:30.000000",
           27.76,
           87.8,
           10,
           3.5,
           "60km NW of Yuksom, Sikkim, India",
           " Sikkim"
          ],
          [
           "2020-09-11T01:53:33.000000",
           33.03,
           73.63,
           10,
           4.3,
           "74km WSW of Rajouri, Jammu and Kashmir",
           " Jammu and Kashmir"
          ],
          [
           "2020-09-10T22:24:57.000000",
           23.99,
           94.81,
           114,
           3.8,
           "110km SSE of Ukhrul, Manipur, India",
           " Manipur"
          ],
          [
           "2020-09-10T20:24:41.000000",
           37.34,
           72.07,
           190,
           3.8,
           "137km ENE of Fayzabad, Afghanistan",
           " Afghanistan"
          ],
          [
           "2020-09-10T11:36:18.000000",
           33.02,
           73.63,
           10,
           3.6,
           "74km WSW of Rajouri, Jammu and Kashmir",
           " Jammu and Kashmir"
          ],
          [
           "2020-09-10T06:37:21.000000",
           37.93,
           72.78,
           10,
           3.6,
           "217km ENE of Fayzabad, Afghanistan",
           " Afghanistan"
          ],
          [
           "2020-09-10T04:50:14.000000",
           28.12,
           89.95,
           10,
           3.1,
           "78km NNE of Thimphu, Bhutan",
           " Bhutan"
          ],
          [
           "2020-09-10T02:19:43.000000",
           27.39,
           88.81,
           10,
           2.8,
           "20km ENE of Gangtok, Sikkim",
           " Sikkim"
          ],
          [
           "2020-09-09T21:46:52.000000",
           36.75,
           72.27,
           10,
           4.6,
           "157km ESE of Fayzabad, Afghanistan",
           " Afghanistan"
          ],
          [
           "2020-09-09T16:24:10.000000",
           37.19,
           72.02,
           10,
           4,
           "130km E of Fayzabad, Afghanistan",
           " Afghanistan"
          ],
          [
           "2020-09-09T04:17:31.000000",
           20.05,
           72.9,
           10,
           3.2,
           "93km W of Nashik, Maharashtra, India",
           " Maharashtra"
          ],
          [
           "2020-09-09T01:18:13.000000",
           20.08,
           72.85,
           5,
           2.3,
           "98km W of Nashik, Maharashtra, India",
           " Maharashtra"
          ],
          [
           "2020-09-08T20:05:33.000000",
           20.01,
           72.89,
           10,
           2.6,
           "94km W of Nashik, Maharashtra, India",
           " Maharashtra"
          ],
          [
           "2020-09-08T10:15:54.000000",
           20.01,
           72.8,
           5,
           2.5,
           "103km W of Nashik, Maharashtra, India",
           " Maharashtra"
          ],
          [
           "2020-09-08T09:50:42.000000",
           20.01,
           72.8,
           10,
           3.8,
           "103km W of Nashik, Maharashtra, India",
           " Maharashtra"
          ],
          [
           "2020-09-08T05:47:28.000000",
           38.07,
           73.99,
           90,
           4.4,
           "321km ENE of Fayzabad, Afghanistan",
           " Afghanistan"
          ],
          [
           "2020-09-08T03:20:08.000000",
           10.46,
           92.03,
           20,
           4.2,
           "150km SSW of Portblair, Andaman and Nicobar island, India",
           " Andaman and Nicobar island"
          ],
          [
           "2020-09-08T03:07:49.000000",
           13.22,
           93.18,
           20,
           4,
           "22km ESE of Diglipur, Andaman and Nicobar island, India",
           " Andaman and Nicobar island"
          ],
          [
           "2020-09-08T00:01:05.000000",
           20,
           72.82,
           1.8,
           3.1,
           "101km W of Nashik, Maharashtra, India",
           " Maharashtra"
          ],
          [
           "2020-09-07T23:06:05.000000",
           26.44,
           93.42,
           32,
           3.1,
           "66km NNW of Dimapur, Nagaland, India",
           " Nagaland"
          ],
          [
           "2020-09-07T17:04:53.000000",
           1.87,
           90.92,
           46,
           4.7,
           "660km SSW of Campbell Bay, Andaman and Nicobar island, India",
           " Andaman and Nicobar island"
          ],
          [
           "2020-09-07T11:58:25.000000",
           26.47,
           95.85,
           10,
           4.3,
           "134km E of Mokokchung, Nagaland, India",
           " Nagaland"
          ],
          [
           "2020-09-07T08:07:19.000000",
           19.99,
           72.8,
           5,
           3.5,
           "102km N of Mumbai, Maharashtra, India",
           " Maharashtra"
          ],
          [
           "2020-09-06T07:30:05.000000",
           27.83,
           92.24,
           10,
           3.4,
           "45km NE of Tawang, Arunachal Pradesh, India",
           " Arunachal Pradesh"
          ],
          [
           "2020-09-06T06:38:55.000000",
           9.88,
           94.01,
           82,
           4.3,
           "239km SE of Portblair, Andaman and Nicobar island, India",
           " Andaman and Nicobar island"
          ],
          [
           "2020-09-06T04:58:17.000000",
           19.99,
           72.88,
           5,
           2,
           "95km W of Nashik, Maharashtra, India",
           " Maharashtra"
          ],
          [
           "2020-09-05T06:36:31.000000",
           19.96,
           72.83,
           5,
           2.7,
           "98km N of Mumbai, Maharashtra, India",
           " Maharashtra"
          ],
          [
           "2020-09-05T00:05:12.000000",
           19.99,
           72.88,
           5,
           3.6,
           "95km W of Nashik, Maharashtra, India",
           " Maharashtra"
          ],
          [
           "2020-09-04T23:41:54.000000",
           19.98,
           72.85,
           5,
           3.6,
           "98km W of Nashik, Maharashtra, India",
           " Maharashtra"
          ],
          [
           "2020-09-04T21:05:44.000000",
           25.68,
           90.29,
           10,
           2.4,
           "20km NNE of Tura, Meghalaya, India",
           " Meghalaya"
          ],
          [
           "2020-09-04T10:33:14.000000",
           19.9,
           72.83,
           10,
           2.8,
           "91km N of Mumbai, Maharashtra, India",
           " Maharashtra"
          ],
          [
           "2020-09-04T01:54:45.000000",
           24.5,
           94.49,
           32,
           2.4,
           "48km S of Ukhrul, Manipur, India",
           " Manipur"
          ],
          [
           "2020-09-02T14:09:48.000000",
           23.16,
           70.25,
           5,
           3.3,
           "110km NNW of Rajkot, Gujarat, India",
           " Gujarat"
          ],
          [
           "2020-09-01T22:08:51.000000",
           31.89,
           93.56,
           150,
           3.8,
           "448km NNW of Basar, Arunachal Pradesh, India",
           " Arunachal Pradesh"
          ],
          [
           "2020-09-01T17:23:05.000000",
           3.63,
           96.03,
           10,
           4.7,
           "443km SSE of Campbell Bay, Andaman and Nicobar island, India",
           " Andaman and Nicobar island"
          ],
          [
           "2020-09-01T15:47:00.000000",
           19.96,
           72.81,
           5,
           2.5,
           "98km N of Mumbai, Maharashtra, India",
           " Maharashtra"
          ],
          [
           "2020-09-01T08:26:49.000000",
           36.37,
           71,
           170,
           4.3,
           "90km SSE of Fayzabad, Afghanistan",
           " Afghanistan"
          ],
          [
           "2020-09-01T07:36:52.000000",
           26.37,
           96.67,
           190,
           3.4,
           "152km S of Changlang, Arunachal Pradesh, India",
           " Arunachal Pradesh"
          ],
          [
           "2020-09-01T02:39:33.000000",
           24.88,
           95.03,
           130,
           5.1,
           "55km E of Ukhrul, Manipur, India",
           " Manipur"
          ],
          [
           "2020-08-31T21:27:03.000000",
           25.22,
           94.42,
           50,
           3.7,
           "10km N of Shirui, Manipur, India",
           " Manipur"
          ],
          [
           "2020-08-31T19:13:29.000000",
           35.31,
           81.05,
           230,
           4.3,
           "342km ENE of Leh, Laddakh, India",
           " Laddakh"
          ],
          [
           "2020-08-30T20:25:59.000000",
           28.09,
           88.14,
           65,
           3.8,
           "74km NW of Lachung, Sikkim, India",
           " Sikkim"
          ],
          [
           "2020-08-30T18:42:51.000000",
           34.34,
           68.23,
           150,
           4.6,
           "92km WSW of Kabul , Afghanistan",
           " Afghanistan"
          ],
          [
           "2020-08-30T17:32:53.000000",
           36.19,
           69.55,
           427,
           3.7,
           "134km SW of Fayzabad, Afghanistan",
           " Afghanistan"
          ],
          [
           "2020-08-30T16:20:14.000000",
           36.87,
           76.23,
           330,
           3.9,
           "257km N of Kargil, Laddakh, India",
           " Laddakh"
          ],
          [
           "2020-08-30T15:15:41.000000",
           35.84,
           71.35,
           210,
           4.3,
           "157km SSE of Fayzabad, Afghanistan",
           " Afghanistan"
          ],
          [
           "2020-08-30T11:15:03.000000",
           34.37,
           70.1,
           40,
           4.3,
           "84km ESE of Kabul , Afghanistan",
           " Afghanistan"
          ],
          [
           "2020-08-30T01:03:30.000000",
           25.92,
           94.61,
           21,
           2.5,
           "39km ESE of Wokha, Nagaland, India",
           " Nagaland"
          ],
          [
           "2020-08-29T08:29:20.000000",
           36.9,
           72.23,
           10,
           4.5,
           "150km E of Fayzabad, Afghanistan",
           " Afghanistan"
          ],
          [
           "2020-08-29T00:44:45.000000",
           23.27,
           93.24,
           10,
           3.7,
           "22km SSW of Champhai, Mizoram, India",
           " Mizoram"
          ],
          [
           "2020-08-28T20:59:27.000000",
           19.95,
           72.82,
           5,
           2.6,
           "97km N of Mumbai, Maharashtra, India",
           " Maharashtra"
          ],
          [
           "2020-08-28T13:28:50.000000",
           33.27,
           72.53,
           10,
           4.4,
           "66km SW of Islamabad, Pakistan",
           " Pakistan"
          ],
          [
           "2020-08-28T06:27:19.000000",
           23,
           93.27,
           5,
           3.3,
           "51km S of Champhai, Mizoram, India",
           " Mizoram"
          ],
          [
           "2020-08-28T02:55:11.000000",
           27.51,
           92.8,
           5,
           2.5,
           "91km E of Tawang, Arunachal Pradesh, India",
           " Arunachal Pradesh"
          ],
          [
           "2020-08-28T01:02:46.000000",
           27.93,
           92.03,
           5,
           3.4,
           "42km NNE of Tawang, Arunachal Pradesh, India",
           " Arunachal Pradesh"
          ],
          [
           "2020-08-27T22:13:24.000000",
           27.13,
           92.48,
           10,
           3.4,
           "61km NNW of Tezpur, Assam, India",
           " Assam"
          ],
          [
           "2020-08-27T18:47:23.000000",
           23.17,
           93.21,
           25,
           4.1,
           "34km SSW of Champhai, Mizoram, India",
           " Mizoram"
          ],
          [
           "2020-08-27T18:16:10.000000",
           23.16,
           93.18,
           25,
           3.6,
           "36km SSW of Champhai, Mizoram, India",
           " Mizoram"
          ],
          [
           "2020-08-27T17:37:18.000000",
           23.16,
           93.2,
           30,
           5.3,
           "35km SSW of Champhai, Mizoram, India",
           " Mizoram"
          ],
          [
           "2020-08-27T01:52:11.000000",
           36.19,
           72.05,
           250,
           4,
           "167km SE of Fayzabad, Afghanistan",
           " Afghanistan"
          ],
          [
           "2020-08-26T13:30:42.000000",
           36.39,
           71.36,
           190,
           5.1,
           "107km SE of Fayzabad, Afghanistan",
           " Afghanistan"
          ],
          [
           "2020-08-26T07:54:02.000000",
           23.79,
           88.36,
           10,
           4.1,
           "110km ENE of Durgapur, West Bengal, India",
           " West Bengal"
          ],
          [
           "2020-08-26T06:18:49.000000",
           35.663,
           82.446,
           10,
           4.6,
           "460km NE of Hanley, Jammu & Kashmir, India",
           " Jammu & Kashmir"
          ],
          [
           "2020-08-25T20:54:38.000000",
           29.44,
           80.84,
           10,
           3.8,
           "62km ESE of Pithoragarh, Uttarakhand, India",
           " Uttarakhand"
          ],
          [
           "2020-08-25T18:18:08.000000",
           30.61,
           78.89,
           10,
           3.4,
           "45km ESE of Uttarkashi, Uttarakhand, India",
           " Uttarakhand"
          ],
          [
           "2020-08-24T18:36:08.000000",
           25.63,
           96.44,
           90,
           4,
           "207km ESE of Mokokchung, Nagaland, India",
           " Nagaland"
          ],
          [
           "2020-08-24T03:36:12.000000",
           27.7,
           96.79,
           120,
           3.7,
           "15km ESE of Changlang, Arunachal Pradesh, India",
           " Arunachal Pradesh"
          ],
          [
           "2020-08-23T22:37:46.000000",
           30.42,
           87.46,
           20,
           4.4,
           "328km NNW of Lachung, Sikkim, India",
           " Sikkim"
          ],
          [
           "2020-08-23T22:07:42.000000",
           23.25,
           70.6,
           30,
           4.1,
           "107km NNW of Rajkot, Gujarat, India",
           " Gujarat"
          ],
          [
           "2020-08-23T19:29:27.000000",
           19.9,
           72.71,
           5,
           2.7,
           "93km N of Mumbai, Maharashtra, India",
           " Maharashtra"
          ],
          [
           "2020-08-23T18:54:37.000000",
           20.07,
           72.71,
           5,
           2.5,
           "111km N of Mumbai, Maharashtra, India",
           " Maharashtra"
          ],
          [
           "2020-08-23T18:48:14.000000",
           26.241,
           95.44,
           102,
           4.4,
           "92km E of Mokokchung, Nagaland, India",
           " Nagaland"
          ],
          [
           "2020-08-23T18:47:15.000000",
           19.96,
           72.78,
           5,
           3.1,
           "98km N of Mumbai, Maharashtra, India",
           " Maharashtra"
          ],
          [
           "2020-08-23T17:23:22.000000",
           20.15,
           72.83,
           5,
           3,
           "101km W of Nashik, Maharashtra, India",
           " Maharashtra"
          ],
          [
           "2020-08-23T11:39:46.000000",
           19.92,
           72.79,
           10,
           2.8,
           "94km N of Mumbai, Maharashtra, India",
           " Maharashtra"
          ],
          [
           "2020-08-23T09:04:28.000000",
           36.46,
           70.59,
           10,
           4.5,
           "71km S of Fayzabad, Afghanistan",
           " Afghanistan"
          ],
          [
           "2020-08-23T08:32:21.000000",
           37.9,
           72.48,
           10,
           3.6,
           "192km ENE of Fayzabad, Afghanistan",
           " Afghanistan"
          ],
          [
           "2020-08-23T04:26:44.000000",
           22.98,
           94.02,
           98,
           3.7,
           "88km SE of Champhai, Mizoram, India",
           " Mizoram"
          ],
          [
           "2020-08-22T12:43:24.000000",
           36.79,
           69.73,
           70,
           4,
           "80km WSW of Fayzabad, Afghanistan",
           " Afghanistan"
          ],
          [
           "2020-08-22T12:41:05.000000",
           27.82,
           94.19,
           10,
           3.5,
           "52km WSW of Basar, Arunachal Pradesh, India",
           " Arunachal Pradesh"
          ],
          [
           "2020-08-22T06:52:33.000000",
           39.61,
           74.48,
           10,
           4.1,
           "363km S of Bishkek, Kyrgyzstan",
           " Kyrgyzstan"
          ],
          [
           "2020-08-22T04:54:19.000000",
           39.339,
           71.93,
           10,
           4,
           "276km NNE of Fayzabad, Afghanistan",
           " Afghanistan"
          ],
          [
           "2020-08-21T12:07:34.000000",
           24.79,
           87.81,
           10,
           4.3,
           "117km ENE of Deoghar, Jharkhand, India",
           " Jharkhand"
          ],
          [
           "2020-08-20T16:33:55.000000",
           24.22,
           94.35,
           70,
           3.5,
           "65km ESE of Moirang, Manipur, India",
           " Manipur"
          ],
          [
           "2020-08-20T10:58:23.000000",
           36.72,
           71.09,
           195,
           3.6,
           "64km SE of Fayzabad, Afghanistan",
           " Afghanistan"
          ],
          [
           "2020-08-20T02:23:03.000000",
           9.66,
           93.11,
           10,
           4.7,
           "222km S of Portblair, Andaman and Nicobar island, India",
           " Andaman and Nicobar island"
          ],
          [
           "2020-08-19T20:38:56.000000",
           32.19,
           96.39,
           50,
           4.2,
           "462km NNE of Pangin, Arunachal Pradesh, India",
           " Arunachal Pradesh"
          ],
          [
           "2020-08-19T05:08:55.000000",
           34.23,
           81.12,
           240,
           4.1,
           "263km NE of Hanley, Jammu & Kashmir, India",
           " Jammu & Kashmir"
          ],
          [
           "2020-08-18T16:43:08.000000",
           36.87,
           71.44,
           65,
           4.3,
           "83km ESE of Fayzabad, Afghanistan",
           " Afghanistan"
          ],
          [
           "2020-08-18T14:54:59.000000",
           20.14,
           72.96,
           5,
           2.2,
           "88km W of Nashik, Maharashtra, India",
           " Maharashtra"
          ],
          [
           "2020-08-18T03:03:37.000000",
           30.48,
           87.08,
           140,
           3.9,
           "349km NNW of Lachung, Sikkim, India",
           " Sikkim"
          ],
          [
           "2020-08-17T22:02:02.000000",
           30.082,
           94.598,
           128,
           4.3,
           "225km NNW of Pangin, Arunachal Pradesh, India",
           " Arunachal Pradesh"
          ],
          [
           "2020-08-17T16:53:45.000000",
           33,
           86.82,
           90,
           4.7,
           "604km NNE of Kathmandu, Nepal",
           " Nepal"
          ],
          [
           "2020-08-17T02:59:38.000000",
           26.67,
           92.79,
           40,
           2.6,
           "1km N of Tezpur, Assam, India",
           " Assam"
          ],
          [
           "2020-08-16T23:00:52.000000",
           24.57,
           94.7,
           35,
           2.8,
           "46km SSE of Ukhrul, Manipur, India",
           " Manipur"
          ],
          [
           "2020-08-16T22:10:34.000000",
           30.89,
           95.47,
           10,
           4.5,
           "306km N of Pangin, Arunachal Pradesh, India",
           " Arunachal Pradesh"
          ],
          [
           "2020-08-16T19:09:08.000000",
           28.07,
           66.33,
           140,
           4.5,
           "685km W of Bikaner, Rajasthan, India",
           " Rajasthan"
          ],
          [
           "2020-08-16T03:28:22.000000",
           39.68,
           73.91,
           165,
           4.5,
           "359km S of Bishkek, Kyrgyzstan",
           " Kyrgyzstan"
          ],
          [
           "2020-08-15T12:55:04.000000",
           36.8,
           71.29,
           250,
           3.9,
           "73km ESE of Fayzabad, Afghanistan",
           " Afghanistan"
          ],
          [
           "2020-08-15T10:22:44.000000",
           17.35,
           73.69,
           5,
           2.9,
           "92km NW of Kolhapur, Maharashtra, India",
           " Maharashtra"
          ],
          [
           "2020-08-15T00:36:11.000000",
           36.15,
           71.32,
           90,
           3.3,
           "126km SE of Fayzabad, Afghanistan",
           " Afghanistan"
          ],
          [
           "2020-08-14T21:17:11.000000",
           36.67,
           70.29,
           212,
           3.6,
           "53km SSW of Fayzabad, Afghanistan",
           " Afghanistan"
          ],
          [
           "2020-08-14T21:13:50.000000",
           29.73,
           94.66,
           165,
           3.7,
           "186km NNW of Pangin, Arunachal Pradesh, India",
           " Arunachal Pradesh"
          ],
          [
           "2020-08-14T18:28:52.000000",
           29.66,
           94.2,
           195,
           4.1,
           "192km NNW of Basar, Arunachal Pradesh, India",
           " Arunachal Pradesh"
          ],
          [
           "2020-08-14T14:26:25.000000",
           25.24,
           65.37,
           10,
           4.3,
           "495km NW of Dwarka, Gujarat, India",
           " Gujarat"
          ],
          [
           "2020-08-14T09:05:12.000000",
           36.79,
           70.72,
           10,
           3.1,
           "37km SSE of Fayzabad, Afghanistan",
           " Afghanistan"
          ],
          [
           "2020-08-14T08:36:12.000000",
           37.35,
           72.17,
           10,
           4,
           "146km ENE of Fayzabad, Afghanistan",
           " Afghanistan"
          ],
          [
           "2020-08-14T06:38:10.000000",
           23.12,
           93.24,
           10,
           4,
           "38km SSW of Champhai, Mizoram, India",
           " Mizoram"
          ],
          [
           "2020-08-14T01:48:31.000000",
           25.87,
           93.27,
           14,
           2.5,
           "45km W of Dimapur, Nagaland, India",
           " Nagaland"
          ],
          [
           "2020-08-13T23:37:16.000000",
           38.57,
           69.747,
           10,
           4.9,
           "83km E of Dushanbe, Tajikistan",
           " Tajikistan"
          ],
          [
           "2020-08-13T10:53:03.000000",
           30.41,
           94.54,
           10,
           4.2,
           "262km NNW of Pangin, Arunachal Pradesh, India",
           " Arunachal Pradesh"
          ],
          [
           "2020-08-13T09:57:59.000000",
           30.43,
           94.73,
           10,
           4.3,
           "259km NNW of Pangin, Arunachal Pradesh, India",
           " Arunachal Pradesh"
          ],
          [
           "2020-08-13T06:03:02.000000",
           39.23,
           95.28,
           10,
           4.5,
           "1233km N of Pangin, Arunachal Pradesh, India",
           " Arunachal Pradesh"
          ],
          [
           "2020-08-13T04:39:11.000000",
           28.16,
           67.02,
           10,
           4.5,
           "617km W of Bikaner, Rajasthan, India",
           " Rajasthan"
          ],
          [
           "2020-08-13T04:10:53.000000",
           28.12,
           66.49,
           30,
           5.4,
           "669km W of Bikaner, Rajasthan, India",
           " Rajasthan"
          ],
          [
           "2020-08-12T21:28:01.000000",
           30.37,
           95.79,
           178,
           4.6,
           "252km N of Pangin, Arunachal Pradesh, India",
           " Arunachal Pradesh"
          ],
          [
           "2020-08-12T19:37:34.000000",
           37.29,
           71.92,
           160,
           4.3,
           "123km E of Fayzabad, Afghanistan",
           " Afghanistan"
          ],
          [
           "2020-08-12T18:38:53.000000",
           39.04,
           74.73,
           10,
           4,
           "424km ENE of Fayzabad, Afghanistan",
           " Afghanistan"
          ],
          [
           "2020-08-12T16:01:24.000000",
           25.22,
           94.28,
           30,
           3,
           "17km NW of Shirui, Manipur, India",
           " Manipur"
          ],
          [
           "2020-08-12T04:18:40.000000",
           29.66,
           95.73,
           183,
           3.5,
           "174km NNE of Pangin, Arunachal Pradesh, India",
           " Arunachal Pradesh"
          ],
          [
           "2020-08-12T03:14:12.000000",
           20.87,
           94.86,
           80,
           4,
           "161km SW of Burma, Myanmar",
           " Myanmar"
          ],
          [
           "2020-08-12T02:57:40.000000",
           29.56,
           94.93,
           35,
           3.7,
           "161km NNW of Pangin, Arunachal Pradesh, India",
           " Arunachal Pradesh"
          ],
          [
           "2020-08-11T23:44:16.000000",
           30.46,
           94.83,
           30,
           4.8,
           "261km N of Pangin, Arunachal Pradesh, India",
           " Arunachal Pradesh"
          ],
          [
           "2020-08-11T19:27:50.000000",
           24.11,
           93.8,
           15,
           4,
           "43km S of Moirang, Manipur, India",
           " Manipur"
          ],
          [
           "2020-08-10T19:29:38.000000",
           36.7,
           70.18,
           190,
           3.6,
           "55km SW of Fayzabad, Afghanistan",
           " Afghanistan"
          ],
          [
           "2020-08-10T09:47:36.000000",
           19.92,
           72.81,
           3,
           2.9,
           "94km N of Mumbai, Maharashtra, India",
           " Maharashtra"
          ],
          [
           "2020-08-10T01:53:05.000000",
           31,
           80.12,
           10,
           3.9,
           "72km NE of Joshimath, Uttarakhand , India",
           " Uttarakhand "
          ],
          [
           "2020-08-10T00:04:42.000000",
           36.632,
           70.146,
           248,
           3.6,
           "63km SW of Fayzabad, Afghanistan",
           " Afghanistan"
          ],
          [
           "2020-08-09T23:05:28.000000",
           39.845,
           77.225,
           10,
           4.1,
           "403km SE of Bishkek, Kyrgyzstan",
           " Kyrgyzstan"
          ],
          [
           "2020-08-09T22:43:34.000000",
           30.299,
           94.709,
           10,
           4.4,
           "246km NNW of Pangin, Arunachal Pradesh, India",
           " Arunachal Pradesh"
          ],
          [
           "2020-08-09T14:20:22.000000",
           29.65,
           94.49,
           200,
           4.1,
           "184km NNW of Pangin, Arunachal Pradesh, India",
           " Arunachal Pradesh"
          ],
          [
           "2020-08-09T12:09:25.000000",
           36.88,
           70.94,
           200,
           3.5,
           "42km SE of Fayzabad, Afghanistan",
           " Afghanistan"
          ],
          [
           "2020-08-09T06:49:03.000000",
           27.37,
           88.85,
           10,
           3.8,
           "24km E of Gangtok, Sikkim",
           " Sikkim"
          ],
          [
           "2020-08-08T23:50:48.000000",
           36.37,
           68.96,
           90,
           4,
           "163km WSW of Fayzabad, Afghanistan",
           " Afghanistan"
          ],
          [
           "2020-08-08T16:48:37.000000",
           28.16,
           77.24,
           5,
           2.1,
           "28km SSW of Faridabad, Haryana, India",
           " Haryana"
          ],
          [
           "2020-08-08T14:14:08.000000",
           30.1,
           94.56,
           10,
           4.3,
           "228km NNW of Pangin, Arunachal Pradesh, India",
           " Arunachal Pradesh"
          ],
          [
           "2020-08-08T07:10:02.000000",
           19.18,
           84.11,
           16,
           3.8,
           "73km WSW of Berhampur, Odisha, India",
           " Odisha"
          ],
          [
           "2020-08-08T05:26:15.000000",
           26.6,
           92.59,
           10,
           3.5,
           "21km WSW of Tezpur, Assam, India",
           " Assam"
          ],
          [
           "2020-08-07T23:06:20.000000",
           24.61,
           94.89,
           81,
           3.8,
           "54km SE of Ukhrul, Manipur, India",
           " Manipur"
          ],
          [
           "2020-08-07T19:55:18.000000",
           36.5,
           70.66,
           85,
           3.6,
           "67km S of Fayzabad, Afghanistan",
           " Afghanistan"
          ],
          [
           "2020-08-07T00:44:28.000000",
           27.65,
           75.76,
           26,
           3.1,
           "82km N of Jaipur, Rajasthan, India",
           " Rajasthan"
          ],
          [
           "2020-08-06T13:22:44.000000",
           36.07,
           71.35,
           200,
           3.5,
           "135km SSE of Fayzabad, Afghanistan",
           " Afghanistan"
          ],
          [
           "2020-08-06T11:57:16.000000",
           36.26,
           69.1,
           70,
           4.2,
           "159km SW of Fayzabad, Afghanistan",
           " Afghanistan"
          ],
          [
           "2020-08-06T09:46:54.000000",
           27.24,
           92.08,
           20,
           3,
           "42km SSE of Tawang, Arunachal Pradesh, India",
           " Arunachal Pradesh"
          ],
          [
           "2020-08-06T05:04:53.000000",
           39.93,
           70.27,
           130,
           3.6,
           "175km SSE of Tashkent, Uzbekistan",
           " Uzbekistan"
          ],
          [
           "2020-08-06T01:50:55.000000",
           28.807,
           76.719,
           5,
           2.9,
           "14km SE of Rohtak, Haryana, India",
           " Haryana"
          ],
          [
           "2020-08-05T18:02:02.000000",
           38.83,
           71,
           10,
           3.9,
           "194km E of Dushanbe, Tajikistan",
           " Tajikistan"
          ],
          [
           "2020-08-05T16:49:00.000000",
           31.47,
           90.22,
           140,
           4.2,
           "444km NNE of Lachung, Sikkim, India",
           " Sikkim"
          ],
          [
           "2020-08-05T13:08:22.000000",
           36.58,
           70.87,
           150,
           3.8,
           "64km SSE of Fayzabad, Afghanistan",
           " Afghanistan"
          ],
          [
           "2020-08-05T04:07:00.000000",
           26.75,
           97.38,
           253,
           4,
           "132km SE of Changlang, Arunachal Pradesh, India",
           " Arunachal Pradesh"
          ],
          [
           "2020-08-04T23:29:17.000000",
           36.02,
           69.16,
           10,
           4.8,
           "162km N of Kabul , Afghanistan",
           " Afghanistan"
          ],
          [
           "2020-08-04T08:29:53.000000",
           32.88,
           86.7,
           10,
           4.2,
           "589km NNE of Kathmandu, Nepal",
           " Nepal"
          ],
          [
           "2020-08-04T05:52:17.000000",
           24.36,
           93.59,
           30,
           3.5,
           "24km SW of Moirang, Manipur, India",
           " Manipur"
          ],
          [
           "2020-08-03T17:19:50.000000",
           21.44,
           72.81,
           5,
           3,
           "30km N of Surat, Gujarat, India",
           " Gujarat"
          ],
          [
           "2020-08-03T16:54:17.000000",
           36.72,
           70.53,
           35,
           3.4,
           "42km S of Fayzabad, Afghanistan",
           " Afghanistan"
          ],
          [
           "2020-08-02T14:03:08.000000",
           36.2,
           71.07,
           10,
           3.1,
           "110km SSE of Fayzabad, Afghanistan",
           " Afghanistan"
          ],
          [
           "2020-08-02T06:10:06.000000",
           37.01,
           72.03,
           80,
           3.3,
           "131km E of Fayzabad, Afghanistan",
           " Afghanistan"
          ],
          [
           "2020-08-02T05:17:48.000000",
           39.77,
           77.3,
           10,
           4.8,
           "413km SE of Bishkek, Kyrgyzstan",
           " Kyrgyzstan"
          ],
          [
           "2020-08-02T00:18:57.000000",
           37.475,
           72.094,
           184,
           4.1,
           "142km ENE of Fayzabad, Afghanistan",
           " Afghanistan"
          ],
          [
           "2020-08-01T22:44:13.000000",
           36.69,
           70.17,
           178,
           2.8,
           "56km SW of Fayzabad, Afghanistan",
           " Afghanistan"
          ],
          [
           "2020-08-01T12:01:42.000000",
           35.38,
           69.39,
           10,
           4.4,
           "93km N of Kabul , Afghanistan",
           " Afghanistan"
          ],
          [
           "2020-08-01T11:03:57.000000",
           34.57,
           82.23,
           10,
           4.2,
           "367km NE of Hanley, Jammu & Kashmir, India",
           " Jammu & Kashmir"
          ],
          [
           "2020-08-01T08:17:02.000000",
           34.44,
           81.77,
           10,
           4.1,
           "324km NE of Hanley, Jammu & Kashmir, India",
           " Jammu & Kashmir"
          ],
          [
           "2020-08-01T05:41:03.000000",
           36.98,
           71.45,
           80,
           4,
           "81km E of Fayzabad, Afghanistan",
           " Afghanistan"
          ],
          [
           "2020-08-01T04:49:26.000000",
           36.52,
           71.08,
           30,
           3.3,
           "79km SE of Fayzabad, Afghanistan",
           " Afghanistan"
          ],
          [
           "2020-08-01T00:28:58.000000",
           29.91,
           94.45,
           20,
           4,
           "212km NNW of Pangin, Arunachal Pradesh, India",
           " Arunachal Pradesh"
          ],
          [
           "2020-07-31T18:43:44.000000",
           36.59,
           70.9,
           130,
           3.5,
           "64km SSE of Fayzabad, Afghanistan",
           " Afghanistan"
          ],
          [
           "2020-07-31T16:50:16.000000",
           32.94,
           86.72,
           10,
           4.5,
           "596km NNE of Kathmandu, Nepal",
           " Nepal"
          ],
          [
           "2020-07-31T08:21:24.000000",
           37.62,
           70.78,
           65,
           3.6,
           "61km NNE of Fayzabad, Afghanistan",
           " Afghanistan"
          ],
          [
           "2020-07-31T00:08:46.000000",
           30.01,
           94.56,
           10,
           4.3,
           "219km NNW of Pangin, Arunachal Pradesh, India",
           " Arunachal Pradesh"
          ],
          [
           "2020-07-30T22:52:32.000000",
           36.43,
           70.09,
           10,
           3.1,
           "85km SSW of Fayzabad, Afghanistan",
           " Afghanistan"
          ],
          [
           "2020-07-30T21:22:55.000000",
           30.13,
           95.08,
           10,
           3.9,
           "221km N of Pangin, Arunachal Pradesh, India",
           " Arunachal Pradesh"
          ],
          [
           "2020-07-30T19:05:45.000000",
           30.041,
           95.095,
           10,
           4.3,
           "211km N of Pangin, Arunachal Pradesh, India",
           " Arunachal Pradesh"
          ],
          [
           "2020-07-30T02:50:42.000000",
           31.28,
           74.57,
           11,
           3.1,
           "48km SW of Amritsar, Punjab, India",
           " Punjab"
          ],
          [
           "2020-07-30T02:24:33.000000",
           28.25,
           88.06,
           147,
           4.3,
           "91km NW of Lachung, Sikkim, India",
           " Sikkim"
          ],
          [
           "2020-07-29T22:58:03.000000",
           29.91,
           94.64,
           145,
           4.3,
           "206km NNW of Pangin, Arunachal Pradesh, India",
           " Arunachal Pradesh"
          ],
          [
           "2020-07-29T22:54:09.000000",
           32.67,
           69.8,
           86,
           4.1,
           "216km SSE of Kabul , Afghanistan",
           " Afghanistan"
          ],
          [
           "2020-07-29T16:37:19.000000",
           29.72,
           95.15,
           153.1,
           4.4,
           "175km N of Pangin, Arunachal Pradesh, India",
           " Arunachal Pradesh"
          ],
          [
           "2020-07-29T14:40:45.000000",
           36.28,
           71.08,
           10,
           3.6,
           "102km SSE of Fayzabad, Afghanistan",
           " Afghanistan"
          ],
          [
           "2020-07-29T11:38:08.000000",
           25.99,
           94.96,
           16,
           3.6,
           "57km SE of Mokokchung, Nagaland, India",
           " Nagaland"
          ],
          [
           "2020-07-29T05:59:52.000000",
           25.58,
           94.19,
           5,
           2.8,
           "13km SE of Kohima, Nagaland, India",
           " Nagaland"
          ],
          [
           "2020-07-29T01:19:45.000000",
           19.964,
           72.843,
           6,
           2.8,
           "98km N of Mumbai, Maharashtra, India",
           " Maharashtra"
          ],
          [
           "2020-07-28T23:06:13.000000",
           36.7,
           70.16,
           176,
           3.1,
           "56km SW of Fayzabad, Afghanistan",
           " Afghanistan"
          ],
          [
           "2020-07-28T20:08:52.000000",
           23.22,
           93.26,
           10,
           4.4,
           "27km SSW of Champhai, Mizoram, India",
           " Mizoram"
          ],
          [
           "2020-07-28T15:37:34.000000",
           36.47,
           70.9,
           10,
           3.9,
           "76km SSE of Fayzabad, Afghanistan",
           " Afghanistan"
          ],
          [
           "2020-07-28T15:11:04.000000",
           36.75,
           71.21,
           10,
           4.8,
           "70km ESE of Fayzabad, Afghanistan",
           " Afghanistan"
          ],
          [
           "2020-07-28T09:02:55.000000",
           30.21,
           94.65,
           154,
           4.8,
           "237km NNW of Pangin, Arunachal Pradesh, India",
           " Arunachal Pradesh"
          ],
          [
           "2020-07-28T01:04:15.000000",
           24.56,
           94.55,
           60,
           3,
           "42km S of Ukhrul, Manipur, India",
           " Manipur"
          ],
          [
           "2020-07-27T13:41:21.000000",
           32.592,
           76.346,
           10,
           3.1,
           "41km N of Dharamshala, Himachal Pradesh, India",
           " Himachal Pradesh"
          ],
          [
           "2020-07-27T11:20:26.000000",
           30.08,
           94.56,
           30,
           4.6,
           "226km NNW of Pangin, Arunachal Pradesh, India",
           " Arunachal Pradesh"
          ],
          [
           "2020-07-27T10:59:44.000000",
           32.574,
           67.136,
           10,
           5.4,
           "292km SW of Kabul , Afghanistan",
           " Afghanistan"
          ],
          [
           "2020-07-27T06:48:33.000000",
           25.09,
           95.04,
           10,
           4.1,
           "59km ENE of Ukhrul, Manipur, India",
           " Manipur"
          ],
          [
           "2020-07-27T03:31:25.000000",
           0.73,
           98.71,
           10,
           4.9,
           "425km SW of Kuala Lumpur, Malaysia",
           " Malaysia"
          ],
          [
           "2020-07-26T23:39:36.000000",
           30.69,
           95.73,
           10,
           3.8,
           "286km N of Pangin, Arunachal Pradesh, India",
           " Arunachal Pradesh"
          ],
          [
           "2020-07-26T21:01:04.000000",
           33.38,
           93,
           10,
           4.2,
           "621km NNW of Pangin, Arunachal Pradesh, India",
           " Arunachal Pradesh"
          ],
          [
           "2020-07-26T17:13:53.000000",
           36.01,
           71.163,
           85,
           4.2,
           "133km SSE of Fayzabad, Afghanistan",
           " Afghanistan"
          ],
          [
           "2020-07-25T21:28:55.000000",
           29.2,
           94.29,
           160,
           4.2,
           "141km NNW of Basar, Arunachal Pradesh, India",
           " Arunachal Pradesh"
          ],
          [
           "2020-07-25T11:44:43.000000",
           37.66,
           75.82,
           10,
           3.9,
           "346km N of Kargil, Laddakh, India",
           " Laddakh"
          ],
          [
           "2020-07-25T05:52:00.000000",
           23.03,
           94.38,
           95,
           4,
           "117km ESE of Champhai, Mizoram, India",
           " Mizoram"
          ],
          [
           "2020-07-24T19:04:30.000000",
           30.25,
           94.78,
           10,
           4.5,
           "239km NNW of Pangin, Arunachal Pradesh, India",
           " Arunachal Pradesh"
          ],
          [
           "2020-07-24T16:07:36.000000",
           28.12,
           65.16,
           10,
           5,
           "757km NNW of Dwarka, Gujarat, India",
           " Gujarat"
          ],
          [
           "2020-07-24T11:16:00.000000",
           23.27,
           93.53,
           10,
           3.8,
           "29km SE of Champhai, Mizoram, India",
           " Mizoram"
          ],
          [
           "2020-07-24T11:08:13.000000",
           26.18,
           93.04,
           25,
           3.5,
           "58km SSE of Tezpur, Assam, India",
           " Assam"
          ],
          [
           "2020-07-24T06:02:18.000000",
           29.14,
           77.18,
           10,
           3,
           "58km N of New Delhi, India",
           " India"
          ],
          [
           "2020-07-24T05:11:19.000000",
           33.05,
           75.89,
           5,
           3,
           "89km E of Katra, Jammu and Kashmir, India",
           " Jammu and Kashmir"
          ],
          [
           "2020-07-24T00:26:42.000000",
           19.96,
           72.83,
           5,
           3.1,
           "98km N of Mumbai, Maharashtra, India",
           " Maharashtra"
          ],
          [
           "2020-07-23T22:16:11.000000",
           37.49,
           68.06,
           30,
           4,
           "134km SSW of Dushanbe, Tajikistan",
           " Tajikistan"
          ],
          [
           "2020-07-23T19:18:11.000000",
           37.34,
           69.38,
           40,
           3.2,
           "107km WNW of Fayzabad, Afghanistan",
           " Afghanistan"
          ],
          [
           "2020-07-23T18:32:53.000000",
           36.66,
           71.36,
           150,
           4.2,
           "87km ESE of Fayzabad, Afghanistan",
           " Afghanistan"
          ],
          [
           "2020-07-23T16:20:17.000000",
           32.82,
           86.68,
           200,
           4.6,
           "582km NNE of Kathmandu, Nepal",
           " Nepal"
          ],
          [
           "2020-07-23T11:36:30.000000",
           38.48,
           69.35,
           10,
           3.2,
           "49km E of Dushanbe, Tajikistan",
           " Tajikistan"
          ],
          [
           "2020-07-23T10:31:33.000000",
           38.59,
           69.86,
           30,
           3.4,
           "93km E of Dushanbe, Tajikistan",
           " Tajikistan"
          ],
          [
           "2020-07-23T08:08:06.000000",
           36.18,
           71.2,
           10,
           3.8,
           "117km SSE of Fayzabad, Afghanistan",
           " Afghanistan"
          ],
          [
           "2020-07-23T06:17:31.000000",
           30.21,
           96.81,
           10,
           4.6,
           "274km NNE of Pangin, Arunachal Pradesh, India",
           " Arunachal Pradesh"
          ],
          [
           "2020-07-23T03:58:34.000000",
           33.1,
           86.73,
           10,
           4.5,
           "613km NNE of Kathmandu, Nepal",
           " Nepal"
          ],
          [
           "2020-07-23T02:51:59.000000",
           24.69,
           95.04,
           10,
           3.8,
           "62km ESE of Ukhrul, Manipur, India",
           " Manipur"
          ],
          [
           "2020-07-23T02:20:47.000000",
           34.6,
           71.51,
           10,
           4.2,
           "174km NW of Islamabad, Pakistan",
           " Pakistan"
          ],
          [
           "2020-07-23T01:37:25.000000",
           33,
           86.8,
           10,
           6.2,
           "604km NNE of Kathmandu, Nepal",
           " Nepal"
          ],
          [
           "2020-07-23T01:02:07.000000",
           36.58,
           70.53,
           10,
           3.9,
           "57km S of Fayzabad, Afghanistan",
           " Afghanistan"
          ],
          [
           "2020-07-22T22:43:49.000000",
           39.09,
           69.29,
           10,
           2.9,
           "73km NE of Dushanbe, Tajikistan",
           " Tajikistan"
          ],
          [
           "2020-07-22T18:33:08.000000",
           32.302,
           76.629,
           3,
           2.9,
           "30km ENE of Dharamshala, Himachal Pradesh, India",
           " Himachal Pradesh"
          ],
          [
           "2020-07-22T17:22:21.000000",
           32.301,
           76.629,
           5,
           2.7,
           "30km ENE of Dharamshala, Himachal Pradesh, India",
           " Himachal Pradesh"
          ],
          [
           "2020-07-22T14:25:08.000000",
           36.513,
           70.819,
           192,
           4.2,
           "69km SSE of Fayzabad, Afghanistan",
           " Afghanistan"
          ],
          [
           "2020-07-22T11:49:30.000000",
           33.85,
           72.28,
           180,
           4.1,
           "73km WNW of Islamabad, Pakistan",
           " Pakistan"
          ],
          [
           "2020-07-22T02:02:01.000000",
           36.53,
           71.14,
           196,
           3.9,
           "82km SE of Fayzabad, Afghanistan",
           " Afghanistan"
          ],
          [
           "2020-07-22T01:08:45.000000",
           36.47,
           70.95,
           18,
           3.8,
           "78km SSE of Fayzabad, Afghanistan",
           " Afghanistan"
          ],
          [
           "2020-07-21T11:48:54.000000",
           30.29,
           94.8,
           46,
           4.5,
           "243km N of Pangin, Arunachal Pradesh, India",
           " Arunachal Pradesh"
          ],
          [
           "2020-07-21T04:22:58.000000",
           12.76,
           95.44,
           10,
           4.2,
           "272km E of Diglipur, Andaman and Nicobar island, India",
           " Andaman and Nicobar island"
          ],
          [
           "2020-07-21T00:51:43.000000",
           30.33,
           94.75,
           35,
           4.6,
           "248km NNW of Pangin, Arunachal Pradesh, India",
           " Arunachal Pradesh"
          ],
          [
           "2020-07-20T23:55:29.000000",
           37.42,
           72.12,
           204,
           4.7,
           "143km ENE of Fayzabad, Afghanistan",
           " Afghanistan"
          ],
          [
           "2020-07-20T22:02:29.000000",
           33.01,
           75.87,
           5,
           3.5,
           "87km E of Katra, Jammu and Kashmir, India",
           " Jammu and Kashmir"
          ],
          [
           "2020-07-20T13:33:50.000000",
           36.23,
           69.38,
           198,
           4.2,
           "142km SW of Fayzabad, Afghanistan",
           " Afghanistan"
          ],
          [
           "2020-07-20T10:32:10.000000",
           31.13,
           70.22,
           30,
           4.4,
           "388km SW of Islamabad, Pakistan",
           " Pakistan"
          ],
          [
           "2020-07-20T06:06:54.000000",
           30,
           93.75,
           10,
           4,
           "242km NNW of Basar, Arunachal Pradesh, India",
           " Arunachal Pradesh"
          ],
          [
           "2020-07-20T05:06:43.000000",
           30.28,
           94.72,
           32,
           4.4,
           "243km NNW of Pangin, Arunachal Pradesh, India",
           " Arunachal Pradesh"
          ],
          [
           "2020-07-20T03:51:28.000000",
           36.48,
           70.7,
           230,
           4.3,
           "70km SSE of Fayzabad, Afghanistan",
           " Afghanistan"
          ],
          [
           "2020-07-20T03:39:38.000000",
           23.24,
           93.29,
           20,
           3.2,
           "24km S of Champhai, Mizoram, India",
           " Mizoram"
          ],
          [
           "2020-07-20T02:30:47.000000",
           24.98,
           94.63,
           10,
           3.5,
           "16km ENE of Ukhrul, Manipur, India",
           " Manipur"
          ],
          [
           "2020-07-19T21:33:59.000000",
           17.36,
           73.92,
           10,
           3.5,
           "80km NNW of Kolhapur, Maharashtra, India",
           " Maharashtra"
          ],
          [
           "2020-07-19T15:45:50.000000",
           30.43,
           94.86,
           35,
           4.8,
           "257km N of Pangin, Arunachal Pradesh, India",
           " Arunachal Pradesh"
          ],
          [
           "2020-07-19T11:53:04.000000",
           35.94,
           77.21,
           40,
           4.1,
           "182km NNE of Kargil, Laddakh, India",
           " Laddakh"
          ],
          [
           "2020-07-19T10:26:14.000000",
           21.33,
           95.3,
           30,
           3.7,
           "93km SW of Burma, Myanmar",
           " Myanmar"
          ],
          [
           "2020-07-19T05:28:13.000000",
           36.41,
           70.27,
           10,
           3.8,
           "80km SSW of Fayzabad, Afghanistan",
           " Afghanistan"
          ],
          [
           "2020-07-19T05:03:59.000000",
           37.33,
           71.62,
           10,
           4.2,
           "98km ENE of Fayzabad, Afghanistan",
           " Afghanistan"
          ],
          [
           "2020-07-19T02:44:50.000000",
           35.41,
           70.67,
           10,
           4.5,
           "163km NE of Kabul , Afghanistan",
           " Afghanistan"
          ],
          [
           "2020-07-19T02:06:55.000000",
           29.9,
           95.19,
           10,
           3.1,
           "195km N of Pangin, Arunachal Pradesh, India",
           " Arunachal Pradesh"
          ],
          [
           "2020-07-19T01:36:49.000000",
           37.29,
           74.76,
           10,
           3.9,
           "328km NNW of Kargil, Laddakh, India",
           " Laddakh"
          ],
          [
           "2020-07-19T00:24:30.000000",
           37.39,
           74.64,
           10,
           4.3,
           "342km NNW of Kargil, Laddakh, India",
           " Laddakh"
          ],
          [
           "2020-07-19T00:08:21.000000",
           21.81,
           97.21,
           10,
           4.4,
           "72km NNE of Lawksawk, Myanmar",
           " Myanmar"
          ],
          [
           "2020-07-18T23:57:59.000000",
           36.99,
           71.37,
           90,
           3.6,
           "73km E of Fayzabad, Afghanistan",
           " Afghanistan"
          ],
          [
           "2020-07-18T20:31:36.000000",
           23.31,
           93.48,
           10,
           3.5,
           "22km SE of Champhai, Mizoram, India",
           " Mizoram"
          ],
          [
           "2020-07-18T18:15:49.000000",
           37.28,
           71.95,
           130,
           4.3,
           "125km E of Fayzabad, Afghanistan",
           " Afghanistan"
          ],
          [
           "2020-07-18T04:25:41.000000",
           24.74,
           92.6,
           63,
           4,
           "60km NE of Dharmanagar, Tripura, India",
           " Tripura"
          ],
          [
           "2020-07-18T02:21:21.000000",
           36.69,
           71.33,
           190,
           4.7,
           "83km ESE of Fayzabad, Afghanistan",
           " Afghanistan"
          ],
          [
           "2020-07-18T00:03:00.000000",
           11.77,
           95.17,
           10,
           5.7,
           "266km E of Portblair, Andaman and Nicobar island, India",
           " Andaman and Nicobar island"
          ],
          [
           "2020-07-17T23:15:28.000000",
           11.48,
           95.42,
           10,
           4.5,
           "293km E of Portblair, Andaman and Nicobar island, India",
           " Andaman and Nicobar island"
          ],
          [
           "2020-07-17T22:35:35.000000",
           23.19,
           93.27,
           80,
           3.7,
           "30km S of Champhai, Mizoram, India",
           " Mizoram"
          ],
          [
           "2020-07-17T22:03:58.000000",
           23.29,
           93.35,
           78,
           5.1,
           "18km S of Champhai, Mizoram, India",
           " Mizoram"
          ],
          [
           "2020-07-17T20:12:52.000000",
           8.87,
           95.49,
           185,
           5,
           "270km NE of Campbell Bay, Andaman and Nicobar island, India",
           " Andaman and Nicobar island"
          ],
          [
           "2020-07-17T19:33:42.000000",
           11.91,
           95.14,
           10,
           5.6,
           "264km E of Portblair, Andaman and Nicobar island, India",
           " Andaman and Nicobar island"
          ],
          [
           "2020-07-17T18:59:04.000000",
           11.47,
           95.12,
           62.3,
           5.1,
           "261km E of Portblair, Andaman and Nicobar island, India",
           " Andaman and Nicobar island"
          ],
          [
           "2020-07-17T15:56:42.000000",
           23.17,
           93.22,
           10,
           4.2,
           "33km SSW of Champhai, Mizoram, India",
           " Mizoram"
          ],
          [
           "2020-07-17T15:31:01.000000",
           35.39,
           69.42,
           150,
           4.6,
           "94km N of Kabul , Afghanistan",
           " Afghanistan"
          ],
          [
           "2020-07-17T11:07:36.000000",
           11.85,
           95.65,
           10,
           4.5,
           "319km E of Portblair, Andaman and Nicobar island, India",
           " Andaman and Nicobar island"
          ],
          [
           "2020-07-17T10:31:14.000000",
           11.73,
           95.02,
           10,
           4.8,
           "250km E of Portblair, Andaman and Nicobar island, India",
           " Andaman and Nicobar island"
          ],
          [
           "2020-07-17T04:55:36.000000",
           32.99,
           75.88,
           5,
           3.9,
           "88km E of Katra, Jammu and Kashmir, India",
           " Jammu and Kashmir"
          ],
          [
           "2020-07-16T19:49:01.000000",
           36.76,
           71.41,
           150,
           4.3,
           "85km ESE of Fayzabad, Afghanistan",
           " Afghanistan"
          ],
          [
           "2020-07-16T19:04:47.000000",
           24.14,
           94.6,
           80,
           4.5,
           "88km S of Ukhrul, Manipur, India",
           " Manipur"
          ],
          [
           "2020-07-16T18:38:53.000000",
           33.03,
           75.9,
           10,
           4.1,
           "90km E of Katra, Jammu and Kashmir, India",
           " Jammu and Kashmir"
          ],
          [
           "2020-07-16T15:22:31.000000",
           23.98,
           96.6,
           10,
           3.6,
           "239km ESE of Ukhrul, Manipur, India",
           " Manipur"
          ],
          [
           "2020-07-16T13:09:30.000000",
           26.49,
           90.12,
           11,
           2.6,
           "108km N of Tura, Meghalaya, India",
           " Meghalaya"
          ],
          [
           "2020-07-16T07:57:38.000000",
           24.54,
           92.4,
           18,
           4.1,
           "30km NE of Dharmanagar, Tripura, India",
           " Tripura"
          ],
          [
           "2020-07-16T07:40:29.000000",
           22.21,
           70.93,
           10,
           4.5,
           "16km SE of Rajkot, Gujarat, India",
           " Gujarat"
          ],
          [
           "2020-07-16T06:51:55.000000",
           24.65,
           94.92,
           15,
           3.7,
           "54km SE of Ukhrul, Manipur, India",
           " Manipur"
          ],
          [
           "2020-07-16T04:47:03.000000",
           31.69,
           76.21,
           10,
           2.3,
           "59km S of Dharamshala, Himachal Pradesh, India",
           " Himachal Pradesh"
          ],
          [
           "2020-07-16T02:05:00.000000",
           34.29,
           70.04,
           65,
           3.7,
           "81km ESE of Kabul , Afghanistan",
           " Afghanistan"
          ],
          [
           "2020-07-15T23:04:00.000000",
           36.97,
           72.48,
           134,
           4.5,
           "171km E of Fayzabad, Afghanistan",
           " Afghanistan"
          ],
          [
           "2020-07-15T10:15:36.000000",
           36.26,
           70.38,
           180,
           4.2,
           "94km S of Fayzabad, Afghanistan",
           " Afghanistan"
          ],
          [
           "2020-07-15T05:34:32.000000",
           36.36,
           70.29,
           250,
           3.4,
           "85km SSW of Fayzabad, Afghanistan",
           " Afghanistan"
          ],
          [
           "2020-07-14T22:32:26.000000",
           36.39,
           69.43,
           10,
           3.3,
           "127km SW of Fayzabad, Afghanistan",
           " Afghanistan"
          ],
          [
           "2020-07-14T15:46:37.000000",
           37.42,
           68.56,
           10,
           3.5,
           "128km S of Dushanbe, Tajikistan",
           " Tajikistan"
          ],
          [
           "2020-07-14T14:57:12.000000",
           23.32,
           94.35,
           72,
           3.9,
           "105km E of Champhai, Mizoram, India",
           " Mizoram"
          ],
          [
           "2020-07-14T13:04:24.000000",
           36.37,
           71.17,
           121,
           5.5,
           "98km SE of Fayzabad, Afghanistan",
           " Afghanistan"
          ],
          [
           "2020-07-14T08:32:59.000000",
           26.56,
           94.87,
           10,
           3.5,
           "44km NE of Mokokchung, Nagaland, India",
           " Nagaland"
          ],
          [
           "2020-07-13T10:27:50.000000",
           26.36,
           91.57,
           60,
           2.5,
           "29km NW of Guwahati, Assam, India",
           " Assam"
          ],
          [
           "2020-07-13T06:28:44.000000",
           5.31,
           94.31,
           10,
           5.2,
           "194km SSE of Campbell Bay, Andaman and Nicobar island, India",
           " Andaman and Nicobar island"
          ],
          [
           "2020-07-13T03:40:37.000000",
           36.01,
           83.46,
           30,
           4.3,
           "553km NE of Hanley, Jammu & Kashmir, India",
           " Jammu & Kashmir"
          ],
          [
           "2020-07-13T02:36:53.000000",
           14.64,
           93.11,
           27,
           4.3,
           "153km N of Diglipur, Andaman and Nicobar island, India",
           " Andaman and Nicobar island"
          ],
          [
           "2020-07-13T01:27:54.000000",
           36.659,
           67.898,
           60,
           3.6,
           "225km SSW of Dushanbe, Tajikistan",
           " Tajikistan"
          ],
          [
           "2020-07-12T23:34:10.000000",
           37.01,
           73.1,
           150,
           3.7,
           "226km E of Fayzabad, Afghanistan",
           " Afghanistan"
          ],
          [
           "2020-07-12T20:45:16.000000",
           36.76,
           71.01,
           150,
           3.6,
           "55km SE of Fayzabad, Afghanistan",
           " Afghanistan"
          ],
          [
           "2020-07-12T13:41:28.000000",
           39.19,
           72.56,
           10,
           3.3,
           "291km NE of Fayzabad, Afghanistan",
           " Afghanistan"
          ],
          [
           "2020-07-12T10:31:39.000000",
           37.99,
           69.16,
           10,
           3.3,
           "71km SSE of Dushanbe, Tajikistan",
           " Tajikistan"
          ],
          [
           "2020-07-12T08:19:25.000000",
           36.29,
           70.99,
           108,
           5,
           "98km SSE of Fayzabad, Afghanistan",
           " Afghanistan"
          ],
          [
           "2020-07-11T15:13:13.000000",
           38.35,
           73.03,
           50,
           3.5,
           "258km NE of Fayzabad, Afghanistan",
           " Afghanistan"
          ],
          [
           "2020-07-11T13:03:41.000000",
           37.44,
           72.25,
           174,
           4.3,
           "155km ENE of Fayzabad, Afghanistan",
           " Afghanistan"
          ],
          [
           "2020-07-11T10:27:37.000000",
           36.58,
           70.66,
           178,
           4.1,
           "58km S of Fayzabad, Afghanistan",
           " Afghanistan"
          ],
          [
           "2020-07-11T09:50:06.000000",
           36.68,
           70.7,
           260,
           4.3,
           "48km SSE of Fayzabad, Afghanistan",
           " Afghanistan"
          ],
          [
           "2020-07-10T15:03:45.000000",
           37.3,
           71.9,
           141,
           4.4,
           "121km E of Fayzabad, Afghanistan",
           " Afghanistan"
          ],
          [
           "2020-07-10T09:56:30.000000",
           28.99,
           98.73,
           86.4,
           4.4,
           "246km NE of Changlang, Arunachal Pradesh, India",
           " Arunachal Pradesh"
          ],
          [
           "2020-07-10T07:18:11.000000",
           36.89,
           70.44,
           215,
           3,
           "25km SSW of Fayzabad, Afghanistan",
           " Afghanistan"
          ],
          [
           "2020-07-10T03:24:57.000000",
           37.33,
           68.15,
           30,
           3.8,
           "147km SSW of Dushanbe, Tajikistan",
           " Tajikistan"
          ],
          [
           "2020-07-10T00:03:06.000000",
           36.62,
           69.92,
           84,
           3.4,
           "77km SW of Fayzabad, Afghanistan",
           " Afghanistan"
          ],
          [
           "2020-07-09T14:28:16.000000",
           23.3,
           93.18,
           10,
           4.3,
           "23km SW of Champhai, Mizoram, India",
           " Mizoram"
          ],
          [
           "2020-07-09T12:09:59.000000",
           39.34,
           69.34,
           149,
           4.5,
           "99km NNE of Dushanbe, Tajikistan",
           " Tajikistan"
          ],
          [
           "2020-07-09T03:38:21.000000",
           25.5,
           91.47,
           5,
           2.5,
           "36km NW of Cherrapunjee, Meghalaya, India",
           " Meghalaya"
          ],
          [
           "2020-07-09T00:55:44.000000",
           36.67,
           71.51,
           150,
           3.6,
           "97km ESE of Fayzabad, Afghanistan",
           " Afghanistan"
          ],
          [
           "2020-07-08T14:26:30.000000",
           26.34,
           93.15,
           35,
           2.7,
           "49km SE of Tezpur, Assam, India",
           " Assam"
          ],
          [
           "2020-07-08T07:43:39.000000",
           35.87,
           70.78,
           130,
           3.4,
           "138km S of Fayzabad, Afghanistan",
           " Afghanistan"
          ],
          [
           "2020-07-08T05:19:29.000000",
           11.68,
           93.38,
           150,
           4.4,
           "71km E of Portblair, Andaman and Nicobar island, India",
           " Andaman and Nicobar island"
          ],
          [
           "2020-07-08T02:12:20.000000",
           32.98,
           73.54,
           10,
           4.3,
           "84km WSW of Rajouri, Jammu and Kashmir",
           " Jammu and Kashmir"
          ],
          [
           "2020-07-07T18:41:19.000000",
           37.64,
           71.88,
           143.4,
           3.4,
           "132km ENE of Fayzabad, Afghanistan",
           " Afghanistan"
          ],
          [
           "2020-07-07T14:24:16.000000",
           37.39,
           71.02,
           60,
           2.8,
           "52km NE of Fayzabad, Afghanistan",
           " Afghanistan"
          ],
          [
           "2020-07-07T01:33:16.000000",
           28.36,
           92.12,
           170,
           3.4,
           "90km NNE of Tawang, Arunachal Pradesh, India",
           " Arunachal Pradesh"
          ],
          [
           "2020-07-07T01:33:03.000000",
           37.52,
           77.72,
           100,
           4,
           "359km NNE of Kargil, Laddakh, India",
           " Laddakh"
          ],
          [
           "2020-07-07T01:03:29.000000",
           31.24,
           78.46,
           7,
           3.2,
           "57km N of Uttarkashi, Uttarakhand, India",
           " Uttarakhand"
          ],
          [
           "2020-07-07T00:54:27.000000",
           33.05,
           73.56,
           5,
           4.3,
           "78km WSW of Rajouri, Jammu and Kashmir",
           " Jammu and Kashmir"
          ],
          [
           "2020-07-06T21:36:26.000000",
           34.36,
           68.98,
           90,
           4.7,
           "30km SW of Kabul , Afghanistan",
           " Afghanistan"
          ],
          [
           "2020-07-06T20:57:29.000000",
           36.74,
           71.36,
           200,
           4,
           "82km ESE of Fayzabad, Afghanistan",
           " Afghanistan"
          ],
          [
           "2020-07-06T20:17:40.000000",
           36.77,
           71.33,
           200,
           3.8,
           "78km ESE of Fayzabad, Afghanistan",
           " Afghanistan"
          ],
          [
           "2020-07-06T07:28:59.000000",
           38.02,
           77.75,
           150,
           4.2,
           "411km NNE of Kargil, Laddakh, India",
           " Laddakh"
          ],
          [
           "2020-07-05T17:26:37.000000",
           23.24,
           93.24,
           77,
           4.6,
           "25km SSW of Champhai, Mizoram, India",
           " Mizoram"
          ],
          [
           "2020-07-05T17:11:07.000000",
           23.56,
           70.36,
           27,
           3.9,
           "146km NNW of Rajkot, Gujarat, India",
           " Gujarat"
          ],
          [
           "2020-07-05T16:02:47.000000",
           36.28,
           71.52,
           30,
           4.2,
           "125km SE of Fayzabad, Afghanistan",
           " Afghanistan"
          ],
          [
           "2020-07-05T13:02:15.000000",
           36.44,
           71.15,
           30,
           3.7,
           "90km SE of Fayzabad, Afghanistan",
           " Afghanistan"
          ],
          [
           "2020-07-05T03:37:30.000000",
           38.11,
           74.17,
           134,
           4.7,
           "338km ENE of Fayzabad, Afghanistan",
           " Afghanistan"
          ],
          [
           "2020-07-04T17:42:17.000000",
           35.43,
           82.21,
           150,
           4.2,
           "427km NE of Hanley, Jammu & Kashmir, India",
           " Jammu & Kashmir"
          ],
          [
           "2020-07-04T17:02:49.000000",
           36.5,
           71.01,
           150,
           4,
           "78km SSE of Fayzabad, Afghanistan",
           " Afghanistan"
          ],
          [
           "2020-07-04T15:22:59.000000",
           39.5,
           71.05,
           70,
           5.4,
           "221km ENE of Dushanbe, Tajikistan",
           " Tajikistan"
          ],
          [
           "2020-07-03T19:00:50.000000",
           28,
           76.69,
           35,
           4.7,
           "60km SSW of Gurugram, Haryana, India",
           " Haryana"
          ],
          [
           "2020-07-03T14:35:41.000000",
           23.02,
           93.53,
           25,
           4.6,
           "52km SSE of Champhai, Mizoram, India",
           " Mizoram"
          ],
          [
           "2020-07-03T12:44:56.000000",
           39.85,
           77.01,
           66,
           4.3,
           "393km SSE of Bishkek, Kyrgyzstan",
           " Kyrgyzstan"
          ],
          [
           "2020-07-03T12:26:28.000000",
           37.79,
           69.85,
           15,
           3.2,
           "98km NW of Fayzabad, Afghanistan",
           " Afghanistan"
          ],
          [
           "2020-07-03T05:34:55.000000",
           36.45,
           71.1,
           70,
           3.9,
           "87km SE of Fayzabad, Afghanistan",
           " Afghanistan"
          ],
          [
           "2020-07-02T16:35:14.000000",
           35,
           71.6,
           30,
           4.2,
           "197km NW of Islamabad, Pakistan",
           " Pakistan"
          ],
          [
           "2020-07-02T14:02:12.000000",
           32.95,
           75.86,
           5,
           3.6,
           "86km E of Katra, Jammu and Kashmir, India",
           " Jammu and Kashmir"
          ],
          [
           "2020-07-02T13:10:39.000000",
           32.93,
           75.88,
           5,
           4.4,
           "88km E of Katra, Jammu and Kashmir, India",
           " Jammu and Kashmir"
          ],
          [
           "2020-07-02T10:57:52.000000",
           32.74,
           69.74,
           60,
           4.1,
           "207km SSE of Kabul , Afghanistan",
           " Afghanistan"
          ],
          [
           "2020-07-02T09:53:18.000000",
           36.39,
           71.11,
           120,
           4,
           "93km SSE of Fayzabad, Afghanistan",
           " Afghanistan"
          ],
          [
           "2020-07-02T03:07:23.000000",
           36.05,
           71.56,
           252.7,
           4.2,
           "147km SE of Fayzabad, Afghanistan",
           " Afghanistan"
          ],
          [
           "2020-07-01T10:13:03.000000",
           37.11,
           71.89,
           180,
           4.5,
           "118km E of Fayzabad, Afghanistan",
           " Afghanistan"
          ],
          [
           "2020-07-01T04:08:19.000000",
           25.99,
           92.2,
           5,
           2.6,
           "39km ENE of Nongpoh, Meghalaya, India",
           " Meghalaya"
          ],
          [
           "2020-07-01T02:57:51.000000",
           25.37,
           91.58,
           8,
           2.9,
           "18km NW of Cherrapunjee, Meghalaya, India",
           " Meghalaya"
          ],
          [
           "2020-06-30T23:32:27.000000",
           33.14,
           76.03,
           5,
           4.6,
           "103km E of Katra, Jammu and Kashmir, India",
           " Jammu and Kashmir"
          ],
          [
           "2020-06-30T21:53:54.000000",
           36.82,
           71.36,
           167,
           3.8,
           "78km ESE of Fayzabad, Afghanistan",
           " Afghanistan"
          ],
          [
           "2020-06-30T08:56:56.000000",
           33.13,
           75.82,
           10,
           4,
           "84km E of Katra, Jammu and Kashmir, India",
           " Jammu and Kashmir"
          ],
          [
           "2020-06-30T05:46:06.000000",
           28.86,
           76.47,
           8.6,
           2.4,
           "13km WSW of Rohtak, Haryana, India",
           " Haryana"
          ],
          [
           "2020-06-30T03:14:09.000000",
           28.83,
           76.73,
           5,
           1.8,
           "14km ESE of Rohtak, Haryana, India",
           " Haryana"
          ],
          [
           "2020-06-29T18:23:24.000000",
           37.04,
           71.47,
           85,
           5,
           "81km E of Fayzabad, Afghanistan",
           " Afghanistan"
          ],
          [
           "2020-06-29T12:55:30.000000",
           34.27,
           71.87,
           10,
           4,
           "126km WNW of Islamabad, Pakistan",
           " Pakistan"
          ],
          [
           "2020-06-28T21:53:43.000000",
           36.65,
           70.93,
           18,
           3.5,
           "60km SE of Fayzabad, Afghanistan",
           " Afghanistan"
          ],
          [
           "2020-06-28T18:59:10.000000",
           36.86,
           72.78,
           80,
           4.3,
           "199km E of Fayzabad, Afghanistan",
           " Afghanistan"
          ],
          [
           "2020-06-28T14:49:34.000000",
           25.1,
           94.3,
           59,
           2.3,
           "12km WSW of Shirui, Manipur, India",
           " Manipur"
          ],
          [
           "2020-06-28T12:24:59.000000",
           25.81,
           90.33,
           6,
           3.9,
           "35km NNE of Tura, Meghalaya, India",
           " Meghalaya"
          ],
          [
           "2020-06-28T11:24:37.000000",
           24.74,
           94.4,
           60,
           4,
           "22km SSW of Ukhrul, Manipur, India",
           " Manipur"
          ],
          [
           "2020-06-28T08:56:25.000000",
           12.98,
           92.7,
           45,
           4.1,
           "44km SW of Diglipur, Andaman and Nicobar island, India",
           " Andaman and Nicobar island"
          ],
          [
           "2020-06-27T21:11:23.000000",
           28.92,
           76.58,
           5,
           2.4,
           "3km NW of Rohtak, Haryana, India",
           " Haryana"
          ],
          [
           "2020-06-27T16:51:30.000000",
           37.24,
           72.42,
           100,
           3.8,
           "166km E of Fayzabad, Afghanistan",
           " Afghanistan"
          ],
          [
           "2020-06-27T12:32:24.000000",
           35.05,
           81.15,
           170,
           4.4,
           "331km NE of Hanley, Jammu & Kashmir, India",
           " Jammu & Kashmir"
          ],
          [
           "2020-06-27T10:03:51.000000",
           36.51,
           69.92,
           75,
           4.9,
           "86km SW of Fayzabad, Afghanistan",
           " Afghanistan"
          ],
          [
           "2020-06-27T08:22:11.000000",
           36.23,
           70.53,
           10,
           3.6,
           "96km S of Fayzabad, Afghanistan",
           " Afghanistan"
          ],
          [
           "2020-06-26T21:35:11.000000",
           20.96,
           94.32,
           68,
           4.5,
           "199km WSW of Burma, Myanmar",
           " Myanmar"
          ],
          [
           "2020-06-26T20:15:11.000000",
           36,
           74.82,
           25,
           4.5,
           "200km NW of Kargil, Laddakh, India",
           " Laddakh"
          ],
          [
           "2020-06-26T18:57:16.000000",
           25.38,
           89.43,
           10,
           3.3,
           "79km W of Tura, Meghalaya, India",
           " Meghalaya"
          ],
          [
           "2020-06-26T15:32:36.000000",
           28.83,
           76.77,
           10,
           2.8,
           "17km ESE of Rohtak, Haryana, India",
           " Haryana"
          ],
          [
           "2020-06-26T07:00:59.000000",
           35.72,
           82.35,
           10,
           4.5,
           "459km NE of Hanley, Jammu & Kashmir, India",
           " Jammu & Kashmir"
          ],
          [
           "2020-06-26T04:38:00.000000",
           35.58,
           82.35,
           173,
           4.3,
           "448km NE of Hanley, Jammu & Kashmir, India",
           " Jammu & Kashmir"
          ],
          [
           "2020-06-26T04:21:46.000000",
           35.64,
           82.56,
           40,
           4.4,
           "466km NE of Hanley, Jammu & Kashmir, India",
           " Jammu & Kashmir"
          ],
          [
           "2020-06-26T02:47:07.000000",
           35.31,
           82.46,
           10,
           5,
           "434km NE of Hanley, Jammu & Kashmir, India",
           " Jammu & Kashmir"
          ],
          [
           "2020-06-26T02:35:19.000000",
           35.57,
           82.42,
           10,
           6.1,
           "451km NE of Hanley, Jammu & Kashmir, India",
           " Jammu & Kashmir"
          ],
          [
           "2020-06-26T01:59:45.000000",
           35.54,
           82.23,
           174,
           4.6,
           "437km NE of Hanley, Jammu & Kashmir, India",
           " Jammu & Kashmir"
          ],
          [
           "2020-06-25T20:18:02.000000",
           36.49,
           70.56,
           240,
           4,
           "67km S of Fayzabad, Afghanistan",
           " Afghanistan"
          ],
          [
           "2020-06-25T15:48:55.000000",
           24.83,
           92.54,
           58,
           2.8,
           "63km NE of Dharmanagar, Tripura, India",
           " Tripura"
          ],
          [
           "2020-06-25T03:03:41.000000",
           26.17,
           94.24,
           6,
           3.8,
           "9km NNW of Wokha, Nagaland, India",
           " Nagaland"
          ],
          [
           "2020-06-25T01:30:11.000000",
           28.98,
           76.72,
           7,
           2.2,
           "14km NE of Rohtak, Haryana, India",
           " Haryana"
          ],
          [
           "2020-06-25T01:14:44.000000",
           23.26,
           93.34,
           136,
           4.5,
           "21km S of Champhai, Mizoram, India",
           " Mizoram"
          ],
          [
           "2020-06-25T00:45:50.000000",
           23.47,
           94.07,
           100,
           4.2,
           "75km E of Champhai, Mizoram, India",
           " Mizoram"
          ],
          [
           "2020-06-24T19:19:26.000000",
           33.14,
           70.71,
           60,
           4.3,
           "209km SE of Kabul , Afghanistan",
           " Afghanistan"
          ],
          [
           "2020-06-24T19:19:26.000000",
           33.13,
           70.7,
           10,
           4.3,
           "210km SE of Kabul , Afghanistan",
           " Afghanistan"
          ],
          [
           "2020-06-24T12:58:13.000000",
           28.83,
           76.75,
           5,
           2.8,
           "15km ESE of Rohtak, Haryana, India",
           " Haryana"
          ],
          [
           "2020-06-24T09:01:01.000000",
           37.48,
           69.42,
           10,
           3.1,
           "108km WNW of Fayzabad, Afghanistan",
           " Afghanistan"
          ],
          [
           "2020-06-24T08:02:36.000000",
           23.18,
           93.25,
           10,
           4.1,
           "31km SSW of Champhai, Mizoram, India",
           " Mizoram"
          ],
          [
           "2020-06-23T23:03:48.000000",
           22.89,
           93.64,
           10,
           3.2,
           "70km SSE of Champhai, Mizoram, India",
           " Mizoram"
          ],
          [
           "2020-06-23T19:17:37.000000",
           23.01,
           93.03,
           25,
           3.7,
           "39km SE of Thenzawl, Mizoram, India",
           " Mizoram"
          ],
          [
           "2020-06-23T17:28:07.000000",
           19.54,
           77.1,
           5,
           3.3,
           "129km S of Akola,Maharashtra,India",
           "Maharashtra"
          ],
          [
           "2020-06-23T08:48:25.000000",
           37.1,
           71.66,
           125,
           3.3,
           "98km E of Fayzabad, Afghanistan",
           " Afghanistan"
          ],
          [
           "2020-06-22T19:07:18.000000",
           38.73,
           70.7,
           10,
           4.8,
           "167km E of Dushanbe, Tajikistan",
           " Tajikistan"
          ],
          [
           "2020-06-22T16:40:00.000000",
           19.33,
           83.14,
           5,
           3.6,
           "122km ENE of Jagdalpur, Chhattisgarh, India",
           " Chhattisgarh"
          ],
          [
           "2020-06-22T12:40:24.000000",
           25.77,
           94.54,
           6.6,
           2.8,
           "44km ENE of Kohima, Nagaland, India",
           " Nagaland"
          ],
          [
           "2020-06-22T09:37:57.000000",
           37.66,
           71.53,
           30,
           4.1,
           "106km NE of Fayzabad, Afghanistan",
           " Afghanistan"
          ],
          [
           "2020-06-22T04:10:52.000000",
           23.22,
           93.24,
           20,
           5.5,
           "27km SSW of Champhai, Mizoram, India",
           " Mizoram"
          ],
          [
           "2020-06-22T00:10:16.000000",
           37.09,
           71.16,
           58,
           4.3,
           "54km E of Fayzabad, Afghanistan",
           " Afghanistan"
          ],
          [
           "2020-06-21T23:45:57.000000",
           35.99,
           69.25,
           140,
           3.9,
           "159km N of Kabul , Afghanistan",
           " Afghanistan"
          ],
          [
           "2020-06-21T23:09:08.000000",
           32.33,
           85.48,
           102,
           4.6,
           "513km N of Kathmandu, Nepal",
           " Nepal"
          ],
          [
           "2020-06-21T16:16:24.000000",
           23.88,
           93.09,
           30,
           5.1,
           "12km W of Ngopa, Mizoram, India",
           " Mizoram"
          ],
          [
           "2020-06-21T01:33:46.000000",
           33.32,
           73.66,
           10,
           2.6,
           "61km W of Rajouri, Jammu and Kashmir",
           " Jammu and Kashmir"
          ],
          [
           "2020-06-20T01:52:15.000000",
           28.76,
           76.81,
           10,
           1.8,
           "23km NE of Jhajjar, Haryana",
           " Haryana"
          ],
          [
           "2020-06-19T12:03:38.000000",
           39.09,
           68.89,
           10,
           3.4,
           "59km N of Dushanbe, Tajikistan",
           " Tajikistan"
          ],
          [
           "2020-06-19T08:54:35.000000",
           36.59,
           70.96,
           30,
           3.4,
           "67km SSE of Fayzabad, Afghanistan",
           " Afghanistan"
          ],
          [
           "2020-06-19T05:37:39.000000",
           28.84,
           76.75,
           5,
           2.3,
           "15km ESE of Rohtak, Haryana, India",
           " Haryana"
          ],
          [
           "2020-06-18T21:04:23.000000",
           37,
           72.15,
           140,
           4.7,
           "142km E of Fayzabad, Afghanistan",
           " Afghanistan"
          ],
          [
           "2020-06-18T19:29:25.000000",
           22.82,
           94,
           80,
           5,
           "98km SE of Champhai, Mizoram, India",
           " Mizoram"
          ],
          [
           "2020-06-18T12:17:38.000000",
           32.62,
           71.34,
           291,
           4.4,
           "198km SW of Islamabad, Pakistan",
           " Pakistan"
          ],
          [
           "2020-06-18T10:55:44.000000",
           36.49,
           70.06,
           247,
           4.4,
           "80km SSW of Fayzabad, Afghanistan",
           " Afghanistan"
          ],
          [
           "2020-06-18T09:44:48.000000",
           35.87,
           71.08,
           98,
           4.5,
           "144km SSE of Fayzabad, Afghanistan",
           " Afghanistan"
          ],
          [
           "2020-06-18T07:32:18.000000",
           6.56,
           92.81,
           10,
           4.8,
           "130km WSW of Campbell Bay, Andaman and Nicobar island, India",
           " Andaman and Nicobar island"
          ],
          [
           "2020-06-18T04:18:30.000000",
           28.81,
           76.73,
           5,
           2.1,
           "15km SE of Rohtak, Haryana, India",
           " Haryana"
          ],
          [
           "2020-06-17T21:02:26.000000",
           36.57,
           70.75,
           10,
           3.4,
           "61km SSE of Fayzabad, Afghanistan",
           " Afghanistan"
          ],
          [
           "2020-06-17T12:28:22.000000",
           25.34,
           63.66,
           10,
           4.7,
           "568km ENE of Muscat, Oman",
           " Oman"
          ],
          [
           "2020-06-17T11:51:19.000000",
           20,
           72.8,
           10,
           2.5,
           "103km N of Mumbai, Maharashtra, India",
           " Maharashtra"
          ],
          [
           "2020-06-17T05:05:14.000000",
           36.6,
           70.9,
           180,
           4.4,
           "63km SSE of Fayzabad, Afghanistan",
           " Afghanistan"
          ],
          [
           "2020-06-17T03:14:36.000000",
           31.14,
           72.06,
           18,
           3.9,
           "272km W of Amritsar, Punjab, India",
           " Punjab"
          ],
          [
           "2020-06-16T17:38:52.000000",
           33.93,
           70.57,
           14,
           3.6,
           "143km ESE of Kabul , Afghanistan",
           " Afghanistan"
          ],
          [
           "2020-06-16T16:45:51.000000",
           19.07,
           94.1,
           21,
           4.9,
           "330km NW of Rangoon, Myanmar",
           " Myanmar"
          ],
          [
           "2020-06-16T14:51:37.000000",
           36.48,
           70.96,
           230,
           5,
           "78km SSE of Fayzabad, Afghanistan",
           " Afghanistan"
          ],
          [
           "2020-06-16T14:10:10.000000",
           33.02,
           75.85,
           5,
           3.9,
           "85km E of Katra, Jammu and Kashmir, India",
           " Jammu and Kashmir"
          ],
          [
           "2020-06-15T22:53:49.000000",
           36.1,
           69.8,
           88,
           3.9,
           "129km SSW of Fayzabad, Afghanistan",
           " Afghanistan"
          ],
          [
           "2020-06-15T22:07:39.000000",
           34.1,
           75.7,
           10,
           3.6,
           "36km ENE of Pahalgam, Jammu and Kashmir, India",
           " Jammu and Kashmir"
          ],
          [
           "2020-06-15T15:56:03.000000",
           23.4,
           70.3,
           15,
           3.5,
           "132km NNW of Rajkot, Gujarat, India",
           " Gujarat"
          ],
          [
           "2020-06-15T15:01:17.000000",
           36.2,
           70.5,
           178,
           3.5,
           "100km S of Fayzabad, Afghanistan",
           " Afghanistan"
          ],
          [
           "2020-06-15T12:57:35.000000",
           23.3,
           70.4,
           10,
           4.1,
           "118km NNW of Rajkot, Gujarat, India",
           " Gujarat"
          ],
          [
           "2020-06-15T06:31:10.000000",
           33,
           75.9,
           5,
           3.9,
           "90km E of Katra, Jammu and Kashmir, India",
           " Jammu and Kashmir"
          ],
          [
           "2020-06-15T04:36:17.000000",
           33,
           75.9,
           5,
           3,
           "90km E of Katra, Jammu and Kashmir, India",
           " Jammu and Kashmir"
          ],
          [
           "2020-06-15T04:07:55.000000",
           33,
           75.9,
           5,
           3.2,
           "90km E of Katra, Jammu and Kashmir, India",
           " Jammu and Kashmir"
          ],
          [
           "2020-06-15T04:01:11.000000",
           33,
           75.9,
           5,
           3.4,
           "90km E of Katra, Jammu and Kashmir, India",
           " Jammu and Kashmir"
          ],
          [
           "2020-06-15T00:16:55.000000",
           33.1,
           75.8,
           5,
           2.3,
           "81km E of Katra, Jammu and Kashmir, India",
           " Jammu and Kashmir"
          ],
          [
           "2020-06-14T21:37:52.000000",
           36.2,
           70.9,
           150,
           3.8,
           "104km SSE of Fayzabad, Afghanistan",
           " Afghanistan"
          ],
          [
           "2020-06-14T20:35:24.000000",
           33,
           75.9,
           5,
           2.9,
           "90km E of Katra, Jammu and Kashmir, India",
           " Jammu and Kashmir"
          ],
          [
           "2020-06-14T20:13:08.000000",
           23.3,
           70.4,
           10,
           5.3,
           "118km NNW of Rajkot, Gujarat, India",
           " Gujarat"
          ],
          [
           "2020-06-14T16:01:15.000000",
           36.5,
           69.6,
           130,
           3.8,
           "107km SW of Fayzabad, Afghanistan",
           " Afghanistan"
          ],
          [
           "2020-06-14T14:14:06.000000",
           38.4,
           73.4,
           114,
           3.9,
           "289km ENE of Fayzabad, Afghanistan",
           " Afghanistan"
          ],
          [
           "2020-06-14T11:05:31.000000",
           23.2,
           93.6,
           48,
           5,
           "39km SE of Champhai, Mizoram, India",
           " Mizoram"
          ],
          [
           "2020-06-14T08:09:57.000000",
           26.7,
           96.2,
           112,
           4.4,
           "123km SSW of Changlang, Arunachal Pradesh, India",
           " Arunachal Pradesh"
          ],
          [
           "2020-06-14T07:05:14.000000",
           36.9,
           71.4,
           95,
           4.2,
           "78km ESE of Fayzabad, Afghanistan",
           " Afghanistan"
          ],
          [
           "2020-06-14T04:12:49.000000",
           24.4,
           93.7,
           30,
           2.9,
           "13km SW of Moirang, Manipur, India",
           " Manipur"
          ],
          [
           "2020-06-14T01:38:00.000000",
           39.6,
           74.8,
           45,
           4.2,
           "364km S of Bishkek, Kyrgyzstan",
           " Kyrgyzstan"
          ],
          [
           "2020-06-13T14:01:39.000000",
           38.6,
           68.5,
           60,
           3.6,
           "25km W of Dushanbe, Tajikistan",
           " Tajikistan"
          ],
          [
           "2020-06-13T10:26:33.000000",
           30,
           69.5,
           35,
           4.3,
           "430km WNW of Bikaner, Rajasthan, India",
           " Rajasthan"
          ],
          [
           "2020-06-13T05:02:37.000000",
           32.9,
           72.6,
           10,
           4.2,
           "96km SSW of Islamabad, Pakistan",
           " Pakistan"
          ],
          [
           "2020-06-12T19:19:34.000000",
           34.29,
           72.58,
           31,
           4.4,
           "80km NNW of Islamabad, Pakistan",
           " Pakistan"
          ],
          [
           "2020-06-12T19:03:42.000000",
           26.4,
           91.3,
           10,
           3.4,
           "51km WNW of Guwahati, Assam, India",
           " Assam"
          ],
          [
           "2020-06-12T16:50:29.000000",
           31.8,
           69.9,
           30,
           4.4,
           "313km SSE of Kabul , Afghanistan",
           " Afghanistan"
          ],
          [
           "2020-06-12T13:06:12.000000",
           38.3,
           74.6,
           150,
           4,
           "380km ENE of Fayzabad, Afghanistan",
           " Afghanistan"
          ],
          [
           "2020-06-12T13:06:11.000000",
           38.2,
           74.1,
           150,
           4.6,
           "335km ENE of Fayzabad, Afghanistan",
           " Afghanistan"
          ],
          [
           "2020-06-11T15:14:54.000000",
           39.9,
           74.7,
           30,
           3.4,
           "330km S of Bishkek, Kyrgyzstan",
           " Kyrgyzstan"
          ],
          [
           "2020-06-11T15:01:55.000000",
           24.7,
           94.9,
           110,
           3.6,
           "49km ESE of Ukhrul, Manipur, India",
           " Manipur"
          ],
          [
           "2020-06-11T13:37:19.000000",
           37.4,
           76.7,
           60,
           4,
           "320km N of Kargil, Laddakh, India",
           " Laddakh"
          ],
          [
           "2020-06-11T03:32:59.000000",
           32.2,
           76.3,
           10,
           2.6,
           "3km SW of Dharamshala, Himachal Pradesh, India",
           " Himachal Pradesh"
          ],
          [
           "2020-06-10T19:27:56.000000",
           32.6,
           76.1,
           5,
           2.5,
           "47km NNW of Dharamshala, Himachal Pradesh, India",
           " Himachal Pradesh"
          ],
          [
           "2020-06-10T19:25:24.000000",
           34.2,
           70.6,
           150,
           4.7,
           "133km ESE of Kabul , Afghanistan",
           " Afghanistan"
          ],
          [
           "2020-06-10T12:08:11.000000",
           20.1,
           72.8,
           7,
           2.8,
           "104km W of Nashik, Maharashtra, India",
           " Maharashtra"
          ],
          [
           "2020-06-10T04:33:32.000000",
           19.2,
           72.2,
           10,
           3,
           "72km W of Mumbai, India",
           " India"
          ],
          [
           "2020-06-10T02:17:37.000000",
           14,
           92.3,
           50,
           4.3,
           "110km NW of Diglipur, Andaman and Nicobar island, India",
           " Andaman and Nicobar island"
          ],
          [
           "2020-06-09T23:34:24.000000",
           25,
           93.9,
           28,
           2.9,
           "20km N of Imphal, Manipur, India",
           " Manipur"
          ],
          [
           "2020-06-09T13:29:45.000000",
           28.8,
           91.9,
           10,
           4.5,
           "135km N of Tawang, Arunachal Pradesh, India",
           " Arunachal Pradesh"
          ],
          [
           "2020-06-08T23:21:31.000000",
           29.7,
           60.8,
           10,
           4.7,
           "720km NNE of Muscat, Oman",
           " Oman"
          ],
          [
           "2020-06-08T20:02:39.000000",
           38.1,
           76.1,
           145,
           4.2,
           "394km N of Kargil, Laddakh, India",
           " Laddakh"
          ],
          [
           "2020-06-08T13:00:34.000000",
           28.85,
           76.76,
           19,
           2.1,
           "15km ESE of Rohtak, Haryana, India",
           " Haryana"
          ],
          [
           "2020-06-08T02:15:35.000000",
           37.9,
           72.6,
           124,
           4.2,
           "201km ENE of Fayzabad, Afghanistan",
           " Afghanistan"
          ],
          [
           "2020-06-07T11:55:31.000000",
           28.7,
           76.7,
           5,
           1.8,
           "11km NNE of Jhajjar, Haryana",
           " Haryana"
          ],
          [
           "2020-06-07T10:38:56.000000",
           36.1,
           70.7,
           160,
           3.7,
           "112km S of Fayzabad, Afghanistan",
           " Afghanistan"
          ],
          [
           "2020-06-07T05:20:37.000000",
           1.8,
           97.2,
           10,
           4.9,
           "520km WSW of Kuala Lumpur, Malaysia",
           " Malaysia"
          ],
          [
           "2020-06-06T16:25:58.000000",
           35.258,
           90.868,
           10,
           5.4,
           "859km N of Tawang, Arunachal Pradesh, India",
           " Arunachal Pradesh"
          ],
          [
           "2020-06-06T16:19:34.000000",
           35.44,
           72.25,
           270,
           4.8,
           "208km NNW of Islamabad, Pakistan",
           " Pakistan"
          ],
          [
           "2020-06-06T03:42:20.000000",
           37.5,
           72.3,
           159,
           4.2,
           "161km ENE of Fayzabad, Afghanistan",
           " Afghanistan"
          ],
          [
           "2020-06-05T10:47:19.000000",
           37.6,
           71.3,
           255,
           3.9,
           "86km NE of Fayzabad, Afghanistan",
           " Afghanistan"
          ],
          [
           "2020-06-05T01:43:09.000000",
           25.6,
           91.4,
           10,
           2.3,
           "49km NW of Cherrapunjee, Meghalaya, India",
           " Meghalaya"
          ],
          [
           "2020-06-04T23:49:21.000000",
           36.2,
           71.2,
           62,
           4.1,
           "115km SSE of Fayzabad, Afghanistan",
           " Afghanistan"
          ],
          [
           "2020-06-03T22:42:29.000000",
           28.4,
           77.5,
           4,
           3,
           "17km E of Faridabad, Haryana, India",
           " Haryana"
          ],
          [
           "2020-06-03T12:37:13.000000",
           36.7,
           71,
           15,
           3.5,
           "59km SE of Fayzabad, Afghanistan",
           " Afghanistan"
          ],
          [
           "2020-06-03T07:10:49.000000",
           24.8,
           91.1,
           55,
           4.3,
           "82km SW of Cherrapunjee, Meghalaya, India",
           " Meghalaya"
          ],
          [
           "2020-06-02T08:18:59.000000",
           25.1,
           93.8,
           23,
           3,
           "34km NNW of Imphal, Manipur, India",
           " Manipur"
          ],
          [
           "2020-06-02T07:57:47.000000",
           37,
           71,
           200,
           3.5,
           "41km ESE of Fayzabad, Afghanistan",
           " Afghanistan"
          ],
          [
           "2020-06-02T07:14:41.000000",
           24.7,
           96.3,
           100,
           3.9,
           "185km E of Ukhrul, Manipur, India",
           " Manipur"
          ],
          [
           "2020-06-02T07:09:00.000000",
           19.5,
           77.1,
           10,
           3.4,
           "134km S of Akola,Maharashtra,India",
           "Maharashtra"
          ],
          [
           "2020-06-02T04:53:18.000000",
           28.2,
           91.9,
           10,
           3.5,
           "69km N of Tawang, Arunachal Pradesh, India",
           " Arunachal Pradesh"
          ],
          [
           "2020-06-02T01:03:11.000000",
           30.8,
           78.7,
           5,
           2.8,
           "26km ENE of Uttarkashi, Uttarakhand, India",
           " Uttarakhand"
          ],
          [
           "2020-06-01T18:42:05.000000",
           28.8,
           76.7,
           10,
           3,
           "14km SE of Rohtak, Haryana, India",
           " Haryana"
          ],
          [
           "2020-06-01T04:50:27.000000",
           28.7,
           76.7,
           5,
           1.8,
           "11km NNE of Jhajjar, Haryana",
           " Haryana"
          ],
          [
           "2020-05-31T10:38:28.000000",
           32.2,
           74.5,
           10,
           3.3,
           "72km NNW of Amritsar, Punjab, India",
           " Punjab"
          ],
          [
           "2020-05-31T06:24:36.000000",
           25.1,
           94.9,
           82,
           4,
           "46km ENE of Ukhrul, Manipur, India",
           " Manipur"
          ],
          [
           "2020-05-30T23:44:53.000000",
           36.4,
           70.9,
           130,
           4,
           "83km SSE of Fayzabad, Afghanistan",
           " Afghanistan"
          ],
          [
           "2020-05-30T21:21:43.000000",
           27.8,
           84.9,
           40,
           4.1,
           "42km WNW of Kathmandu, Nepal",
           " Nepal"
          ],
          [
           "2020-05-30T09:15:33.000000",
           35.08,
           78.33,
           15,
           4.2,
           "124km NNE of Leh, Laddakh, India",
           " Laddakh"
          ],
          [
           "2020-05-30T08:04:45.000000",
           36.9,
           70.7,
           227,
           4.2,
           "25km SSE of Fayzabad, Afghanistan",
           " Afghanistan"
          ],
          [
           "2020-05-30T04:24:07.000000",
           25,
           64.5,
           10,
           4.6,
           "548km NW of Dwarka, Gujarat, India",
           " Gujarat"
          ],
          [
           "2020-05-29T23:53:28.000000",
           23.2,
           93.8,
           5,
           3.2,
           "56km ESE of Champhai, Mizoram, India",
           " Mizoram"
          ],
          [
           "2020-05-29T22:00:07.000000",
           28.8,
           76.7,
           10,
           2.9,
           "14km SE of Rohtak, Haryana, India",
           " Haryana"
          ],
          [
           "2020-05-29T21:08:40.000000",
           28.8,
           76.7,
           15,
           4.5,
           "14km SE of Rohtak, Haryana, India",
           " Haryana"
          ],
          [
           "2020-05-29T18:54:18.000000",
           36.4,
           70.2,
           220,
           4.2,
           "83km SSW of Fayzabad, Afghanistan",
           " Afghanistan"
          ],
          [
           "2020-05-29T06:00:30.000000",
           11.7,
           92.4,
           10,
           4.5,
           "36km WNW of Portblair, Andaman and Nicobar island, India",
           " Andaman and Nicobar island"
          ],
          [
           "2020-05-28T22:05:48.000000",
           35.3,
           79.3,
           150,
           4.3,
           "202km NE of Leh, Laddakh, India",
           " Laddakh"
          ],
          [
           "2020-05-28T16:24:30.000000",
           28.4,
           77.4,
           10,
           2.5,
           "8km E of Faridabad, Haryana, India",
           " Haryana"
          ],
          [
           "2020-05-28T12:42:53.000000",
           36.5,
           70.7,
           149,
           4.3,
           "68km SSE of Fayzabad, Afghanistan",
           " Afghanistan"
          ],
          [
           "2020-05-27T16:02:15.000000",
           36.2,
           70.7,
           16,
           3.6,
           "101km S of Fayzabad, Afghanistan",
           " Afghanistan"
          ],
          [
           "2020-05-27T15:33:36.000000",
           36.7,
           71.7,
           70,
           3.4,
           "111km ESE of Fayzabad, Afghanistan",
           " Afghanistan"
          ],
          [
           "2020-05-27T14:16:23.000000",
           34.4,
           70.6,
           10,
           4,
           "128km E of Kabul , Afghanistan",
           " Afghanistan"
          ],
          [
           "2020-05-27T14:06:13.000000",
           38,
           69.3,
           15,
           3,
           "76km SE of Dushanbe, Tajikistan",
           " Tajikistan"
          ],
          [
           "2020-05-27T13:35:10.000000",
           38,
           69.3,
           12,
           4,
           "76km SE of Dushanbe, Tajikistan",
           " Tajikistan"
          ],
          [
           "2020-05-27T11:01:45.000000",
           34.38,
           70.45,
           84,
           4.4,
           "115km E of Kabul , Afghanistan",
           " Afghanistan"
          ],
          [
           "2020-05-26T19:25:55.000000",
           37.9,
           72.7,
           160,
           4.8,
           "209km ENE of Fayzabad, Afghanistan",
           " Afghanistan"
          ],
          [
           "2020-05-26T02:21:53.000000",
           36.7,
           71.5,
           146,
           4.2,
           "95km ESE of Fayzabad, Afghanistan",
           " Afghanistan"
          ],
          [
           "2020-05-26T01:12:31.000000",
           31.1,
           92.62,
           10,
           4.8,
           "398km N of Tawang, Arunachal Pradesh, India",
           " Arunachal Pradesh"
          ],
          [
           "2020-05-25T20:25:33.000000",
           24.4,
           93.6,
           32,
           2.6,
           "20km WSW of Moirang, Manipur, India",
           " Manipur"
          ],
          [
           "2020-05-25T20:12:15.000000",
           24.4,
           93.7,
           40,
           5.2,
           "13km SW of Moirang, Manipur, India",
           " Manipur"
          ],
          [
           "2020-05-25T15:17:56.000000",
           35.9,
           68.9,
           32,
           3.7,
           "152km N of Kabul , Afghanistan",
           " Afghanistan"
          ],
          [
           "2020-05-25T11:22:41.000000",
           36.1,
           70.8,
           90,
           3.4,
           "113km SSE of Fayzabad, Afghanistan",
           " Afghanistan"
          ],
          [
           "2020-05-25T05:44:01.000000",
           33.3,
           67.8,
           30,
           4.6,
           "190km SW of Kabul , Afghanistan",
           " Afghanistan"
          ],
          [
           "2020-05-25T04:00:56.000000",
           34.4,
           70.2,
           38,
           4.4,
           "92km E of Kabul , Afghanistan",
           " Afghanistan"
          ],
          [
           "2020-05-25T00:45:36.000000",
           35.8,
           70.9,
           78,
           4.9,
           "147km SSE of Fayzabad, Afghanistan",
           " Afghanistan"
          ],
          [
           "2020-05-24T23:07:32.000000",
           36.7,
           72.8,
           184,
           3.9,
           "205km E of Fayzabad, Afghanistan",
           " Afghanistan"
          ],
          [
           "2020-05-24T19:51:30.000000",
           37.3,
           72.4,
           150,
           3.9,
           "165km E of Fayzabad, Afghanistan",
           " Afghanistan"
          ],
          [
           "2020-05-24T16:35:40.000000",
           37,
           71.9,
           140,
           3.9,
           "120km E of Fayzabad, Afghanistan",
           " Afghanistan"
          ],
          [
           "2020-05-23T14:41:35.000000",
           14.2,
           94,
           80,
           4.7,
           "151km NE of Diglipur, Andaman and Nicobar island, India",
           " Andaman and Nicobar island"
          ],
          [
           "2020-05-23T01:13:09.000000",
           11.5,
           93.4,
           10,
           4.1,
           "74km E of Portblair, Andaman and Nicobar island, India",
           " Andaman and Nicobar island"
          ],
          [
           "2020-05-23T00:08:22.000000",
           32.7,
           85.6,
           130,
           4.4,
           "554km N of Kathmandu, Nepal",
           " Nepal"
          ],
          [
           "2020-05-22T23:22:27.000000",
           36.9,
           71.5,
           180,
           4.3,
           "87km ESE of Fayzabad, Afghanistan",
           " Afghanistan"
          ],
          [
           "2020-05-22T21:36:58.000000",
           23.6,
           94,
           16,
           3.4,
           "70km ENE of Champhai, Mizoram, India",
           " Mizoram"
          ],
          [
           "2020-05-22T19:14:58.000000",
           32.6,
           85.6,
           148,
           4.7,
           "543km N of Kathmandu, Nepal",
           " Nepal"
          ],
          [
           "2020-05-22T14:08:45.000000",
           36.2,
           78,
           10,
           4.1,
           "230km N of Leh, Laddakh, India",
           " Laddakh"
          ],
          [
           "2020-05-22T12:29:06.000000",
           36.4,
           70,
           30,
           4,
           "92km SSW of Fayzabad, Afghanistan",
           " Afghanistan"
          ],
          [
           "2020-05-22T12:13:28.000000",
           24.84,
           95.11,
           137,
           3.8,
           "64km E of Ukhrul, Manipur, India",
           " Manipur"
          ],
          [
           "2020-05-22T09:07:01.000000",
           37.87,
           69.52,
           30,
           4.5,
           "99km SE of Dushanbe, Tajikistan",
           " Tajikistan"
          ],
          [
           "2020-05-22T04:38:33.000000",
           32.8,
           85.6,
           153,
           4.3,
           "565km N of Kathmandu, Nepal",
           " Nepal"
          ],
          [
           "2020-05-22T03:26:45.000000",
           25,
           94.9,
           113,
           3.6,
           "43km E of Ukhrul, Manipur, India",
           " Manipur"
          ],
          [
           "2020-05-22T02:03:54.000000",
           27.2,
           92.4,
           10,
           2.3,
           "66km SE of Tawang, Arunachal Pradesh, India",
           " Arunachal Pradesh"
          ],
          [
           "2020-05-21T08:29:52.000000",
           37.6,
           72.4,
           100,
           4.6,
           "172km ENE of Fayzabad, Afghanistan",
           " Afghanistan"
          ],
          [
           "2020-05-19T17:33:33.000000",
           36.4,
           69.8,
           70,
           4.8,
           "102km SW of Fayzabad, Afghanistan",
           " Afghanistan"
          ],
          [
           "2020-05-19T09:21:09.000000",
           27.88,
           75.82,
           20,
           3.2,
           "107km N of Jaipur, Rajasthan, India",
           " Rajasthan"
          ],
          [
           "2020-05-18T20:35:36.000000",
           23.9,
           94.3,
           22,
           4,
           "85km SE of Moirang, Manipur, India",
           " Manipur"
          ],
          [
           "2020-05-18T09:24:24.000000",
           36.9,
           71.9,
           233,
           4.3,
           "121km E of Fayzabad, Afghanistan",
           " Afghanistan"
          ],
          [
           "2020-05-18T07:53:48.000000",
           32.3,
           76,
           5,
           3.5,
           "31km WNW of Dharamshala, Himachal Pradesh, India",
           " Himachal Pradesh"
          ],
          [
           "2020-05-18T05:54:08.000000",
           32.7,
           76.7,
           5,
           3,
           "64km NNE of Dharamshala, Himachal Pradesh, India",
           " Himachal Pradesh"
          ],
          [
           "2020-05-17T10:02:23.000000",
           20.57,
           95.84,
           60,
           4.7,
           "90km SW of Ywangan, Myanmar",
           " Myanmar"
          ],
          [
           "2020-05-17T08:57:18.000000",
           25,
           94.7,
           110,
           3.2,
           "23km ENE of Ukhrul, Manipur, India",
           " Manipur"
          ],
          [
           "2020-05-17T06:05:13.000000",
           1.1,
           92.2,
           45,
           4.9,
           "683km SSW of Campbell Bay, Andaman and Nicobar island, India",
           " Andaman and Nicobar island"
          ],
          [
           "2020-05-16T21:23:42.000000",
           36.7,
           71.3,
           248,
           4,
           "80km ESE of Fayzabad, Afghanistan",
           " Afghanistan"
          ],
          [
           "2020-05-16T16:45:58.000000",
           36.4,
           70.9,
           140,
           3.9,
           "83km SSE of Fayzabad, Afghanistan",
           " Afghanistan"
          ],
          [
           "2020-05-16T14:49:20.000000",
           31.5,
           77.4,
           10,
           3.8,
           "46km ESE of Mandi, Himachal Pradesh, India",
           " Himachal Pradesh"
          ],
          [
           "2020-05-16T08:54:21.000000",
           32.8,
           72.6,
           30,
           4,
           "106km SSW of Islamabad, Pakistan",
           " Pakistan"
          ],
          [
           "2020-05-16T05:50:21.000000",
           36.3,
           71.2,
           92,
           4.6,
           "106km SE of Fayzabad, Afghanistan",
           " Afghanistan"
          ],
          [
           "2020-05-16T03:44:42.000000",
           25.5,
           91.6,
           10,
           2.2,
           "28km NNW of Cherrapunjee, Meghalaya, India",
           " Meghalaya"
          ],
          [
           "2020-05-16T00:08:20.000000",
           36.5,
           70.5,
           196,
           4.5,
           "66km S of Fayzabad, Afghanistan",
           " Afghanistan"
          ],
          [
           "2020-05-15T18:22:47.000000",
           26,
           62.3,
           30,
           4.9,
           "477km NE of Muscat, Oman",
           " Oman"
          ],
          [
           "2020-05-15T13:50:53.000000",
           37,
           72,
           90,
           4,
           "129km E of Fayzabad, Afghanistan",
           " Afghanistan"
          ],
          [
           "2020-05-15T11:28:51.000000",
           28.7,
           77.2,
           22,
           2.2,
           "9km N of New Delhi, India",
           " India"
          ],
          [
           "2020-05-15T10:11:03.000000",
           30.3,
           65.5,
           10,
           4,
           "587km SW of Kabul , Afghanistan",
           " Afghanistan"
          ],
          [
           "2020-05-14T08:31:24.000000",
           36.3,
           71,
           170,
           3.8,
           "97km SSE of Fayzabad, Afghanistan",
           " Afghanistan"
          ],
          [
           "2020-05-14T07:50:04.000000",
           36.7,
           71,
           125,
           3.6,
           "59km SE of Fayzabad, Afghanistan",
           " Afghanistan"
          ],
          [
           "2020-05-14T05:57:21.000000",
           29.6,
           70.5,
           175,
           4.1,
           "325km WNW of Bikaner, Rajasthan, India",
           " Rajasthan"
          ],
          [
           "2020-05-14T05:43:56.000000",
           39.7,
           73.7,
           10,
           3.7,
           "360km S of Bishkek, Kyrgyzstan",
           " Kyrgyzstan"
          ],
          [
           "2020-05-14T02:39:34.000000",
           39.6,
           73.9,
           40,
           4.7,
           "368km S of Bishkek, Kyrgyzstan",
           " Kyrgyzstan"
          ],
          [
           "2020-05-14T00:51:52.000000",
           36,
           70.2,
           237,
           4.2,
           "126km SSW of Fayzabad, Afghanistan",
           " Afghanistan"
          ],
          [
           "2020-05-14T00:10:33.000000",
           30,
           87.3,
           178,
           4.1,
           "292km NNW of Lachung, Sikkim, India",
           " Sikkim"
          ],
          [
           "2020-05-13T13:38:41.000000",
           30.6,
           70.9,
           10,
           4.2,
           "369km NW of Bikaner, Rajasthan, India",
           " Rajasthan"
          ],
          [
           "2020-05-13T08:40:11.000000",
           36.5,
           67.7,
           10,
           4.2,
           "248km SSW of Dushanbe, Tajikistan",
           " Tajikistan"
          ],
          [
           "2020-05-13T05:50:33.000000",
           26.1,
           89.9,
           22,
           2.9,
           "71km NNW of Tura, Meghalaya, India",
           " Meghalaya"
          ],
          [
           "2020-05-13T01:09:27.000000",
           26.8,
           93.4,
           10,
           2.8,
           "37km SSW of Itanagar, Arunachal Pradesh, India",
           " Arunachal Pradesh"
          ],
          [
           "2020-05-12T23:38:40.000000",
           27.7,
           86.1,
           10,
           4.7,
           "76km E of Kathmandu, Nepal",
           " Nepal"
          ],
          [
           "2020-05-12T19:46:18.000000",
           36.5,
           70.8,
           140,
           4.3,
           "70km SSE of Fayzabad, Afghanistan",
           " Afghanistan"
          ],
          [
           "2020-05-12T07:43:20.000000",
           36.43,
           70.87,
           152,
           4.2,
           "79km SSE of Fayzabad, Afghanistan",
           " Afghanistan"
          ],
          [
           "2020-05-12T04:09:35.000000",
           24.9,
           93.9,
           47,
           4.4,
           "9km NNW of Imphal, Manipur, India",
           " Manipur"
          ],
          [
           "2020-05-11T23:05:19.000000",
           37.1,
           72.3,
           11,
           3.8,
           "155km E of Fayzabad, Afghanistan",
           " Afghanistan"
          ],
          [
           "2020-05-11T22:27:05.000000",
           23.6,
           94.3,
           120,
           4,
           "100km E of Champhai, Mizoram, India",
           " Mizoram"
          ],
          [
           "2020-05-11T15:13:17.000000",
           36.4,
           70.6,
           120,
           4.1,
           "78km S of Fayzabad, Afghanistan",
           " Afghanistan"
          ],
          [
           "2020-05-11T05:28:12.000000",
           36.6,
           71.3,
           140,
           3.8,
           "86km SE of Fayzabad, Afghanistan",
           " Afghanistan"
          ],
          [
           "2020-05-10T23:20:03.000000",
           36.5,
           70.9,
           184,
           4.6,
           "73km SSE of Fayzabad, Afghanistan",
           " Afghanistan"
          ],
          [
           "2020-05-10T20:39:27.000000",
           36.2,
           69.6,
           150,
           4.2,
           "131km SW of Fayzabad, Afghanistan",
           " Afghanistan"
          ],
          [
           "2020-05-10T13:45:29.000000",
           28.8,
           77.2,
           5,
           3.4,
           "20km N of New Delhi, India",
           " India"
          ],
          [
           "2020-05-10T04:04:54.000000",
           30.6,
           79.1,
           5,
           2.1,
           "44km W of Joshimath, Uttarakhand , India",
           " Uttarakhand "
          ],
          [
           "2020-05-09T23:52:42.000000",
           26.9,
           93,
           21,
           2.6,
           "34km NE of Tezpur, Assam, India",
           " Assam"
          ],
          [
           "2020-05-09T23:00:09.000000",
           37.9,
           72.2,
           80,
           3.4,
           "170km ENE of Fayzabad, Afghanistan",
           " Afghanistan"
          ],
          [
           "2020-05-09T22:37:44.000000",
           23.9,
           93.1,
           25,
           2.8,
           "11km W of Ngopa, Mizoram, India",
           " Mizoram"
          ],
          [
           "2020-05-09T15:36:53.000000",
           21.5,
           70.9,
           20,
           4.3,
           "90km S of Rajkot, Gujarat, India",
           " Gujarat"
          ],
          [
           "2020-05-09T06:20:02.000000",
           24.3,
           93.8,
           30,
           3.4,
           "22km S of Moirang, Manipur, India",
           " Manipur"
          ],
          [
           "2020-05-08T20:07:08.000000",
           36.3,
           70.7,
           130,
           3.5,
           "90km S of Fayzabad, Afghanistan",
           " Afghanistan"
          ],
          [
           "2020-05-08T19:30:33.000000",
           36.5,
           71.5,
           140,
           3.9,
           "107km SE of Fayzabad, Afghanistan",
           " Afghanistan"
          ],
          [
           "2020-05-08T16:45:16.000000",
           28.5,
           87.3,
           30,
           4.3,
           "154km NW of Yuksom, Sikkim, India",
           " Sikkim"
          ],
          [
           "2020-05-08T14:49:41.000000",
           36.1,
           70.7,
           150,
           3.5,
           "112km S of Fayzabad, Afghanistan",
           " Afghanistan"
          ],
          [
           "2020-05-08T01:13:08.000000",
           36.5,
           70.7,
           179,
           4.4,
           "68km SSE of Fayzabad, Afghanistan",
           " Afghanistan"
          ],
          [
           "2020-05-07T16:47:40.000000",
           36.5,
           70.3,
           175,
           4.3,
           "70km SSW of Fayzabad, Afghanistan",
           " Afghanistan"
          ],
          [
           "2020-05-07T10:27:04.000000",
           32.8,
           76.2,
           10,
           2.4,
           "65km N of Dharamshala, Himachal Pradesh, India",
           " Himachal Pradesh"
          ],
          [
           "2020-05-07T09:28:33.000000",
           32.8,
           76.1,
           7,
           2.9,
           "67km NNW of Dharamshala, Himachal Pradesh, India",
           " Himachal Pradesh"
          ],
          [
           "2020-05-07T00:10:50.000000",
           26.5,
           92.7,
           34,
           2.7,
           "19km SSW of Tezpur, Assam, India",
           " Assam"
          ],
          [
           "2020-05-06T20:34:37.000000",
           39.9,
           73.7,
           14,
           3.6,
           "338km SSW of Bishkek, Kyrgyzstan",
           " Kyrgyzstan"
          ],
          [
           "2020-05-06T16:56:44.000000",
           15.9,
           94,
           46,
           4.5,
           "254km WSW of Yangon, Myanmar",
           " Myanmar"
          ],
          [
           "2020-05-06T16:21:39.000000",
           39.6,
           74,
           16,
           5.2,
           "367km S of Bishkek, Kyrgyzstan",
           " Kyrgyzstan"
          ],
          [
           "2020-05-06T04:28:35.000000",
           25.94,
           90.89,
           6,
           2.9,
           "83km NE of Tura, Meghalaya, India",
           " Meghalaya"
          ],
          [
           "2020-05-06T03:45:01.000000",
           21.45,
           94.89,
           10,
           3.7,
           "120km WSW of Burma, Myanmar",
           " Myanmar"
          ],
          [
           "2020-05-06T03:19:13.000000",
           27.45,
           93.48,
           10,
           2.7,
           "42km NNW of Itanagar, Arunachal Pradesh, India",
           " Arunachal Pradesh"
          ],
          [
           "2020-05-06T02:41:40.000000",
           28.4,
           77.4,
           10,
           2.3,
           "8km E of Faridabad, Haryana, India",
           " Haryana"
          ],
          [
           "2020-05-05T12:09:45.000000",
           24.2,
           94.4,
           84,
           3.5,
           "71km ESE of Moirang, Manipur, India",
           " Manipur"
          ],
          [
           "2020-05-05T01:40:44.000000",
           25.8,
           90.6,
           6,
           3.1,
           "50km NE of Tura, Meghalaya, India",
           " Meghalaya"
          ],
          [
           "2020-05-04T15:45:49.000000",
           27.2,
           92.8,
           10,
           3.6,
           "60km N of Tezpur, Assam, India",
           " Assam"
          ],
          [
           "2020-05-04T02:47:56.000000",
           26,
           92.5,
           5,
           2.6,
           "68km ENE of Nongpoh, Meghalaya, India",
           " Meghalaya"
          ],
          [
           "2020-05-04T02:40:39.000000",
           30.7,
           78.7,
           5,
           2.5,
           "25km E of Uttarkashi, Uttarakhand, India",
           " Uttarakhand"
          ],
          [
           "2020-05-03T23:43:21.000000",
           37.2,
           71.8,
           117,
           3.3,
           "111km E of Fayzabad, Afghanistan",
           " Afghanistan"
          ],
          [
           "2020-05-03T16:00:39.000000",
           26.3,
           93,
           46,
           3.5,
           "44km SSE of Tezpur, Assam, India",
           " Assam"
          ],
          [
           "2020-05-03T07:49:36.000000",
           32.5,
           78.8,
           10,
           3.4,
           "25km SW of Hanley, Jammu & Kashmir, India",
           " Jammu & Kashmir"
          ],
          [
           "2020-05-03T07:46:55.000000",
           20.2,
           72.9,
           10,
           2.3,
           "95km WNW of Nashik, Maharashtra, India",
           " Maharashtra"
          ],
          [
           "2020-05-03T00:29:53.000000",
           28.9,
           77,
           5,
           3,
           "37km NNW of New Delhi, India",
           " India"
          ],
          [
           "2020-05-02T14:37:09.000000",
           24.2,
           82.4,
           10,
           3.8,
           "142km NW of Ambikapur, Chhattisgarh, India",
           " Chhattisgarh"
          ],
          [
           "2020-05-02T07:10:04.000000",
           27.2,
           91.4,
           140,
           3.1,
           "63km SW of Tawang, Arunachal Pradesh, India",
           " Arunachal Pradesh"
          ],
          [
           "2020-05-01T22:18:37.000000",
           36.6,
           71,
           240,
           4.3,
           "68km SE of Fayzabad, Afghanistan",
           " Afghanistan"
          ],
          [
           "2020-05-01T21:23:10.000000",
           25.9,
           95.2,
           100,
           3,
           "83km SE of Mokokchung, Nagaland, India",
           " Nagaland"
          ],
          [
           "2020-05-01T08:33:54.000000",
           26,
           94.8,
           19,
           3.6,
           "45km SE of Mokokchung, Nagaland, India",
           " Nagaland"
          ],
          [
           "2020-05-01T01:47:55.000000",
           32.1,
           89.3,
           20,
           4.3,
           "493km N of Lachung, Sikkim, India",
           " Sikkim"
          ],
          [
           "2020-04-30T13:50:30.000000",
           1.4,
           99.6,
           43,
           5.3,
           "301km SW of Kuala Lumpur, Malaysia",
           " Malaysia"
          ],
          [
           "2020-04-30T01:00:56.000000",
           30.04,
           80,
           5,
           2.9,
           "55km NNW of Pithoragarh, Uttarakhand, India",
           " Uttarakhand"
          ],
          [
           "2020-04-29T18:27:19.000000",
           39.7,
           77.1,
           217,
           4.2,
           "411km SSE of Bishkek, Kyrgyzstan",
           " Kyrgyzstan"
          ],
          [
           "2020-04-29T13:29:15.000000",
           24.7,
           60.9,
           10,
           4.6,
           "283km ENE of Muscat, Oman",
           " Oman"
          ],
          [
           "2020-04-29T07:35:00.000000",
           39.6,
           69.5,
           125,
           3.9,
           "131km NNE of Dushanbe, Tajikistan",
           " Tajikistan"
          ],
          [
           "2020-04-28T16:45:34.000000",
           36.48,
           70.6,
           180,
           4.8,
           "69km S of Fayzabad, Afghanistan",
           " Afghanistan"
          ],
          [
           "2020-04-28T12:17:50.000000",
           32.3,
           76.1,
           19,
           4,
           "22km WNW of Dharamshala, Himachal Pradesh, India",
           " Himachal Pradesh"
          ],
          [
           "2020-04-28T04:14:03.000000",
           36.7,
           70.9,
           266,
           4.3,
           "54km SE of Fayzabad, Afghanistan",
           " Afghanistan"
          ],
          [
           "2020-04-28T01:24:30.000000",
           12.3,
           92.8,
           10,
           4.4,
           "75km N of Portblair, Andaman and Nicobar island, India",
           " Andaman and Nicobar island"
          ],
          [
           "2020-04-27T22:54:58.000000",
           19.5,
           77.2,
           9,
           3.4,
           "131km NW of Nizamabad, Telangana, India",
           " Telangana"
          ],
          [
           "2020-04-27T19:01:24.000000",
           30.2,
           77.5,
           23,
           2.4,
           "52km WSW of Dehradun, Uttarakhand, India",
           " Uttarakhand"
          ],
          [
           "2020-04-27T16:43:28.000000",
           37.2,
           71.5,
           102,
           4.6,
           "84km E of Fayzabad, Afghanistan",
           " Afghanistan"
          ],
          [
           "2020-04-27T13:42:00.000000",
           37.2,
           71.5,
           167,
           4,
           "84km E of Fayzabad, Afghanistan",
           " Afghanistan"
          ],
          [
           "2020-04-26T10:59:24.000000",
           27,
           88.8,
           10,
           4,
           "41km SSE of Gangtok, Sikkim",
           " Sikkim"
          ],
          [
           "2020-04-25T23:12:45.000000",
           36.96,
           72.29,
           10,
           3.9,
           "155km E of Fayzabad, Afghanistan",
           " Afghanistan"
          ],
          [
           "2020-04-25T22:45:58.000000",
           27.8,
           91.1,
           5,
           2.6,
           "80km WNW of Tawang, Arunachal Pradesh, India",
           " Arunachal Pradesh"
          ],
          [
           "2020-04-25T20:35:30.000000",
           32.5,
           76.4,
           5,
           2.4,
           "32km NNE of Dharamshala, Himachal Pradesh, India",
           " Himachal Pradesh"
          ],
          [
           "2020-04-25T20:08:30.000000",
           30,
           69.7,
           30,
           4.4,
           "414km WNW of Bikaner, Rajasthan, India",
           " Rajasthan"
          ],
          [
           "2020-04-25T19:59:10.000000",
           30,
           69.6,
           10,
           4.6,
           "422km WNW of Bikaner, Rajasthan, India",
           " Rajasthan"
          ],
          [
           "2020-04-25T04:29:29.000000",
           36.3,
           71.2,
           150,
           4,
           "106km SE of Fayzabad, Afghanistan",
           " Afghanistan"
          ],
          [
           "2020-04-25T04:14:22.000000",
           34,
           72.2,
           10,
           4.2,
           "85km WNW of Islamabad, Pakistan",
           " Pakistan"
          ],
          [
           "2020-04-25T04:02:47.000000",
           37.9,
           68.5,
           141,
           4.9,
           "77km SSW of Dushanbe, Tajikistan",
           " Tajikistan"
          ],
          [
           "2020-04-25T02:52:49.000000",
           37.4,
           68.7,
           10,
           4.5,
           "129km S of Dushanbe, Tajikistan",
           " Tajikistan"
          ],
          [
           "2020-04-25T01:57:39.000000",
           37.4,
           68.7,
           10,
           4.5,
           "129km S of Dushanbe, Tajikistan",
           " Tajikistan"
          ],
          [
           "2020-04-24T22:49:41.000000",
           38,
           73.9,
           125,
           4.2,
           "311km ENE of Fayzabad, Afghanistan",
           " Afghanistan"
          ],
          [
           "2020-04-24T22:16:07.000000",
           36.1,
           71.7,
           206,
           4.8,
           "151km SE of Fayzabad, Afghanistan",
           " Afghanistan"
          ],
          [
           "2020-04-24T20:31:25.000000",
           37.6,
           68.6,
           10,
           4.8,
           "108km S of Dushanbe, Tajikistan",
           " Tajikistan"
          ],
          [
           "2020-04-24T10:45:23.000000",
           24.1,
           95.67,
           10,
           4.1,
           "151km SE of Ukhrul, Manipur, India",
           " Manipur"
          ],
          [
           "2020-04-24T09:04:20.000000",
           36.1,
           68.7,
           10,
           4.5,
           "177km NNW of Kabul , Afghanistan",
           " Afghanistan"
          ],
          [
           "2020-04-24T09:03:19.000000",
           37.6,
           68.84,
           5,
           4.4,
           "106km S of Dushanbe, Tajikistan",
           " Tajikistan"
          ],
          [
           "2020-04-24T07:49:07.000000",
           33,
           76.2,
           5,
           3,
           "87km N of Dharamshala, Himachal Pradesh, India",
           " Himachal Pradesh"
          ],
          [
           "2020-04-22T22:07:58.000000",
           29.8,
           84.1,
           10,
           4.2,
           "260km NNW of Kathmandu, Nepal",
           " Nepal"
          ],
          [
           "2020-04-22T16:50:04.000000",
           37.3,
           72,
           170,
           3.9,
           "130km E of Fayzabad, Afghanistan",
           " Afghanistan"
          ],
          [
           "2020-04-22T15:15:16.000000",
           20.6,
           78.6,
           10,
           3,
           "79km SW of Nagpur, Maharashtra, India",
           " Maharashtra"
          ],
          [
           "2020-04-22T14:47:29.000000",
           21.5,
           94.4,
           10,
           3.9,
           "166km WSW of Burma, Myanmar",
           " Myanmar"
          ],
          [
           "2020-04-22T13:51:10.000000",
           37.2,
           71.7,
           151,
           4.2,
           "102km E of Fayzabad, Afghanistan",
           " Afghanistan"
          ],
          [
           "2020-04-22T05:50:38.000000",
           36.2,
           70.9,
           210,
           3.7,
           "104km SSE of Fayzabad, Afghanistan",
           " Afghanistan"
          ],
          [
           "2020-04-22T04:54:38.000000",
           39.2,
           71.5,
           10,
           4.7,
           "245km ENE of Dushanbe, Tajikistan",
           " Tajikistan"
          ],
          [
           "2020-04-21T20:39:41.000000",
           30.4,
           79.3,
           5,
           3.3,
           "30km SW of Joshimath, Uttarakhand , India",
           " Uttarakhand "
          ],
          [
           "2020-04-21T17:42:16.000000",
           36.4,
           70.7,
           195,
           4.2,
           "79km S of Fayzabad, Afghanistan",
           " Afghanistan"
          ],
          [
           "2020-04-21T14:50:51.000000",
           33.5,
           70.8,
           65,
           4.1,
           "187km SE of Kabul , Afghanistan",
           " Afghanistan"
          ],
          [
           "2020-04-21T05:39:09.000000",
           9.5,
           93,
           10,
           4.7,
           "238km S of Portblair, Andaman and Nicobar island, India",
           " Andaman and Nicobar island"
          ],
          [
           "2020-04-21T04:34:43.000000",
           28.9,
           76.7,
           10,
           3.2,
           "9km E of Rohtak, Haryana, India",
           " Haryana"
          ],
          [
           "2020-04-20T23:30:12.000000",
           29.5,
           76.3,
           5,
           3.1,
           "73km NNW of Rohtak, Haryana, India",
           " Haryana"
          ],
          [
           "2020-04-20T14:23:28.000000",
           29,
           70,
           190,
           4,
           "341km WNW of Bikaner, Rajasthan, India",
           " Rajasthan"
          ],
          [
           "2020-04-20T13:46:19.000000",
           38.62,
           70.3,
           40,
           4.3,
           "131km E of Dushanbe, Tajikistan",
           " Tajikistan"
          ],
          [
           "2020-04-20T11:05:27.000000",
           31.67,
           67.27,
           167,
           4,
           "368km SSW of Kabul , Afghanistan",
           " Afghanistan"
          ],
          [
           "2020-04-20T10:49:55.000000",
           20.35,
           93.19,
           10,
           4,
           "328km S of Thenzawl, Mizoram, India",
           " Mizoram"
          ],
          [
           "2020-04-20T04:11:57.000000",
           33.1,
           76.3,
           10,
           2.6,
           "98km N of Dharamshala, Himachal Pradesh, India",
           " Himachal Pradesh"
          ],
          [
           "2020-04-18T22:47:43.000000",
           31.5,
           93.4,
           10,
           4.3,
           "410km NNW of Basar, Arunachal Pradesh, India",
           " Arunachal Pradesh"
          ],
          [
           "2020-04-18T17:36:39.000000",
           28.9,
           76.7,
           10,
           2.9,
           "9km E of Rohtak, Haryana, India",
           " Haryana"
          ],
          [
           "2020-04-18T10:02:21.000000",
           25.81,
           90.23,
           22,
           3.8,
           "33km N of Tura, Meghalaya, India",
           " Meghalaya"
          ],
          [
           "2020-04-18T03:05:37.000000",
           32.69,
           97.42,
           10,
           4.2,
           "546km NNE of Pangin, Arunachal Pradesh, India",
           " Arunachal Pradesh"
          ],
          [
           "2020-04-18T00:40:28.000000",
           29.9,
           79.8,
           5,
           2.4,
           "53km NW of Pithoragarh, Uttarakhand, India",
           " Uttarakhand"
          ],
          [
           "2020-04-17T23:55:43.000000",
           36.3,
           71.3,
           178,
           4.4,
           "111km SE of Fayzabad, Afghanistan",
           " Afghanistan"
          ],
          [
           "2020-04-17T23:05:51.000000",
           37.5,
           72.4,
           179,
           4.2,
           "169km ENE of Fayzabad, Afghanistan",
           " Afghanistan"
          ],
          [
           "2020-04-17T21:20:13.000000",
           22.6,
           93.7,
           64,
           3.6,
           "102km SSE of Champhai, Mizoram, India",
           " Mizoram"
          ],
          [
           "2020-04-17T18:13:56.000000",
           36.7,
           71.2,
           92,
           4.6,
           "72km SE of Fayzabad, Afghanistan",
           " Afghanistan"
          ],
          [
           "2020-04-17T14:26:43.000000",
           36,
           71.9,
           303,
           3.7,
           "171km SE of Fayzabad, Afghanistan",
           " Afghanistan"
          ],
          [
           "2020-04-17T13:28:57.000000",
           37.6,
           73.4,
           10,
           3.5,
           "258km ENE of Fayzabad, Afghanistan",
           " Afghanistan"
          ],
          [
           "2020-04-17T11:45:27.000000",
           27.6,
           93.7,
           10,
           4.2,
           "58km N of Itanagar, Arunachal Pradesh, India",
           " Arunachal Pradesh"
          ],
          [
           "2020-04-17T10:18:21.000000",
           38.7,
           73.1,
           140,
           3.5,
           "285km NE of Fayzabad, Afghanistan",
           " Afghanistan"
          ],
          [
           "2020-04-17T08:37:05.000000",
           39.9,
           71.3,
           10,
           3,
           "233km SE of Tashkent, Uzbekistan",
           " Uzbekistan"
          ],
          [
           "2020-04-17T07:03:13.000000",
           37.5,
           72.2,
           210,
           4.4,
           "152km ENE of Fayzabad, Afghanistan",
           " Afghanistan"
          ],
          [
           "2020-04-17T06:00:06.000000",
           36.3,
           70.7,
           144,
           4.5,
           "90km S of Fayzabad, Afghanistan",
           " Afghanistan"
          ],
          [
           "2020-04-17T01:10:36.000000",
           33.2,
           75.9,
           5,
           3,
           "93km ENE of Katra, Jammu and Kashmir, India",
           " Jammu and Kashmir"
          ],
          [
           "2020-04-16T23:59:02.000000",
           33.3,
           71.5,
           18,
           3.8,
           "149km WSW of Islamabad, Pakistan",
           " Pakistan"
          ],
          [
           "2020-04-16T17:15:27.000000",
           22.6,
           94,
           70,
           5.9,
           "117km SE of Champhai, Mizoram, India",
           " Mizoram"
          ],
          [
           "2020-04-16T17:03:31.000000",
           39.7,
           74.6,
           10,
           3.1,
           "353km S of Bishkek, Kyrgyzstan",
           " Kyrgyzstan"
          ],
          [
           "2020-04-16T08:26:22.000000",
           28.7,
           77.1,
           10,
           2,
           "13km NW of New Delhi, India",
           " India"
          ],
          [
           "2020-04-16T06:19:50.000000",
           36.7,
           71.6,
           172,
           4.4,
           "103km ESE of Fayzabad, Afghanistan",
           " Afghanistan"
          ],
          [
           "2020-04-16T00:41:01.000000",
           27.4,
           86.5,
           10,
           4.4,
           "121km ESE of Kathmandu, Nepal",
           " Nepal"
          ],
          [
           "2020-04-15T21:59:14.000000",
           35.7,
           71.1,
           136,
           4.3,
           "163km SSE of Fayzabad, Afghanistan",
           " Afghanistan"
          ],
          [
           "2020-04-15T10:52:31.000000",
           31.1,
           71.8,
           205,
           4.6,
           "297km W of Amritsar, Punjab, India",
           " Punjab"
          ],
          [
           "2020-04-15T03:01:43.000000",
           36.7,
           71.6,
           140,
           4.7,
           "103km ESE of Fayzabad, Afghanistan",
           " Afghanistan"
          ],
          [
           "2020-04-15T01:06:21.000000",
           3.8,
           96.2,
           75,
           4.5,
           "437km SE of Campbell Bay, Andaman and Nicobar island, India",
           " Andaman and Nicobar island"
          ],
          [
           "2020-04-15T00:53:42.000000",
           37.3,
           72.3,
           160,
           4.4,
           "156km E of Fayzabad, Afghanistan",
           " Afghanistan"
          ],
          [
           "2020-04-15T00:34:01.000000",
           37.2,
           71.8,
           98,
           4.4,
           "111km E of Fayzabad, Afghanistan",
           " Afghanistan"
          ],
          [
           "2020-04-14T22:18:42.000000",
           33.3,
           69.5,
           10,
           4.2,
           "142km SSE of Kabul , Afghanistan",
           " Afghanistan"
          ],
          [
           "2020-04-14T14:56:34.000000",
           27.7,
           92.7,
           15,
           3.7,
           "82km E of Tawang, Arunachal Pradesh, India",
           " Arunachal Pradesh"
          ],
          [
           "2020-04-14T14:37:47.000000",
           36.3,
           71.9,
           140,
           4.5,
           "149km SE of Fayzabad, Afghanistan",
           " Afghanistan"
          ],
          [
           "2020-04-14T10:51:38.000000",
           29.6,
           82.9,
           10,
           3.9,
           "259km E of Pithoragarh, Uttarakhand, India",
           " Uttarakhand"
          ],
          [
           "2020-04-14T03:13:05.000000",
           25.1,
           91.8,
           34,
           3.3,
           "20km SSE of Cherrapunjee, Meghalaya, India",
           " Meghalaya"
          ],
          [
           "2020-04-14T03:03:02.000000",
           22.9,
           93.9,
           115,
           3.7,
           "85km SE of Champhai, Mizoram, India",
           " Mizoram"
          ],
          [
           "2020-04-13T23:04:02.000000",
           12.1,
           92.8,
           16,
           4.3,
           "53km N of Portblair, Andaman and Nicobar island, India",
           " Andaman and Nicobar island"
          ],
          [
           "2020-04-13T15:19:39.000000",
           30,
           80,
           5,
           3.6,
           "50km NNW of Pithoragarh, Uttarakhand, India",
           " Uttarakhand"
          ],
          [
           "2020-04-13T15:02:46.000000",
           37.4,
           71.7,
           192,
           4.3,
           "107km ENE of Fayzabad, Afghanistan",
           " Afghanistan"
          ],
          [
           "2020-04-13T13:26:32.000000",
           28.7,
           77.2,
           5,
           2.7,
           "9km N of New Delhi, India",
           " India"
          ],
          [
           "2020-04-13T03:21:21.000000",
           37,
           71.7,
           150,
           3.8,
           "102km E of Fayzabad, Afghanistan",
           " Afghanistan"
          ],
          [
           "2020-04-13T02:40:08.000000",
           32.2,
           72.6,
           10,
           3.9,
           "170km SSW of Islamabad, Pakistan",
           " Pakistan"
          ],
          [
           "2020-04-12T17:45:03.000000",
           28.7,
           77.2,
           8,
           3.5,
           "9km N of New Delhi, India",
           " India"
          ],
          [
           "2020-04-12T15:21:37.000000",
           39.8,
           77.02,
           10,
           4,
           "398km SSE of Bishkek, Kyrgyzstan",
           " Kyrgyzstan"
          ],
          [
           "2020-04-12T07:39:55.000000",
           36.7,
           70.9,
           272,
           4,
           "54km SE of Fayzabad, Afghanistan",
           " Afghanistan"
          ],
          [
           "2020-04-12T06:02:56.000000",
           29.3,
           70,
           10,
           4.1,
           "352km WNW of Bikaner, Rajasthan, India",
           " Rajasthan"
          ],
          [
           "2020-04-12T05:51:48.000000",
           37.4,
           68.6,
           10,
           4.2,
           "130km S of Dushanbe, Tajikistan",
           " Tajikistan"
          ],
          [
           "2020-04-11T23:42:43.000000",
           39.8,
           77.5,
           116,
           4.5,
           "420km SE of Bishkek, Kyrgyzstan",
           " Kyrgyzstan"
          ],
          [
           "2020-04-11T22:28:23.000000",
           36.5,
           70.8,
           176,
           4,
           "70km SSE of Fayzabad, Afghanistan",
           " Afghanistan"
          ],
          [
           "2020-04-11T13:14:04.000000",
           36.4,
           70.8,
           10,
           4,
           "81km SSE of Fayzabad, Afghanistan",
           " Afghanistan"
          ],
          [
           "2020-04-11T03:52:26.000000",
           37.6,
           74.4,
           100,
           4,
           "344km E of Fayzabad, Afghanistan",
           " Afghanistan"
          ],
          [
           "2020-04-11T03:21:01.000000",
           36.7,
           71.1,
           300,
           3.8,
           "66km SE of Fayzabad, Afghanistan",
           " Afghanistan"
          ],
          [
           "2020-04-11T02:51:38.000000",
           30,
           80,
           5,
           3.1,
           "50km NNW of Pithoragarh, Uttarakhand, India",
           " Uttarakhand"
          ],
          [
           "2020-04-11T02:37:23.000000",
           35.68,
           70.86,
           150,
           4,
           "160km S of Fayzabad, Afghanistan",
           " Afghanistan"
          ],
          [
           "2020-04-10T19:21:19.000000",
           36,
           70.3,
           109,
           4.7,
           "124km S of Fayzabad, Afghanistan",
           " Afghanistan"
          ],
          [
           "2020-04-10T11:51:38.000000",
           33.3,
           76.6,
           10,
           3,
           "115km SSW of Alchi(Leh),Jammu & Kashmir,India",
           "Jammu & Kashmir"
          ],
          [
           "2020-04-10T04:48:36.000000",
           27.3,
           91.6,
           10,
           2.8,
           "41km SW of Tawang, Arunachal Pradesh, India",
           " Arunachal Pradesh"
          ],
          [
           "2020-04-10T03:28:57.000000",
           24.7,
           94.8,
           102,
           3.7,
           "41km SE of Ukhrul, Manipur, India",
           " Manipur"
          ],
          [
           "2020-04-10T01:21:36.000000",
           36.7,
           71.4,
           204,
           4.7,
           "87km ESE of Fayzabad, Afghanistan",
           " Afghanistan"
          ],
          [
           "2020-04-10T00:16:22.000000",
           36.5,
           68.2,
           96,
           4,
           "219km WSW of Fayzabad, Afghanistan",
           " Afghanistan"
          ],
          [
           "2020-04-09T23:24:18.000000",
           32.6,
           96.3,
           10,
           4.1,
           "505km N of Pangin, Arunachal Pradesh, India",
           " Arunachal Pradesh"
          ],
          [
           "2020-04-09T21:57:59.000000",
           28.6,
           77.6,
           15,
           2.4,
           "21km ENE of Noida, Uttar Pradesh, India",
           " Uttar Pradesh"
          ],
          [
           "2020-04-09T01:54:47.000000",
           32.7,
           76.1,
           2,
           2.2,
           "57km NNW of Dharamshala, Himachal Pradesh, India",
           " Himachal Pradesh"
          ],
          [
           "2020-04-08T22:01:45.000000",
           25,
           94.3,
           40,
           3.3,
           "18km SW of Shirui, Manipur, India",
           " Manipur"
          ],
          [
           "2020-04-08T21:55:39.000000",
           27.3,
           91.7,
           32,
           3.7,
           "35km SSW of Tawang, Arunachal Pradesh, India",
           " Arunachal Pradesh"
          ],
          [
           "2020-04-08T11:24:02.000000",
           23.5,
           87.1,
           15,
           4.1,
           "21km W of Durgapur, West Bengal, India",
           " West Bengal"
          ],
          [
           "2020-04-08T07:32:51.000000",
           32.6,
           71.2,
           10,
           3.4,
           "210km SW of Islamabad, Pakistan",
           " Pakistan"
          ],
          [
           "2020-04-08T03:21:25.000000",
           39.7,
           73.9,
           10,
           4.7,
           "357km S of Bishkek, Kyrgyzstan",
           " Kyrgyzstan"
          ],
          [
           "2020-04-08T02:58:57.000000",
           37.2,
           72.2,
           21,
           4,
           "146km E of Fayzabad, Afghanistan",
           " Afghanistan"
          ],
          [
           "2020-04-08T02:22:39.000000",
           31.2,
           78,
           5,
           2.8,
           "67km NW of Uttarkashi, Uttarakhand, India",
           " Uttarakhand"
          ],
          [
           "2020-04-08T01:33:18.000000",
           27.3,
           88.6,
           5,
           3.2,
           "3km SSW of Gangtok, Sikkim",
           " Sikkim"
          ],
          [
           "2020-04-08T00:42:03.000000",
           32.9,
           86.6,
           10,
           4.5,
           "589km N of Kathmandu, Nepal",
           " Nepal"
          ],
          [
           "2020-04-07T21:06:03.000000",
           24.7,
           94.1,
           49,
           3.1,
           "21km SE of Imphal, Manipur, India",
           " Manipur"
          ],
          [
           "2020-04-07T20:29:52.000000",
           27.6,
           92.7,
           5,
           3.1,
           "81km E of Tawang, Arunachal Pradesh, India",
           " Arunachal Pradesh"
          ],
          [
           "2020-04-07T19:45:58.000000",
           20.2,
           72.9,
           10,
           2.6,
           "95km WNW of Nashik, Maharashtra, India",
           " Maharashtra"
          ],
          [
           "2020-04-07T16:09:09.000000",
           29.5,
           95.4,
           10,
           4.4,
           "151km N of Pangin, Arunachal Pradesh, India",
           " Arunachal Pradesh"
          ],
          [
           "2020-04-07T13:54:15.000000",
           37.4,
           71.9,
           127,
           4.2,
           "124km ENE of Fayzabad, Afghanistan",
           " Afghanistan"
          ],
          [
           "2020-04-07T12:59:43.000000",
           32.8,
           74.3,
           199,
           4.2,
           "62km WSW of Katra, Jammu and Kashmir, India",
           " Jammu and Kashmir"
          ],
          [
           "2020-04-07T11:46:01.000000",
           29.6,
           77.6,
           5,
           2,
           "66km SW of Haridwar, Uttarakhand, India",
           " Uttarakhand"
          ],
          [
           "2020-04-07T02:23:47.000000",
           33.1,
           76.17,
           5,
           2.6,
           "99km N of Dharamshala, Himachal Pradesh, India",
           " Himachal Pradesh"
          ],
          [
           "2020-04-07T00:50:24.000000",
           2.87,
           95.82,
           10,
           4.7,
           "506km SSE of Campbell Bay, Andaman and Nicobar island, India",
           " Andaman and Nicobar island"
          ],
          [
           "2020-04-06T22:14:28.000000",
           20.2,
           72.9,
           5,
           2.2,
           "95km WNW of Nashik, Maharashtra, India",
           " Maharashtra"
          ],
          [
           "2020-04-06T19:43:24.000000",
           26.3,
           93.5,
           13,
           2.5,
           "49km NNW of Dimapur, Nagaland, India",
           " Nagaland"
          ],
          [
           "2020-04-06T19:32:38.000000",
           36.7,
           71.2,
           191,
           4.1,
           "72km SE of Fayzabad, Afghanistan",
           " Afghanistan"
          ],
          [
           "2020-04-06T19:15:52.000000",
           36.3,
           71.2,
           86,
           4.6,
           "106km SE of Fayzabad, Afghanistan",
           " Afghanistan"
          ],
          [
           "2020-04-06T17:09:06.000000",
           36.3,
           71.2,
           113,
           4.6,
           "106km SE of Fayzabad, Afghanistan",
           " Afghanistan"
          ],
          [
           "2020-04-06T15:42:41.000000",
           36.5,
           70,
           92,
           4.3,
           "82km SW of Fayzabad, Afghanistan",
           " Afghanistan"
          ],
          [
           "2020-04-06T15:32:42.000000",
           36.4,
           70.1,
           198,
           4.6,
           "87km SSW of Fayzabad, Afghanistan",
           " Afghanistan"
          ],
          [
           "2020-04-06T14:00:25.000000",
           28.4,
           85.7,
           20,
           4.2,
           "84km NNE of Kathmandu, Nepal",
           " Nepal"
          ],
          [
           "2020-04-06T07:03:51.000000",
           32.3,
           76.6,
           5,
           3.1,
           "27km ENE of Dharamshala, Himachal Pradesh, India",
           " Himachal Pradesh"
          ],
          [
           "2020-04-06T05:18:45.000000",
           32.3,
           97.2,
           10,
           4.5,
           "498km NNE of Pangin, Arunachal Pradesh, India",
           " Arunachal Pradesh"
          ],
          [
           "2020-04-06T01:51:05.000000",
           36.6,
           70.9,
           232,
           4.5,
           "63km SSE of Fayzabad, Afghanistan",
           " Afghanistan"
          ],
          [
           "2020-04-06T01:08:49.000000",
           26.7,
           93.4,
           5,
           2.5,
           "47km SSW of Itanagar, Arunachal Pradesh, India",
           " Arunachal Pradesh"
          ],
          [
           "2020-04-06T00:18:31.000000",
           20,
           72.9,
           10,
           3.1,
           "93km W of Nashik, Maharashtra, India",
           " Maharashtra"
          ],
          [
           "2020-04-05T23:24:55.000000",
           26.8,
           92.7,
           12,
           2.9,
           "18km NNW of Tezpur, Assam, India",
           " Assam"
          ],
          [
           "2020-04-05T23:20:32.000000",
           26.4,
           92.7,
           38,
           4.3,
           "29km SSW of Tezpur, Assam, India",
           " Assam"
          ],
          [
           "2020-04-05T09:48:35.000000",
           31.7,
           68.8,
           99,
           4.2,
           "319km S of Kabul , Afghanistan",
           " Afghanistan"
          ],
          [
           "2020-04-05T06:32:53.000000",
           29,
           76.7,
           8,
           2.5,
           "14km NE of Rohtak, Haryana, India",
           " Haryana"
          ],
          [
           "2020-04-04T21:03:25.000000",
           36.7,
           71.4,
           236,
           4,
           "87km ESE of Fayzabad, Afghanistan",
           " Afghanistan"
          ],
          [
           "2020-04-04T21:03:24.000000",
           36.66,
           71.13,
           250,
           4.1,
           "71km SE of Fayzabad, Afghanistan",
           " Afghanistan"
          ],
          [
           "2020-04-04T13:59:20.000000",
           34.2,
           70.1,
           10,
           4.2,
           "90km ESE of Kabul , Afghanistan",
           " Afghanistan"
          ],
          [
           "2020-04-04T06:15:55.000000",
           32.7,
           85.5,
           10,
           4.5,
           "554km N of Kathmandu, Nepal",
           " Nepal"
          ],
          [
           "2020-04-04T06:14:32.000000",
           35.5,
           74.8,
           60,
           4,
           "157km N of Srinagar, Jammu and Kashmir, India",
           " Jammu and Kashmir"
          ],
          [
           "2020-04-04T04:24:43.000000",
           32.6,
           85.4,
           10,
           4.8,
           "543km N of Kathmandu, Nepal",
           " Nepal"
          ],
          [
           "2020-04-04T01:54:08.000000",
           30,
           87.6,
           194,
           3.8,
           "280km NNW of Lachung, Sikkim, India",
           " Sikkim"
          ],
          [
           "2020-04-04T01:15:21.000000",
           36.6,
           72.2,
           56,
           4,
           "157km ESE of Fayzabad, Afghanistan",
           " Afghanistan"
          ],
          [
           "2020-04-03T22:02:13.000000",
           23.9,
           92.4,
           31,
           2.5,
           "34km WNW of Aizawal,Mizoram,India",
           "Mizoram"
          ],
          [
           "2020-04-03T19:47:56.000000",
           26.2,
           93.1,
           26,
           3.2,
           "58km SSE of Tezpur, Assam, India",
           " Assam"
          ],
          [
           "2020-04-03T17:17:50.000000",
           12.3,
           76.7,
           40,
           3.2,
           "98km N of Ooty, Tamil Nadu, India",
           " Tamil Nadu"
          ],
          [
           "2020-04-03T04:50:30.000000",
           36,
           70.4,
           180,
           4.3,
           "123km S of Fayzabad, Afghanistan",
           " Afghanistan"
          ],
          [
           "2020-04-03T04:02:01.000000",
           27.3,
           92,
           15,
           2.9,
           "33km SSE of Tawang, Arunachal Pradesh, India",
           " Arunachal Pradesh"
          ],
          [
           "2020-04-03T00:48:53.000000",
           36,
           72,
           186,
           3.5,
           "178km SE of Fayzabad, Afghanistan",
           " Afghanistan"
          ],
          [
           "2020-04-02T23:05:34.000000",
           26.2,
           97,
           20,
           3.6,
           "175km SSE of Changlang, Arunachal Pradesh, India",
           " Arunachal Pradesh"
          ],
          [
           "2020-04-02T20:38:35.000000",
           38.2,
           83.7,
           10,
           4.2,
           "710km NE of Leh, Laddakh, India",
           " Laddakh"
          ],
          [
           "2020-04-02T04:08:03.000000",
           32.8,
           85.6,
           10,
           4.2,
           "565km N of Kathmandu, Nepal",
           " Nepal"
          ],
          [
           "2020-04-02T02:03:38.000000",
           32.9,
           97.9,
           10,
           4.5,
           "585km NNE of Pangin, Arunachal Pradesh, India",
           " Arunachal Pradesh"
          ],
          [
           "2020-04-02T00:08:17.000000",
           37.7,
           73.6,
           165,
           4.2,
           "277km ENE of Fayzabad, Afghanistan",
           " Afghanistan"
          ],
          [
           "2020-04-01T23:39:18.000000",
           20,
           72.8,
           18,
           3,
           "103km N of Mumbai, Maharashtra, India",
           " Maharashtra"
          ],
          [
           "2020-04-01T22:20:58.000000",
           30,
           80,
           5,
           3.3,
           "50km NNW of Pithoragarh, Uttarakhand, India",
           " Uttarakhand"
          ],
          [
           "2020-04-01T19:11:49.000000",
           32.5,
           97.2,
           10,
           4.2,
           "518km NNE of Pangin, Arunachal Pradesh, India",
           " Arunachal Pradesh"
          ],
          [
           "2020-04-01T17:53:27.000000",
           33,
           98.8,
           10,
           5.3,
           "620km NNE of Changlang, Arunachal Pradesh, India",
           " Arunachal Pradesh"
          ],
          [
           "2020-04-01T02:21:45.000000",
           36.1,
           71.5,
           88,
           4,
           "139km SE of Fayzabad, Afghanistan",
           " Afghanistan"
          ],
          [
           "2020-04-01T01:42:48.000000",
           34.6,
           72.9,
           15,
           3.7,
           "102km N of Islamabad, Pakistan",
           " Pakistan"
          ],
          [
           "2020-03-31T09:23:22.000000",
           25.71,
           91.74,
           15,
           3.2,
           "20km SSW of Nongpoh, Meghalaya, India",
           " Meghalaya"
          ],
          [
           "2020-03-31T05:03:22.000000",
           39.7,
           72.5,
           147,
           4,
           "328km ESE of Tashkent, Uzbekistan",
           " Uzbekistan"
          ],
          [
           "2020-03-31T01:38:41.000000",
           37.2,
           71.7,
           114,
           4,
           "102km E of Fayzabad, Afghanistan",
           " Afghanistan"
          ],
          [
           "2020-03-30T21:12:32.000000",
           36.6,
           71.1,
           201,
           4.9,
           "74km SE of Fayzabad, Afghanistan",
           " Afghanistan"
          ],
          [
           "2020-03-30T13:32:49.000000",
           38,
           74.07,
           150,
           4.1,
           "326km ENE of Fayzabad, Afghanistan",
           " Afghanistan"
          ],
          [
           "2020-03-30T11:41:35.000000",
           32.7,
           76.1,
           5,
           3.6,
           "57km NNW of Dharamshala, Himachal Pradesh, India",
           " Himachal Pradesh"
          ],
          [
           "2020-03-30T10:42:31.000000",
           39.4,
           73.6,
           10,
           4.1,
           "369km NE of Fayzabad, Afghanistan",
           " Afghanistan"
          ],
          [
           "2020-03-30T07:49:27.000000",
           32.7,
           76,
           5,
           2.9,
           "61km NNW of Dharamshala, Himachal Pradesh, India",
           " Himachal Pradesh"
          ],
          [
           "2020-03-30T07:19:31.000000",
           36,
           69.8,
           158,
           4.5,
           "139km SSW of Fayzabad, Afghanistan",
           " Afghanistan"
          ],
          [
           "2020-03-30T01:35:18.000000",
           32.7,
           76.1,
           5,
           2.5,
           "57km NNW of Dharamshala, Himachal Pradesh, India",
           " Himachal Pradesh"
          ],
          [
           "2020-03-30T00:57:52.000000",
           24.9,
           93.6,
           16,
           2.6,
           "34km NNW of Bishnupur, Manipur, India",
           " Manipur"
          ],
          [
           "2020-03-30T00:17:49.000000",
           32.9,
           76,
           10,
           2.5,
           "81km NNW of Dharamshala, Himachal Pradesh, India",
           " Himachal Pradesh"
          ],
          [
           "2020-03-29T23:57:33.000000",
           32.7,
           76.1,
           5,
           2.5,
           "57km NNW of Dharamshala, Himachal Pradesh, India",
           " Himachal Pradesh"
          ],
          [
           "2020-03-29T23:47:46.000000",
           32.7,
           76.1,
           10,
           4.5,
           "57km NNW of Dharamshala, Himachal Pradesh, India",
           " Himachal Pradesh"
          ],
          [
           "2020-03-29T19:58:30.000000",
           39.81,
           77.3,
           30,
           3.9,
           "409km SE of Bishkek, Kyrgyzstan",
           " Kyrgyzstan"
          ],
          [
           "2020-03-29T15:34:37.000000",
           39.27,
           71.96,
           80,
           3.1,
           "270km NNE of Fayzabad, Afghanistan",
           " Afghanistan"
          ],
          [
           "2020-03-29T11:31:23.000000",
           32.73,
           76,
           3,
           2.6,
           "64km NNW of Dharamshala, Himachal Pradesh, India",
           " Himachal Pradesh"
          ],
          [
           "2020-03-29T07:05:43.000000",
           27.35,
           91.19,
           10,
           2.8,
           "72km WSW of Tawang, Arunachal Pradesh, India",
           " Arunachal Pradesh"
          ],
          [
           "2020-03-29T06:19:29.000000",
           32.75,
           76.14,
           3,
           2.3,
           "61km NNW of Dharamshala, Himachal Pradesh, India",
           " Himachal Pradesh"
          ],
          [
           "2020-03-29T05:05:03.000000",
           25.9,
           91.1,
           13,
           2,
           "69km WSW of Guwahati, Assam, India",
           " Assam"
          ],
          [
           "2020-03-29T03:57:50.000000",
           35.1,
           73.4,
           10,
           3.5,
           "147km NW of Gulmarg, Jammu and Kashmir, India",
           " Jammu and Kashmir"
          ],
          [
           "2020-03-29T03:55:26.000000",
           32.8,
           76,
           5,
           2.4,
           "71km NNW of Dharamshala, Himachal Pradesh, India",
           " Himachal Pradesh"
          ],
          [
           "2020-03-29T01:22:07.000000",
           36.5,
           70.3,
           224,
           4.1,
           "70km SSW of Fayzabad, Afghanistan",
           " Afghanistan"
          ],
          [
           "2020-03-28T13:08:58.000000",
           36.68,
           71.26,
           200,
           4.8,
           "78km SE of Fayzabad, Afghanistan",
           " Afghanistan"
          ],
          [
           "2020-03-28T07:43:15.000000",
           27.2,
           91.96,
           15,
           2.7,
           "42km SSE of Tawang, Arunachal Pradesh, India",
           " Arunachal Pradesh"
          ],
          [
           "2020-03-28T07:06:54.000000",
           37.49,
           72.5,
           180,
           4.6,
           "177km ENE of Fayzabad, Afghanistan",
           " Afghanistan"
          ],
          [
           "2020-03-28T05:09:32.000000",
           26.5,
           93.4,
           11,
           2.5,
           "62km ESE of Tezpur, Assam, India",
           " Assam"
          ],
          [
           "2020-03-27T20:43:01.000000",
           32.65,
           76.26,
           2,
           3.2,
           "48km N of Dharamshala, Himachal Pradesh, India",
           " Himachal Pradesh"
          ],
          [
           "2020-03-27T18:58:41.000000",
           32.95,
           76,
           3,
           3.1,
           "86km NNW of Dharamshala, Himachal Pradesh, India",
           " Himachal Pradesh"
          ],
          [
           "2020-03-27T18:49:42.000000",
           32.73,
           76.2,
           3,
           3.6,
           "58km NNW of Dharamshala, Himachal Pradesh, India",
           " Himachal Pradesh"
          ],
          [
           "2020-03-27T17:47:26.000000",
           32.74,
           76.17,
           3,
           2.4,
           "59km NNW of Dharamshala, Himachal Pradesh, India",
           " Himachal Pradesh"
          ],
          [
           "2020-03-27T17:45:14.000000",
           32.38,
           76.78,
           3,
           3,
           "41km WNW of Manali, Himachal Pradesh, India",
           " Himachal Pradesh"
          ],
          [
           "2020-03-27T17:39:41.000000",
           32.73,
           76.25,
           3,
           2.6,
           "57km N of Dharamshala, Himachal Pradesh, India",
           " Himachal Pradesh"
          ],
          [
           "2020-03-27T17:17:01.000000",
           32.75,
           76.08,
           3,
           4.2,
           "63km NNW of Dharamshala, Himachal Pradesh, India",
           " Himachal Pradesh"
          ],
          [
           "2020-03-27T17:11:19.000000",
           32.72,
           76.18,
           3,
           3.5,
           "57km NNW of Dharamshala, Himachal Pradesh, India",
           " Himachal Pradesh"
          ],
          [
           "2020-03-27T16:54:39.000000",
           32.73,
           76.23,
           3,
           2.6,
           "57km N of Dharamshala, Himachal Pradesh, India",
           " Himachal Pradesh"
          ],
          [
           "2020-03-27T16:31:15.000000",
           32.74,
           76.22,
           3,
           2.9,
           "58km N of Dharamshala, Himachal Pradesh, India",
           " Himachal Pradesh"
          ],
          [
           "2020-03-27T16:21:13.000000",
           32.74,
           76.2,
           5,
           2.9,
           "59km NNW of Dharamshala, Himachal Pradesh, India",
           " Himachal Pradesh"
          ],
          [
           "2020-03-27T16:06:48.000000",
           32.73,
           76.23,
           3,
           2.9,
           "57km N of Dharamshala, Himachal Pradesh, India",
           " Himachal Pradesh"
          ],
          [
           "2020-03-27T03:34:47.000000",
           31.5,
           72.1,
           21,
           4.5,
           "258km SSW of Islamabad, Pakistan",
           " Pakistan"
          ],
          [
           "2020-03-26T13:33:50.000000",
           38.6,
           71.2,
           207,
           4.6,
           "176km NNE of Fayzabad, Afghanistan",
           " Afghanistan"
          ],
          [
           "2020-03-26T09:52:19.000000",
           36.3,
           71,
           104,
           4.5,
           "97km SSE of Fayzabad, Afghanistan",
           " Afghanistan"
          ],
          [
           "2020-03-26T08:11:15.000000",
           37.7,
           77.3,
           33,
           3.8,
           "365km NNE of Kargil, Laddakh, India",
           " Laddakh"
          ],
          [
           "2020-03-26T05:33:57.000000",
           36.4,
           70.4,
           150,
           4,
           "79km S of Fayzabad, Afghanistan",
           " Afghanistan"
          ],
          [
           "2020-03-26T03:45:02.000000",
           25.6,
           93.4,
           25,
           2.8,
           "42km WSW of Chumukedima, Nagaland, India",
           " Nagaland"
          ],
          [
           "2020-03-26T01:13:07.000000",
           25.1,
           91.9,
           39,
           2.4,
           "25km SE of Cherrapunjee, Meghalaya, India",
           " Meghalaya"
          ],
          [
           "2020-03-26T00:48:16.000000",
           24.5,
           94.5,
           30,
           3.8,
           "48km S of Ukhrul, Manipur, India",
           " Manipur"
          ],
          [
           "2020-03-25T14:15:57.000000",
           34.8,
           86.1,
           240,
           4,
           "699km ENE of Hanley, Jammu & Kashmir, India",
           " Jammu & Kashmir"
          ],
          [
           "2020-03-25T05:09:30.000000",
           28.6,
           87.3,
           10,
           4.2,
           "163km NW of Yuksom, Sikkim, India",
           " Sikkim"
          ],
          [
           "2020-03-25T04:43:29.000000",
           28.6,
           87.3,
           10,
           3.7,
           "163km NW of Yuksom, Sikkim, India",
           " Sikkim"
          ],
          [
           "2020-03-25T02:26:44.000000",
           24.7,
           95.1,
           126,
           3,
           "67km ESE of Ukhrul, Manipur, India",
           " Manipur"
          ],
          [
           "2020-03-24T20:30:36.000000",
           8.2,
           92.4,
           10,
           4.5,
           "212km NW of Campbell Bay, Andaman and Nicobar island, India",
           " Andaman and Nicobar island"
          ],
          [
           "2020-03-24T20:16:07.000000",
           28.6,
           77,
           6,
           2,
           "15km N of Gurugram, Haryana, India",
           " Haryana"
          ],
          [
           "2020-03-24T20:07:47.000000",
           32.9,
           73.6,
           22,
           3.4,
           "84km SW of Rajouri, Jammu and Kashmir",
           " Jammu and Kashmir"
          ],
          [
           "2020-03-24T07:22:24.000000",
           27.8,
           76.5,
           10,
           3.3,
           "89km SW of Gurugram, Haryana, India",
           " Haryana"
          ],
          [
           "2020-03-24T06:34:26.000000",
           25.77,
           94.16,
           15,
           2.8,
           "11km NNE of Kohima, Nagaland, India",
           " Nagaland"
          ],
          [
           "2020-03-24T06:34:25.000000",
           25.7,
           94.2,
           20,
           2.8,
           "9km ENE of Kohima, Nagaland, India",
           " Nagaland"
          ],
          [
           "2020-03-23T05:38:27.000000",
           36.4,
           70.7,
           200,
           4.2,
           "79km S of Fayzabad, Afghanistan",
           " Afghanistan"
          ],
          [
           "2020-03-23T03:11:22.000000",
           25.6,
           97.3,
           155,
           3,
           "247km SSE of Changlang, Arunachal Pradesh, India",
           " Arunachal Pradesh"
          ],
          [
           "2020-03-22T21:33:48.000000",
           37.3,
           72.3,
           10,
           3.5,
           "156km E of Fayzabad, Afghanistan",
           " Afghanistan"
          ],
          [
           "2020-03-22T09:01:09.000000",
           25.5,
           91,
           5,
           2.9,
           "77km WNW of Cherrapunjee, Meghalaya, India",
           " Meghalaya"
          ],
          [
           "2020-03-21T21:12:50.000000",
           37.2,
           72.1,
           154.5,
           4.3,
           "137km E of Fayzabad, Afghanistan",
           " Afghanistan"
          ],
          [
           "2020-03-21T13:28:45.000000",
           23.2,
           94.3,
           118,
           4.5,
           "103km ESE of Champhai, Mizoram, India",
           " Mizoram"
          ],
          [
           "2020-03-21T12:33:47.000000",
           37.1,
           71.9,
           230,
           3.9,
           "119km E of Fayzabad, Afghanistan",
           " Afghanistan"
          ],
          [
           "2020-03-21T11:14:46.000000",
           18.4,
           82.3,
           10,
           4,
           "81km SSE of Jagdalpur, Chhattisgarh, India",
           " Chhattisgarh"
          ],
          [
           "2020-03-21T10:55:23.000000",
           30.8,
           78.9,
           56,
           3.2,
           "45km E of Uttarkashi, Uttarakhand, India",
           " Uttarakhand"
          ],
          [
           "2020-03-21T07:53:15.000000",
           36.7,
           72.2,
           172,
           4.5,
           "153km ESE of Fayzabad, Afghanistan",
           " Afghanistan"
          ],
          [
           "2020-03-21T06:26:18.000000",
           36.1,
           70.6,
           304,
           4.1,
           "111km S of Fayzabad, Afghanistan",
           " Afghanistan"
          ],
          [
           "2020-03-21T05:16:28.000000",
           37,
           71.8,
           10,
           3.7,
           "111km E of Fayzabad, Afghanistan",
           " Afghanistan"
          ],
          [
           "2020-03-21T00:22:11.000000",
           36.8,
           71.4,
           10,
           3.4,
           "82km ESE of Fayzabad, Afghanistan",
           " Afghanistan"
          ],
          [
           "2020-03-20T22:17:58.000000",
           35.8,
           70.7,
           10,
           3.5,
           "145km S of Fayzabad, Afghanistan",
           " Afghanistan"
          ],
          [
           "2020-03-20T20:13:11.000000",
           27.2,
           92.8,
           5,
           3.2,
           "60km N of Tezpur, Assam, India",
           " Assam"
          ],
          [
           "2020-03-20T07:03:15.000000",
           28.6,
           87.3,
           10,
           5.6,
           "163km NW of Yuksom, Sikkim, India",
           " Sikkim"
          ],
          [
           "2020-03-20T01:37:42.000000",
           36.8,
           70.7,
           15.8,
           3.1,
           "35km SSE of Fayzabad, Afghanistan",
           " Afghanistan"
          ],
          [
           "2020-03-19T20:26:39.000000",
           38.9,
           72.5,
           45,
           4.4,
           "263km NE of Fayzabad, Afghanistan",
           " Afghanistan"
          ],
          [
           "2020-03-19T19:34:36.000000",
           38,
           74.2,
           90,
           4,
           "337km ENE of Fayzabad, Afghanistan",
           " Afghanistan"
          ],
          [
           "2020-03-19T18:29:01.000000",
           8.8,
           93.9,
           40,
           4.2,
           "199km N of Campbell Bay, Andaman and Nicobar island, India",
           " Andaman and Nicobar island"
          ],
          [
           "2020-03-19T09:19:04.000000",
           20,
           72.9,
           10,
           3.3,
           "93km W of Nashik, Maharashtra, India",
           " Maharashtra"
          ],
          [
           "2020-03-18T20:29:29.000000",
           31.2,
           79.2,
           5,
           3.3,
           "79km NNW of Joshimath, Uttarakhand , India",
           " Uttarakhand "
          ],
          [
           "2020-03-18T06:39:13.000000",
           34.8,
           72.3,
           39,
           3.7,
           "141km NNW of Islamabad, Pakistan",
           " Pakistan"
          ],
          [
           "2020-03-18T05:15:16.000000",
           34.3,
           69.6,
           150,
           4.2,
           "45km SE of Kabul , Afghanistan",
           " Afghanistan"
          ],
          [
           "2020-03-18T01:31:25.000000",
           32.5,
           85.3,
           150,
           4,
           "531km N of Kathmandu, Nepal",
           " Nepal"
          ],
          [
           "2020-03-18T01:17:37.000000",
           25.5,
           90.9,
           10,
           3.2,
           "69km E of Tura, Meghalaya, India",
           " Meghalaya"
          ],
          [
           "2020-03-17T09:35:09.000000",
           34.4,
           85.9,
           10,
           4.4,
           "669km ENE of Hanley, Jammu & Kashmir, India",
           " Jammu & Kashmir"
          ],
          [
           "2020-03-17T06:08:24.000000",
           36.5,
           69.8,
           10,
           4.3,
           "94km SW of Fayzabad, Afghanistan",
           " Afghanistan"
          ],
          [
           "2020-03-17T05:26:19.000000",
           26.9,
           75.3,
           39,
           3.1,
           "48km W of Jaipur, Rajasthan, India",
           " Rajasthan"
          ],
          [
           "2020-03-17T04:05:59.000000",
           36.8,
           71.4,
           10,
           4.1,
           "82km ESE of Fayzabad, Afghanistan",
           " Afghanistan"
          ],
          [
           "2020-03-15T21:47:06.000000",
           32.5,
           85.5,
           51,
           4.5,
           "532km N of Kathmandu, Nepal",
           " Nepal"
          ],
          [
           "2020-03-15T20:30:16.000000",
           28.2,
           84.2,
           10,
           4.1,
           "122km WNW of Kathmandu, Nepal",
           " Nepal"
          ],
          [
           "2020-03-15T19:55:14.000000",
           36.9,
           71.2,
           160,
           4.4,
           "61km ESE of Fayzabad, Afghanistan",
           " Afghanistan"
          ],
          [
           "2020-03-15T18:40:44.000000",
           29,
           95.2,
           30,
           4,
           "95km N of Pangin, Arunachal Pradesh, India",
           " Arunachal Pradesh"
          ],
          [
           "2020-03-15T15:40:07.000000",
           27.7,
           91.1,
           10,
           2.9,
           "77km W of Tawang, Arunachal Pradesh, India",
           " Arunachal Pradesh"
          ],
          [
           "2020-03-15T14:50:58.000000",
           36.3,
           70.8,
           180,
           4.2,
           "91km SSE of Fayzabad, Afghanistan",
           " Afghanistan"
          ],
          [
           "2020-03-15T12:33:31.000000",
           27.2,
           92.1,
           19,
           2.5,
           "47km SSE of Tawang, Arunachal Pradesh, India",
           " Arunachal Pradesh"
          ],
          [
           "2020-03-15T01:57:03.000000",
           38.9,
           70.5,
           10,
           3.7,
           "153km ENE of Dushanbe, Tajikistan",
           " Tajikistan"
          ],
          [
           "2020-03-14T05:23:32.000000",
           35.9,
           69.3,
           150,
           4.4,
           "149km N of Kabul , Afghanistan",
           " Afghanistan"
          ],
          [
           "2020-03-12T21:14:05.000000",
           32.7,
           85.5,
           10,
           5,
           "554km N of Kathmandu, Nepal",
           " Nepal"
          ],
          [
           "2020-03-11T22:13:24.000000",
           32.5,
           85.2,
           130,
           4,
           "532km N of Kathmandu, Nepal",
           " Nepal"
          ],
          [
           "2020-03-11T19:49:30.000000",
           32.5,
           78.6,
           10,
           4.1,
           "40km WSW of Hanley, Jammu & Kashmir, India",
           " Jammu & Kashmir"
          ],
          [
           "2020-03-11T08:12:44.000000",
           38.2,
           74.1,
           166,
           4.2,
           "335km ENE of Fayzabad, Afghanistan",
           " Afghanistan"
          ],
          [
           "2020-03-11T04:55:20.000000",
           30.7,
           78.6,
           10,
           2.6,
           "16km E of Uttarkashi, Uttarakhand, India",
           " Uttarakhand"
          ],
          [
           "2020-03-11T04:38:37.000000",
           3.5,
           97.6,
           190,
           4.7,
           "455km W of Kuala Lumpur, Malaysia",
           " Malaysia"
          ],
          [
           "2020-03-11T00:23:54.000000",
           36.9,
           72.8,
           250,
           3.9,
           "201km E of Fayzabad, Afghanistan",
           " Afghanistan"
          ],
          [
           "2020-03-10T10:52:15.000000",
           37,
           71.5,
           10,
           3.9,
           "85km E of Fayzabad, Afghanistan",
           " Afghanistan"
          ],
          [
           "2020-03-10T08:09:27.000000",
           36.7,
           71.3,
           180,
           4.2,
           "80km ESE of Fayzabad, Afghanistan",
           " Afghanistan"
          ],
          [
           "2020-03-10T06:12:18.000000",
           32.8,
           85.6,
           10,
           4.1,
           "565km N of Kathmandu, Nepal",
           " Nepal"
          ],
          [
           "2020-03-10T01:48:36.000000",
           27.8,
           94.3,
           10,
           2.5,
           "43km WSW of Basar, Arunachal Pradesh, India",
           " Arunachal Pradesh"
          ],
          [
           "2020-03-10T01:24:21.000000",
           20,
           72.5,
           10,
           2.9,
           "110km NNW of Mumbai, Maharashtra, India",
           " Maharashtra"
          ],
          [
           "2020-03-10T00:42:41.000000",
           25.7,
           94.5,
           10,
           2.7,
           "39km E of Kohima, Nagaland, India",
           " Nagaland"
          ],
          [
           "2020-03-10T00:08:58.000000",
           32.4,
           85.4,
           186,
           4.3,
           "520km N of Kathmandu, Nepal",
           " Nepal"
          ],
          [
           "2020-03-09T23:54:24.000000",
           32.8,
           85.5,
           33,
           4.6,
           "565km N of Kathmandu, Nepal",
           " Nepal"
          ],
          [
           "2020-03-09T23:50:01.000000",
           32.6,
           85.3,
           10,
           4.8,
           "543km N of Kathmandu, Nepal",
           " Nepal"
          ],
          [
           "2020-03-09T23:42:09.000000",
           32.7,
           85.5,
           10,
           5.3,
           "554km N of Kathmandu, Nepal",
           " Nepal"
          ],
          [
           "2020-03-09T17:18:40.000000",
           19.9,
           73,
           10,
           2.3,
           "83km W of Nashik, Maharashtra, India",
           " Maharashtra"
          ],
          [
           "2020-03-09T14:18:17.000000",
           20.9,
           81.8,
           30,
           4,
           "42km SSE of Raipur, Chhattisgarh, India",
           " Chhattisgarh"
          ],
          [
           "2020-03-09T04:41:28.000000",
           36.7,
           71.3,
           39,
           3.5,
           "80km ESE of Fayzabad, Afghanistan",
           " Afghanistan"
          ],
          [
           "2020-03-09T01:50:53.000000",
           29.9,
           79.9,
           5,
           2.4,
           "46km NW of Pithoragarh, Uttarakhand, India",
           " Uttarakhand"
          ],
          [
           "2020-03-08T22:29:18.000000",
           32.8,
           85.5,
           10,
           4.5,
           "565km N of Kathmandu, Nepal",
           " Nepal"
          ],
          [
           "2020-03-08T09:34:55.000000",
           34.4,
           73.3,
           15,
           3.6,
           "83km NNE of Islamabad, Pakistan",
           " Pakistan"
          ],
          [
           "2020-03-08T04:28:17.000000",
           36.8,
           75.6,
           10,
           4.2,
           "254km N of Kargil, Laddakh, India",
           " Laddakh"
          ],
          [
           "2020-03-07T10:03:28.000000",
           35.9,
           70.4,
           349,
           4,
           "134km S of Fayzabad, Afghanistan",
           " Afghanistan"
          ],
          [
           "2020-03-07T09:35:46.000000",
           23.2,
           96.1,
           48,
           4.5,
           "144km N of Burma, Myanmar",
           " Myanmar"
          ],
          [
           "2020-03-07T09:30:24.000000",
           34.8,
           73.3,
           18,
           3.7,
           "126km N of Islamabad, Pakistan",
           " Pakistan"
          ],
          [
           "2020-03-07T06:30:10.000000",
           40,
           70.3,
           10,
           3.7,
           "169km SSE of Tashkent, Uzbekistan",
           " Uzbekistan"
          ],
          [
           "2020-03-07T06:14:58.000000",
           36.2,
           71.3,
           10,
           4.2,
           "120km SE of Fayzabad, Afghanistan",
           " Afghanistan"
          ],
          [
           "2020-03-07T03:12:43.000000",
           35.7,
           77.6,
           110,
           3.6,
           "169km NNE of Alchi(Leh),Jammu & Kashmir,India",
           "Jammu & Kashmir"
          ],
          [
           "2020-03-06T16:47:11.000000",
           24.7,
           94.3,
           14,
           3.4,
           "31km SW of Ukhrul, Manipur, India",
           " Manipur"
          ],
          [
           "2020-03-06T09:51:44.000000",
           34.1,
           71.5,
           269,
           4.1,
           "150km WNW of Islamabad, Pakistan",
           " Pakistan"
          ],
          [
           "2020-03-06T01:29:19.000000",
           27.8,
           66.3,
           30,
           4.5,
           "673km NNW of Dwarka, Gujarat, India",
           " Gujarat"
          ],
          [
           "2020-03-05T21:35:57.000000",
           29.5,
           67.5,
           10,
           4.1,
           "584km SSW of Kabul , Afghanistan",
           " Afghanistan"
          ],
          [
           "2020-03-05T21:04:18.000000",
           27.3,
           94,
           8,
           2.8,
           "45km ENE of Itanagar, Arunachal Pradesh, India",
           " Arunachal Pradesh"
          ],
          [
           "2020-03-05T12:29:55.000000",
           25.6,
           96.9,
           13,
           4.3,
           "239km S of Changlang, Arunachal Pradesh, India",
           " Arunachal Pradesh"
          ],
          [
           "2020-03-05T01:19:23.000000",
           36.6,
           70.9,
           239,
           4,
           "63km SSE of Fayzabad, Afghanistan",
           " Afghanistan"
          ],
          [
           "2020-03-04T18:58:48.000000",
           31.4,
           94.8,
           140,
           4.1,
           "365km N of Pangin, Arunachal Pradesh, India",
           " Arunachal Pradesh"
          ],
          [
           "2020-03-04T17:12:34.000000",
           33.3,
           75.6,
           5,
           3.4,
           "71km ENE of Katra, Jammu and Kashmir, India",
           " Jammu and Kashmir"
          ],
          [
           "2020-03-04T09:53:06.000000",
           36.5,
           70.8,
           110,
           4.1,
           "70km SSE of Fayzabad, Afghanistan",
           " Afghanistan"
          ],
          [
           "2020-03-04T05:49:58.000000",
           24.3,
           96.5,
           10,
           4.2,
           "216km ESE of Ukhrul, Manipur, India",
           " Manipur"
          ],
          [
           "2020-03-04T03:32:13.000000",
           25.9,
           90.8,
           0.8,
           2.4,
           "73km NE of Tura, Meghalaya, India",
           " Meghalaya"
          ],
          [
           "2020-03-03T14:48:45.000000",
           17.2,
           93.7,
           30,
           4.5,
           "265km W of Yangon, Myanmar",
           " Myanmar"
          ],
          [
           "2020-03-03T03:23:24.000000",
           38,
           74.2,
           200,
           4.3,
           "337km ENE of Fayzabad, Afghanistan",
           " Afghanistan"
          ],
          [
           "2020-03-03T02:16:58.000000",
           24.2,
           94.7,
           160,
           3.6,
           "84km SSE of Ukhrul, Manipur, India",
           " Manipur"
          ],
          [
           "2020-03-03T01:38:30.000000",
           36.2,
           71.6,
           150,
           4,
           "137km SE of Fayzabad, Afghanistan",
           " Afghanistan"
          ],
          [
           "2020-03-03T00:02:33.000000",
           32,
           89.4,
           10,
           4.2,
           "483km N of Lachung, Sikkim, India",
           " Sikkim"
          ],
          [
           "2020-03-02T22:46:24.000000",
           37.6,
           72.2,
           158,
           4.2,
           "156km ENE of Fayzabad, Afghanistan",
           " Afghanistan"
          ],
          [
           "2020-03-02T21:05:54.000000",
           33.7,
           80.4,
           10,
           4.8,
           "174km NE of Hanley, Jammu & Kashmir, India",
           " Jammu & Kashmir"
          ],
          [
           "2020-03-01T13:00:25.000000",
           35.02,
           69.73,
           38,
           3.4,
           "70km NE of Kabul , Afghanistan",
           " Afghanistan"
          ],
          [
           "2020-03-01T11:31:46.000000",
           36.2,
           71.3,
           200,
           4.1,
           "120km SE of Fayzabad, Afghanistan",
           " Afghanistan"
          ],
          [
           "2020-03-01T10:13:38.000000",
           31.3,
           77.4,
           5,
           3.2,
           "30km NE of Shimla, Himachal Pradesh, India",
           " Himachal Pradesh"
          ],
          [
           "2020-03-01T04:23:51.000000",
           27.9,
           94.2,
           5,
           3.2,
           "48km W of Basar, Arunachal Pradesh, India",
           " Arunachal Pradesh"
          ],
          [
           "2020-03-01T01:35:24.000000",
           26.5,
           92.1,
           10,
           4.2,
           "53km NE of Guwahati, Assam, India",
           " Assam"
          ],
          [
           "2020-02-29T12:52:40.000000",
           36.5,
           71.3,
           180,
           4,
           "94km SE of Fayzabad, Afghanistan",
           " Afghanistan"
          ],
          [
           "2020-02-29T04:41:56.000000",
           33,
           76.2,
           10,
           3.2,
           "87km N of Dharamshala, Himachal Pradesh, India",
           " Himachal Pradesh"
          ],
          [
           "2020-02-29T02:12:37.000000",
           37,
           71.3,
           110,
           3.7,
           "67km E of Fayzabad, Afghanistan",
           " Afghanistan"
          ],
          [
           "2020-02-29T00:35:41.000000",
           24.7,
           91.8,
           10,
           2.8,
           "50km NW of Dharmanagar, Tripura, India",
           " Tripura"
          ],
          [
           "2020-02-28T19:02:22.000000",
           33,
           76.1,
           10,
           2.8,
           "89km NNW of Dharamshala, Himachal Pradesh, India",
           " Himachal Pradesh"
          ],
          [
           "2020-02-28T18:54:22.000000",
           35.7,
           70.6,
           50,
           4.3,
           "155km S of Fayzabad, Afghanistan",
           " Afghanistan"
          ],
          [
           "2020-02-28T16:37:13.000000",
           32.9,
           76.1,
           10,
           4.1,
           "78km NNW of Dharamshala, Himachal Pradesh, India",
           " Himachal Pradesh"
          ],
          [
           "2020-02-28T14:42:29.000000",
           33,
           76.1,
           5,
           3.1,
           "89km NNW of Dharamshala, Himachal Pradesh, India",
           " Himachal Pradesh"
          ],
          [
           "2020-02-28T11:20:18.000000",
           35.2,
           71.9,
           80,
           4.7,
           "198km NNW of Islamabad, Pakistan",
           " Pakistan"
          ],
          [
           "2020-02-28T10:48:40.000000",
           31.4,
           77.4,
           5,
           2.7,
           "39km NNE of Shimla, Himachal Pradesh, India",
           " Himachal Pradesh"
          ],
          [
           "2020-02-28T00:24:20.000000",
           36.3,
           71.4,
           110,
           3.2,
           "116km SE of Fayzabad, Afghanistan",
           " Afghanistan"
          ],
          [
           "2020-02-27T20:31:21.000000",
           36.2,
           70.2,
           100,
           4.1,
           "104km SSW of Fayzabad, Afghanistan",
           " Afghanistan"
          ],
          [
           "2020-02-27T15:16:46.000000",
           33,
           76.1,
           10,
           3.6,
           "89km NNW of Dharamshala, Himachal Pradesh, India",
           " Himachal Pradesh"
          ],
          [
           "2020-02-27T03:47:58.000000",
           19.5,
           77,
           29,
           2.5,
           "133km S of Akola,Maharashtra,India",
           "Maharashtra"
          ],
          [
           "2020-02-26T22:42:36.000000",
           33,
           76.1,
           10,
           2.7,
           "89km NNW of Dharamshala, Himachal Pradesh, India",
           " Himachal Pradesh"
          ],
          [
           "2020-02-26T20:34:04.000000",
           33.4,
           76.3,
           10,
           5.2,
           "114km SE of Pahalgam, Jammu and Kashmir, India",
           " Jammu and Kashmir"
          ],
          [
           "2020-02-26T18:47:52.000000",
           25.5,
           91.1,
           5,
           3,
           "68km WNW of Cherrapunjee, Meghalaya, India",
           " Meghalaya"
          ],
          [
           "2020-02-26T07:58:05.000000",
           32.9,
           76,
           5,
           3.6,
           "81km NNW of Dharamshala, Himachal Pradesh, India",
           " Himachal Pradesh"
          ],
          [
           "2020-02-26T03:18:41.000000",
           37.2,
           72,
           125,
           4.8,
           "129km E of Fayzabad, Afghanistan",
           " Afghanistan"
          ],
          [
           "2020-02-26T02:09:21.000000",
           31.8,
           77.3,
           5,
           2.2,
           "25km SE of Kullu, Himachal Pradesh, India",
           " Himachal Pradesh"
          ],
          [
           "2020-02-25T16:14:35.000000",
           36.4,
           77,
           231,
           3.9,
           "219km NNE of Kargil, Laddakh, India",
           " Laddakh"
          ],
          [
           "2020-02-25T11:46:23.000000",
           24.4,
           90.3,
           100,
           3.7,
           "66km N of Dhaka, Bangladesh",
           " Bangladesh"
          ],
          [
           "2020-02-25T06:40:12.000000",
           25.5,
           91.7,
           14,
           2.7,
           "21km WSW of Shillong, Meghalaya, India",
           " Meghalaya"
          ],
          [
           "2020-02-25T03:50:49.000000",
           24.8,
           91.7,
           10,
           3.8,
           "52km S of Cherrapunjee, Meghalaya, India",
           " Meghalaya"
          ],
          [
           "2020-02-24T13:23:30.000000",
           28.9,
           76.7,
           6,
           2.4,
           "9km E of Rohtak, Haryana, India",
           " Haryana"
          ],
          [
           "2020-02-24T12:37:59.000000",
           24.4,
           94.4,
           73,
           3.2,
           "59km S of Ukhrul, Manipur, India",
           " Manipur"
          ],
          [
           "2020-02-24T01:03:22.000000",
           25.8,
           97.2,
           10,
           3.8,
           "222km SSE of Changlang, Arunachal Pradesh, India",
           " Arunachal Pradesh"
          ],
          [
           "2020-02-23T14:49:51.000000",
           37.56,
           71.6,
           200,
           4.1,
           "106km ENE of Fayzabad, Afghanistan",
           " Afghanistan"
          ],
          [
           "2020-02-23T13:01:41.000000",
           25.5,
           97.4,
           39,
           3.8,
           "260km SSE of Changlang, Arunachal Pradesh, India",
           " Arunachal Pradesh"
          ],
          [
           "2020-02-23T08:44:14.000000",
           36.59,
           70.45,
           160,
           4,
           "57km S of Fayzabad, Afghanistan",
           " Afghanistan"
          ],
          [
           "2020-02-23T06:10:56.000000",
           37.3,
           71.9,
           180,
           4,
           "121km E of Fayzabad, Afghanistan",
           " Afghanistan"
          ],
          [
           "2020-02-23T05:35:03.000000",
           26.2,
           92.6,
           28,
           2.8,
           "53km SSW of Tezpur, Assam, India",
           " Assam"
          ],
          [
           "2020-02-23T05:12:35.000000",
           25.7,
           94.9,
           30,
           3.4,
           "77km ESE of Wokha, Nagaland, India",
           " Nagaland"
          ],
          [
           "2020-02-22T17:01:10.000000",
           23.9,
           94.3,
           26,
           3.4,
           "85km SE of Moirang, Manipur, India",
           " Manipur"
          ],
          [
           "2020-02-22T14:16:03.000000",
           37.1,
           71.8,
           113,
           4.8,
           "110km E of Fayzabad, Afghanistan",
           " Afghanistan"
          ],
          [
           "2020-02-22T05:59:09.000000",
           27.4,
           91.9,
           5,
           3.4,
           "19km S of Tawang, Arunachal Pradesh, India",
           " Arunachal Pradesh"
          ],
          [
           "2020-02-22T04:20:42.000000",
           33.2,
           75.9,
           9,
           2.9,
           "93km ENE of Katra, Jammu and Kashmir, India",
           " Jammu and Kashmir"
          ],
          [
           "2020-02-21T21:09:16.000000",
           39.7,
           77.5,
           10,
           5.1,
           "429km SE of Bishkek, Kyrgyzstan",
           " Kyrgyzstan"
          ],
          [
           "2020-02-21T16:14:03.000000",
           36,
           71.2,
           10,
           3.7,
           "135km SSE of Fayzabad, Afghanistan",
           " Afghanistan"
          ],
          [
           "2020-02-21T08:32:32.000000",
           24.9,
           91.4,
           10,
           2.9,
           "53km SW of Cherrapunjee, Meghalaya, India",
           " Meghalaya"
          ],
          [
           "2020-02-21T06:31:52.000000",
           19.8,
           88,
           10,
           4.7,
           "226km E of Puri, Odisha, India",
           " Odisha"
          ],
          [
           "2020-02-21T02:05:03.000000",
           25.5,
           92.8,
           15,
           3.3,
           "91km E of Shillong, Meghalaya, India",
           " Meghalaya"
          ],
          [
           "2020-02-20T23:31:36.000000",
           34.4,
           85.7,
           10,
           4.8,
           "652km ENE of Hanley, Jammu & Kashmir, India",
           " Jammu & Kashmir"
          ],
          [
           "2020-02-19T21:03:07.000000",
           36.2,
           72.2,
           180,
           4,
           "178km ESE of Fayzabad, Afghanistan",
           " Afghanistan"
          ],
          [
           "2020-02-19T20:58:29.000000",
           29.5,
           81.5,
           10,
           3,
           "124km E of Pithoragarh, Uttarakhand, India",
           " Uttarakhand"
          ],
          [
           "2020-02-19T04:37:07.000000",
           38.7,
           71.8,
           80,
           4.5,
           "209km NNE of Fayzabad, Afghanistan",
           " Afghanistan"
          ],
          [
           "2020-02-19T01:19:54.000000",
           30.3,
           85.6,
           33,
           4,
           "288km N of Kathmandu, Nepal",
           " Nepal"
          ],
          [
           "2020-02-18T16:58:05.000000",
           37.41,
           72.46,
           100,
           4.6,
           "172km ENE of Fayzabad, Afghanistan",
           " Afghanistan"
          ],
          [
           "2020-02-18T12:48:32.000000",
           31.5,
           77.5,
           5,
           2,
           "53km NE of Shimla, Himachal Pradesh, India",
           " Himachal Pradesh"
          ],
          [
           "2020-02-18T05:59:05.000000",
           36.7,
           71.5,
           169,
           4.2,
           "95km ESE of Fayzabad, Afghanistan",
           " Afghanistan"
          ],
          [
           "2020-02-18T03:40:05.000000",
           33.8,
           75.9,
           17,
           3.6,
           "59km ESE of Pahalgam, Jammu and Kashmir, India",
           " Jammu and Kashmir"
          ],
          [
           "2020-02-18T03:33:50.000000",
           25.6,
           93.8,
           8,
           2.6,
           "23km SSE of Chumukedima, Nagaland, India",
           " Nagaland"
          ],
          [
           "2020-02-18T01:01:43.000000",
           34.4,
           76.1,
           8,
           2.2,
           "17km S of Kargil, Laddakh, India",
           " Laddakh"
          ],
          [
           "2020-02-17T12:46:32.000000",
           35.5,
           74.7,
           74,
           4.1,
           "157km N of Srinagar, Jammu and Kashmir, India",
           " Jammu and Kashmir"
          ],
          [
           "2020-02-17T12:46:23.000000",
           36.1,
           74.9,
           10,
           4,
           "205km NNW of Kargil, Laddakh, India",
           " Laddakh"
          ],
          [
           "2020-02-17T05:04:25.000000",
           36.2,
           70.05,
           180,
           4,
           "109km SSW of Fayzabad, Afghanistan",
           " Afghanistan"
          ],
          [
           "2020-02-17T00:35:12.000000",
           36.26,
           71.85,
           150,
           3.5,
           "148km SE of Fayzabad, Afghanistan",
           " Afghanistan"
          ],
          [
           "2020-02-16T22:48:50.000000",
           34.7,
           77.6,
           10,
           3.6,
           "60km N of Leh, Laddakh, India",
           " Laddakh"
          ],
          [
           "2020-02-16T22:44:00.000000",
           34.58,
           77.66,
           10,
           3.2,
           "48km N of Leh, Laddakh, India",
           " Laddakh"
          ],
          [
           "2020-02-16T20:17:52.000000",
           26.3,
           93.1,
           30,
           2.9,
           "49km SE of Tezpur, Assam, India",
           " Assam"
          ],
          [
           "2020-02-16T19:46:14.000000",
           24.6,
           94.7,
           17,
           2.7,
           "43km SSE of Ukhrul, Manipur, India",
           " Manipur"
          ],
          [
           "2020-02-16T00:00:21.000000",
           36.6,
           71.9,
           200,
           3.5,
           "132km ESE of Fayzabad, Afghanistan",
           " Afghanistan"
          ],
          [
           "2020-02-15T17:22:07.000000",
           28.6,
           76.6,
           9,
           2.3,
           "5km W of Jhajjar, Haryana",
           " Haryana"
          ],
          [
           "2020-02-15T14:54:24.000000",
           39.5,
           73.3,
           10,
           3.2,
           "358km NE of Fayzabad, Afghanistan",
           " Afghanistan"
          ],
          [
           "2020-02-15T14:54:24.000000",
           39.5,
           73.3,
           10,
           4.2,
           "358km NE of Fayzabad, Afghanistan",
           " Afghanistan"
          ],
          [
           "2020-02-15T13:42:18.000000",
           22.94,
           93.36,
           3.4,
           2.8,
           "57km S of Champhai, Mizoram, India",
           " Mizoram"
          ],
          [
           "2020-02-15T09:55:08.000000",
           25.28,
           94.84,
           127,
           2.9,
           "45km ENE of Shirui, Manipur, India",
           " Manipur"
          ],
          [
           "2020-02-15T04:58:53.000000",
           21.7,
           93.5,
           30,
           3.5,
           "190km SSE of Thenzawl, Mizoram, India",
           " Mizoram"
          ],
          [
           "2020-02-14T23:07:58.000000",
           26.2,
           92.9,
           27,
           2.5,
           "51km SSE of Tezpur, Assam, India",
           " Assam"
          ],
          [
           "2020-02-14T20:05:28.000000",
           25,
           94.6,
           76,
           3.6,
           "14km ENE of Ukhrul, Manipur, India",
           " Manipur"
          ],
          [
           "2020-02-14T19:49:45.000000",
           36.6,
           72.6,
           90,
           3.9,
           "190km ESE of Fayzabad, Afghanistan",
           " Afghanistan"
          ],
          [
           "2020-02-14T05:03:37.000000",
           36.32,
           71.28,
           200,
           4.2,
           "108km SE of Fayzabad, Afghanistan",
           " Afghanistan"
          ],
          [
           "2020-02-14T01:48:49.000000",
           39.4,
           73.5,
           10,
           3.5,
           "363km NE of Fayzabad, Afghanistan",
           " Afghanistan"
          ],
          [
           "2020-02-14T01:43:53.000000",
           26.6,
           92.2,
           5,
           2.6,
           "59km W of Tezpur, Assam, India",
           " Assam"
          ],
          [
           "2020-02-13T22:21:29.000000",
           37.1,
           70.9,
           230,
           3.7,
           "31km E of Fayzabad, Afghanistan",
           " Afghanistan"
          ],
          [
           "2020-02-13T17:23:15.000000",
           30,
           87,
           10,
           4.4,
           "301km NNE of Kathmandu, Nepal",
           " Nepal"
          ],
          [
           "2020-02-13T05:31:17.000000",
           38.6,
           70.12,
           40,
           3.8,
           "116km E of Dushanbe, Tajikistan",
           " Tajikistan"
          ],
          [
           "2020-02-12T03:21:07.000000",
           36.2,
           70.4,
           150,
           3.5,
           "101km S of Fayzabad, Afghanistan",
           " Afghanistan"
          ],
          [
           "2020-02-12T02:34:16.000000",
           4.6,
           83.5,
           10,
           4.5,
           "478km ESE of Colombo, Sri Lanka",
           " Sri Lanka"
          ],
          [
           "2020-02-11T23:22:43.000000",
           17.8,
           93.7,
           10,
           4.1,
           "283km WNW of Yangon, Myanmar",
           " Myanmar"
          ],
          [
           "2020-02-11T23:04:31.000000",
           24.9,
           95,
           120,
           3,
           "52km E of Ukhrul, Manipur, India",
           " Manipur"
          ],
          [
           "2020-02-11T14:50:59.000000",
           36.6,
           71.4,
           213,
           4.3,
           "93km SE of Fayzabad, Afghanistan",
           " Afghanistan"
          ],
          [
           "2020-02-11T14:16:51.000000",
           36,
           70.6,
           127,
           4.4,
           "122km S of Fayzabad, Afghanistan",
           " Afghanistan"
          ],
          [
           "2020-02-11T02:26:56.000000",
           37.2,
           72.2,
           70,
           4.2,
           "146km E of Fayzabad, Afghanistan",
           " Afghanistan"
          ],
          [
           "2020-02-11T02:14:25.000000",
           32.9,
           73.6,
           10,
           3.5,
           "84km SW of Rajouri, Jammu and Kashmir",
           " Jammu and Kashmir"
          ],
          [
           "2020-02-11T01:18:17.000000",
           11,
           92.8,
           10,
           3.2,
           "69km S of Portblair, Andaman and Nicobar island, India",
           " Andaman and Nicobar island"
          ],
          [
           "2020-02-10T23:50:08.000000",
           13.3,
           93.2,
           19,
           4.3,
           "23km E of Diglipur, Andaman and Nicobar island, India",
           " Andaman and Nicobar island"
          ],
          [
           "2020-02-10T23:16:16.000000",
           22.9,
           94.6,
           13,
           3.5,
           "144km ESE of Champhai, Mizoram, India",
           " Mizoram"
          ],
          [
           "2020-02-10T03:51:01.000000",
           32.8,
           76.5,
           5,
           2.6,
           "66km NNE of Dharamshala, Himachal Pradesh, India",
           " Himachal Pradesh"
          ],
          [
           "2020-02-10T01:07:30.000000",
           23.1,
           94.7,
           20,
           4.1,
           "145km ESE of Champhai, Mizoram, India",
           " Mizoram"
          ],
          [
           "2020-02-10T00:40:39.000000",
           20.3,
           93.7,
           10,
           3.8,
           "294km SW of Burma, Myanmar",
           " Myanmar"
          ],
          [
           "2020-02-09T14:18:56.000000",
           12.6,
           93.2,
           10,
           4.3,
           "77km SSE of Diglipur, Andaman and Nicobar island, India",
           " Andaman and Nicobar island"
          ],
          [
           "2020-02-09T14:03:44.000000",
           33.2,
           76.3,
           10,
           2.5,
           "109km N of Dharamshala, Himachal Pradesh, India",
           " Himachal Pradesh"
          ],
          [
           "2020-02-09T13:44:22.000000",
           36.3,
           70,
           150,
           3.9,
           "101km SSW of Fayzabad, Afghanistan",
           " Afghanistan"
          ],
          [
           "2020-02-09T06:44:42.000000",
           26.3,
           90.8,
           13,
           2.9,
           "95km W of Guwahati, Assam, India",
           " Assam"
          ],
          [
           "2020-02-09T01:46:05.000000",
           24.7,
           94.7,
           35,
           2.8,
           "34km SE of Ukhrul, Manipur, India",
           " Manipur"
          ],
          [
           "2020-02-08T23:45:24.000000",
           25.56,
           93.08,
           20,
           2.6,
           "72km WSW of Chumukedima, Nagaland, India",
           " Nagaland"
          ],
          [
           "2020-02-08T18:17:03.000000",
           26.3,
           90.7,
           10,
           5,
           "100km NNE of Tura, Meghalaya, India",
           " Meghalaya"
          ],
          [
           "2020-02-08T06:31:47.000000",
           29.8,
           80,
           20,
           4.7,
           "32km NW of Pithoragarh, Uttarakhand, India",
           " Uttarakhand"
          ],
          [
           "2020-02-08T02:37:03.000000",
           23.37,
           94.15,
           10,
           3.2,
           "84km E of Champhai, Mizoram, India",
           " Mizoram"
          ],
          [
           "2020-02-08T02:34:32.000000",
           28.98,
           76.71,
           5,
           2.1,
           "13km NE of Rohtak, Haryana, India",
           " Haryana"
          ],
          [
           "2020-02-07T21:22:09.000000",
           23.65,
           93.53,
           10,
           3.7,
           "29km NE of Champhai, Mizoram, India",
           " Mizoram"
          ],
          [
           "2020-02-07T16:30:41.000000",
           11.22,
           93.62,
           10,
           4.9,
           "107km ESE of Portblair, Andaman and Nicobar island, India",
           " Andaman and Nicobar island"
          ],
          [
           "2020-02-07T11:34:29.000000",
           18.5,
           73,
           10,
           2.5,
           "65km SSE of Mumbai, India",
           " India"
          ],
          [
           "2020-02-06T09:02:05.000000",
           36.4,
           71.1,
           110,
           3.4,
           "92km SSE of Fayzabad, Afghanistan",
           " Afghanistan"
          ],
          [
           "2020-02-06T02:17:08.000000",
           7.3,
           73.7,
           10,
           4.5,
           "129km SE of Minicoy, Lakshsdweep Island, India",
           " Lakshsdweep Island"
          ],
          [
           "2020-02-06T01:36:37.000000",
           26.2,
           65.9,
           37,
           4.4,
           "538km NW of Dwarka, Gujarat, India",
           " Gujarat"
          ],
          [
           "2020-02-05T12:58:10.000000",
           32.8,
           70.3,
           10,
           3.8,
           "219km SSE of Kabul , Afghanistan",
           " Afghanistan"
          ],
          [
           "2020-02-05T02:02:51.000000",
           36.3,
           71.2,
           107,
           5.2,
           "106km SE of Fayzabad, Afghanistan",
           " Afghanistan"
          ],
          [
           "2020-02-04T23:56:27.000000",
           22.1,
           94,
           203,
           4.4,
           "165km SSE of Champhai, Mizoram, India",
           " Mizoram"
          ],
          [
           "2020-02-04T11:25:19.000000",
           32.6,
           78.9,
           16,
           3.6,
           "11km SW of Hanley, Jammu & Kashmir, India",
           " Jammu & Kashmir"
          ],
          [
           "2020-02-04T10:35:39.000000",
           34.5,
           70.7,
           122,
           4.9,
           "136km E of Kabul , Afghanistan",
           " Afghanistan"
          ],
          [
           "2020-02-04T05:42:56.000000",
           33.4,
           64.9,
           86,
           4.5,
           "417km WSW of Kabul , Afghanistan",
           " Afghanistan"
          ],
          [
           "2020-02-04T04:13:22.000000",
           32.8,
           76.4,
           5,
           2.5,
           "65km N of Dharamshala, Himachal Pradesh, India",
           " Himachal Pradesh"
          ],
          [
           "2020-02-03T21:41:16.000000",
           37.4,
           72.2,
           150,
           4.5,
           "149km ENE of Fayzabad, Afghanistan",
           " Afghanistan"
          ],
          [
           "2020-02-03T21:16:40.000000",
           39.6,
           73.9,
           30,
           3.7,
           "368km S of Bishkek, Kyrgyzstan",
           " Kyrgyzstan"
          ],
          [
           "2020-02-03T20:34:53.000000",
           23.2,
           94.3,
           180,
           4,
           "103km ESE of Champhai, Mizoram, India",
           " Mizoram"
          ],
          [
           "2020-02-03T12:34:59.000000",
           39.8,
           72.1,
           10,
           3,
           "293km ESE of Tashkent, Uzbekistan",
           " Uzbekistan"
          ],
          [
           "2020-02-03T11:47:40.000000",
           38.1,
           73.3,
           10,
           3.7,
           "266km ENE of Fayzabad, Afghanistan",
           " Afghanistan"
          ],
          [
           "2020-02-03T10:56:26.000000",
           36.4,
           71.3,
           90,
           4.4,
           "102km SE of Fayzabad, Afghanistan",
           " Afghanistan"
          ],
          [
           "2020-02-03T09:35:15.000000",
           36.3,
           71,
           10,
           3.7,
           "97km SSE of Fayzabad, Afghanistan",
           " Afghanistan"
          ],
          [
           "2020-02-02T11:06:58.000000",
           38.32,
           75.27,
           198,
           5,
           "425km N of Kargil, Laddakh, India",
           " Laddakh"
          ],
          [
           "2020-02-01T15:14:01.000000",
           28.8,
           95.5,
           49,
           5.1,
           "76km NNE of Pangin, Arunachal Pradesh, India",
           " Arunachal Pradesh"
          ],
          [
           "2020-02-01T12:45:36.000000",
           31.7,
           75.8,
           19,
           2.4,
           "46km NNE of Jalandhar, Punjab, India",
           " Punjab"
          ],
          [
           "2020-01-31T21:02:15.000000",
           34.8,
           65.6,
           10,
           4.7,
           "331km W of Kabul , Afghanistan",
           " Afghanistan"
          ],
          [
           "2020-01-31T16:37:32.000000",
           31.06,
           66.38,
           190,
           4.7,
           "469km SW of Kabul , Afghanistan",
           " Afghanistan"
          ],
          [
           "2020-01-31T16:25:25.000000",
           24.6,
           97.8,
           10,
           4.4,
           "337km E of Ukhrul, Manipur, India",
           " Manipur"
          ],
          [
           "2020-01-31T13:24:42.000000",
           20.1,
           72.8,
           9,
           3.3,
           "104km W of Nashik, Maharashtra, India",
           " Maharashtra"
          ],
          [
           "2020-01-31T11:15:37.000000",
           39.8,
           77,
           76,
           4.7,
           "397km SSE of Bishkek, Kyrgyzstan",
           " Kyrgyzstan"
          ],
          [
           "2020-01-31T04:00:15.000000",
           36.9,
           71.9,
           40,
           3.5,
           "121km E of Fayzabad, Afghanistan",
           " Afghanistan"
          ],
          [
           "2020-01-31T03:13:31.000000",
           12.3,
           94.3,
           17,
           3.5,
           "178km SE of Diglipur, Andaman and Nicobar island, India",
           " Andaman and Nicobar island"
          ],
          [
           "2020-01-31T02:58:50.000000",
           25.4,
           94.7,
           90,
           2.6,
           "41km NE of Shirui, Manipur, India",
           " Manipur"
          ],
          [
           "2020-01-31T00:39:57.000000",
           33.2,
           76.3,
           10,
           3.3,
           "109km N of Dharamshala, Himachal Pradesh, India",
           " Himachal Pradesh"
          ],
          [
           "2020-01-30T16:14:51.000000",
           20.1,
           72.8,
           13,
           3,
           "104km W of Nashik, Maharashtra, India",
           " Maharashtra"
          ],
          [
           "2020-01-30T10:36:20.000000",
           28.9,
           91.8,
           10,
           3,
           "147km N of Tawang, Arunachal Pradesh, India",
           " Arunachal Pradesh"
          ],
          [
           "2020-01-30T04:52:43.000000",
           30.1,
           96.1,
           32,
           3.8,
           "232km NNE of Pangin, Arunachal Pradesh, India",
           " Arunachal Pradesh"
          ],
          [
           "2020-01-30T03:15:34.000000",
           28.6,
           91.7,
           10,
           4.5,
           "114km N of Tawang, Arunachal Pradesh, India",
           " Arunachal Pradesh"
          ],
          [
           "2020-01-29T20:41:02.000000",
           10.8,
           93.5,
           10,
           4.3,
           "124km SE of Portblair, Andaman and Nicobar island, India",
           " Andaman and Nicobar island"
          ],
          [
           "2020-01-29T19:13:05.000000",
           24.53,
           94.95,
           120,
           4,
           "65km SE of Ukhrul, Manipur, India",
           " Manipur"
          ],
          [
           "2020-01-29T17:35:20.000000",
           36.5,
           71,
           130,
           4.6,
           "77km SSE of Fayzabad, Afghanistan",
           " Afghanistan"
          ],
          [
           "2020-01-29T15:07:20.000000",
           0.5,
           91.83,
           10,
           4.8,
           "759km SSW of Campbell Bay, Andaman and Nicobar island, India",
           " Andaman and Nicobar island"
          ],
          [
           "2020-01-29T11:40:45.000000",
           33.5,
           75.5,
           10,
           3.3,
           "59km SSE of Pahalgam, Jammu and Kashmir, India",
           " Jammu and Kashmir"
          ],
          [
           "2020-01-29T02:01:44.000000",
           16.47,
           93.18,
           103,
           5.2,
           "321km W of Yangon, Myanmar",
           " Myanmar"
          ],
          [
           "2020-01-29T01:59:40.000000",
           7.5,
           92.2,
           17,
           5.1,
           "195km WNW of Campbell Bay, Andaman and Nicobar island, India",
           " Andaman and Nicobar island"
          ],
          [
           "2020-01-29T01:15:50.000000",
           33.9,
           69.54,
           160,
           4.8,
           "79km SSE of Kabul , Afghanistan",
           " Afghanistan"
          ],
          [
           "2020-01-28T07:44:15.000000",
           29.4,
           81.8,
           15,
           4.2,
           "154km E of Pithoragarh, Uttarakhand, India",
           " Uttarakhand"
          ],
          [
           "2020-01-28T06:13:35.000000",
           36.6,
           71.6,
           98,
           4.6,
           "108km ESE of Fayzabad, Afghanistan",
           " Afghanistan"
          ],
          [
           "2020-01-28T02:37:04.000000",
           24.7,
           92.2,
           98,
           3.6,
           "36km N of Dharmanagar, Tripura, India",
           " Tripura"
          ],
          [
           "2020-01-28T02:27:57.000000",
           30.7,
           70,
           160,
           4.8,
           "435km S of Kabul , Afghanistan",
           " Afghanistan"
          ],
          [
           "2020-01-28T01:51:01.000000",
           27.1,
           92.3,
           10,
           3.1,
           "67km SE of Tawang, Arunachal Pradesh, India",
           " Arunachal Pradesh"
          ],
          [
           "2020-01-27T20:20:08.000000",
           35,
           73.4,
           67,
           3.7,
           "138km NW of Gulmarg, Jammu and Kashmir, India",
           " Jammu and Kashmir"
          ],
          [
           "2020-01-27T19:56:34.000000",
           35.5,
           74.8,
           10,
           3.6,
           "157km N of Srinagar, Jammu and Kashmir, India",
           " Jammu and Kashmir"
          ],
          [
           "2020-01-27T12:40:43.000000",
           24.9,
           91.7,
           40,
           4.6,
           "41km S of Cherrapunjee, Meghalaya, India",
           " Meghalaya"
          ],
          [
           "2020-01-26T18:54:34.000000",
           25.9,
           90.3,
           7,
           3.2,
           "44km NNE of Tura, Meghalaya, India",
           " Meghalaya"
          ],
          [
           "2020-01-26T04:32:50.000000",
           33,
           75.9,
           5,
           3.5,
           "90km E of Katra, Jammu and Kashmir, India",
           " Jammu and Kashmir"
          ],
          [
           "2020-01-26T02:37:34.000000",
           16.8,
           79.9,
           10,
           4.7,
           "73km ESE of Nalgonda, Telangana, India",
           " Telangana"
          ],
          [
           "2020-01-26T02:34:01.000000",
           32.84,
           76.42,
           10,
           2.6,
           "69km N of Dharamshala, Himachal Pradesh, India",
           " Himachal Pradesh"
          ],
          [
           "2020-01-26T01:22:04.000000",
           27.7,
           92.7,
           10,
           2.8,
           "82km E of Tawang, Arunachal Pradesh, India",
           " Arunachal Pradesh"
          ],
          [
           "2020-01-26T01:19:35.000000",
           39.97,
           77.47,
           150,
           4,
           "403km SE of Bishkek, Kyrgyzstan",
           " Kyrgyzstan"
          ],
          [
           "2020-01-25T12:42:36.000000",
           25.7,
           91,
           10,
           2.6,
           "82km ENE of Tura, Meghalaya, India",
           " Meghalaya"
          ],
          [
           "2020-01-25T05:26:25.000000",
           25,
           93.8,
           30,
           2.4,
           "24km NW of Imphal, Manipur, India",
           " Manipur"
          ],
          [
           "2020-01-25T04:26:05.000000",
           31.9,
           94.9,
           10,
           5.4,
           "419km N of Pangin, Arunachal Pradesh, India",
           " Arunachal Pradesh"
          ],
          [
           "2020-01-25T02:12:10.000000",
           36.2,
           69.7,
           130,
           4.5,
           "125km SW of Fayzabad, Afghanistan",
           " Afghanistan"
          ],
          [
           "2020-01-25T01:00:55.000000",
           36.6,
           70.9,
           195,
           4.8,
           "63km SSE of Fayzabad, Afghanistan",
           " Afghanistan"
          ],
          [
           "2020-01-25T00:50:46.000000",
           22.6,
           95.4,
           79,
           3.8,
           "95km NW of Burma, Myanmar",
           " Myanmar"
          ],
          [
           "2020-01-25T00:08:31.000000",
           37.5,
           72.2,
           180,
           5,
           "152km ENE of Fayzabad, Afghanistan",
           " Afghanistan"
          ],
          [
           "2020-01-24T21:18:21.000000",
           29.2,
           86.5,
           193,
           4.3,
           "201km NE of Kathmandu, Nepal",
           " Nepal"
          ],
          [
           "2020-01-24T12:39:14.000000",
           39.2,
           71.6,
           10,
           5.6,
           "250km NNE of Fayzabad, Afghanistan",
           " Afghanistan"
          ],
          [
           "2020-01-24T11:27:22.000000",
           37.4,
           72.4,
           120,
           3.8,
           "167km ENE of Fayzabad, Afghanistan",
           " Afghanistan"
          ],
          [
           "2020-01-23T21:00:04.000000",
           32.6,
           99.9,
           10,
           3.9,
           "624km NNE of Changlang, Arunachal Pradesh, India",
           " Arunachal Pradesh"
          ],
          [
           "2020-01-23T20:11:29.000000",
           36,
           72.3,
           306,
           4.2,
           "198km SE of Fayzabad, Afghanistan",
           " Afghanistan"
          ],
          [
           "2020-01-23T19:56:37.000000",
           33,
           98.6,
           36,
           4.8,
           "614km NNE of Changlang, Arunachal Pradesh, India",
           " Arunachal Pradesh"
          ],
          [
           "2020-01-23T15:18:03.000000",
           20.5,
           93.4,
           25,
           4.8,
           "307km WSW of Burma, Myanmar",
           " Myanmar"
          ],
          [
           "2020-01-23T15:12:11.000000",
           36.3,
           70.1,
           145,
           3.6,
           "97km SSW of Fayzabad, Afghanistan",
           " Afghanistan"
          ],
          [
           "2020-01-23T11:08:47.000000",
           27.1,
           94.1,
           36,
           2.8,
           "40km NNW of Jorhat, Assam, India",
           " Assam"
          ],
          [
           "2020-01-23T00:53:31.000000",
           8,
           94.4,
           110,
           4.7,
           "123km NNE of Campbell Bay, Andaman and Nicobar island, India",
           " Andaman and Nicobar island"
          ],
          [
           "2020-01-22T23:19:56.000000",
           32.8,
           76.1,
           5,
           2.2,
           "67km NNW of Dharamshala, Himachal Pradesh, India",
           " Himachal Pradesh"
          ],
          [
           "2020-01-22T21:01:22.000000",
           32.7,
           76,
           5,
           3,
           "61km NNW of Dharamshala, Himachal Pradesh, India",
           " Himachal Pradesh"
          ],
          [
           "2020-01-22T01:57:17.000000",
           28.2,
           92,
           10,
           3.2,
           "70km N of Tawang, Arunachal Pradesh, India",
           " Arunachal Pradesh"
          ],
          [
           "2020-01-22T01:50:55.000000",
           28.5,
           91.7,
           10,
           4,
           "104km N of Tawang, Arunachal Pradesh, India",
           " Arunachal Pradesh"
          ],
          [
           "2020-01-21T10:38:31.000000",
           20,
           72.8,
           10,
           2.5,
           "103km N of Mumbai, Maharashtra, India",
           " Maharashtra"
          ],
          [
           "2020-01-21T03:14:28.000000",
           23,
           94.2,
           20,
           3.6,
           "102km ESE of Champhai, Mizoram, India",
           " Mizoram"
          ],
          [
           "2020-01-21T02:21:18.000000",
           26.2,
           96.2,
           160,
           2.9,
           "168km E of Mokokchung, Nagaland, India",
           " Nagaland"
          ],
          [
           "2020-01-20T13:54:34.000000",
           36.4,
           73.9,
           15,
           3.8,
           "265km N of Gulmarg, Jammu and Kashmir, India",
           " Jammu and Kashmir"
          ],
          [
           "2020-01-20T13:03:31.000000",
           39.3,
           78.5,
           88,
           3.8,
           "516km SE of Bishkek, Kyrgyzstan",
           " Kyrgyzstan"
          ],
          [
           "2020-01-20T11:45:22.000000",
           32.8,
           73.3,
           10,
           3.4,
           "101km SSE of Islamabad, Pakistan",
           " Pakistan"
          ],
          [
           "2020-01-20T05:47:07.000000",
           32.6,
           76,
           5,
           2.5,
           "52km NW of Dharamshala, Himachal Pradesh, India",
           " Himachal Pradesh"
          ],
          [
           "2020-01-20T03:27:12.000000",
           36.6,
           70.6,
           180,
           4.3,
           "55km S of Fayzabad, Afghanistan",
           " Afghanistan"
          ],
          [
           "2020-01-20T01:52:31.000000",
           27.2,
           92.3,
           5,
           2.3,
           "59km SE of Tawang, Arunachal Pradesh, India",
           " Arunachal Pradesh"
          ],
          [
           "2020-01-20T01:20:30.000000",
           34.7,
           72.8,
           10,
           4,
           "115km NNW of Islamabad, Pakistan",
           " Pakistan"
          ],
          [
           "2020-01-19T23:05:02.000000",
           34,
           61.2,
           10,
           4.6,
           "510km SSE of Ashgabat, Turkmenistan",
           " Turkmenistan"
          ],
          [
           "2020-01-19T22:37:05.000000",
           19.8,
           98.7,
           10,
           5.1,
           "157km SSE of Hkolam ,Myanmar",
           "Myanmar"
          ],
          [
           "2020-01-19T21:19:35.000000",
           39.8,
           77.4,
           138,
           5,
           "415km SE of Bishkek, Kyrgyzstan",
           " Kyrgyzstan"
          ],
          [
           "2020-01-19T20:25:33.000000",
           38.5,
           77.4,
           136,
           4.8,
           "453km NNE of Kargil, Laddakh, India",
           " Laddakh"
          ],
          [
           "2020-01-19T19:53:12.000000",
           39.29,
           77.39,
           105,
           5,
           "463km SSE of Bishkek, Kyrgyzstan",
           " Kyrgyzstan"
          ],
          [
           "2020-01-19T19:22:00.000000",
           39.5,
           77.4,
           140,
           5.2,
           "443km SE of Bishkek, Kyrgyzstan",
           " Kyrgyzstan"
          ],
          [
           "2020-01-19T18:58:02.000000",
           39.7,
           76.7,
           140,
           6,
           "395km SSE of Bishkek, Kyrgyzstan",
           " Kyrgyzstan"
          ],
          [
           "2020-01-19T16:14:14.000000",
           32.4,
           76,
           10,
           3.3,
           "36km WNW of Dharamshala, Himachal Pradesh, India",
           " Himachal Pradesh"
          ],
          [
           "2020-01-18T23:30:16.000000",
           31.6,
           93.5,
           10,
           4.6,
           "418km NNW of Basar, Arunachal Pradesh, India",
           " Arunachal Pradesh"
          ],
          [
           "2020-01-18T22:08:12.000000",
           26.4,
           66.5,
           10,
           4.6,
           "525km NNW of Dwarka, Gujarat, India",
           " Gujarat"
          ],
          [
           "2020-01-18T19:44:17.000000",
           39.11,
           71.33,
           58,
           3.9,
           "228km ENE of Dushanbe, Tajikistan",
           " Tajikistan"
          ],
          [
           "2020-01-18T03:16:05.000000",
           25.1,
           95.6,
           33,
           3.2,
           "114km E of Ukhrul, Manipur, India",
           " Manipur"
          ],
          [
           "2020-01-18T00:38:21.000000",
           36.52,
           71.06,
           150,
           4.7,
           "78km SE of Fayzabad, Afghanistan",
           " Afghanistan"
          ],
          [
           "2020-01-17T23:54:02.000000",
           34.5,
           71.02,
           160,
           4.6,
           "166km E of Kabul , Afghanistan",
           " Afghanistan"
          ],
          [
           "2020-01-17T21:35:49.000000",
           39.69,
           77.24,
           10,
           5.2,
           "418km SE of Bishkek, Kyrgyzstan",
           " Kyrgyzstan"
          ],
          [
           "2020-01-17T16:27:28.000000",
           36.09,
           85.46,
           189,
           4.8,
           "705km NE of Hanley, Jammu & Kashmir, India",
           " Jammu & Kashmir"
          ],
          [
           "2020-01-17T11:39:44.000000",
           24.8,
           94.4,
           65,
           3.6,
           "16km SSW of Ukhrul, Manipur, India",
           " Manipur"
          ],
          [
           "2020-01-17T03:43:35.000000",
           25.5,
           95,
           104,
           3.2,
           "71km NE of Shirui, Manipur, India",
           " Manipur"
          ],
          [
           "2020-01-16T22:09:22.000000",
           28.4,
           95.3,
           10,
           2.7,
           "28km N of Pangin, Arunachal Pradesh, India",
           " Arunachal Pradesh"
          ],
          [
           "2020-01-15T14:49:25.000000",
           39.8,
           73.2,
           10,
           4.3,
           "360km SSW of Bishkek, Kyrgyzstan",
           " Kyrgyzstan"
          ],
          [
           "2020-01-15T12:02:46.000000",
           33,
           76.1,
           5,
           3.2,
           "89km NNW of Dharamshala, Himachal Pradesh, India",
           " Himachal Pradesh"
          ],
          [
           "2020-01-14T22:35:20.000000",
           29.6,
           76.4,
           10,
           2.8,
           "61km SW of kurukshetra, Haryana, India",
           " Haryana"
          ],
          [
           "2020-01-14T06:55:01.000000",
           23.7,
           94.1,
           87,
           4.3,
           "83km ENE of Champhai, Mizoram, India",
           " Mizoram"
          ],
          [
           "2020-01-13T04:09:40.000000",
           9.6,
           84.2,
           10,
           4.2,
           "562km ENE of Colombo, Sri Lanka",
           " Sri Lanka"
          ],
          [
           "2020-01-13T01:52:06.000000",
           29.4,
           81.8,
           16,
           3.7,
           "154km E of Pithoragarh, Uttarakhand, India",
           " Uttarakhand"
          ],
          [
           "2020-01-12T20:04:18.000000",
           29.36,
           81.71,
           100,
           4.6,
           "146km E of Pithoragarh, Uttarakhand, India",
           " Uttarakhand"
          ],
          [
           "2020-01-12T17:43:56.000000",
           29.04,
           81.81,
           75,
           3.5,
           "165km ESE of Pithoragarh, Uttarakhand, India",
           " Uttarakhand"
          ],
          [
           "2020-01-12T11:55:48.000000",
           32.3,
           76.2,
           5,
           3.4,
           "14km NW of Dharamshala, Himachal Pradesh, India",
           " Himachal Pradesh"
          ],
          [
           "2020-01-12T10:54:01.000000",
           34.8,
           74.6,
           10,
           5.3,
           "81km NNW of Srinagar, Jammu and Kashmir, India",
           " Jammu and Kashmir"
          ],
          [
           "2020-01-12T07:48:48.000000",
           27.7,
           67.4,
           80,
           4.7,
           "580km WNW of Jodhpur, Rajasthan, India",
           " Rajasthan"
          ],
          [
           "2020-01-11T23:37:47.000000",
           26.3,
           90,
           15,
           2.7,
           "89km NNW of Tura, Meghalaya, India",
           " Meghalaya"
          ],
          [
           "2020-01-11T21:17:57.000000",
           26.9,
           92.7,
           25,
           2.9,
           "29km NNW of Tezpur, Assam, India",
           " Assam"
          ],
          [
           "2020-01-11T13:34:45.000000",
           32.8,
           73.5,
           123,
           4,
           "99km SW of Rajouri, Jammu and Kashmir",
           " Jammu and Kashmir"
          ],
          [
           "2020-01-09T05:28:19.000000",
           36.7,
           71.6,
           155,
           4.3,
           "103km ESE of Fayzabad, Afghanistan",
           " Afghanistan"
          ],
          [
           "2020-01-09T01:04:08.000000",
           38.7,
           70.5,
           30,
           4.1,
           "149km E of Dushanbe, Tajikistan",
           " Tajikistan"
          ],
          [
           "2020-01-08T14:59:26.000000",
           28.6,
           92,
           10,
           3.5,
           "114km N of Tawang, Arunachal Pradesh, India",
           " Arunachal Pradesh"
          ],
          [
           "2020-01-07T15:38:31.000000",
           37,
           71.6,
           150,
           4.6,
           "93km E of Fayzabad, Afghanistan",
           " Afghanistan"
          ],
          [
           "2020-01-07T11:35:19.000000",
           2.5,
           96.5,
           10,
           6.1,
           "577km SSE of Campbell Bay, Andaman and Nicobar island, India",
           " Andaman and Nicobar island"
          ],
          [
           "2020-01-07T04:53:55.000000",
           25,
           92.3,
           15,
           3.8,
           "64km ESE of Cherrapunjee, Meghalaya, India",
           " Meghalaya"
          ],
          [
           "2020-01-07T00:01:25.000000",
           23.9,
           94.6,
           34,
           3.5,
           "106km SE of Moirang, Manipur, India",
           " Manipur"
          ],
          [
           "2020-01-06T05:18:55.000000",
           31.2,
           77.1,
           10,
           3.6,
           "12km NW of Shimla, Himachal Pradesh, India",
           " Himachal Pradesh"
          ],
          [
           "2020-01-05T23:33:07.000000",
           36.1,
           71.2,
           200,
           4.7,
           "125km SSE of Fayzabad, Afghanistan",
           " Afghanistan"
          ],
          [
           "2020-01-05T16:21:58.000000",
           24.1,
           94.2,
           10,
           2.9,
           "61km SE of Moirang, Manipur, India",
           " Manipur"
          ],
          [
           "2020-01-05T12:51:01.000000",
           35.8,
           75.2,
           10,
           3.3,
           "162km NNW of Kargil, Laddakh, India",
           " Laddakh"
          ],
          [
           "2020-01-05T09:59:29.000000",
           40,
           72.2,
           10,
           4.5,
           "288km ESE of Tashkent, Uzbekistan",
           " Uzbekistan"
          ],
          [
           "2020-01-05T04:55:37.000000",
           26.2,
           89.9,
           10,
           3,
           "82km NNW of Tura, Meghalaya, India",
           " Meghalaya"
          ],
          [
           "2020-01-04T17:05:44.000000",
           28.5,
           92,
           10,
           3.9,
           "103km N of Tawang, Arunachal Pradesh, India",
           " Arunachal Pradesh"
          ],
          [
           "2020-01-04T14:56:17.000000",
           27.1,
           92,
           20,
           3.2,
           "54km SSE of Tawang, Arunachal Pradesh, India",
           " Arunachal Pradesh"
          ],
          [
           "2020-01-04T13:54:56.000000",
           25.27,
           65.35,
           10,
           4.8,
           "498km NW of Dwarka, Gujarat, India",
           " Gujarat"
          ],
          [
           "2020-01-03T10:46:52.000000",
           32.7,
           76.5,
           5,
           3.4,
           "56km NNE of Dharamshala, Himachal Pradesh, India",
           " Himachal Pradesh"
          ],
          [
           "2020-01-02T19:38:50.000000",
           32.7,
           76.5,
           5,
           3.7,
           "56km NNE of Dharamshala, Himachal Pradesh, India",
           " Himachal Pradesh"
          ],
          [
           "2020-01-02T16:49:48.000000",
           35.7,
           74.9,
           10,
           3.8,
           "169km NW of Kargil, Laddakh, India",
           " Laddakh"
          ],
          [
           "2020-01-02T15:34:19.000000",
           33.9,
           66.2,
           90,
           4.1,
           "285km WSW of Kabul , Afghanistan",
           " Afghanistan"
          ],
          [
           "2020-01-02T09:58:02.000000",
           34.1,
           60.3,
           10,
           5.2,
           "464km SSE of Ashgabat, Turkmenistan",
           " Turkmenistan"
          ],
          [
           "2020-01-02T09:02:35.000000",
           36.4,
           74.2,
           90,
           4.6,
           "262km N of Gulmarg, Jammu and Kashmir, India",
           " Jammu and Kashmir"
          ],
          [
           "2020-01-02T06:11:45.000000",
           25.5,
           93.8,
           30,
           2.9,
           "34km S of Chumukedima, Nagaland, India",
           " Nagaland"
          ],
          [
           "2020-01-01T23:09:07.000000",
           32.8,
           75.5,
           10,
           3.1,
           "57km ESE of Katra, Jammu and Kashmir, India",
           " Jammu and Kashmir"
          ],
          [
           "2020-01-01T21:22:42.000000",
           28.7,
           87.9,
           10,
           3.9,
           "139km NW of Lachung, Sikkim, India",
           " Sikkim"
          ],
          [
           "2020-01-01T20:07:44.000000",
           27.6,
           92.7,
           10,
           3.5,
           "81km E of Tawang, Arunachal Pradesh, India",
           " Arunachal Pradesh"
          ],
          [
           "2020-01-01T16:15:41.000000",
           29.8,
           80.5,
           10,
           3.1,
           "36km NE of Pithoragarh, Uttarakhand, India",
           " Uttarakhand"
          ],
          [
           "2020-01-01T08:10:18.000000",
           36.1,
           69.5,
           40,
           3.4,
           "145km SW of Fayzabad, Afghanistan",
           " Afghanistan"
          ],
          [
           "2019-12-31T19:41:29.000000",
           38.78,
           73.48,
           10,
           3.8,
           "317km NE of Fayzabad, Afghanistan",
           " Afghanistan"
          ],
          [
           "2019-12-31T14:16:28.000000",
           26.1,
           93.3,
           40,
           2.9,
           "47km WNW of Dimapur, Nagaland, India",
           " Nagaland"
          ],
          [
           "2019-12-31T06:33:15.000000",
           39.11,
           73.24,
           350,
           4.5,
           "324km NE of Fayzabad, Afghanistan",
           " Afghanistan"
          ],
          [
           "2019-12-31T06:22:55.000000",
           35.5,
           74.8,
           94,
           4.5,
           "157km N of Srinagar, Jammu and Kashmir, India",
           " Jammu and Kashmir"
          ],
          [
           "2019-12-31T00:50:19.000000",
           35.5,
           74.7,
           10,
           4.2,
           "157km N of Srinagar, Jammu and Kashmir, India",
           " Jammu and Kashmir"
          ],
          [
           "2019-12-30T23:55:33.000000",
           35.5,
           74.8,
           10,
           4,
           "157km N of Srinagar, Jammu and Kashmir, India",
           " Jammu and Kashmir"
          ],
          [
           "2019-12-30T23:20:02.000000",
           35.5,
           74.8,
           63,
           5.4,
           "157km N of Srinagar, Jammu and Kashmir, India",
           " Jammu and Kashmir"
          ],
          [
           "2019-12-30T23:09:15.000000",
           35.5,
           75,
           10,
           3.6,
           "147km NW of Kargil, Laddakh, India",
           " Laddakh"
          ],
          [
           "2019-12-30T22:58:33.000000",
           35.5,
           75.1,
           36,
           4.6,
           "141km NW of Kargil, Laddakh, India",
           " Laddakh"
          ],
          [
           "2019-12-30T22:48:57.000000",
           35.5,
           74.9,
           10,
           5.5,
           "154km NW of Kargil, Laddakh, India",
           " Laddakh"
          ],
          [
           "2019-12-30T22:42:35.000000",
           35.5,
           74.7,
           10,
           4.7,
           "157km N of Srinagar, Jammu and Kashmir, India",
           " Jammu and Kashmir"
          ],
          [
           "2019-12-30T22:29:05.000000",
           6.8,
           94.6,
           103,
           5,
           "80km ESE of Campbell Bay, Andaman and Nicobar island, India",
           " Andaman and Nicobar island"
          ],
          [
           "2019-12-30T06:22:34.000000",
           35.7,
           77.3,
           10,
           4.6,
           "165km N of Alchi(Leh),Jammu & Kashmir,India",
           "Jammu & Kashmir"
          ],
          [
           "2019-12-30T02:48:14.000000",
           26.6,
           95,
           22,
           3.1,
           "57km ENE of Mokokchung, Nagaland, India",
           " Nagaland"
          ],
          [
           "2019-12-28T14:30:41.000000",
           26.7,
           93.8,
           23,
           3.5,
           "40km W of Jorhat, Assam, India",
           " Assam"
          ],
          [
           "2019-12-28T14:19:05.000000",
           0.9,
           92.9,
           10,
           4.8,
           "688km S of Campbell Bay, Andaman and Nicobar island, India",
           " Andaman and Nicobar island"
          ],
          [
           "2019-12-27T09:23:48.000000",
           19,
           87.4,
           10,
           4,
           "187km ESE of Puri, Odisha, India",
           " Odisha"
          ],
          [
           "2019-12-27T05:24:31.000000",
           39.5,
           71,
           220,
           4.4,
           "217km ENE of Dushanbe, Tajikistan",
           " Tajikistan"
          ],
          [
           "2019-12-26T23:17:07.000000",
           39.7,
           95.7,
           10,
           4.5,
           "1277km SW of Ulaanbaatar, Mongolia",
           " Mongolia"
          ],
          [
           "2019-12-25T12:34:13.000000",
           23.1,
           96,
           10,
           3.8,
           "132km N of Burma, Myanmar",
           " Myanmar"
          ],
          [
           "2019-12-25T09:14:09.000000",
           25.5,
           91.3,
           10,
           3.5,
           "50km WNW of Cherrapunjee, Meghalaya, India",
           " Meghalaya"
          ],
          [
           "2019-12-24T20:07:02.000000",
           26.6,
           88.8,
           32,
           3.2,
           "42km ESE of Siliguri, West Bengal, India",
           " West Bengal"
          ],
          [
           "2019-12-24T19:25:24.000000",
           36.7,
           71.3,
           220,
           4.2,
           "80km ESE of Fayzabad, Afghanistan",
           " Afghanistan"
          ],
          [
           "2019-12-24T11:22:56.000000",
           7,
           92.4,
           10,
           5,
           "166km W of Campbell Bay, Andaman and Nicobar island, India",
           " Andaman and Nicobar island"
          ],
          [
           "2019-12-23T21:33:04.000000",
           20,
           72.7,
           10,
           2.3,
           "104km N of Mumbai, Maharashtra, India",
           " Maharashtra"
          ],
          [
           "2019-12-22T20:28:26.000000",
           35.8,
           69,
           187,
           4.6,
           "139km N of Kabul , Afghanistan",
           " Afghanistan"
          ],
          [
           "2019-12-22T13:01:33.000000",
           24.9,
           94.2,
           36,
           3.3,
           "28km ENE of Imphal, Manipur, India",
           " Manipur"
          ],
          [
           "2019-12-22T09:39:09.000000",
           32.9,
           76,
           5,
           2.8,
           "81km NNW of Dharamshala, Himachal Pradesh, India",
           " Himachal Pradesh"
          ],
          [
           "2019-12-22T00:40:08.000000",
           24.1,
           93.7,
           66,
           3.1,
           "44km S of Moirang, Manipur, India",
           " Manipur"
          ],
          [
           "2019-12-21T21:10:00.000000",
           33.2,
           69.6,
           10,
           4.6,
           "155km SSE of Kabul , Afghanistan",
           " Afghanistan"
          ],
          [
           "2019-12-21T00:12:47.000000",
           36.3,
           71.2,
           91,
           4.5,
           "106km SE of Fayzabad, Afghanistan",
           " Afghanistan"
          ],
          [
           "2019-12-20T17:09:51.000000",
           36.5,
           70.5,
           190,
           6.3,
           "66km S of Fayzabad, Afghanistan",
           " Afghanistan"
          ],
          [
           "2019-12-20T10:11:10.000000",
           36.5,
           68.5,
           10,
           4.5,
           "194km WSW of Fayzabad, Afghanistan",
           " Afghanistan"
          ],
          [
           "2019-12-20T06:05:21.000000",
           28.1,
           87.9,
           108,
           4.7,
           "86km NNW of Yuksom, Sikkim, India",
           " Sikkim"
          ],
          [
           "2019-12-20T03:46:26.000000",
           34.7,
           79.7,
           67,
           4.6,
           "204km ENE of Leh, Laddakh, India",
           " Laddakh"
          ],
          [
           "2019-12-19T20:50:01.000000",
           36.8,
           74.6,
           169,
           4.6,
           "285km NNW of Kargil, Laddakh, India",
           " Laddakh"
          ],
          [
           "2019-12-19T17:38:06.000000",
           31.8,
           86.8,
           471,
           4.6,
           "475km NNE of Kathmandu, Nepal",
           " Nepal"
          ],
          [
           "2019-12-19T15:06:35.000000",
           36.6,
           70.5,
           290,
           4.5,
           "55km S of Fayzabad, Afghanistan",
           " Afghanistan"
          ],
          [
           "2019-12-19T14:10:42.000000",
           37.7,
           71.8,
           280,
           4.2,
           "129km ENE of Fayzabad, Afghanistan",
           " Afghanistan"
          ],
          [
           "2019-12-19T04:17:02.000000",
           26.92,
           92.56,
           82,
           2.7,
           "37km NW of Tezpur, Assam, India",
           " Assam"
          ],
          [
           "2019-12-18T19:39:17.000000",
           33.4,
           71.6,
           76,
           4.7,
           "137km WSW of Islamabad, Pakistan",
           " Pakistan"
          ],
          [
           "2019-12-18T08:10:11.000000",
           37.7,
           75.8,
           158,
           4.7,
           "351km N of Kargil, Laddakh, India",
           " Laddakh"
          ],
          [
           "2019-12-18T08:03:06.000000",
           37.6,
           75.5,
           100,
           4.2,
           "343km N of Kargil, Laddakh, India",
           " Laddakh"
          ],
          [
           "2019-12-17T14:23:49.000000",
           35.6,
           70.5,
           10,
           4.4,
           "165km NE of Kabul , Afghanistan",
           " Afghanistan"
          ],
          [
           "2019-12-17T10:51:08.000000",
           32.3,
           76.3,
           10,
           3,
           "9km NNW of Dharamshala, Himachal Pradesh, India",
           " Himachal Pradesh"
          ],
          [
           "2019-12-16T22:21:14.000000",
           25,
           95.2,
           60,
           3.8,
           "73km E of Ukhrul, Manipur, India",
           " Manipur"
          ],
          [
           "2019-12-16T09:21:23.000000",
           36.5,
           70.7,
           37,
           3.9,
           "68km SSE of Fayzabad, Afghanistan",
           " Afghanistan"
          ],
          [
           "2019-12-16T08:40:31.000000",
           24.1,
           93.8,
           10,
           3.5,
           "44km S of Moirang, Manipur, India",
           " Manipur"
          ],
          [
           "2019-12-16T04:29:45.000000",
           33.4,
           71.7,
           200,
           4.2,
           "128km WSW of Islamabad, Pakistan",
           " Pakistan"
          ],
          [
           "2019-12-16T03:50:37.000000",
           26.9,
           85.9,
           96,
           4,
           "100km NNE of Muzaffarpur, Bihar, India",
           " Bihar"
          ],
          [
           "2019-12-15T09:23:37.000000",
           25.2,
           94.8,
           94,
           3.9,
           "39km ENE of Shirui, Manipur, India",
           " Manipur"
          ],
          [
           "2019-12-15T07:57:28.000000",
           37.6,
           72.6,
           150,
           4.1,
           "189km ENE of Fayzabad, Afghanistan",
           " Afghanistan"
          ],
          [
           "2019-12-15T04:23:46.000000",
           34.6,
           75.1,
           72,
           3.3,
           "63km NNE of Srinagar, Jammu and Kashmir, India",
           " Jammu and Kashmir"
          ],
          [
           "2019-12-14T05:22:40.000000",
           20,
           72.8,
           10,
           3.9,
           "103km N of Mumbai, Maharashtra, India",
           " Maharashtra"
          ],
          [
           "2019-12-14T00:22:06.000000",
           23,
           94.3,
           50,
           3.3,
           "111km ESE of Champhai, Mizoram, India",
           " Mizoram"
          ],
          [
           "2019-12-13T21:55:07.000000",
           20,
           72.7,
           10,
           3.4,
           "104km N of Mumbai, Maharashtra, India",
           " Maharashtra"
          ],
          [
           "2019-12-13T16:56:48.000000",
           30.5,
           79.6,
           14,
           4.4,
           "7km SSE of Joshimath, Uttarakhand , India",
           " Uttarakhand "
          ],
          [
           "2019-12-13T15:56:00.000000",
           20,
           72.9,
           4,
           3.2,
           "93km W of Nashik, Maharashtra, India",
           " Maharashtra"
          ],
          [
           "2019-12-12T18:56:35.000000",
           27.77,
           85.52,
           143,
           4.6,
           "20km ENE of Kathmandu, Nepal",
           " Nepal"
          ],
          [
           "2019-12-12T00:47:04.000000",
           36.8,
           78.8,
           30,
           4.4,
           "314km NNE of Leh, Laddakh, India",
           " Laddakh"
          ],
          [
           "2019-12-11T06:43:59.000000",
           39.88,
           77.94,
           10,
           4.6,
           "435km SE of Bishkek, Kyrgyzstan",
           " Kyrgyzstan"
          ],
          [
           "2019-12-11T03:32:56.000000",
           36.55,
           71.32,
           206,
           4.2,
           "91km SE of Fayzabad, Afghanistan",
           " Afghanistan"
          ],
          [
           "2019-12-11T01:49:59.000000",
           33.5,
           74,
           42,
           3.3,
           "32km WNW of Rajouri, Jammu and Kashmir",
           " Jammu and Kashmir"
          ],
          [
           "2019-12-10T22:21:09.000000",
           36.36,
           71.54,
           237,
           4.4,
           "120km SE of Fayzabad, Afghanistan",
           " Afghanistan"
          ],
          [
           "2019-12-10T15:25:47.000000",
           37,
           72.3,
           22,
           4.3,
           "155km E of Fayzabad, Afghanistan",
           " Afghanistan"
          ],
          [
           "2019-12-10T12:20:18.000000",
           36.1,
           69,
           10,
           4.1,
           "172km N of Kabul , Afghanistan",
           " Afghanistan"
          ],
          [
           "2019-12-10T09:21:49.000000",
           12.6,
           94.9,
           10,
           4.1,
           "220km ESE of Diglipur, Andaman and Nicobar island, India",
           " Andaman and Nicobar island"
          ],
          [
           "2019-12-10T03:18:33.000000",
           28.3,
           87.5,
           101,
           3.9,
           "125km NW of Yuksom, Sikkim, India",
           " Sikkim"
          ],
          [
           "2019-12-10T00:37:13.000000",
           36.1,
           70.7,
           63,
           4.3,
           "112km S of Fayzabad, Afghanistan",
           " Afghanistan"
          ],
          [
           "2019-12-09T22:27:20.000000",
           32,
           75.6,
           11,
           2.6,
           "72km WSW of Dharamshala, Himachal Pradesh, India",
           " Himachal Pradesh"
          ],
          [
           "2019-12-08T19:01:31.000000",
           36.2,
           77.7,
           167,
           4.4,
           "225km N of Alchi(Leh),Jammu & Kashmir,India",
           "Jammu & Kashmir"
          ],
          [
           "2019-12-08T04:34:55.000000",
           36.4,
           71.2,
           170,
           4.1,
           "97km SE of Fayzabad, Afghanistan",
           " Afghanistan"
          ],
          [
           "2019-12-08T04:26:42.000000",
           30.5,
           79.3,
           5,
           3.2,
           "25km WSW of Joshimath, Uttarakhand , India",
           " Uttarakhand "
          ],
          [
           "2019-12-07T21:02:18.000000",
           26.94,
           67.34,
           10,
           4.7,
           "547km NNW of Dwarka, Gujarat, India",
           " Gujarat"
          ],
          [
           "2019-12-06T23:08:56.000000",
           28.6,
           76.7,
           10,
           2,
           "4km E of Jhajjar, Haryana",
           " Haryana"
          ],
          [
           "2019-12-06T21:24:58.000000",
           35,
           77.6,
           10,
           2.6,
           "94km N of Leh, Laddakh, India",
           " Laddakh"
          ],
          [
           "2019-12-06T15:14:56.000000",
           36.5,
           71.3,
           184,
           4.5,
           "94km SE of Fayzabad, Afghanistan",
           " Afghanistan"
          ],
          [
           "2019-12-06T03:47:52.000000",
           29.91,
           80.46,
           10,
           2.7,
           "43km NNE of Pithoragarh, Uttarakhand, India",
           " Uttarakhand"
          ],
          [
           "2019-12-05T19:49:31.000000",
           25.7,
           95.1,
           75,
           3.8,
           "90km SE of Mokokchung, Nagaland, India",
           " Nagaland"
          ],
          [
           "2019-12-05T17:48:02.000000",
           35.9,
           68.4,
           36,
           4.6,
           "166km NNW of Kabul , Afghanistan",
           " Afghanistan"
          ],
          [
           "2019-12-05T10:28:56.000000",
           38.9,
           71.1,
           33,
           4.4,
           "204km ENE of Dushanbe, Tajikistan",
           " Tajikistan"
          ],
          [
           "2019-12-05T03:52:10.000000",
           23.5,
           94.1,
           10,
           3.1,
           "78km E of Champhai, Mizoram, India",
           " Mizoram"
          ],
          [
           "2019-12-05T03:47:44.000000",
           37.2,
           72.1,
           235,
           3.4,
           "137km E of Fayzabad, Afghanistan",
           " Afghanistan"
          ],
          [
           "2019-12-04T20:12:18.000000",
           37.3,
           71.8,
           192,
           4.6,
           "112km ENE of Fayzabad, Afghanistan",
           " Afghanistan"
          ],
          [
           "2019-12-04T14:16:14.000000",
           36.4,
           70.8,
           115,
           5.1,
           "81km SSE of Fayzabad, Afghanistan",
           " Afghanistan"
          ],
          [
           "2019-12-04T10:13:58.000000",
           0.8,
           98.3,
           35,
           5,
           "457km SW of Kuala Lumpur, Malaysia",
           " Malaysia"
          ],
          [
           "2019-12-04T10:00:48.000000",
           36.4,
           70.9,
           280,
           4.5,
           "83km SSE of Fayzabad, Afghanistan",
           " Afghanistan"
          ],
          [
           "2019-12-03T19:38:54.000000",
           32.7,
           76.2,
           5,
           3.2,
           "54km NNW of Dharamshala, Himachal Pradesh, India",
           " Himachal Pradesh"
          ],
          [
           "2019-12-03T11:36:05.000000",
           36.9,
           67.1,
           37,
           4.7,
           "236km SW of Dushanbe, Tajikistan",
           " Tajikistan"
          ],
          [
           "2019-12-03T07:50:37.000000",
           24.9,
           92.4,
           10,
           2.6,
           "63km NNE of Dharmanagar, Tripura, India",
           " Tripura"
          ],
          [
           "2019-12-02T23:23:29.000000",
           8.4,
           94.6,
           176,
           4.8,
           "172km NNE of Campbell Bay, Andaman and Nicobar island, India",
           " Andaman and Nicobar island"
          ],
          [
           "2019-12-02T20:04:40.000000",
           37,
           70.7,
           250,
           4.1,
           "17km SE of Fayzabad, Afghanistan",
           " Afghanistan"
          ],
          [
           "2019-12-02T06:42:44.000000",
           23.1,
           93.7,
           12,
           4.5,
           "54km SE of Champhai, Mizoram, India",
           " Mizoram"
          ],
          [
           "2019-12-02T02:52:10.000000",
           24.6,
           94.2,
           57,
           2.9,
           "35km SE of Imphal, Manipur, India",
           " Manipur"
          ],
          [
           "2019-11-30T20:59:24.000000",
           36.7,
           71.4,
           250,
           4.4,
           "87km ESE of Fayzabad, Afghanistan",
           " Afghanistan"
          ],
          [
           "2019-11-30T11:44:03.000000",
           36.7,
           73.8,
           58,
           4,
           "292km E of Fayzabad, Afghanistan",
           " Afghanistan"
          ],
          [
           "2019-11-29T23:20:17.000000",
           13.7,
           93.2,
           10,
           4.6,
           "53km NNE of Diglipur, Andaman and Nicobar island, India",
           " Andaman and Nicobar island"
          ],
          [
           "2019-11-29T07:51:39.000000",
           25.5,
           67.8,
           120,
           4.5,
           "381km NNW of Dwarka, Gujarat, India",
           " Gujarat"
          ],
          [
           "2019-11-28T22:43:55.000000",
           28.4,
           76.7,
           12,
           2.1,
           "23km SSE of Jhajjar, Haryana",
           " Haryana"
          ],
          [
           "2019-11-28T22:34:26.000000",
           36,
           77.8,
           140,
           4.4,
           "206km NNE of Alchi(Leh),Jammu & Kashmir,India",
           "Jammu & Kashmir"
          ],
          [
           "2019-11-28T21:35:04.000000",
           24,
           94,
           128,
           3.5,
           "59km SSE of Moirang, Manipur, India",
           " Manipur"
          ],
          [
           "2019-11-28T20:09:15.000000",
           23.2,
           95.9,
           10,
           5.5,
           "143km N of Burma, Myanmar",
           " Myanmar"
          ],
          [
           "2019-11-28T14:50:09.000000",
           37.5,
           71.8,
           72,
           4.1,
           "119km ENE of Fayzabad, Afghanistan",
           " Afghanistan"
          ],
          [
           "2019-11-28T07:10:09.000000",
           30.3,
           84.4,
           10,
           4.6,
           "301km NNW of Kathmandu, Nepal",
           " Nepal"
          ],
          [
           "2019-11-27T21:53:34.000000",
           27.7,
           85.8,
           122,
           4.5,
           "46km E of Kathmandu, Nepal",
           " Nepal"
          ],
          [
           "2019-11-27T15:37:17.000000",
           14.5,
           92.8,
           10,
           4.4,
           "138km N of Diglipur, Andaman and Nicobar island, India",
           " Andaman and Nicobar island"
          ],
          [
           "2019-11-27T05:48:29.000000",
           28.1,
           87.8,
           20,
           4.4,
           "91km NNW of Yuksom, Sikkim, India",
           " Sikkim"
          ],
          [
           "2019-11-26T20:14:56.000000",
           36.1,
           70.9,
           109,
           4.4,
           "115km SSE of Fayzabad, Afghanistan",
           " Afghanistan"
          ],
          [
           "2019-11-26T16:35:52.000000",
           19.1,
           94.9,
           10,
           5.5,
           "279km SW of Ywangan, Myanmar",
           " Myanmar"
          ],
          [
           "2019-11-26T15:06:06.000000",
           19,
           94.9,
           10,
           4.6,
           "274km NNW of Rangoon, Myanmar",
           " Myanmar"
          ],
          [
           "2019-11-26T09:23:45.000000",
           24.1,
           94.3,
           10,
           4.2,
           "69km SE of Moirang, Manipur, India",
           " Manipur"
          ],
          [
           "2019-11-26T02:57:09.000000",
           34.5,
           73.2,
           10,
           4.1,
           "91km N of Islamabad, Pakistan",
           " Pakistan"
          ],
          [
           "2019-11-26T01:08:51.000000",
           24.5,
           92.4,
           10,
           3.2,
           "28km ENE of Dharmanagar, Tripura, India",
           " Tripura"
          ],
          [
           "2019-11-25T22:23:20.000000",
           28.3,
           94.5,
           10,
           3.1,
           "40km NNW of Basar, Arunachal Pradesh, India",
           " Arunachal Pradesh"
          ],
          [
           "2019-11-25T02:38:54.000000",
           36.6,
           71,
           99,
           4.8,
           "68km SE of Fayzabad, Afghanistan",
           " Afghanistan"
          ],
          [
           "2019-11-24T20:47:20.000000",
           25.7,
           93.3,
           5,
           3.8,
           "46km WSW of Chumukedima, Nagaland, India",
           " Nagaland"
          ],
          [
           "2019-11-24T19:48:41.000000",
           2,
           92.9,
           10,
           5.1,
           "567km S of Campbell Bay, Andaman and Nicobar island, India",
           " Andaman and Nicobar island"
          ],
          [
           "2019-11-24T16:27:34.000000",
           37.3,
           72.7,
           456,
           4.2,
           "191km E of Fayzabad, Afghanistan",
           " Afghanistan"
          ],
          [
           "2019-11-24T13:20:12.000000",
           30.4,
           79.3,
           10,
           3.4,
           "30km SW of Joshimath, Uttarakhand , India",
           " Uttarakhand "
          ],
          [
           "2019-11-24T07:40:25.000000",
           37,
           72,
           10,
           4.9,
           "129km E of Fayzabad, Afghanistan",
           " Afghanistan"
          ],
          [
           "2019-11-23T20:40:49.000000",
           19.9,
           72.8,
           10,
           3.3,
           "92km N of Mumbai, Maharashtra, India",
           " Maharashtra"
          ],
          [
           "2019-11-23T03:57:19.000000",
           32.9,
           91.9,
           10,
           4.2,
           "591km N of Tawang, Arunachal Pradesh, India",
           " Arunachal Pradesh"
          ],
          [
           "2019-11-22T23:10:22.000000",
           25.4,
           94.5,
           20,
           3,
           "31km NNE of Shirui, Manipur, India",
           " Manipur"
          ],
          [
           "2019-11-22T23:08:28.000000",
           16.9,
           95.2,
           10,
           4.2,
           "103km W of Yangon, Myanmar",
           " Myanmar"
          ],
          [
           "2019-11-22T14:00:39.000000",
           25,
           94,
           25,
           3.7,
           "21km NNE of Imphal, Manipur, India",
           " Manipur"
          ],
          [
           "2019-11-22T01:56:16.000000",
           36.3,
           71.8,
           235,
           4.4,
           "142km SE of Fayzabad, Afghanistan",
           " Afghanistan"
          ],
          [
           "2019-11-21T19:41:08.000000",
           26,
           91.2,
           17,
           4.3,
           "55km WSW of Guwahati, Assam, India",
           " Assam"
          ],
          [
           "2019-11-21T07:20:28.000000",
           20,
           72.8,
           10,
           3.5,
           "103km N of Mumbai, Maharashtra, India",
           " Maharashtra"
          ],
          [
           "2019-11-21T07:16:04.000000",
           37.5,
           72.3,
           135,
           4.9,
           "161km ENE of Fayzabad, Afghanistan",
           " Afghanistan"
          ],
          [
           "2019-11-21T05:44:58.000000",
           37.3,
           71.7,
           10,
           4,
           "104km ENE of Fayzabad, Afghanistan",
           " Afghanistan"
          ],
          [
           "2019-11-20T22:57:00.000000",
           38.1,
           74,
           185,
           4,
           "323km ENE of Fayzabad, Afghanistan",
           " Afghanistan"
          ],
          [
           "2019-11-20T11:43:41.000000",
           35.3,
           73.2,
           10,
           4,
           "176km NW of Gulmarg, Jammu and Kashmir, India",
           " Jammu and Kashmir"
          ],
          [
           "2019-11-20T03:14:33.000000",
           24.4,
           94.1,
           45,
           3.1,
           "34km ESE of Moirang, Manipur, India",
           " Manipur"
          ],
          [
           "2019-11-20T01:35:45.000000",
           19.9,
           72.9,
           10,
           4,
           "91km N of Mumbai, Maharashtra, India",
           " Maharashtra"
          ],
          [
           "2019-11-19T22:19:49.000000",
           26.4,
           92.7,
           30,
           3.8,
           "29km SSW of Tezpur, Assam, India",
           " Assam"
          ],
          [
           "2019-11-19T19:00:56.000000",
           29.4,
           81.2,
           33,
           5,
           "97km E of Pithoragarh, Uttarakhand, India",
           " Uttarakhand"
          ],
          [
           "2019-11-19T11:00:46.000000",
           20,
           72.8,
           5,
           2.9,
           "103km N of Mumbai, Maharashtra, India",
           " Maharashtra"
          ],
          [
           "2019-11-18T19:01:06.000000",
           23.6,
           70.3,
           10,
           4,
           "153km NNW of Rajkot, Gujarat, India",
           " Gujarat"
          ],
          [
           "2019-11-18T18:33:42.000000",
           26.7,
           92.7,
           48,
           2.8,
           "10km WNW of Tezpur, Assam, India",
           " Assam"
          ],
          [
           "2019-11-18T04:35:57.000000",
           11.4,
           92.9,
           10,
           4.8,
           "31km SE of Portblair, Andaman and Nicobar island, India",
           " Andaman and Nicobar island"
          ],
          [
           "2019-11-18T04:17:22.000000",
           26.7,
           94.1,
           10,
           2.2,
           "11km WSW of Jorhat, Assam, India",
           " Assam"
          ],
          [
           "2019-11-17T19:47:00.000000",
           38.2,
           69,
           10,
           4.1,
           "44km SSE of Dushanbe, Tajikistan",
           " Tajikistan"
          ],
          [
           "2019-11-17T12:17:08.000000",
           7,
           94.5,
           10,
           4.6,
           "65km E of Campbell Bay, Andaman and Nicobar island, India",
           " Andaman and Nicobar island"
          ],
          [
           "2019-11-17T09:34:56.000000",
           29,
           76.9,
           6,
           2.7,
           "30km ENE of Rohtak, Haryana, India",
           " Haryana"
          ],
          [
           "2019-11-17T06:58:56.000000",
           7.2,
           94.4,
           10,
           5.1,
           "58km ENE of Campbell Bay, Andaman and Nicobar island, India",
           " Andaman and Nicobar island"
          ],
          [
           "2019-11-16T11:52:49.000000",
           38,
           68.8,
           10,
           5.1,
           "62km S of Dushanbe, Tajikistan",
           " Tajikistan"
          ],
          [
           "2019-11-16T04:14:59.000000",
           24.9,
           94.2,
           38,
           3.3,
           "28km ENE of Imphal, Manipur, India",
           " Manipur"
          ],
          [
           "2019-11-16T04:09:59.000000",
           31,
           69.9,
           24,
           3.4,
           "400km S of Kabul , Afghanistan",
           " Afghanistan"
          ],
          [
           "2019-11-15T07:28:25.000000",
           26.5,
           92.7,
           25,
           3.8,
           "19km SSW of Tezpur, Assam, India",
           " Assam"
          ],
          [
           "2019-11-15T04:12:57.000000",
           37.2,
           74.3,
           25,
           4.5,
           "332km E of Fayzabad, Afghanistan",
           " Afghanistan"
          ],
          [
           "2019-11-15T03:46:06.000000",
           36.6,
           71.1,
           237,
           4.2,
           "74km SE of Fayzabad, Afghanistan",
           " Afghanistan"
          ],
          [
           "2019-11-15T00:57:43.000000",
           27.2,
           95.3,
           10,
           2.6,
           "48km SE of Dibrugarh, Assam, India",
           " Assam"
          ],
          [
           "2019-11-15T00:41:37.000000",
           27.1,
           91.4,
           21,
           2.7,
           "71km SW of Tawang, Arunachal Pradesh, India",
           " Arunachal Pradesh"
          ],
          [
           "2019-11-15T00:00:18.000000",
           7.2,
           94.9,
           123,
           5,
           "111km ENE of Campbell Bay, Andaman and Nicobar island, India",
           " Andaman and Nicobar island"
          ],
          [
           "2019-11-14T23:19:39.000000",
           26,
           91.9,
           10,
           2.4,
           "15km NNE of Nongpoh, Meghalaya, India",
           " Meghalaya"
          ],
          [
           "2019-11-14T14:53:32.000000",
           36.3,
           71.6,
           80,
           5.1,
           "129km SE of Fayzabad, Afghanistan",
           " Afghanistan"
          ],
          [
           "2019-11-13T18:40:54.000000",
           26.2,
           93.4,
           48,
           4.6,
           "45km NW of Dimapur, Nagaland, India",
           " Nagaland"
          ],
          [
           "2019-11-13T10:59:01.000000",
           36.5,
           70.9,
           226,
           4.1,
           "73km SSE of Fayzabad, Afghanistan",
           " Afghanistan"
          ],
          [
           "2019-11-13T01:51:32.000000",
           32.6,
           75.8,
           10,
           2.4,
           "64km NW of Dharamshala, Himachal Pradesh, India",
           " Himachal Pradesh"
          ],
          [
           "2019-11-13T01:07:17.000000",
           25.8,
           90.2,
           20,
           3.2,
           "31km N of Tura, Meghalaya, India",
           " Meghalaya"
          ],
          [
           "2019-11-13T00:51:54.000000",
           32.6,
           75.9,
           10,
           2.3,
           "58km NW of Dharamshala, Himachal Pradesh, India",
           " Himachal Pradesh"
          ],
          [
           "2019-11-12T17:12:11.000000",
           0.97,
           97.5,
           35,
           4.9,
           "524km WSW of Kuala Lumpur, Malaysia",
           " Malaysia"
          ],
          [
           "2019-11-12T07:30:27.000000",
           29.9,
           80.2,
           10,
           4.5,
           "35km N of Pithoragarh, Uttarakhand, India",
           " Uttarakhand"
          ],
          [
           "2019-11-10T13:54:07.000000",
           38.5,
           75.8,
           33,
           3.8,
           "439km N of Kargil, Laddakh, India",
           " Laddakh"
          ],
          [
           "2019-11-10T02:54:39.000000",
           32.9,
           73.5,
           10,
           3.8,
           "92km SW of Rajouri, Jammu and Kashmir",
           " Jammu and Kashmir"
          ],
          [
           "2019-11-10T02:15:17.000000",
           36.6,
           71.2,
           10,
           4.3,
           "80km SE of Fayzabad, Afghanistan",
           " Afghanistan"
          ],
          [
           "2019-11-09T13:07:38.000000",
           24.9,
           92.7,
           20,
           3.3,
           "80km NE of Dharmanagar, Tripura, India",
           " Tripura"
          ],
          [
           "2019-11-09T12:46:54.000000",
           26.4,
           95.5,
           33,
           3.5,
           "98km E of Mokokchung, Nagaland, India",
           " Nagaland"
          ],
          [
           "2019-11-07T06:42:53.000000",
           37.7,
           72.3,
           35,
           3.9,
           "168km ENE of Fayzabad, Afghanistan",
           " Afghanistan"
          ],
          [
           "2019-11-07T02:26:57.000000",
           28.1,
           95.5,
           15,
           3.1,
           "22km E of Pangin, Arunachal Pradesh, India",
           " Arunachal Pradesh"
          ],
          [
           "2019-11-06T19:12:31.000000",
           28.8,
           77.4,
           7,
           2.7,
           "28km NE of New Delhi, India",
           " India"
          ],
          [
           "2019-11-06T18:52:58.000000",
           36.2,
           66.7,
           40,
           4.7,
           "291km NW of Kabul , Afghanistan",
           " Afghanistan"
          ],
          [
           "2019-11-06T02:22:22.000000",
           36.5,
           70.1,
           200,
           5.1,
           "77km SSW of Fayzabad, Afghanistan",
           " Afghanistan"
          ],
          [
           "2019-11-05T15:49:35.000000",
           24.3,
           93.5,
           13,
           3.4,
           "35km SW of Moirang, Manipur, India",
           " Manipur"
          ],
          [
           "2019-11-05T15:20:41.000000",
           35.8,
           76.9,
           10,
           3.9,
           "155km NNE of Kargil, Laddakh, India",
           " Laddakh"
          ],
          [
           "2019-11-03T18:11:01.000000",
           36.5,
           70.9,
           165,
           4.5,
           "73km SSE of Fayzabad, Afghanistan",
           " Afghanistan"
          ],
          [
           "2019-11-03T04:39:43.000000",
           20,
           73,
           10,
           2.9,
           "82km W of Nashik, Maharashtra, India",
           " Maharashtra"
          ],
          [
           "2019-11-03T02:00:01.000000",
           26.4,
           93.3,
           24,
           3.2,
           "57km ESE of Tezpur, Assam, India",
           " Assam"
          ],
          [
           "2019-11-02T05:43:37.000000",
           36.5,
           70.4,
           195,
           4,
           "68km S of Fayzabad, Afghanistan",
           " Afghanistan"
          ],
          [
           "2019-11-01T03:36:03.000000",
           28.4,
           83.3,
           116,
           4.2,
           "209km NNE of Ayodhya, Uttar Pradesh, India",
           " Uttar Pradesh"
          ],
          [
           "2019-10-31T18:14:13.000000",
           35.9,
           69.5,
           100,
           4.4,
           "151km N of Kabul , Afghanistan",
           " Afghanistan"
          ],
          [
           "2019-10-31T12:44:58.000000",
           31.5,
           77,
           10,
           3.4,
           "12km SE of Mandi, Himachal Pradesh, India",
           " Himachal Pradesh"
          ],
          [
           "2019-10-31T06:23:02.000000",
           27.6,
           90.4,
           10,
           3.3,
           "76km E of Thimphu, Bhutan",
           " Bhutan"
          ],
          [
           "2019-10-31T05:01:19.000000",
           36.4,
           70.4,
           33,
           3.6,
           "79km S of Fayzabad, Afghanistan",
           " Afghanistan"
          ],
          [
           "2019-10-31T03:41:43.000000",
           37.1,
           71.5,
           33,
           3.7,
           "84km E of Fayzabad, Afghanistan",
           " Afghanistan"
          ],
          [
           "2019-10-31T03:02:19.000000",
           24.2,
           90,
           39,
           3.8,
           "60km NW of Dhaka, Bangladesh",
           " Bangladesh"
          ],
          [
           "2019-10-30T17:56:24.000000",
           37,
           72.2,
           10,
           4.5,
           "146km E of Fayzabad, Afghanistan",
           " Afghanistan"
          ],
          [
           "2019-10-30T16:34:38.000000",
           36.8,
           75.5,
           17,
           4.6,
           "256km NNW of Kargil, Laddakh, India",
           " Laddakh"
          ],
          [
           "2019-10-30T03:17:17.000000",
           20.3,
           71.9,
           20,
           3.5,
           "136km SW of Surat, Gujarat, India",
           " Gujarat"
          ],
          [
           "2019-10-29T11:31:47.000000",
           32.7,
           76.4,
           5,
           3.4,
           "54km N of Dharamshala, Himachal Pradesh, India",
           " Himachal Pradesh"
          ],
          [
           "2019-10-29T08:33:47.000000",
           28.5,
           88.7,
           16,
           3.8,
           "90km N of Lachung, Sikkim, India",
           " Sikkim"
          ],
          [
           "2019-10-29T03:09:23.000000",
           9.3,
           83.8,
           10,
           4.4,
           "507km ENE of Colombo, Sri Lanka",
           " Sri Lanka"
          ],
          [
           "2019-10-28T19:12:47.000000",
           29.6,
           82,
           10,
           3.9,
           "172km E of Pithoragarh, Uttarakhand, India",
           " Uttarakhand"
          ],
          [
           "2019-10-28T08:37:09.000000",
           28.9,
           76.8,
           7,
           3.2,
           "18km E of Rohtak, Haryana, India",
           " Haryana"
          ],
          [
           "2019-10-28T01:20:55.000000",
           27.3,
           91.5,
           4,
           2.6,
           "48km SW of Tawang, Arunachal Pradesh, India",
           " Arunachal Pradesh"
          ],
          [
           "2019-10-27T17:33:23.000000",
           37.1,
           72,
           125,
           4.7,
           "128km E of Fayzabad, Afghanistan",
           " Afghanistan"
          ],
          [
           "2019-10-27T11:26:23.000000",
           36.6,
           71,
           232,
           4.3,
           "68km SE of Fayzabad, Afghanistan",
           " Afghanistan"
          ],
          [
           "2019-10-27T06:14:12.000000",
           36.4,
           70.9,
           270,
           4.2,
           "83km SSE of Fayzabad, Afghanistan",
           " Afghanistan"
          ],
          [
           "2019-10-26T22:34:03.000000",
           36.5,
           71.2,
           212,
           4.4,
           "88km SE of Fayzabad, Afghanistan",
           " Afghanistan"
          ],
          [
           "2019-10-26T16:24:14.000000",
           30.4,
           87.6,
           200,
           4.4,
           "321km NNW of Lachung, Sikkim, India",
           " Sikkim"
          ],
          [
           "2019-10-26T12:36:46.000000",
           33.1,
           73.3,
           38,
           3.1,
           "69km SSE of Islamabad, Pakistan",
           " Pakistan"
          ],
          [
           "2019-10-26T09:53:54.000000",
           36.4,
           72.8,
           92,
           4.1,
           "215km ESE of Fayzabad, Afghanistan",
           " Afghanistan"
          ],
          [
           "2019-10-26T08:48:17.000000",
           20,
           72.9,
           5,
           2.7,
           "93km W of Nashik, Maharashtra, India",
           " Maharashtra"
          ],
          [
           "2019-10-26T04:05:39.000000",
           20,
           72.8,
           10,
           3.7,
           "103km N of Mumbai, Maharashtra, India",
           " Maharashtra"
          ],
          [
           "2019-10-25T13:18:07.000000",
           36.3,
           70.3,
           265,
           4,
           "91km SSW of Fayzabad, Afghanistan",
           " Afghanistan"
          ],
          [
           "2019-10-25T07:26:37.000000",
           36.5,
           71.2,
           250,
           4.5,
           "88km SE of Fayzabad, Afghanistan",
           " Afghanistan"
          ],
          [
           "2019-10-23T21:57:57.000000",
           19.9,
           72.8,
           10,
           2.9,
           "92km N of Mumbai, Maharashtra, India",
           " Maharashtra"
          ],
          [
           "2019-10-23T14:05:10.000000",
           37.7,
           72.3,
           230,
           4,
           "168km ENE of Fayzabad, Afghanistan",
           " Afghanistan"
          ],
          [
           "2019-10-23T00:45:19.000000",
           32,
           77,
           14,
           2.2,
           "11km WNW of Kullu, Himachal Pradesh, India",
           " Himachal Pradesh"
          ],
          [
           "2019-10-22T18:49:25.000000",
           36.1,
           78.1,
           30,
           4,
           "221km NNE of Leh, Laddakh, India",
           " Laddakh"
          ],
          [
           "2019-10-22T07:00:42.000000",
           19.2,
           95.7,
           10,
           4.7,
           "231km SSW of Ywangan, Myanmar",
           " Myanmar"
          ],
          [
           "2019-10-22T06:36:10.000000",
           7.9,
           94.4,
           180,
           4.3,
           "113km NNE of Campbell Bay, Andaman and Nicobar island, India",
           " Andaman and Nicobar island"
          ],
          [
           "2019-10-21T00:54:30.000000",
           27.82,
           87.98,
           10,
           4.1,
           "55km NNW of Yuksom, Sikkim, India",
           " Sikkim"
          ],
          [
           "2019-10-20T22:01:27.000000",
           23.5,
           94.5,
           142.6,
           3.1,
           "119km E of Champhai, Mizoram, India",
           " Mizoram"
          ],
          [
           "2019-10-19T08:25:07.000000",
           26.7,
           95.1,
           12,
           3.7,
           "71km NE of Mokokchung, Nagaland, India",
           " Nagaland"
          ],
          [
           "2019-10-19T06:36:18.000000",
           28.6,
           76.5,
           5,
           3.3,
           "15km W of Jhajjar, Haryana",
           " Haryana"
          ],
          [
           "2019-10-18T22:18:00.000000",
           23.2,
           94.3,
           150,
           4.2,
           "103km ESE of Champhai, Mizoram, India",
           " Mizoram"
          ],
          [
           "2019-10-18T16:02:58.000000",
           33.1,
           74,
           10,
           4,
           "42km SW of Rajouri, Jammu and Kashmir",
           " Jammu and Kashmir"
          ],
          [
           "2019-10-17T21:16:59.000000",
           31.1,
           78.7,
           10,
           3,
           "48km NNE of Uttarkashi, Uttarakhand, India",
           " Uttarakhand"
          ],
          [
           "2019-10-17T08:35:18.000000",
           35.2,
           77.8,
           10,
           3.9,
           "118km N of Leh, Laddakh, India",
           " Laddakh"
          ],
          [
           "2019-10-15T01:56:41.000000",
           27.4,
           92.4,
           10,
           3.1,
           "55km ESE of Tawang, Arunachal Pradesh, India",
           " Arunachal Pradesh"
          ],
          [
           "2019-10-14T22:23:04.000000",
           31.2,
           77.8,
           5,
           3,
           "60km E of Shimla, Himachal Pradesh, India",
           " Himachal Pradesh"
          ],
          [
           "2019-10-14T13:17:54.000000",
           36.4,
           70.7,
           239,
           4,
           "79km S of Fayzabad, Afghanistan",
           " Afghanistan"
          ],
          [
           "2019-10-13T23:11:29.000000",
           32.9,
           73.4,
           10,
           3.8,
           "93km SSE of Islamabad, Pakistan",
           " Pakistan"
          ],
          [
           "2019-10-13T10:36:34.000000",
           28,
           73.4,
           10,
           4.5,
           "9km ESE of Bikaner, Rajasthan, India",
           " Rajasthan"
          ],
          [
           "2019-10-13T06:32:35.000000",
           37.3,
           72,
           210,
           4,
           "130km E of Fayzabad, Afghanistan",
           " Afghanistan"
          ],
          [
           "2019-10-12T20:52:24.000000",
           33.1,
           74.5,
           6.8,
           3.4,
           "34km SSE of Rajouri, Jammu and Kashmir",
           " Jammu and Kashmir"
          ],
          [
           "2019-10-12T07:53:45.000000",
           22.7,
           94.5,
           136,
           3.3,
           "146km SE of Champhai, Mizoram, India",
           " Mizoram"
          ],
          [
           "2019-10-11T23:44:59.000000",
           32.5,
           73.1,
           33,
           4.2,
           "131km S of Islamabad, Pakistan",
           " Pakistan"
          ],
          [
           "2019-10-11T04:08:54.000000",
           37.5,
           72.8,
           35,
           3.9,
           "203km ENE of Fayzabad, Afghanistan",
           " Afghanistan"
          ],
          [
           "2019-10-11T01:04:56.000000",
           33.1,
           76.1,
           5,
           2.6,
           "100km NNW of Dharamshala, Himachal Pradesh, India",
           " Himachal Pradesh"
          ],
          [
           "2019-10-08T13:14:37.000000",
           34.4,
           72.6,
           10,
           4,
           "89km NNW of Islamabad, Pakistan",
           " Pakistan"
          ],
          [
           "2019-10-07T18:05:47.000000",
           27.5,
           91.5,
           10,
           4.3,
           "38km WSW of Tawang, Arunachal Pradesh, India",
           " Arunachal Pradesh"
          ],
          [
           "2019-10-07T05:52:19.000000",
           38.1,
           74.3,
           35,
           3.4,
           "348km ENE of Fayzabad, Afghanistan",
           " Afghanistan"
          ],
          [
           "2019-10-07T04:35:12.000000",
           37.9,
           72.8,
           35,
           3.9,
           "217km ENE of Fayzabad, Afghanistan",
           " Afghanistan"
          ],
          [
           "2019-10-06T05:25:56.000000",
           33,
           73.6,
           35,
           3.5,
           "78km WSW of Rajouri, Jammu and Kashmir",
           " Jammu and Kashmir"
          ],
          [
           "2019-10-06T01:06:56.000000",
           32.6,
           76.5,
           11,
           2.3,
           "45km NNE of Dharamshala, Himachal Pradesh, India",
           " Himachal Pradesh"
          ],
          [
           "2019-10-04T15:22:17.000000",
           32.6,
           76.9,
           8.4,
           2.4,
           "48km NW of Manali, Himachal Pradesh, India",
           " Himachal Pradesh"
          ],
          [
           "2019-10-04T03:32:49.000000",
           36.6,
           71,
           35,
           4.7,
           "68km SE of Fayzabad, Afghanistan",
           " Afghanistan"
          ],
          [
           "2019-10-04T01:06:21.000000",
           36.5,
           76.6,
           40,
           3.3,
           "220km N of Kargil, Laddakh, India",
           " Laddakh"
          ],
          [
           "2019-10-04T00:19:36.000000",
           37.2,
           69.9,
           37,
           4,
           "58km W of Fayzabad, Afghanistan",
           " Afghanistan"
          ],
          [
           "2019-10-03T11:54:42.000000",
           24.9,
           94,
           40,
           4.8,
           "11km NE of Imphal, Manipur, India",
           " Manipur"
          ],
          [
           "2019-10-03T03:28:49.000000",
           25.2,
           94.3,
           29,
           2.8,
           "14km WNW of Shirui, Manipur, India",
           " Manipur"
          ],
          [
           "2019-10-02T08:53:53.000000",
           37.7,
           72.5,
           200,
           4.3,
           "184km ENE of Fayzabad, Afghanistan",
           " Afghanistan"
          ],
          [
           "2019-10-01T18:52:38.000000",
           30.4,
           79.3,
           10,
           3.3,
           "30km SW of Joshimath, Uttarakhand , India",
           " Uttarakhand "
          ],
          [
           "2019-09-29T15:16:59.000000",
           26.5,
           92.4,
           21,
           3.3,
           "42km WSW of Tezpur, Assam, India",
           " Assam"
          ],
          [
           "2019-09-29T14:32:15.000000",
           11.3,
           91.5,
           10,
           4.8,
           "138km WSW of Portblair, Andaman and Nicobar island, India",
           " Andaman and Nicobar island"
          ],
          [
           "2019-09-28T10:28:27.000000",
           29.9,
           81.5,
           10,
           4.1,
           "128km ENE of Pithoragarh, Uttarakhand, India",
           " Uttarakhand"
          ],
          [
           "2019-09-27T00:45:35.000000",
           11,
           91.7,
           10,
           4.8,
           "131km WSW of Portblair, Andaman and Nicobar island, India",
           " Andaman and Nicobar island"
          ],
          [
           "2019-09-26T20:09:08.000000",
           25.9,
           90.5,
           5,
           3.2,
           "52km NE of Tura, Meghalaya, India",
           " Meghalaya"
          ],
          [
           "2019-09-26T18:34:26.000000",
           28.1,
           84.6,
           10,
           4.3,
           "82km WNW of Kathmandu, Nepal",
           " Nepal"
          ],
          [
           "2019-09-24T17:38:16.000000",
           33.2,
           73.8,
           10,
           3.4,
           "51km WSW of Rajouri, Jammu and Kashmir",
           " Jammu and Kashmir"
          ],
          [
           "2019-09-24T16:31:55.000000",
           33.1,
           73.7,
           10,
           6,
           "64km WSW of Rajouri, Jammu and Kashmir",
           " Jammu and Kashmir"
          ],
          [
           "2019-09-24T14:17:29.000000",
           20,
           72.8,
           10,
           2.8,
           "103km N of Mumbai, Maharashtra, India",
           " Maharashtra"
          ],
          [
           "2019-09-23T21:57:35.000000",
           25.9,
           90.4,
           10,
           3.1,
           "47km NNE of Tura, Meghalaya, India",
           " Meghalaya"
          ],
          [
           "2019-09-22T12:47:22.000000",
           19.9,
           72.7,
           10,
           3.4,
           "93km NNW of Mumbai, Maharashtra, India",
           " Maharashtra"
          ],
          [
           "2019-09-22T08:01:23.000000",
           24.2,
           93.6,
           20,
           4,
           "37km SSW of Moirang, Manipur, India",
           " Manipur"
          ],
          [
           "2019-09-21T22:30:06.000000",
           20,
           72.8,
           10,
           3.2,
           "103km N of Mumbai, Maharashtra, India",
           " Maharashtra"
          ],
          [
           "2019-09-20T16:32:32.000000",
           20,
           72.8,
           5,
           3.5,
           "103km N of Mumbai, Maharashtra, India",
           " Maharashtra"
          ],
          [
           "2019-09-20T03:10:47.000000",
           25.9,
           90.8,
           5,
           3.2,
           "73km NE of Tura, Meghalaya, India",
           " Meghalaya"
          ],
          [
           "2019-09-17T09:38:13.000000",
           28.3,
           84.7,
           10,
           4.5,
           "89km NW of Kathmandu, Nepal",
           " Nepal"
          ],
          [
           "2019-09-16T20:03:26.000000",
           29.6,
           80.7,
           10,
           4.3,
           "46km E of Pithoragarh, Uttarakhand, India",
           " Uttarakhand"
          ],
          [
           "2019-09-12T14:52:32.000000",
           36.6,
           70.7,
           250,
           5,
           "57km SSE of Fayzabad, Afghanistan",
           " Afghanistan"
          ],
          [
           "2019-09-12T02:22:22.000000",
           30.4,
           79.7,
           14,
           3.6,
           "22km SE of Joshimath, Uttarakhand , India",
           " Uttarakhand "
          ],
          [
           "2019-09-09T21:27:37.000000",
           33,
           76,
           5,
           3.2,
           "92km NNW of Dharamshala, Himachal Pradesh, India",
           " Himachal Pradesh"
          ],
          [
           "2019-09-09T14:35:06.000000",
           24.9,
           94.1,
           30,
           3.3,
           "18km ENE of Imphal, Manipur, India",
           " Manipur"
          ],
          [
           "2019-09-09T12:57:51.000000",
           33,
           76,
           5,
           2.7,
           "92km NNW of Dharamshala, Himachal Pradesh, India",
           " Himachal Pradesh"
          ],
          [
           "2019-09-09T12:40:16.000000",
           32.9,
           76,
           5,
           3.2,
           "81km NNW of Dharamshala, Himachal Pradesh, India",
           " Himachal Pradesh"
          ],
          [
           "2019-09-09T12:10:31.000000",
           32.9,
           76.1,
           5,
           5,
           "78km NNW of Dharamshala, Himachal Pradesh, India",
           " Himachal Pradesh"
          ],
          [
           "2019-09-08T08:04:34.000000",
           33,
           76.1,
           10,
           4.9,
           "89km NNW of Dharamshala, Himachal Pradesh, India",
           " Himachal Pradesh"
          ],
          [
           "2019-09-08T07:59:22.000000",
           32.9,
           76,
           5,
           3.8,
           "81km NNW of Dharamshala, Himachal Pradesh, India",
           " Himachal Pradesh"
          ],
          [
           "2019-09-08T07:03:07.000000",
           26.4,
           92.9,
           10,
           3.3,
           "30km SSE of Tezpur, Assam, India",
           " Assam"
          ],
          [
           "2019-09-08T00:05:30.000000",
           32.9,
           76.1,
           10,
           3.4,
           "78km NNW of Dharamshala, Himachal Pradesh, India",
           " Himachal Pradesh"
          ],
          [
           "2019-09-06T11:10:11.000000",
           26.4,
           93.3,
           14,
           3.5,
           "57km ESE of Tezpur, Assam, India",
           " Assam"
          ],
          [
           "2019-09-05T22:22:55.000000",
           24.7,
           92.9,
           31,
           3.4,
           "83km ENE of Dharmanagar, Tripura, India",
           " Tripura"
          ],
          [
           "2019-09-04T15:30:30.000000",
           28,
           75.7,
           16,
           3.8,
           "115km SW of Jhajjar, Haryana",
           " Haryana"
          ],
          [
           "2019-09-04T02:13:00.000000",
           23.8,
           88.6,
           33,
           4.3,
           "134km ENE of Durgapur, West Bengal, India",
           " West Bengal"
          ],
          [
           "2019-09-02T17:29:52.000000",
           27.4,
           93,
           27,
           3.5,
           "69km WNW of Itanagar, Arunachal Pradesh, India",
           " Arunachal Pradesh"
          ],
          [
           "2019-08-31T20:39:23.000000",
           22.8,
           95.5,
           10,
           5.6,
           "109km NNW of Burma, Myanmar",
           " Myanmar"
          ],
          [
           "2019-08-29T02:16:33.000000",
           26,
           92.4,
           1,
           3.5,
           "58km ENE of Nongpoh, Meghalaya, India",
           " Meghalaya"
          ],
          [
           "2019-08-28T19:10:02.000000",
           13.2,
           93.5,
           10,
           5,
           "56km E of Diglipur, Andaman and Nicobar island, India",
           " Andaman and Nicobar island"
          ],
          [
           "2019-08-26T08:19:15.000000",
           26.6,
           96,
           80,
           5.1,
           "142km SSW of Changlang, Arunachal Pradesh, India",
           " Arunachal Pradesh"
          ],
          [
           "2019-08-26T04:21:34.000000",
           24.5,
           92.9,
           75,
           3.5,
           "75km NNW of Ngopa, Mizoram, India",
           " Mizoram"
          ],
          [
           "2019-08-24T04:00:30.000000",
           30.8,
           78.4,
           5,
           3.2,
           "8km NNW of Uttarkashi, Uttarakhand, India",
           " Uttarakhand"
          ],
          [
           "2019-08-22T21:15:17.000000",
           26.5,
           93.1,
           42,
           3.7,
           "35km ESE of Tezpur, Assam, India",
           " Assam"
          ],
          [
           "2019-08-22T04:50:55.000000",
           32.4,
           76.3,
           5,
           2.7,
           "20km N of Dharamshala, Himachal Pradesh, India",
           " Himachal Pradesh"
          ],
          [
           "2019-08-21T14:49:13.000000",
           8.9,
           93.4,
           10,
           4.6,
           "217km NNW of Campbell Bay, Andaman and Nicobar island, India",
           " Andaman and Nicobar island"
          ],
          [
           "2019-08-19T14:43:02.000000",
           23,
           70.4,
           10,
           4,
           "87km NNW of Rajkot, Gujarat, India",
           " Gujarat"
          ],
          [
           "2019-08-19T11:13:23.000000",
           20,
           73,
           5,
           2.5,
           "82km W of Nashik, Maharashtra, India",
           " Maharashtra"
          ],
          [
           "2019-08-18T11:58:32.000000",
           23.9,
           93.7,
           45,
           4.7,
           "49km E of Ngopa, Mizoram, India",
           " Mizoram"
          ],
          [
           "2019-08-17T22:56:41.000000",
           25.5,
           94.5,
           58,
           2.9,
           "42km N of Shirui, Manipur, India",
           " Manipur"
          ],
          [
           "2019-08-16T17:47:02.000000",
           27.3,
           93.4,
           33,
           3.6,
           "31km NW of Itanagar, Arunachal Pradesh, India",
           " Arunachal Pradesh"
          ],
          [
           "2019-08-16T07:39:19.000000",
           36.4,
           70.7,
           200,
           5.1,
           "79km S of Fayzabad, Afghanistan",
           " Afghanistan"
          ],
          [
           "2019-08-14T13:44:07.000000",
           29.72,
           94.18,
           82,
           4.6,
           "199km NNW of Basar, Arunachal Pradesh, India",
           " Arunachal Pradesh"
          ],
          [
           "2019-08-13T16:20:09.000000",
           34.6,
           77.8,
           15,
           4.2,
           "53km NNE of Leh, Laddakh, India",
           " Laddakh"
          ],
          [
           "2019-08-13T05:38:33.000000",
           20,
           72.8,
           10,
           3.2,
           "103km N of Mumbai, Maharashtra, India",
           " Maharashtra"
          ],
          [
           "2019-08-10T12:13:10.000000",
           37,
           71.6,
           94,
           5.5,
           "93km E of Fayzabad, Afghanistan",
           " Afghanistan"
          ],
          [
           "2019-08-10T00:01:39.000000",
           26.7,
           92.5,
           26,
           3.5,
           "29km W of Tezpur, Assam, India",
           " Assam"
          ],
          [
           "2019-08-09T18:10:32.000000",
           27.4,
           84.5,
           39,
           4.6,
           "87km WSW of Kathmandu, Nepal",
           " Nepal"
          ],
          [
           "2019-08-08T06:15:26.000000",
           36.5,
           70.1,
           220,
           6,
           "77km SSW of Fayzabad, Afghanistan",
           " Afghanistan"
          ],
          [
           "2019-08-06T01:38:55.000000",
           26.1,
           89.9,
           33,
           3.4,
           "71km NNW of Tura, Meghalaya, India",
           " Meghalaya"
          ],
          [
           "2019-08-05T00:34:51.000000",
           36.6,
           71.3,
           190,
           5.4,
           "86km SE of Fayzabad, Afghanistan",
           " Afghanistan"
          ],
          [
           "2019-08-04T06:56:19.000000",
           12.3,
           94.8,
           10,
           4.8,
           "224km ESE of Diglipur, Andaman and Nicobar island, India",
           " Andaman and Nicobar island"
          ],
          [
           "2019-08-04T05:40:33.000000",
           24.7,
           94.3,
           40,
           4.1,
           "31km SW of Ukhrul, Manipur, India",
           " Manipur"
          ],
          [
           "2019-08-03T16:29:37.000000",
           22.5,
           88.1,
           10,
           3.6,
           "28km WSW of Kolkata, India",
           " India"
          ],
          [
           "2019-08-03T01:59:11.000000",
           24.6,
           94.2,
           54,
           3.5,
           "35km SE of Imphal, Manipur, India",
           " Manipur"
          ],
          [
           "2019-08-01T06:13:21.000000",
           14.5,
           92.9,
           10,
           4.6,
           "137km N of Diglipur, Andaman and Nicobar island, India",
           " Andaman and Nicobar island"
          ]
         ],
         "index": [
          0,
          1,
          2,
          3,
          4,
          5,
          6,
          7,
          8,
          9,
          10,
          11,
          12,
          13,
          14,
          15,
          16,
          17,
          18,
          19,
          20,
          21,
          22,
          23,
          24,
          25,
          26,
          27,
          28,
          29,
          30,
          31,
          32,
          33,
          34,
          35,
          36,
          37,
          38,
          39,
          40,
          41,
          42,
          43,
          44,
          45,
          46,
          47,
          48,
          49,
          50,
          51,
          52,
          53,
          54,
          55,
          56,
          57,
          58,
          59,
          60,
          61,
          62,
          63,
          64,
          65,
          66,
          67,
          68,
          69,
          70,
          71,
          72,
          73,
          74,
          75,
          76,
          77,
          78,
          79,
          80,
          81,
          82,
          83,
          84,
          85,
          86,
          87,
          88,
          89,
          90,
          91,
          92,
          93,
          94,
          95,
          96,
          97,
          98,
          99,
          100,
          101,
          102,
          103,
          104,
          105,
          106,
          107,
          108,
          109,
          110,
          111,
          112,
          113,
          114,
          115,
          116,
          117,
          118,
          119,
          120,
          121,
          122,
          123,
          124,
          125,
          126,
          127,
          128,
          129,
          130,
          131,
          132,
          133,
          134,
          135,
          136,
          137,
          138,
          139,
          140,
          141,
          142,
          143,
          144,
          145,
          146,
          147,
          148,
          149,
          150,
          151,
          152,
          153,
          154,
          155,
          156,
          157,
          158,
          159,
          160,
          161,
          162,
          163,
          164,
          165,
          166,
          167,
          168,
          169,
          170,
          171,
          172,
          173,
          174,
          175,
          176,
          177,
          178,
          179,
          180,
          181,
          182,
          183,
          184,
          185,
          186,
          187,
          188,
          189,
          190,
          191,
          192,
          193,
          194,
          195,
          196,
          197,
          198,
          199,
          200,
          201,
          202,
          203,
          204,
          205,
          206,
          207,
          208,
          209,
          210,
          211,
          212,
          213,
          214,
          215,
          216,
          217,
          218,
          219,
          220,
          221,
          222,
          223,
          224,
          225,
          226,
          227,
          228,
          229,
          230,
          231,
          232,
          233,
          234,
          235,
          236,
          237,
          238,
          239,
          240,
          241,
          242,
          243,
          244,
          245,
          246,
          247,
          248,
          249,
          250,
          251,
          252,
          253,
          254,
          255,
          256,
          257,
          258,
          259,
          260,
          261,
          262,
          263,
          264,
          265,
          266,
          267,
          268,
          269,
          270,
          271,
          272,
          273,
          274,
          275,
          276,
          277,
          278,
          279,
          280,
          281,
          282,
          283,
          284,
          285,
          286,
          287,
          288,
          289,
          290,
          291,
          292,
          293,
          294,
          295,
          296,
          297,
          298,
          299,
          300,
          301,
          302,
          303,
          304,
          305,
          306,
          307,
          308,
          309,
          310,
          311,
          312,
          313,
          314,
          315,
          316,
          317,
          318,
          319,
          320,
          321,
          322,
          323,
          324,
          325,
          326,
          327,
          328,
          329,
          330,
          331,
          332,
          333,
          334,
          335,
          336,
          337,
          338,
          339,
          340,
          341,
          342,
          343,
          344,
          345,
          346,
          347,
          348,
          349,
          350,
          351,
          352,
          353,
          354,
          355,
          356,
          357,
          358,
          359,
          360,
          361,
          362,
          363,
          364,
          365,
          366,
          367,
          368,
          369,
          370,
          371,
          372,
          373,
          374,
          375,
          376,
          377,
          378,
          379,
          380,
          381,
          382,
          383,
          384,
          385,
          386,
          387,
          388,
          389,
          390,
          391,
          392,
          393,
          394,
          395,
          396,
          397,
          398,
          399,
          400,
          401,
          402,
          403,
          404,
          405,
          406,
          407,
          408,
          409,
          410,
          411,
          412,
          413,
          414,
          415,
          416,
          417,
          418,
          419,
          420,
          421,
          422,
          423,
          424,
          425,
          426,
          427,
          428,
          429,
          430,
          431,
          432,
          433,
          434,
          435,
          436,
          437,
          438,
          439,
          440,
          441,
          442,
          443,
          444,
          445,
          446,
          447,
          448,
          449,
          450,
          451,
          452,
          453,
          454,
          455,
          456,
          457,
          458,
          459,
          460,
          461,
          462,
          463,
          464,
          465,
          466,
          467,
          468,
          469,
          470,
          471,
          472,
          473,
          474,
          475,
          476,
          477,
          478,
          479,
          480,
          481,
          482,
          483,
          484,
          485,
          486,
          487,
          488,
          489,
          490,
          491,
          492,
          493,
          494,
          495,
          496,
          497,
          498,
          499,
          500,
          501,
          502,
          503,
          504,
          505,
          506,
          507,
          508,
          509,
          510,
          511,
          512,
          513,
          514,
          515,
          516,
          517,
          518,
          519,
          520,
          521,
          522,
          523,
          524,
          525,
          526,
          527,
          528,
          529,
          530,
          531,
          532,
          533,
          534,
          535,
          536,
          537,
          538,
          539,
          540,
          541,
          542,
          543,
          544,
          545,
          546,
          547,
          548,
          549,
          550,
          551,
          552,
          553,
          554,
          555,
          556,
          557,
          558,
          559,
          560,
          561,
          562,
          563,
          564,
          565,
          566,
          567,
          568,
          569,
          570,
          571,
          572,
          573,
          574,
          575,
          576,
          577,
          578,
          579,
          580,
          581,
          582,
          583,
          584,
          585,
          586,
          587,
          588,
          589,
          590,
          591,
          592,
          593,
          594,
          595,
          596,
          597,
          598,
          599,
          600,
          601,
          602,
          603,
          604,
          605,
          606,
          607,
          608,
          609,
          610,
          611,
          612,
          613,
          614,
          615,
          616,
          617,
          618,
          619,
          620,
          621,
          622,
          623,
          624,
          625,
          626,
          627,
          628,
          629,
          630,
          631,
          632,
          633,
          634,
          635,
          636,
          637,
          638,
          639,
          640,
          641,
          642,
          643,
          644,
          645,
          646,
          647,
          648,
          649,
          650,
          651,
          652,
          653,
          654,
          655,
          656,
          657,
          658,
          659,
          660,
          661,
          662,
          663,
          664,
          665,
          666,
          667,
          668,
          669,
          670,
          671,
          672,
          673,
          674,
          675,
          676,
          677,
          678,
          679,
          680,
          681,
          682,
          683,
          684,
          685,
          686,
          687,
          688,
          689,
          690,
          691,
          692,
          693,
          694,
          695,
          696,
          697,
          698,
          699,
          700,
          701,
          702,
          703,
          704,
          705,
          706,
          707,
          708,
          709,
          710,
          711,
          712,
          713,
          714,
          715,
          716,
          717,
          718,
          719,
          720,
          721,
          722,
          723,
          724,
          725,
          726,
          727,
          728,
          729,
          730,
          731,
          732,
          733,
          734,
          735,
          736,
          737,
          738,
          739,
          740,
          741,
          742,
          743,
          744,
          745,
          746,
          747,
          748,
          749,
          750,
          751,
          752,
          753,
          754,
          755,
          756,
          757,
          758,
          759,
          760,
          761,
          762,
          763,
          764,
          765,
          766,
          767,
          768,
          769,
          770,
          771,
          772,
          773,
          774,
          775,
          776,
          777,
          778,
          779,
          780,
          781,
          782,
          783,
          784,
          785,
          786,
          787,
          788,
          789,
          790,
          791,
          792,
          793,
          794,
          795,
          796,
          797,
          798,
          799,
          800,
          801,
          802,
          803,
          804,
          805,
          806,
          807,
          808,
          809,
          810,
          811,
          812,
          813,
          814,
          815,
          816,
          817,
          818,
          819,
          820,
          821,
          822,
          823,
          824,
          825,
          826,
          827,
          828,
          829,
          830,
          831,
          832,
          833,
          834,
          835,
          836,
          837,
          838,
          839,
          840,
          841,
          842,
          843,
          844,
          845,
          846,
          847,
          848,
          849,
          850,
          851,
          852,
          853,
          854,
          855,
          856,
          857,
          858,
          859,
          860,
          861,
          862,
          863,
          864,
          865,
          866,
          867,
          868,
          869,
          870,
          871,
          872,
          873,
          874,
          875,
          876,
          877,
          878,
          879,
          880,
          881,
          882,
          883,
          884,
          885,
          886,
          887,
          888,
          889,
          890,
          891,
          892,
          893,
          894,
          895,
          896,
          897,
          898,
          899,
          900,
          901,
          902,
          903,
          904,
          905,
          906,
          907,
          908,
          909,
          910,
          911,
          912,
          913,
          914,
          915,
          916,
          917,
          918,
          919,
          920,
          921,
          922,
          923,
          924,
          925,
          926,
          927,
          928,
          929,
          930,
          931,
          932,
          933,
          934,
          935,
          936,
          937,
          938,
          939,
          940,
          941,
          942,
          943,
          944,
          945,
          946,
          947,
          948,
          949,
          950,
          951,
          952,
          953,
          954,
          955,
          956,
          957,
          958,
          959,
          960,
          961,
          962,
          963,
          964,
          965,
          966,
          967,
          968,
          969,
          970,
          971,
          972,
          973,
          974,
          975,
          976,
          977,
          978,
          979,
          980,
          981,
          982,
          983,
          984,
          985,
          986,
          987,
          988,
          989,
          990,
          991,
          992,
          993,
          994,
          995,
          996,
          997,
          998,
          999,
          1000,
          1001,
          1002,
          1003,
          1004,
          1005,
          1006,
          1007,
          1008,
          1009,
          1010,
          1011,
          1012,
          1013,
          1014,
          1015,
          1016,
          1017,
          1018,
          1019,
          1020,
          1021,
          1022,
          1023,
          1024,
          1025,
          1026,
          1027,
          1028,
          1029,
          1030,
          1031,
          1032,
          1033,
          1034,
          1035,
          1036,
          1037,
          1038,
          1039,
          1040,
          1041,
          1042,
          1043,
          1044,
          1045,
          1046,
          1047,
          1048,
          1049,
          1050,
          1051,
          1052,
          1053,
          1054,
          1055,
          1056,
          1057,
          1058,
          1059,
          1060,
          1061,
          1062,
          1063,
          1064,
          1065,
          1066,
          1067,
          1068,
          1069,
          1070,
          1071,
          1072,
          1073,
          1074,
          1075,
          1076,
          1077,
          1078,
          1079,
          1080,
          1081,
          1082,
          1083,
          1084,
          1085,
          1086,
          1087,
          1088,
          1089,
          1090,
          1091,
          1092,
          1093,
          1094,
          1095,
          1096,
          1097,
          1098,
          1099,
          1100,
          1101,
          1102,
          1103,
          1104,
          1105,
          1106,
          1107,
          1108,
          1109,
          1110,
          1111,
          1112,
          1113,
          1114,
          1115,
          1116,
          1117,
          1118,
          1119,
          1120,
          1121,
          1122,
          1123,
          1124,
          1125,
          1126,
          1127,
          1128,
          1129,
          1130,
          1131,
          1132,
          1133,
          1134,
          1135,
          1136,
          1137,
          1138,
          1139,
          1140,
          1141,
          1142,
          1143,
          1144,
          1145,
          1146,
          1147,
          1148,
          1149,
          1150,
          1151,
          1152,
          1153,
          1154,
          1155,
          1156,
          1157,
          1158,
          1159,
          1160,
          1161,
          1162,
          1163,
          1164,
          1165,
          1166,
          1167,
          1168,
          1169,
          1170,
          1171,
          1172,
          1173,
          1174,
          1175,
          1176,
          1177,
          1178,
          1179,
          1180,
          1181,
          1182,
          1183,
          1184,
          1185,
          1186,
          1187,
          1188,
          1189,
          1190,
          1191,
          1192,
          1193,
          1194,
          1195,
          1196,
          1197,
          1198,
          1199,
          1200,
          1201,
          1202,
          1203,
          1204,
          1205,
          1206,
          1207,
          1208,
          1209,
          1210,
          1211,
          1212,
          1213,
          1214,
          1215,
          1216,
          1217,
          1218,
          1219,
          1220,
          1221,
          1222,
          1223,
          1224,
          1225,
          1226,
          1227,
          1228,
          1229,
          1230,
          1231,
          1232,
          1233,
          1234,
          1235,
          1236,
          1237,
          1238,
          1239,
          1240,
          1241,
          1242,
          1243,
          1244,
          1245,
          1246,
          1247,
          1248,
          1249,
          1250,
          1251,
          1252,
          1253,
          1254,
          1255,
          1256,
          1257,
          1258,
          1259,
          1260,
          1261,
          1262,
          1263,
          1264,
          1265,
          1266,
          1267,
          1268,
          1269,
          1270,
          1271,
          1272,
          1273,
          1274,
          1275,
          1276,
          1277,
          1278,
          1279,
          1280,
          1281,
          1282,
          1283,
          1284,
          1285,
          1286,
          1287,
          1288,
          1289,
          1290,
          1291,
          1292,
          1293,
          1294,
          1295,
          1296,
          1297,
          1298,
          1299,
          1300,
          1301,
          1302,
          1303,
          1304,
          1305,
          1306,
          1307,
          1308,
          1309,
          1310,
          1311,
          1312,
          1313,
          1314,
          1315,
          1316,
          1317,
          1318,
          1319,
          1320,
          1321,
          1322,
          1323,
          1324,
          1325,
          1326,
          1327,
          1328,
          1329,
          1330,
          1331,
          1332,
          1333,
          1334,
          1335,
          1336,
          1337,
          1338,
          1339,
          1340,
          1341,
          1342,
          1343,
          1344,
          1345,
          1346,
          1347,
          1348,
          1349,
          1350,
          1351,
          1352,
          1353,
          1354,
          1355,
          1356,
          1357,
          1358,
          1359,
          1360,
          1361,
          1362,
          1363,
          1364,
          1365,
          1366,
          1367,
          1368,
          1369,
          1370,
          1371,
          1372,
          1373,
          1374,
          1375,
          1376,
          1377,
          1378,
          1379,
          1380,
          1381,
          1382,
          1383,
          1384,
          1385,
          1386,
          1387,
          1388,
          1389,
          1390,
          1391,
          1392,
          1393,
          1394,
          1395,
          1396,
          1397,
          1398,
          1399,
          1400,
          1401,
          1402,
          1403,
          1404,
          1405,
          1406,
          1407,
          1408,
          1409,
          1410,
          1411,
          1412,
          1413,
          1414,
          1415,
          1416,
          1417,
          1418,
          1419,
          1420,
          1421,
          1422,
          1423,
          1424,
          1425,
          1426,
          1427,
          1428,
          1429,
          1430,
          1431,
          1432,
          1433,
          1434,
          1435,
          1436,
          1437,
          1438,
          1439,
          1440,
          1441,
          1442,
          1443,
          1444,
          1445,
          1446,
          1447,
          1448,
          1449,
          1450,
          1451,
          1452,
          1453,
          1454,
          1455,
          1456,
          1457,
          1458,
          1459,
          1460,
          1461,
          1462,
          1463,
          1464,
          1465,
          1466,
          1467,
          1468,
          1469,
          1470,
          1471,
          1472,
          1473,
          1474,
          1475,
          1476,
          1477,
          1478,
          1479,
          1480,
          1481,
          1482,
          1483,
          1484,
          1485,
          1486,
          1487,
          1488,
          1489,
          1490,
          1491,
          1492,
          1493,
          1494,
          1495,
          1496,
          1497,
          1498,
          1499,
          1500,
          1501,
          1502,
          1503,
          1504,
          1505,
          1506,
          1507,
          1508,
          1509,
          1510,
          1511,
          1512,
          1513,
          1514,
          1515,
          1516,
          1517,
          1518,
          1519,
          1520,
          1521,
          1522,
          1523,
          1524,
          1525,
          1526,
          1527,
          1528,
          1529,
          1530,
          1531,
          1532,
          1533,
          1534,
          1535,
          1536,
          1537,
          1538,
          1539,
          1540,
          1541,
          1542,
          1543,
          1544,
          1545,
          1546,
          1547,
          1548,
          1549,
          1550,
          1551,
          1552,
          1553,
          1554,
          1555,
          1556,
          1557,
          1558,
          1559,
          1560,
          1561,
          1562,
          1563,
          1564,
          1565,
          1566,
          1567,
          1568,
          1569,
          1570,
          1571,
          1572,
          1573,
          1574,
          1575,
          1576,
          1577,
          1578,
          1579,
          1580,
          1581,
          1582,
          1583,
          1584,
          1585,
          1586,
          1587,
          1588,
          1589,
          1590,
          1591,
          1592,
          1593,
          1594,
          1595,
          1596,
          1597,
          1598,
          1599,
          1600,
          1601,
          1602,
          1603,
          1604,
          1605,
          1606,
          1607,
          1608,
          1609,
          1610,
          1611,
          1612,
          1613,
          1614,
          1615,
          1616,
          1617,
          1618,
          1619,
          1620,
          1621,
          1622,
          1623,
          1624,
          1625,
          1626,
          1627,
          1628,
          1629,
          1630,
          1631,
          1632,
          1633,
          1634,
          1635,
          1636,
          1637,
          1638,
          1639,
          1640,
          1641,
          1642,
          1643,
          1644,
          1645,
          1646,
          1647,
          1648,
          1649,
          1650,
          1651,
          1652,
          1653,
          1654,
          1655,
          1656,
          1657,
          1658,
          1659,
          1660,
          1661,
          1662,
          1663,
          1664,
          1665,
          1666,
          1667,
          1668,
          1669,
          1670,
          1671,
          1672,
          1673,
          1674,
          1675,
          1676,
          1677,
          1678,
          1679,
          1680,
          1681,
          1682,
          1683,
          1684,
          1685,
          1686,
          1687,
          1688,
          1689,
          1690,
          1691,
          1692,
          1693,
          1694,
          1695,
          1696,
          1697,
          1698,
          1699,
          1700,
          1701,
          1702,
          1703,
          1704,
          1705,
          1706,
          1707,
          1708,
          1709,
          1710,
          1711,
          1712,
          1713,
          1714,
          1715,
          1716,
          1717,
          1718,
          1719,
          1720,
          1721,
          1722,
          1723,
          1724,
          1725,
          1726,
          1727,
          1728,
          1729,
          1730,
          1731,
          1732,
          1733,
          1734,
          1735,
          1736,
          1737,
          1738,
          1739,
          1740,
          1741,
          1742,
          1743,
          1744,
          1745,
          1746,
          1747,
          1748,
          1749,
          1750,
          1751,
          1752,
          1753,
          1754,
          1755,
          1756,
          1757,
          1758,
          1759,
          1760,
          1761,
          1762,
          1763,
          1764,
          1765,
          1766,
          1767,
          1768,
          1769,
          1770,
          1771,
          1772,
          1773,
          1774,
          1775,
          1776,
          1777,
          1778,
          1779,
          1780,
          1781,
          1782,
          1783,
          1784,
          1785,
          1786,
          1787,
          1788,
          1789,
          1790,
          1791,
          1792,
          1793,
          1794,
          1795,
          1796,
          1797,
          1798,
          1799,
          1800,
          1801,
          1802,
          1803,
          1804,
          1805,
          1806,
          1807,
          1808,
          1809,
          1810,
          1811,
          1812,
          1813,
          1814,
          1815,
          1816,
          1817,
          1818,
          1819,
          1820,
          1821,
          1822,
          1823,
          1824,
          1825,
          1826,
          1827,
          1828,
          1829,
          1830,
          1831,
          1832,
          1833,
          1834,
          1835,
          1836,
          1837,
          1838,
          1839,
          1840,
          1841,
          1842,
          1843,
          1844,
          1845,
          1846,
          1847,
          1848,
          1849,
          1850,
          1851,
          1852,
          1853,
          1854,
          1855,
          1856,
          1857,
          1858,
          1859,
          1860,
          1861,
          1862,
          1863,
          1864,
          1865,
          1866,
          1867,
          1868,
          1869,
          1870,
          1871,
          1872,
          1873,
          1874,
          1875,
          1876,
          1877,
          1878,
          1879,
          1880,
          1881,
          1882,
          1883,
          1884,
          1885,
          1886,
          1887,
          1888,
          1889,
          1890,
          1891,
          1892,
          1893,
          1894,
          1895,
          1896,
          1897,
          1898,
          1899,
          1900,
          1901,
          1902,
          1903,
          1904,
          1905,
          1906,
          1907,
          1908,
          1909,
          1910,
          1911,
          1912,
          1913,
          1914,
          1915,
          1916,
          1917,
          1918,
          1919,
          1920,
          1921,
          1922,
          1923,
          1924,
          1925,
          1926,
          1927,
          1928,
          1929,
          1930,
          1931,
          1932,
          1933,
          1934,
          1935,
          1936,
          1937,
          1938,
          1939,
          1940,
          1941,
          1942,
          1943,
          1944,
          1945,
          1946,
          1947,
          1948,
          1949,
          1950,
          1951,
          1952,
          1953,
          1954,
          1955,
          1956,
          1957,
          1958,
          1959,
          1960,
          1961,
          1962,
          1963,
          1964,
          1965,
          1966,
          1967,
          1968,
          1969,
          1970,
          1971,
          1972,
          1973,
          1974,
          1975,
          1976,
          1977,
          1978,
          1979,
          1980,
          1981,
          1982,
          1983,
          1984,
          1985,
          1986,
          1987,
          1988,
          1989,
          1990,
          1991,
          1992,
          1993,
          1994,
          1995,
          1996,
          1997,
          1998,
          1999,
          2000,
          2001,
          2002,
          2003,
          2004,
          2005,
          2006,
          2007,
          2008,
          2009,
          2010,
          2011,
          2012,
          2013,
          2014,
          2015,
          2016,
          2017,
          2018,
          2019,
          2020,
          2021,
          2022,
          2023,
          2024,
          2025,
          2026,
          2027,
          2028,
          2029,
          2030,
          2031,
          2032,
          2033,
          2034,
          2035,
          2036,
          2037,
          2038,
          2039,
          2040,
          2041,
          2042,
          2043,
          2044,
          2045,
          2046,
          2047,
          2048,
          2049,
          2050,
          2051,
          2052,
          2053,
          2054,
          2055,
          2056,
          2057,
          2058,
          2059,
          2060,
          2061,
          2062,
          2063,
          2064,
          2065,
          2066,
          2067,
          2068,
          2069,
          2070,
          2071,
          2072,
          2073,
          2074,
          2075,
          2076,
          2077,
          2078,
          2079,
          2080,
          2081,
          2082,
          2083,
          2084,
          2085,
          2086,
          2087,
          2088,
          2089,
          2090,
          2091,
          2092,
          2093,
          2094,
          2095,
          2096,
          2097,
          2098,
          2099,
          2100,
          2101,
          2102,
          2103,
          2104,
          2105,
          2106,
          2107,
          2108,
          2109,
          2110,
          2111,
          2112,
          2113,
          2114,
          2115,
          2116,
          2117,
          2118,
          2119,
          2120,
          2121,
          2122,
          2123,
          2124,
          2125,
          2126,
          2127,
          2128,
          2129,
          2130,
          2131,
          2132,
          2133,
          2134,
          2135,
          2136,
          2137,
          2138,
          2139,
          2140,
          2141,
          2142,
          2143,
          2144,
          2145,
          2146,
          2147,
          2148,
          2149,
          2150,
          2151,
          2152,
          2153,
          2154,
          2155,
          2156,
          2157,
          2158,
          2159,
          2160,
          2161,
          2162,
          2163,
          2164,
          2165,
          2166,
          2167,
          2168,
          2169,
          2170,
          2171,
          2172,
          2173,
          2174,
          2175,
          2176,
          2177,
          2178,
          2179,
          2180,
          2181,
          2182,
          2183,
          2184,
          2185,
          2186,
          2187,
          2188,
          2189,
          2190,
          2191,
          2192,
          2193,
          2194,
          2195,
          2196,
          2197,
          2198,
          2199,
          2200,
          2201,
          2202,
          2203,
          2204,
          2205,
          2206,
          2207,
          2208,
          2209,
          2210,
          2211,
          2212,
          2213,
          2214,
          2215,
          2216,
          2217,
          2218,
          2219,
          2220,
          2221,
          2222,
          2223,
          2224,
          2225,
          2226,
          2227,
          2228,
          2229,
          2230,
          2231,
          2232,
          2233,
          2234,
          2235,
          2236,
          2237,
          2238,
          2239,
          2240,
          2241,
          2242,
          2243,
          2244,
          2245,
          2246,
          2247,
          2248,
          2249,
          2250,
          2251,
          2252,
          2253,
          2254,
          2255,
          2256,
          2257,
          2258,
          2259,
          2260,
          2261,
          2262,
          2263,
          2264,
          2265,
          2266,
          2267,
          2268,
          2269,
          2270,
          2271,
          2272,
          2273,
          2274,
          2275,
          2276,
          2277,
          2278,
          2279,
          2280,
          2281,
          2282,
          2283,
          2284,
          2285,
          2286,
          2287,
          2288,
          2289,
          2290,
          2291,
          2292,
          2293,
          2294,
          2295,
          2296,
          2297,
          2298,
          2299,
          2300,
          2301,
          2302,
          2303,
          2304,
          2305,
          2306,
          2307,
          2308,
          2309,
          2310,
          2311,
          2312,
          2313,
          2314,
          2315,
          2316,
          2317,
          2318,
          2319,
          2320,
          2321,
          2322,
          2323,
          2324,
          2325,
          2326,
          2327,
          2328,
          2329,
          2330,
          2331,
          2332,
          2333,
          2334,
          2335,
          2336,
          2337,
          2338,
          2339,
          2340,
          2341,
          2342,
          2343,
          2344,
          2345,
          2346,
          2347,
          2348,
          2349,
          2350,
          2351,
          2352,
          2353,
          2354,
          2355,
          2356,
          2357,
          2358,
          2359,
          2360,
          2361,
          2362,
          2363,
          2364,
          2365,
          2366,
          2367,
          2368,
          2369,
          2370,
          2371,
          2372,
          2373,
          2374,
          2375,
          2376,
          2377,
          2378,
          2379,
          2380,
          2381,
          2382,
          2383,
          2384,
          2385,
          2386,
          2387,
          2388,
          2389,
          2390,
          2391,
          2392,
          2393,
          2394,
          2395,
          2396,
          2397,
          2398,
          2399,
          2400,
          2401,
          2402,
          2403,
          2404,
          2405,
          2406,
          2407,
          2408,
          2409,
          2410,
          2411,
          2412,
          2413,
          2414,
          2415,
          2416,
          2417,
          2418,
          2419,
          2420,
          2421,
          2422,
          2423,
          2424,
          2425,
          2426,
          2427,
          2428,
          2429,
          2430,
          2431,
          2432,
          2433,
          2434,
          2435,
          2436,
          2437,
          2438,
          2439,
          2440,
          2441,
          2442,
          2443,
          2444,
          2445,
          2446,
          2447,
          2448,
          2449,
          2450,
          2451,
          2452,
          2453,
          2454,
          2455,
          2456,
          2457,
          2458,
          2459,
          2460,
          2461,
          2462,
          2463,
          2464,
          2465,
          2466,
          2467,
          2468,
          2469,
          2470,
          2471,
          2472,
          2473,
          2474,
          2475,
          2476,
          2477,
          2478,
          2479,
          2480,
          2481,
          2482,
          2483,
          2484,
          2485,
          2486,
          2487,
          2488,
          2489,
          2490,
          2491,
          2492,
          2493,
          2494,
          2495,
          2496,
          2497,
          2498,
          2499,
          2500,
          2501,
          2502,
          2503,
          2504,
          2505,
          2506,
          2507,
          2508,
          2509,
          2510,
          2511,
          2512,
          2513,
          2514,
          2515,
          2516,
          2517,
          2518,
          2519,
          2520,
          2521,
          2522,
          2523,
          2524,
          2525,
          2526,
          2527,
          2528,
          2529,
          2530,
          2531,
          2532,
          2533,
          2534,
          2535,
          2536,
          2537,
          2538,
          2539,
          2540,
          2541,
          2542,
          2543,
          2544,
          2545,
          2546,
          2547,
          2548,
          2549,
          2550,
          2551,
          2552,
          2553,
          2554,
          2555,
          2556,
          2557,
          2558,
          2559,
          2560,
          2561,
          2562,
          2563,
          2564,
          2565,
          2566,
          2567,
          2568,
          2569,
          2570,
          2571,
          2572,
          2573,
          2574,
          2575,
          2576,
          2577,
          2578,
          2579,
          2580,
          2581,
          2582,
          2583,
          2584,
          2585,
          2586,
          2587,
          2588,
          2589,
          2590,
          2591,
          2592,
          2593,
          2594,
          2595,
          2596,
          2597,
          2598,
          2599,
          2600,
          2601,
          2602,
          2603,
          2604,
          2605,
          2606,
          2607,
          2608,
          2609,
          2610,
          2611,
          2612,
          2613,
          2614,
          2615,
          2616,
          2617,
          2618,
          2619,
          2620,
          2621,
          2622,
          2623,
          2624,
          2625,
          2626,
          2627,
          2628,
          2629,
          2630,
          2631,
          2632,
          2633,
          2634,
          2635,
          2636,
          2637,
          2638,
          2639,
          2640,
          2641,
          2642,
          2643,
          2644,
          2645,
          2646,
          2647,
          2648,
          2649,
          2650,
          2651,
          2652,
          2653,
          2654,
          2655,
          2656,
          2657,
          2658,
          2659,
          2660,
          2661,
          2662,
          2663,
          2664,
          2665,
          2666,
          2667,
          2668,
          2669,
          2670,
          2671,
          2672,
          2673,
          2674,
          2675,
          2676,
          2677,
          2678,
          2679,
          2680,
          2681,
          2682,
          2683,
          2684,
          2685,
          2686,
          2687,
          2688,
          2689,
          2690,
          2691,
          2692,
          2693,
          2694,
          2695,
          2696,
          2697,
          2698,
          2699,
          2700,
          2701,
          2702,
          2703,
          2704,
          2705,
          2706,
          2707,
          2708,
          2709,
          2710,
          2711,
          2712,
          2713,
          2714,
          2715,
          2716,
          2717,
          2718
         ]
        }
       },
       "height": 600,
       "layout": "IPY_MODEL_0b823c0cf95a453fb788c59d9edb0075",
       "value": "Hello World!"
      }
     }
    },
    "version_major": 2,
    "version_minor": 0
   }
  }
 },
 "nbformat": 4,
 "nbformat_minor": 5
}
